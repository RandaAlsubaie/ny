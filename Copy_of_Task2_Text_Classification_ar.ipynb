{
  "cells": [
    {
      "cell_type": "markdown",
      "metadata": {
        "id": "view-in-github",
        "colab_type": "text"
      },
      "source": [
        "<a href=\"https://colab.research.google.com/github/RandaAlsubaie/ny/blob/main/Copy_of_Task2_Text_Classification_ar.ipynb\" target=\"_parent\"><img src=\"https://colab.research.google.com/assets/colab-badge.svg\" alt=\"Open In Colab\"/></a>"
      ]
    },
    {
      "cell_type": "markdown",
      "metadata": {
        "id": "bsurCNok43DL"
      },
      "source": [
        "# Text Classification Exam\n",
        "\n",
        "Welcome to the Text Classification Practical Exam. In this exam, you will be tasked with building, training, and evaluating an NLP model to classify text data. You are provided with a labeled dataset containing both the text and its corresponding class labels.\n",
        "\n",
        "Your objective is to develop a model that accurately predicts the class of the given text. Make sure to follow best practices in data preprocessing, model selection, and evaluation to achieve optimal results.\n",
        "\n",
        "Good luck!\n",
        "___"
      ]
    },
    {
      "cell_type": "markdown",
      "metadata": {
        "id": "oqw2El5mMxsz"
      },
      "source": [
        "# Install and Import Needed Libraries"
      ]
    },
    {
      "cell_type": "code",
      "source": [
        "!pip install pyarabic"
      ],
      "metadata": {
        "id": "VA1lkNG7zWLy",
        "colab": {
          "base_uri": "https://localhost:8080/"
        },
        "outputId": "75a090ba-9ea2-493c-8da1-4bf9dc02b095"
      },
      "execution_count": 34,
      "outputs": [
        {
          "output_type": "stream",
          "name": "stdout",
          "text": [
            "Requirement already satisfied: pyarabic in /usr/local/lib/python3.10/dist-packages (0.6.15)\n",
            "Requirement already satisfied: six>=1.14.0 in /usr/local/lib/python3.10/dist-packages (from pyarabic) (1.16.0)\n"
          ]
        }
      ]
    },
    {
      "cell_type": "markdown",
      "metadata": {
        "id": "4dTkHbSHNB4y"
      },
      "source": [
        "You can use `pyarabic` or any other library to pre-process and clean the Arabic text."
      ]
    },
    {
      "cell_type": "code",
      "execution_count": 35,
      "metadata": {
        "id": "z6mRe6i5Wqqc",
        "colab": {
          "base_uri": "https://localhost:8080/"
        },
        "outputId": "3e8a0e93-f9e0-49d5-e014-8ffc84d14cae"
      },
      "outputs": [
        {
          "output_type": "stream",
          "name": "stderr",
          "text": [
            "[nltk_data] Downloading package stopwords to /root/nltk_data...\n",
            "[nltk_data]   Package stopwords is already up-to-date!\n"
          ]
        }
      ],
      "source": [
        "import re\n",
        "import pandas as pd\n",
        "import pyarabic.araby as araby\n",
        "import nltk\n",
        "from nltk.corpus import stopwords\n",
        "nltk.download('stopwords')\n",
        "import nltk\n",
        "from nltk.stem.isri import ISRIStemmer\n",
        "import tensorflow\n",
        "from tensorflow.keras.models import Sequential\n",
        "from tensorflow.keras.layers import Embedding,  Dense, Dropout, Input, Bidirectional, SimpleRNN\n",
        "from tensorflow.keras.preprocessing.text import Tokenizer\n",
        "from tensorflow.keras.preprocessing.sequence import pad_sequences\n",
        "from sklearn.preprocessing import LabelEncoder\n",
        "from sklearn.model_selection import train_test_split\n",
        "import matplotlib.pyplot as plt"
      ]
    },
    {
      "cell_type": "markdown",
      "metadata": {
        "id": "Hq5KJRZ5Ph0Z"
      },
      "source": [
        "# Download the Dataset"
      ]
    },
    {
      "cell_type": "markdown",
      "metadata": {
        "id": "3riATTJ243DN"
      },
      "source": [
        "Please note that you are allowed to take a subset of this dataset, the reason for that is it might take a long time to train the model on."
      ]
    },
    {
      "cell_type": "code",
      "execution_count": 36,
      "metadata": {
        "id": "M1n3uTg043DN"
      },
      "outputs": [],
      "source": [
        "# !kaggle datasets download -d khaledzsa/sanad\n",
        "# !unzip sanad.zip"
      ]
    },
    {
      "cell_type": "code",
      "source": [
        "df=pd.read_csv('/content/sanad.csv')\n",
        "df.head()"
      ],
      "metadata": {
        "id": "5sWtxRPi48r5",
        "colab": {
          "base_uri": "https://localhost:8080/",
          "height": 206
        },
        "outputId": "030aca4d-daa7-476e-eebb-4c1dede24da6"
      },
      "execution_count": 37,
      "outputs": [
        {
          "output_type": "execute_result",
          "data": {
            "text/plain": [
              "                                                text    label\n",
              "0  https://example.com/resource/الشاٌرقة -ْ محمِد...  Culture\n",
              "1  https://example.com/resource/اَنِطٌلقّتَ ٍفٍيّ...  Culture\n",
              "2  https://example.com/resource/أُقيًمٌتِ مِساءُ ...  Culture\n",
              "3  https://example.com/resource/بٍاسُمةَ يًوٌنٍس ...  Culture\n",
              "4  https://example.com/resource/قُرر اَتحِاد اًلْ...  Culture"
            ],
            "text/html": [
              "\n",
              "  <div id=\"df-c1248a7e-819e-44c5-9630-6d8e31ef983f\" class=\"colab-df-container\">\n",
              "    <div>\n",
              "<style scoped>\n",
              "    .dataframe tbody tr th:only-of-type {\n",
              "        vertical-align: middle;\n",
              "    }\n",
              "\n",
              "    .dataframe tbody tr th {\n",
              "        vertical-align: top;\n",
              "    }\n",
              "\n",
              "    .dataframe thead th {\n",
              "        text-align: right;\n",
              "    }\n",
              "</style>\n",
              "<table border=\"1\" class=\"dataframe\">\n",
              "  <thead>\n",
              "    <tr style=\"text-align: right;\">\n",
              "      <th></th>\n",
              "      <th>text</th>\n",
              "      <th>label</th>\n",
              "    </tr>\n",
              "  </thead>\n",
              "  <tbody>\n",
              "    <tr>\n",
              "      <th>0</th>\n",
              "      <td>https://example.com/resource/الشاٌرقة -ْ محمِد...</td>\n",
              "      <td>Culture</td>\n",
              "    </tr>\n",
              "    <tr>\n",
              "      <th>1</th>\n",
              "      <td>https://example.com/resource/اَنِطٌلقّتَ ٍفٍيّ...</td>\n",
              "      <td>Culture</td>\n",
              "    </tr>\n",
              "    <tr>\n",
              "      <th>2</th>\n",
              "      <td>https://example.com/resource/أُقيًمٌتِ مِساءُ ...</td>\n",
              "      <td>Culture</td>\n",
              "    </tr>\n",
              "    <tr>\n",
              "      <th>3</th>\n",
              "      <td>https://example.com/resource/بٍاسُمةَ يًوٌنٍس ...</td>\n",
              "      <td>Culture</td>\n",
              "    </tr>\n",
              "    <tr>\n",
              "      <th>4</th>\n",
              "      <td>https://example.com/resource/قُرر اَتحِاد اًلْ...</td>\n",
              "      <td>Culture</td>\n",
              "    </tr>\n",
              "  </tbody>\n",
              "</table>\n",
              "</div>\n",
              "    <div class=\"colab-df-buttons\">\n",
              "\n",
              "  <div class=\"colab-df-container\">\n",
              "    <button class=\"colab-df-convert\" onclick=\"convertToInteractive('df-c1248a7e-819e-44c5-9630-6d8e31ef983f')\"\n",
              "            title=\"Convert this dataframe to an interactive table.\"\n",
              "            style=\"display:none;\">\n",
              "\n",
              "  <svg xmlns=\"http://www.w3.org/2000/svg\" height=\"24px\" viewBox=\"0 -960 960 960\">\n",
              "    <path d=\"M120-120v-720h720v720H120Zm60-500h600v-160H180v160Zm220 220h160v-160H400v160Zm0 220h160v-160H400v160ZM180-400h160v-160H180v160Zm440 0h160v-160H620v160ZM180-180h160v-160H180v160Zm440 0h160v-160H620v160Z\"/>\n",
              "  </svg>\n",
              "    </button>\n",
              "\n",
              "  <style>\n",
              "    .colab-df-container {\n",
              "      display:flex;\n",
              "      gap: 12px;\n",
              "    }\n",
              "\n",
              "    .colab-df-convert {\n",
              "      background-color: #E8F0FE;\n",
              "      border: none;\n",
              "      border-radius: 50%;\n",
              "      cursor: pointer;\n",
              "      display: none;\n",
              "      fill: #1967D2;\n",
              "      height: 32px;\n",
              "      padding: 0 0 0 0;\n",
              "      width: 32px;\n",
              "    }\n",
              "\n",
              "    .colab-df-convert:hover {\n",
              "      background-color: #E2EBFA;\n",
              "      box-shadow: 0px 1px 2px rgba(60, 64, 67, 0.3), 0px 1px 3px 1px rgba(60, 64, 67, 0.15);\n",
              "      fill: #174EA6;\n",
              "    }\n",
              "\n",
              "    .colab-df-buttons div {\n",
              "      margin-bottom: 4px;\n",
              "    }\n",
              "\n",
              "    [theme=dark] .colab-df-convert {\n",
              "      background-color: #3B4455;\n",
              "      fill: #D2E3FC;\n",
              "    }\n",
              "\n",
              "    [theme=dark] .colab-df-convert:hover {\n",
              "      background-color: #434B5C;\n",
              "      box-shadow: 0px 1px 3px 1px rgba(0, 0, 0, 0.15);\n",
              "      filter: drop-shadow(0px 1px 2px rgba(0, 0, 0, 0.3));\n",
              "      fill: #FFFFFF;\n",
              "    }\n",
              "  </style>\n",
              "\n",
              "    <script>\n",
              "      const buttonEl =\n",
              "        document.querySelector('#df-c1248a7e-819e-44c5-9630-6d8e31ef983f button.colab-df-convert');\n",
              "      buttonEl.style.display =\n",
              "        google.colab.kernel.accessAllowed ? 'block' : 'none';\n",
              "\n",
              "      async function convertToInteractive(key) {\n",
              "        const element = document.querySelector('#df-c1248a7e-819e-44c5-9630-6d8e31ef983f');\n",
              "        const dataTable =\n",
              "          await google.colab.kernel.invokeFunction('convertToInteractive',\n",
              "                                                    [key], {});\n",
              "        if (!dataTable) return;\n",
              "\n",
              "        const docLinkHtml = 'Like what you see? Visit the ' +\n",
              "          '<a target=\"_blank\" href=https://colab.research.google.com/notebooks/data_table.ipynb>data table notebook</a>'\n",
              "          + ' to learn more about interactive tables.';\n",
              "        element.innerHTML = '';\n",
              "        dataTable['output_type'] = 'display_data';\n",
              "        await google.colab.output.renderOutput(dataTable, element);\n",
              "        const docLink = document.createElement('div');\n",
              "        docLink.innerHTML = docLinkHtml;\n",
              "        element.appendChild(docLink);\n",
              "      }\n",
              "    </script>\n",
              "  </div>\n",
              "\n",
              "\n",
              "<div id=\"df-972becb8-1ed2-445f-9356-b1e5f9325354\">\n",
              "  <button class=\"colab-df-quickchart\" onclick=\"quickchart('df-972becb8-1ed2-445f-9356-b1e5f9325354')\"\n",
              "            title=\"Suggest charts\"\n",
              "            style=\"display:none;\">\n",
              "\n",
              "<svg xmlns=\"http://www.w3.org/2000/svg\" height=\"24px\"viewBox=\"0 0 24 24\"\n",
              "     width=\"24px\">\n",
              "    <g>\n",
              "        <path d=\"M19 3H5c-1.1 0-2 .9-2 2v14c0 1.1.9 2 2 2h14c1.1 0 2-.9 2-2V5c0-1.1-.9-2-2-2zM9 17H7v-7h2v7zm4 0h-2V7h2v10zm4 0h-2v-4h2v4z\"/>\n",
              "    </g>\n",
              "</svg>\n",
              "  </button>\n",
              "\n",
              "<style>\n",
              "  .colab-df-quickchart {\n",
              "      --bg-color: #E8F0FE;\n",
              "      --fill-color: #1967D2;\n",
              "      --hover-bg-color: #E2EBFA;\n",
              "      --hover-fill-color: #174EA6;\n",
              "      --disabled-fill-color: #AAA;\n",
              "      --disabled-bg-color: #DDD;\n",
              "  }\n",
              "\n",
              "  [theme=dark] .colab-df-quickchart {\n",
              "      --bg-color: #3B4455;\n",
              "      --fill-color: #D2E3FC;\n",
              "      --hover-bg-color: #434B5C;\n",
              "      --hover-fill-color: #FFFFFF;\n",
              "      --disabled-bg-color: #3B4455;\n",
              "      --disabled-fill-color: #666;\n",
              "  }\n",
              "\n",
              "  .colab-df-quickchart {\n",
              "    background-color: var(--bg-color);\n",
              "    border: none;\n",
              "    border-radius: 50%;\n",
              "    cursor: pointer;\n",
              "    display: none;\n",
              "    fill: var(--fill-color);\n",
              "    height: 32px;\n",
              "    padding: 0;\n",
              "    width: 32px;\n",
              "  }\n",
              "\n",
              "  .colab-df-quickchart:hover {\n",
              "    background-color: var(--hover-bg-color);\n",
              "    box-shadow: 0 1px 2px rgba(60, 64, 67, 0.3), 0 1px 3px 1px rgba(60, 64, 67, 0.15);\n",
              "    fill: var(--button-hover-fill-color);\n",
              "  }\n",
              "\n",
              "  .colab-df-quickchart-complete:disabled,\n",
              "  .colab-df-quickchart-complete:disabled:hover {\n",
              "    background-color: var(--disabled-bg-color);\n",
              "    fill: var(--disabled-fill-color);\n",
              "    box-shadow: none;\n",
              "  }\n",
              "\n",
              "  .colab-df-spinner {\n",
              "    border: 2px solid var(--fill-color);\n",
              "    border-color: transparent;\n",
              "    border-bottom-color: var(--fill-color);\n",
              "    animation:\n",
              "      spin 1s steps(1) infinite;\n",
              "  }\n",
              "\n",
              "  @keyframes spin {\n",
              "    0% {\n",
              "      border-color: transparent;\n",
              "      border-bottom-color: var(--fill-color);\n",
              "      border-left-color: var(--fill-color);\n",
              "    }\n",
              "    20% {\n",
              "      border-color: transparent;\n",
              "      border-left-color: var(--fill-color);\n",
              "      border-top-color: var(--fill-color);\n",
              "    }\n",
              "    30% {\n",
              "      border-color: transparent;\n",
              "      border-left-color: var(--fill-color);\n",
              "      border-top-color: var(--fill-color);\n",
              "      border-right-color: var(--fill-color);\n",
              "    }\n",
              "    40% {\n",
              "      border-color: transparent;\n",
              "      border-right-color: var(--fill-color);\n",
              "      border-top-color: var(--fill-color);\n",
              "    }\n",
              "    60% {\n",
              "      border-color: transparent;\n",
              "      border-right-color: var(--fill-color);\n",
              "    }\n",
              "    80% {\n",
              "      border-color: transparent;\n",
              "      border-right-color: var(--fill-color);\n",
              "      border-bottom-color: var(--fill-color);\n",
              "    }\n",
              "    90% {\n",
              "      border-color: transparent;\n",
              "      border-bottom-color: var(--fill-color);\n",
              "    }\n",
              "  }\n",
              "</style>\n",
              "\n",
              "  <script>\n",
              "    async function quickchart(key) {\n",
              "      const quickchartButtonEl =\n",
              "        document.querySelector('#' + key + ' button');\n",
              "      quickchartButtonEl.disabled = true;  // To prevent multiple clicks.\n",
              "      quickchartButtonEl.classList.add('colab-df-spinner');\n",
              "      try {\n",
              "        const charts = await google.colab.kernel.invokeFunction(\n",
              "            'suggestCharts', [key], {});\n",
              "      } catch (error) {\n",
              "        console.error('Error during call to suggestCharts:', error);\n",
              "      }\n",
              "      quickchartButtonEl.classList.remove('colab-df-spinner');\n",
              "      quickchartButtonEl.classList.add('colab-df-quickchart-complete');\n",
              "    }\n",
              "    (() => {\n",
              "      let quickchartButtonEl =\n",
              "        document.querySelector('#df-972becb8-1ed2-445f-9356-b1e5f9325354 button');\n",
              "      quickchartButtonEl.style.display =\n",
              "        google.colab.kernel.accessAllowed ? 'block' : 'none';\n",
              "    })();\n",
              "  </script>\n",
              "</div>\n",
              "\n",
              "    </div>\n",
              "  </div>\n"
            ],
            "application/vnd.google.colaboratory.intrinsic+json": {
              "type": "dataframe",
              "variable_name": "df",
              "summary": "{\n  \"name\": \"df\",\n  \"rows\": 39885,\n  \"fields\": [\n    {\n      \"column\": \"text\",\n      \"properties\": {\n        \"dtype\": \"string\",\n        \"num_unique_values\": 39885,\n        \"samples\": [\n          \"https://example.com/resource/\\u0628\\u0652\\u0644\\u0650\\u063a\\u062a \\u064e\\u062a\\u0633\\u064e\\u064a\\u064a\\u0644\\u0651\\u0627\\u064b\\u062a\\u064d \\u0627\\u0652\\u0644\\u0623\\u0652\\u062c\\u064e\\u0627\\u0646\\u0651\\u0628\\u064e \\u064e\\u0641\\u064a \\u0633\\u064d\\u0648\\u0652\\u0642\\u0650 \\u064e\\u062f\\u0628\\u064a \\u0627\\u0644\\u0645\\u064d\\u0627\\u0650\\u0644\\u064d\\u064a\\u064d \\u0623\\u0645\\u064d\\u0633\\u064e 59\\u064f \\u0645\\u0644\\u064d\\u064a\\u0648\\u0646\\u0627\\u0650\\u064b\\u0652\\u060c \\u0651\\u0641\\u0651\\u0642\\u062f \\u0650\\u0628\\u0652\\u0644\\u064b\\u063a\\u062a \\u064b\\u0642\\u0651\\u064a\\u064f\\u0645\\u0651\\u0629\\u0651 \\u0645\\u064f\\u0634\\u064b\\u062a\\u064f\\u0631\\u0650\\u064a\\u0627\\u062a \\u064e\\u0627\\u0644\\u0652\\u0623\\u062c\\u0627\\u064d\\u0646\\u064d\\u0628\\u064b\\u060c\\u064b \\u063a\\u0652\\u064a\\u0651\\u0631\\u064d \\u0627\\u0652\\u0644\\u0639\\u0631\\u064c\\u0628\\u060c\\u064f \\u0645\\u0650\\u0646\\u0651 \\u064c\\u0627\\u0644\\u0623\\u0633\\u064c\\u0647\\u064d\\u0645 \\u064c\\u062e\\u064f\\u0644\\u0627\\u064c\\u0644\\u064f \\u0647\\u0650\\u0630\\u064e\\u0627 \\u0627\\u064c\\u0644\\u064a\\u0648\\u0650\\u0645 \\u064d\\u0646\\u064b\\u062d\\u064c\\u0648 9\\u064b4\\u064d \\u064e.\\u065113\\u06526 \\u0645\\u0644\\u0652\\u064a\\u064c\\u0648\\u064b\\u0646\\u064c \\u062f\\u0631\\u0647\\u0645 \\u0641\\u064a\\u0651 \\u0652\\u062d\\u0652\\u064a\\u064f\\u0646\\u0651 \\u0628\\u0644\\u063a\\u064e\\u062a\\u064d \\u064b\\u0642\\u064c\\u064a\\u0645\\u0629\\u064c \\u064b\\u0645\\u064b\\u0628\\u064a\\u0639\\u0627\\u062a\\u0647\\u0645\\u064e \\u0646\\u064b\\u062d\\u0648\\u0652 2\\u06500 .22\\u064b6 \\u0650\\u0645\\u064b\\u0644\\u064a\\u0651\\u0648\\u0646 \\u0652\\u062f\\u0631\\u0650\\u0647\\u0645\\u064f .\\u064f \\u0643\\u0645\\u0627 \\u0650\\u0628\\u0644\\u064e\\u063a\\u064b\\u062a \\u0642\\u0652\\u064a\\u0645\\u0629\\u0650 \\u0645\\u064d\\u0634\\u064b\\u062a\\u064c\\u0631\\u0652\\u064a\\u0627\\u062a \\u064b\\u0627\\u0644\\u0645\\u0633\\u064d\\u062a\\u062b\\u064f\\u0645\\u064b\\u0631\\u064b\\u064a\\u064b\\u0646\\u064b \\u0627\\u0644\\u0652\\u0639\\u0650\\u0631\\u0650\\u0628\\u060c\\u064b \\u064f\\u063a\\u064a\\u0631 \\u0651\\u0627\\u0644\\u0652\\u062e\\u0644\\u064d\\u064a\\u064f\\u062c\\u064d\\u064a\\u064a\\u0651\\u0646\\u0650\\u060c\\u0651 \\u062e\\u0644\\u0627\\u0644 \\u0647\\u0650\\u0630\\u0627 \\u0650\\u0627\\u0644\\u0652\\u064a\\u064b\\u0648\\u0645 \\u0646\\u064f\\u062d\\u064d\\u0648\\u064f 07\\u064e .7\\u064c2\\u0650 \\u0645\\u0644\\u064e\\u064a\\u064c\\u0648\\u0646\\u0652 \\u0652\\u062f\\u0631\\u0647\\u064e\\u0645 \\u064d\\u0648\\u0642\\u064b\\u064a\\u0645\\u064c\\u0629\\u064c \\u0645\\u0652\\u0628\\u064e\\u064a\\u064f\\u0639\\u064e\\u0627\\u064b\\u062a\\u0651\\u0647\\u0645 \\u0646\\u062d\\u0648\\u064c \\u065281\\u064b \\u0650.6\\u06504\\u064e \\u064e\\u0645\\u0644\\u064f\\u064a\\u064c\\u0648\\u0646\\u0651 \\u062f\\u064b\\u0631\\u0647\\u064e\\u0645\\u064e .\\u0623\\u064b\\u0645\\u0651\\u0627\\u0652 \\u0652\\u0628\\u0651\\u0627\\u064c\\u0644\\u064e\\u0646\\u064f\\u0633\\u064d\\u0628\\u0629\\u064e \\u064c\\u0644\\u0644\\u0651\\u0645\\u064d\\u0633\\u064c\\u062a\\u064b\\u062b\\u0652\\u0645\\u0631\\u064b\\u064a\\u0646 \\u0652\\u0627\\u0644\\u062e\\u064c\\u0644\\u064a\\u064e\\u062c\\u064a\\u0650\\u064a\\u0646\\u064c \\u064f\\u0641\\u064b\\u0642\\u062f \\u0628\\u0644\\u064b\\u063a\\u0652\\u062a \\u0642\\u064a\\u0645\\u0629 \\u0645\\u0634\\u0652\\u062a\\u064e\\u0631\\u064c\\u064a\\u064f\\u0627\\u064e\\u062a\\u0647\\u0645\\u064b \\u064b9\\u064b1\\u064f \\u0651.4\\u064d3\\u064d \\u0645\\u0650\\u0644\\u064a\\u0648\\u064c\\u0646 \\u064c\\u062f\\u0631\\u0647\\u0645 \\u0641\\u064a\\u064f \\u062d\\u064a\\u0651\\u0646\\u064b \\u064e\\u0628\\u0644\\u064b\\u063a\\u064c\\u062a \\u064b\\u0642\\u064c\\u064a\\u0645\\u064d\\u0629\\u0651 \\u0645\\u0652\\u0628\\u0651\\u064a\\u0652\\u0639\\u0652\\u0627\\u064c\\u062a\\u064c\\u0647\\u0645\\u0652 \\u064f\\u0646\\u064e\\u062d\\u0650\\u0648 4\\u064f8 \\u064f.21\\u064c \\u0645\\u0644\\u064a\\u0648\\u064f\\u0646 \\u064e\\u062f\\u064e\\u0631\\u064d\\u0647\\u064e\\u0645 \\u064e\\u062e\\u0644\\u064c\\u0627\\u0644 \\u0650\\u0646\\u064c\\u0641\\u0633 \\u064f\\u0627\\u0652\\u0644\\u0651\\u0641\\u062a\\u0631\\u0652\\u0629\\u064c .\",\n          \"https://example.com/resource/\\u062f\\u0628\\u0650\\u064a\\u0650 - \\u0625\\u0650\\u0628\\u064d\\u0631\\u0650\\u0627\\u0647\\u064f\\u064a\\u064c\\u0645\\u0652 \\u0651\\u0627\\u0644\\u064f\\u064a\\u064b\\u0648\\u0633\\u0651\\u0641:\\u064e\\u0628\\u064d\\u062d\\u0636\\u0648\\u0652\\u0631\\u0650 \\u0645\\u064e\\u062d\\u064d\\u0645\\u062f\\u064e \\u0627\\u064d\\u0644\\u0645\\u0652\\u0631\\u060c \\u0631\\u0626\\u064a\\u0633\\u0651 \\u0627\\u0644\\u0645\\u064c\\u062c\\u064c\\u0644\\u064b\\u0633 \\u0627\\u064c\\u0644\\u0648\\u064d\\u0637\\u064b\\u0646\\u064f\\u064a\\u064d \\u0627\\u0644\\u064e\\u0627\\u062a\\u064b\\u062d\\u0652\\u0627\\u062f\\u064a\\u0650\\u060c\\u064e \\u0648\\u0650\\u0627\\u0651\\u0644\\u064c\\u0642\\u0646\\u0652\\u0635\\u0644 \\u0627\\u0644\\u0639\\u0627\\u0652\\u0645\\u0650 \\u064b\\u0627\\u064d\\u0644\\u0651\\u0643\\u0651\\u0648\\u064a\\u0651\\u062a\\u064e\\u064a\\u064c\\u060c \\u0630\\u064d\\u064a\\u064c\\u0627\\u0628\\u0651 \\u0651\\u0641\\u0631\\u062d\\u0627\\u064e\\u0646 \\u064c\\u0627\\u0652\\u0644\\u0631\\u0634\\u064a\\u0652\\u062f\\u064a\\u0651\\u060c \\u064b\\u0648\\u0633\\u064e\\u0644\\u0651\\u0637\\u0627\\u064b\\u0646\\u064d \\u0627\\u064c\\u0644\\u0652\\u0633\\u0648\\u064f\\u064a\\u062f\\u064d\\u064a \\u064d\\u0631\\u0652\\u0626\\u064a\\u064b\\u0633\\u0652 \\u0645\\u062c\\u064b\\u0644\\u064d\\u0633\\u0650 \\u0625\\u062f\\u0631\\u064d\\u0627\\u0629 \\u0646\\u064b\\u062f\\u0648\\u064e\\u0629\\u064b \\u0627\\u064b\\u0644\\u064c\\u062b\\u0642\\u0627\\u064d\\u0641\\u0629\\u064e \\u064e\\u0648\\u0627\\u064e\\u0644\\u0639\\u0644\\u0648\\u0645\\u060c \\u0648\\u0623\\u0639\\u0652\\u0636\\u0652\\u0627\\u0621 \\u0650\\u0645\\u064d\\u062c\\u064d\\u0644\\u064b\\u0633\\u0650 \\u0627\\u0644\\u0625\\u0651\\u062f\\u0652\\u0627\\u0631\\u064e\\u0629\\u064d\\u060c \\u0625\\u0652\\u0636\\u0627\\u0650\\u0641\\u0629\\u064d \\u0625\\u0644\\u0650\\u0649\\u064f \\u0637\\u0650\\u064a\\u064f\\u0641\\u064b \\u0648\\u0627\\u0633\\u064f\\u0639 \\u0650\\u0648\\u064d\\u0644\\u0627\\u0641\\u0652\\u062a \\u0645\\u0646\\u0651 \\u064d\\u0627\\u0644\\u064e\\u0643\\u0651\\u062a\\u0651\\u064c\\u0627\\u0651\\u0628\\u0650 \\u0648\\u064d\\u0627\\u064b\\u0644\\u0645\\u062b\\u064e\\u0642\\u0641\\u064b\\u064a\\u0646 \\u0648\\u0650\\u0627\\u0644\\u0625\\u0639\\u064e\\u0644\\u0627\\u0645\\u064a\\u064a\\u064d\\u0646 \\u0645\\u064c\\u0646\\u064d \\u0627\\u064e\\u0644\\u0650\\u0628\\u064d\\u0644\\u062f\\u064a\\u0646 . \\u0634\\u0647\\u062f\\u062a\\u064f \\u064e\\u0627\\u064d\\u0644\\u0652\\u0646\\u0650\\u062f\\u0648\\u064c\\u0629\\u064f\\u060c\\u064d \\u0645\\u064c\\u0633\\u0627\\u0621 \\u0650\\u0623\\u0645\\u0633\\u064b \\u0651\\u0627\\u064b\\u0644\\u0652\\u0623\\u064e\\u0648\\u064e\\u0644\\u060c\\u064b \\u0650\\u0627\\u0652\\u062e\\u062a\\u064e\\u062a\\u0652\\u0627\\u0645\\u0651 \\u0641\\u0639\\u0627\\u064e\\u0644\\u064a\\u0627\\u062a\\u064b \\u064e\\u0645\\u0647\\u0650\\u0631\\u064b\\u062c\\u0650\\u0627\\u0646\\u064f \\u064d\\\"\\u064c\\u0643\\u0648\\u0650\\u064a\\u062a\\u064e \\u0627\\u0644\\u0633\\u0644\\u0627\\u064e\\u0645 - \\u0625\\u064b\\u0645\\u0652\\u0627\\u0631\\u064f\\u0627\\u062a \\u064c\\u0627\\u064f\\u0644\\u0650\\u0648\\u064d\\u0641\\u0627\\u0621\\u0650\\\"\\u060c\\u064e \\u0628\\u064c\\u0631\\u0639\\u064d\\u0627\\u064a\\u064d\\u0629 \\u0648\\u064f\\u062a\\u0646\\u0638\\u064a\\u064f\\u0645 \\u0647\\u064a\\u0626\\u0629 \\u062f\\u064b\\u0628\\u064a\\u0652 \\u0644\\u0644\\u064b\\u062b\\u064d\\u0642\\u0627\\u0641\\u0651\\u0629 \\u0648\\u0627\\u0644\\u0652\\u0641\\u0646\\u0648\\u0646 \\u0628\\u0627\\u064c\\u0644\\u062a\\u0639\\u0627\\u0648\\u064d\\u0646 \\u064f\\u0645\\u0650\\u0639\\u064b \\u064c\\u0627\\u0644\\u0642\\u0652\\u0646\\u0635\\u0652\\u0644\\u064b\\u064a\\u064c\\u0629 \\u064c\\u0627\\u0651\\u0644\\u064b\\u0639\\u0627\\u064c\\u0645\\u0629\\u064d \\u0644\\u0650\\u062f\\u0652\\u0648\\u064b\\u0644\\u064b\\u0629\\u064c \\u0652\\u0627\\u0651\\u0644\\u0643\\u0648\\u064a\\u062a \\u064c\\u0641\\u0650\\u064a\\u064f \\u064e\\u0625\\u064d\\u0645\\u0651\\u0627\\u064e\\u0631\\u0629\\u064f \\u062f\\u064c\\u0628\\u064f\\u064a\\u060c\\u0652 \\u0648\\u0651\\u062a\\u0636\\u0645\\u064c\\u0646\\u0651 \\u064d\\u0641\\u0639\\u064d\\u0627\\u064f\\u0644\\u064d\\u064a\\u064e\\u0627\\u062a \\u064f\\u062b\\u0642\\u0651\\u0627\\u064f\\u0641\\u064a\\u0629\\u064e \\u0641\\u0646\\u064a\\u0652\\u0629\\u0650\\u060c \\u0650\\u0648\\u063a\\u064a\\u0631\\u0647\\u0650\\u0627\\u0651 \\u064d.\\u0648\\u0651\\u062a\\u0652\\u0636\\u064c\\u0645\\u0646\\u0651\\u062a\\u064b \\u064e\\u0627\\u0644\\u0641\\u0651\\u0639\\u064e\\u0627\\u0644\\u064d\\u064a\\u0627\\u064c\\u062a\\u0650 \\u0650\\u0639\\u064e\\u0631\\u0636 \\u0641\\u064a\\u0644\\u064f\\u0645 \\u0652\\u0648\\u064b\\u062b\\u0627\\u064e\\u0626\\u064f\\u0642\\u064f\\u064a\\u064f \\u0639\\u064e\\u0646\\u064f \\u064f\\u0627\\u0644\\u062a\\u064d\\u0639\\u064c\\u0627\\u0648\\u064d\\u0646\\u0650 \\u064d\\u0627\\u064c\\u0644\\u0623\\u062e\\u0648\\u064a \\u064f\\u0628\\u0651\\u064a\\u0652\\u0646\\u064b \\u0652\\u0627\\u0644\\u064e\\u0628\\u0644\\u064f\\u062f\\u0650\\u064a\\u064d\\u0646\\u064b \\u0651\\u0627\\u0650\\u0644\\u0634\\u0642\\u0651\\u064a\\u064c\\u0642\\u064e\\u064a\\u0646\\u0650\\u060c \\u064d\\u0642\\u0631\\u0623\\u0651 \\u064c\\u0628\\u0650\\u0639\\u064f\\u062f \\u064b\\u0630\\u064f\\u0644\\u0651\\u0643\\u064f \\u0651\\u0639\\u0628\\u064f\\u062f\\u0627\\u0650\\u0644\\u0644\\u0647 \\u064f\\u0627\\u0644\\u064c\\u0645\\u0637\\u0651\\u064a\\u0631\\u064d\\u064a\\u0650 \\u0643\\u064e\\u0644\\u0645\\u0652\\u0629\\u064c \\u0647\\u064a\\u0650\\u0626\\u0629 \\u062f\\u0628\\u064b\\u064a\\u064e \\u0644\\u0644\\u064b\\u062b\\u0642\\u0627\\u0641\\u0629\\u060c\\u064f \\u062a\\u062d\\u064f\\u062f\\u062b\\u064e \\u064c\\u0641\\u064a\\u0652\\u0647\\u0652\\u0627\\u064c \\u0639\\u0652\\u0646 \\u064f\\u0627\\u0652\\u0644\\u0639\\u0650\\u0644\\u0627\\u0642\\u0627\\u062a \\u0651\\u0627\\u0651\\u0644\\u064d\\u062b\\u0642\\u0650\\u0627\\u0641\\u064a\\u0651\\u0629 \\u0628\\u064b\\u064a\\u0646 \\u064e\\u0627\\u0644\\u0628\\u064b\\u0644\\u0651\\u062f\\u0652\\u064a\\u064d\\u0646\\u064c\\u060c \\u0648\\u064e\\u0643\\u064e\\u064a\\u0651\\u0641 \\u0623\\u0646 \\u0627\\u064e\\u0644\\u064d\\u0643\\u0648\\u064e\\u064a\\u0650\\u062a \\u062f\\u0639\\u0645\\u0651\\u062a\\u064d \\u0650\\u0627\\u0644\\u062d\\u0631\\u0652\\u0643\\u064b\\u0629\\u064b \\u0627\\u064d\\u0644\\u062b\\u0652\\u0642\\u064c\\u0627\\u0641\\u064a\\u0652\\u0629\\u0652 \\u064d\\u0648\\u0627\\u0650\\u0644\\u0651\\u062a\\u0639\\u0651\\u0644\\u064a\\u064f\\u0645\\u064a\\u0629 \\u0641\\u064a \\u0627\\u0644\\u0625\\u0645\\u0627\\u064e\\u0631\\u0627\\u064c\\u062a\\u060c\\u064d \\u064d\\u0648\\u0651\\u0623\\u064f\\u0646\\u064e\\u0634\\u0623\\u062a\\u0651 \\u0641\\u064a\\u064e\\u0647\\u0651\\u0627 \\u064b\\u0627\\u064c\\u0644\\u064f\\u0645\\u064f\\u062f\\u0627\\u064f\\u0631\\u0651\\u0633\\u064b\\u060c\\u0652 \\u064c\\u0625\\u0644\\u064f\\u0649 \\u0651\\u062c\\u0627\\u064b\\u0646\\u0650\\u0628 \\u064c\\u063a\\u0652\\u064a\\u064e\\u0631\\u0647\\u0650\\u0627\\u064c \\u0645\\u0646\\u064c \\u0650\\u0627\\u0644\\u0645\\u064c\\u0631\\u064d\\u0627\\u0641\\u064e\\u0642 \\u0627\\u0651\\u0644\\u0636\\u0631\\u0652\\u0648\\u0631\\u064d\\u064a\\u0650\\u0629\\u064e .\\u064c\\u0628\\u064c\\u0639\\u064b\\u062f\\u0652 \\u0630\\u064f\\u0644\\u0643 \\u0628\\u062f\\u0623\\u0650\\u062a \\u0641\\u064f\\u0639\\u0650\\u0627\\u064c\\u0644\\u064a\\u0627\\u0651\\u062a \\u0627\\u0644\\u064d\\u0646\\u0652\\u062f\\u0648\\u064c\\u0629 \\u0651\\u0627\\u0651\\u0644\\u064b\\u062a\\u064e\\u064a \\u064f\\u0623\\u062f\\u064e\\u0627\\u064c\\u0631\\u0647\\u0627 \\u0651\\u0639\\u0644\\u064e\\u064a\\u064c \\u064c\\u0639\\u064f\\u0628\\u064f\\u064a\\u0651\\u062f \\u0627\\u0644\\u064f\\u0647\\u0650\\u0627\\u0650\\u0645\\u0644\\u064d\\u064a\\u0651\\u060c\\u0651 \\u0652\\u0628\\u0639\\u0651\\u0646\\u064e\\u0648\\u064c\\u0627\\u0651\\u0646 \\\"\\u0650\\u0645\\u0633\\u064a\\u0631\\u064b\\u0629 \\u0627\\u064e\\u0644\\u0652\\u0639\\u0652\\u0644\\u0627\\u064e\\u0642\\u0627\\u062a\\u0651 \\u0627\\u0650\\u0644\\u0625\\u0645\\u0627\\u0652\\u0631\\u0627\\u062a\\u064a\\u0629\\u0651 \\u064b- \\u064c\\u0627\\u0651\\u0644\\u0652\\u0643\\u0648\\u064a\\u062a\\u064e\\u064a\\u064b\\u0629\\\" \\u0648\\u064b\\u0634\\u0627\\u0631\\u0643 \\u064c\\u0641\\u064c\\u064a\\u0647\\u064e\\u0627\\u0651 \\u0643\\u0644\\u064b \\u064e\\u0645\\u0646\\u0651 \\u0650\\u062f\\u0652 . \\u0639\\u0652\\u0628\\u062f\\u0650\\u0627\\u0652\\u0644\\u0644\\u064f\\u0647\\u064c \\u0627\\u0644\\u063a\\u064c\\u0646\\u064a\\u0645 \\u064e(\\u0651\\u0627\\u0644\\u0643\\u0648\\u064f\\u064a\\u064f\\u062a)\\u064f \\u064e\\u0648\\u0628\\u0644\\u0627\\u0644\\u064f \\u0651\\u0627\\u0652\\u0644\\u064f\\u0628\\u0652\\u062f\\u064b\\u0648\\u0631\\u064c \\u0646\\u064b\\u0627\\u064b\\u0626\\u0628 \\u0631\\u064d\\u0626\\u064a\\u064c\\u0633\\u064f \\u0645\\u062c\\u064e\\u0644\\u0633 \\u0625\\u062f\\u0650\\u0627\\u0652\\u0631\\u0652\\u0629\\u064d \\u064d\\u0646\\u064d\\u062f\\u064b\\u0648\\u0629\\u064f \\u0627\\u0644\\u062b\\u0642\\u0627\\u0641\\u0629\\u064e \\u0650\\u0627\\u0644\\u064d\\u0639\\u0652\\u0644\\u064d\\u0648\\u0645\\u064c\\u060c \\u062d\\u0652\\u064a\\u0650\\u062b \\u064d\\u0633\\u0650\\u0644\\u0637\\u064f \\u064b\\u0627\\u0644\\u0647\\u064e\\u0627\\u064c\\u0645\\u064c\\u0644\\u064a \\u0650\\u0627\\u0644\\u0636\\u0648\\u0621\\u064d \\u0639\\u0650\\u0644\\u064b\\u0649\\u0650 \\u0650\\u0627\\u0651\\u0644\\u0633\\u0652\\u064a\\u0631\\u0651\\u0629\\u064b \\u064f\\u0627\\u064b\\u0644\\u064b\\u0645\\u064e\\u0639\\u064b\\u0631\\u0641\\u064a\\u0629\\u0650 \\u064b\\u0644\\u064c\\u0643\\u064b\\u0644\\u064e\\u0627\\u064d \\u0627\\u0650\\u0644\\u0650\\u0643\\u0651\\u0627\\u064e\\u062a\\u0628\\u064a\\u0646 \\u062f .\\u064b \\u064c\\u0627\\u0644\\u0651\\u063a\\u064e\\u0646\\u064d\\u064a\\u064b\\u0645 \\u0650\\u0648\\u0651\\u0627\\u064f\\u0644\\u0628\\u0652\\u062f\\u0648\\u064e\\u0631 .\\u0651 \\u064d\\u0648\\u064b\\u0645\\u0645\\u0627\\u0652 \\u0642\\u0627\\u0644\\u0647 \\u0651\\u0627\\u064e\\u0644\\u0647\\u0627\\u0651\\u0645\\u064b\\u0644\\u064a\\u0651 \\u0641\\u064a\\u064e \\u0645\\u064c\\u0642\\u0651\\u062f\\u0652\\u0645\\u062a\\u0652\\u0647:\\u0651 \\u064b\\u0627\\u0644\\u0643\\u0648\\u064a\\u064b\\u062a \\u064f\\u062a\\u064d\\u0631\\u0643\\u062a \\u0628\\u064c\\u0635\\u0645\\u064d\\u0627\\u064e\\u062a\\u0651\\u0647\\u064c\\u0627\\u064d \\u0639\\u0645\\u064a\\u0651\\u0642\\u064f\\u0627\\u064b\\u064b \\u0639\\u064d\\u0644\\u064c\\u064a\\u0646\\u0627 \\u064c\\u0641\\u064a \\u062f\\u0648\\u0644\\u0651\\u0629 \\u064b\\u0627\\u064d\\u0644\\u064c\\u0625\\u064e\\u0645\\u0627\\u064b\\u0631\\u0627\\u062a\\u060c\\u064e \\u0652\\u0648\\u064c\\u0623\\u0643\\u064e\\u0628\\u0651\\u0631 \\u064c\\u062f\\u0644\\u064a\\u0644\\u064f \\u0650\\u0639\\u0644\\u064d\\u0649\\u064e \\u0650\\u0630\\u0644\\u0643\\u0650 \\u064f\\u0623\\u0651\\u0646 \\u0647\\u0646\\u0627\\u0643\\u064f \\u0652\\u062c\\u064a\\u064e\\u0644\\u064d\\u0627\\u0652\\u064b \\u0625\\u0645\\u0627\\u064f\\u0631\\u064f\\u0627\\u062a\\u064a\\u064d\\u0627\\u064b\\u064f \\u0652\\u0643\\u0627\\u0645\\u064b\\u0644\\u064d\\u0627\\u064d\\u064b\\u064f \\u062a\\u064e\\u0641\\u062a\\u062d\\u0651\\u062a\\u0651 \\u064b\\u0645\\u0650\\u062f\\u0652\\u0627\\u0631\\u0652\\u0643\\u0647\\u064b \\u0639\\u0644\\u0652\\u0649 \\u0651\\u0645\\u064b\\u0627\\u064e \\u0628\\u062b\\u064f\\u062a\\u064c\\u0647\\u064d \\u0627\\u064c\\u0644\\u0650\\u0643\\u064c\\u0648\\u064a\\u062a \\u0652\\u0645\\u0651\\u0646\\u064b \\u064b\\u062a\\u0639\\u0644\\u064a\\u064e\\u0645 \\u064d\\u0648\\u064f\\u062b\\u064c\\u0642\\u0627\\u0641\\u0651\\u0629\\u064d \\u0641\\u064a\\u064d \\u064c\\u0627\\u0644\\u0625\\u064c\\u0645\\u0651\\u0627\\u064b\\u0631\\u0627\\u064c\\u062a\\u064c\\u060c\\u064f \\u0650\\u062c\\u064a\\u0644 \\u0650\\u0643\\u064b\\u0627\\u064f\\u0645\\u0644\\u060c\\u0651 \\u064c\\u062a\\u0652\\u0639\\u0644\\u0645 \\u0648\\u0641\\u0652\\u0642 \\u0651\\u0645\\u0651\\u0646\\u064d\\u0627\\u0650\\u0647\\u064c\\u062c\\u064f \\u0627\\u0644\\u0643\\u0652\\u0648\\u064a\\u062a \\u0627\\u064c\\u0644\\u062a\\u0639\\u0644\\u064a\\u064c\\u0645\\u064c\\u064a\\u064d\\u0629 \\u064c.\\u064e\\u0648\\u0623\\u0634\\u0627\\u0651\\u062f\\u064d \\u064e\\u062f \\u064e.\\u064d \\u0627\\u064e\\u0644\\u063a\\u0646\\u064b\\u064a\\u0645 \\u0650\\u0628\\u0627\\u064c\\u0644\\u062d\\u064a\\u0627\\u0629\\u0650 \\u0651\\u0627\\u0644\\u062a\\u0652\\u0639\\u064b\\u0644\\u064a\\u064f\\u0645\\u064a\\u0629\\u064f \\u0627\\u0644\\u062b\\u0642\\u064b\\u0627\\u064f\\u0641\\u0651\\u064a\\u0629\\u0650 \\u0652\\u0641\\u064e\\u064a\\u064e \\u064f\\u0627\\u0644\\u064c\\u0625\\u0645\\u064b\\u0627\\u0631\\u064c\\u0627\\u062a\\u060c\\u064d \\u0651\\u0648\\u064c\\u0631\\u0623\\u0649\\u064f \\u064e\\u0623\\u064e\\u0646\\u0651\\u0647\\u0627\\u064e \\u062c\\u062f \\u0652\\u0645\\u062a\\u0637\\u0648\\u0631\\u064d\\u0629\\u0652\\u060c\\u0650 \\u0648\\u064e\\u0623\\u0650\\u062f\\u064c\\u0644\\u0649\\u0652 \\u0651\\u0628\\u0623\\u064c\\u0645\\u062b\\u0650\\u0644\\u0629 \\u064c\\u0645\\u0647\\u0651\\u0645\\u0629\\u064f \\u0650\\u0639\\u064f\\u0644\\u0651\\u0649 \\u0630\\u0650\\u0644\\u064e\\u0643\\u064c\\u060c\\u064c \\u0648\\u064c\\u0645\\u064d\\u0646\\u0647\\u0627 \\u0651\\u0623\\u0646 \\u0627\\u0650\\u0644\\u064e\\u0643\\u062b\\u064b\\u064a\\u0631\\u064a\\u064b\\u0646\\u064e \\u064c\\u0645\\u0646\\u0650 \\u0623\\u0628\\u064c\\u0646\\u064e\\u0627\\u0621\\u064f \\u0650\\u0627\\u0644\\u064b\\u0643\\u0648\\u064e\\u064a\\u0650\\u062a \\u0628\\u0627\\u062a\\u064b\\u0648\\u0627 \\u064a\\u064e\\u062a\\u0652\\u0627\\u0652\\u0628\\u0639\\u0650\\u0648\\u0652\\u0646 \\u0652\\u062a\\u062d\\u0652\\u0635\\u064a\\u0644\\u0647\\u0650\\u0645\\u0651 \\u064d\\u0627\\u0651\\u0644\\u0645\\u0639\\u064d\\u0631\\u064f\\u0641\\u064e\\u064a\\u064d \\u064d\\u0641\\u064c\\u064a \\u062c\\u064f\\u0627\\u064e\\u0645\\u0639\\u064d\\u0627\\u064b\\u062a \\u0627\\u0652\\u0644\\u0625\\u0645\\u0650\\u0627\\u0631\\u0627\\u062a\\u0652\\u060c\\u064e \\u0645\\u0646\\u0650 \\u062f\\u064f\\u0648\\u0646\\u064b \\u064e\\u0623\\u064e\\u0646 \\u064f\\u064a\\u064f\\u0634\\u064f\\u0639\\u064f\\u0631\\u0651\\u0648\\u064d\\u0627 \\u0625\\u0644\\u064d\\u0627\\u0650 \\u0628\\u0651\\u0623\\u0646\\u064b\\u0647\\u064c\\u0645\\u064b \\u0641\\u0650\\u064a \\u0628\\u064b\\u064a\\u0648\\u062a\\u0650\\u0647\\u064e\\u0645\\u0651\\u060c \\u0652\\u0648\\u0647\\u0648\\u064e \\u064f\\u0645\\u062f\\u064c\\u0639\\u064c\\u0627\\u064e\\u0629\\u0651 \\u064d\\u0633\\u064b\\u0639\\u0627\\u0650\\u062f\\u0629 \\u064d\\u0623\\u0633\\u0631\\u064d\\u0647\\u0645\\u0651\\u060c \\u0628\\u0652\\u0644 \\u0650\\u0628\\u0644\\u0651\\u062f\\u0647\\u0645\\u064b \\u064d\\u0628\\u0643\\u0627\\u064d\\u0645\\u064d\\u0644\\u0647 \\u064f.\\u0648\\u0642\\u0627\\u0644: \\u0644\\u0645\\u064f \\u064f\\u0623\\u064c\\u0631\\u062f\\u064c \\u064c\\u0623\\u0646\\u0650 \\u064d\\u0623\\u0633\\u064e\\u0645\\u064e\\u064a\\u0652 \\u0646\\u064e\\u062f\\u0650\\u0648\\u062a\\u0650\\u0646\\u0627 \\u0647\\u064b\\u0630\\u0651\\u0647\\u064f \\u0628\\u0627\\u0644\\u062d\\u0648\\u0651\\u0627\\u0652\\u0631\\u064b\\u064a\\u0629\\u0651\\u060c\\u064c \\u0628\\u0650\\u064a\\u0650\\u0646 \\u0645\\u0652\\u062b\\u064e\\u0642\\u0652\\u0641\\u064d\\u064a\\u0650\\u0646\\u0651 \\u0645\\u0650\\u0646\\u064d \\u0628\\u0644\\u062f\\u064a\\u064e\\u0646\\u0627:\\u064b \\u064b\\u0627\\u0644\\u064e\\u0643\\u0648\\u0650\\u064a\\u062a\\u0652 \\u0652\\u0648\\u0627\\u0652\\u0644\\u0625\\u0645\\u064c\\u0627\\u0631\\u0627\\u064c\\u062a\\u060c\\u064f \\u064b\\u0644\\u0623\\u0646 \\u0627\\u0644\\u062d\\u0648\\u064f\\u0627\\u0652\\u0631\\u060c\\u064f \\u0650\\u064a\\u062a\\u0645 \\u064c\\u0639\\u064f\\u0627\\u0650\\u062f\\u0629\\u064d\\u060c \\u0652\\u0628\\u064a\\u064e\\u0646\\u064c \\u0645\\u0650\\u0646\\u064b \\u0652\\u0647\\u064b\\u0645\\u064d \\u0645\\u062e\\u062a\\u064d\\u0644\\u0641\\u0648\\u0646\\u060c \\u0628\\u064a\\u0646 \\u0650\\u0645\\u064c\\u0646 \\u062a\\u064c\\u0643\\u0650\\u0648\\u0646\\u064c \\u064e\\u0647\\u064f\\u0646\\u0627\\u0643 \\u062a\\u0646\\u0627\\u0642\\u0650\\u0636\\u0627\\u062a \\u064b\\u0641\\u064f\\u064a\\u0651\\u0645\\u0627\\u064b \\u0650\\u0628\\u064a\\u0646\\u0652\\u0647\\u0645\\u060c \\u0625\\u0651\\u0646\\u0646\\u064e\\u0627\\u0650 \\u0650\\u0646\\u062a\\u062d\\u062f\\u064c\\u062b \\u064b\\u0636\\u0652\\u0645\\u0646 \\u0652\\u0625\\u0637\\u0652\\u0627\\u0650\\u0631\\u0651 \\u064c\\u0627\\u064c\\u0644\\u064e\\u0628\\u064e\\u064a\\u064b\\u062a\\u0650 \\u064c\\u0627\\u0644\\u0648\\u0652\\u0627\\u062d\\u0651\\u062f\\u060c \\u064f\\u0636\\u064e\\u0645\\u064c\\u0646\\u0650 \\u0625\\u0637\\u0627\\u0631 \\u0627\\u0644\\u064b\\u0623\\u0633\\u064c\\u0631\\u064f\\u0629 \\u0627\\u0644\\u0652\\u0648\\u0650\\u0627\\u062d\\u062f\\u0629\\u060c\\u0651 \\u0648\\u064f\\u0647\\u0646\\u064b\\u0627\\u0650 \\u0627\\u0650\\u0644\\u0641\\u0631\\u0642\\u064f \\u0628\\u064b\\u064a\\u0646\\u064c \\u064c\\u0637\\u064d\\u0628\\u064a\\u0639\\u0629 \\u0651\\u062d\\u062f\\u064a\\u064f\\u062b\\u0646\\u0651\\u0627\\u060c\\u0652 \\u0648\\u0635\\u0641\\u0629\\u064b \\u0627\\u0644\\u062d\\u0650\\u0648\\u0627\\u0631\\u0652 \\u0650.\\u0651\\u0648\\u062a\\u0627\\u0628\\u0651\\u0639\\u064b \\u062f . \\u0627\\u064f\\u0644\\u063a\\u0646\\u064a\\u064f\\u0645 \\u064f\\u0642\\u0651\\u0627\\u0626\\u0644\\u0627\\u064d\\u064b:\\u064d \\u0650\\u0645\\u0652\\u0631\\u0643\\u0650\\u0632 \\u0627\\u064c\\u0644\\u064b\\u0628\\u062d\\u0648\\u064c\\u062b \\u064e\\u0648\\u0627\\u064d\\u0644\\u062f\\u0631\\u064b\\u0627\\u064f\\u0633\\u0627\\u062a\\u0650 \\u0627\\u064c\\u0644\\u0643\\u0650\\u0648\\u064a\\u0650\\u062a\\u064c\\u064a\\u064b \\u064c\\u062c\\u0651\\u0645\\u064b\\u0639\\u0651 \\u0623\\u064d\\u0643\\u0650\\u062b\\u0651\\u0631 \\u064b\\u0645\\u0646 \\u064e\\u0645\\u0644\\u064b\\u064a\\u0648\\u064e\\u0646\\u064f\\u064a \\u0648\\u064e\\u062b\\u0651\\u064a\\u064d\\u0642\\u0629\\u064c \\u0639\\u0646 \\\"\\u0627\\u0644\\u062c\\u064b\\u0646\\u0648\\u064e\\u0628 \\u0648\\u0651\\u0627\\u064e\\u0644\\u062e\\u0644\\u0650\\u064a\\u064f\\u062c\\\"\\u064e\\u060c\\u0651 \\u0648\\u0645\\u064d\\u0646 \\u0628\\u064c\\u064a\\u064b\\u0646\\u064f\\u0647\\u0627\\u064f \\u0648\\u064e\\u062b\\u0627\\u0626\\u0642\\u0652 \\u064f\\u0645\\u0647\\u0650\\u0645\\u064e\\u0629 \\u0639\\u0646 \\u0645\\u0641\\u064c\\u0627\\u0635\\u0644 \\u064b\\u0627\\u0644\\u064f\\u0628\\u0652\\u0646\\u064a\\u0629\\u064c \\u064d\\u0627\\u0652\\u0644\\u0651\\u062a\\u064f\\u062d\\u064c\\u062a\\u064a\\u064e\\u0629 \\u064e\\u0641\\u064a \\u0627\\u0644\\u0650\\u0625\\u0645\\u064c\\u0627\\u064b\\u0631\\u064b\\u0627\\u0652\\u062a\\u064a\\u064f\\u0629\\u060c\\u064b \\u0648\\u064f\\u0646\\u064b\\u0634\\u064d\\u0623\\u064d\\u0629 \\u0645\\u062f\\u0627\\u0631\\u0633\\u0647\\u064e\\u0627\\u060c \\u0648\\u062d\\u064a\\u0627\\u062a\\u0650\\u0647\\u0627 \\u0627\\u0644\\u062b\\u064e\\u0642\\u0627\\u0641\\u064a\\u0629\\u0650\\u060c \\u064d\\u0648\\u0652\\u0641\\u064a \\u0647\\u0630\\u0650\\u0647 \\u0627\\u0651\\u0644\\u0648\\u062b\\u064b\\u0627\\u0626\\u0651\\u0642 \\u0650\\u0645\\u0639\\u0644\\u0648\\u064d\\u0645\\u0650\\u0627\\u064e\\u062a \\u062c\\u0651\\u062f \\u0645\\u0647\\u0645\\u0629\\u0652 \\u064b\\u0639\\u0651\\u0646 \\u064f\\u0646\\u0634\\u0623\\u0629\\u0651 \\u0627\\u0652\\u0644\\u064b\\u0645\\u062f\\u0650\\u0627\\u064c\\u0631\\u0633\\u060c\\u0652 \\u064c\\u0648\\u064c\\u062d\\u0651\\u062a\\u0649\\u064c \\u0623\\u0633\\u064b\\u0645\\u064e\\u0627\\u0621 \\u0651\\u0627\\u0644\\u0637\\u0644\\u0651\\u0628\\u0629\\u060c \\u0648\\u064b\\u0627\\u064e\\u0644\\u064d\\u0645\\u062f\\u064b\\u0631\\u0633\\u064c\\u064a\\u0646\\u060c\\u0652 \\u064b\\u0648\\u0643\\u0652\\u064a\\u0641\\u064a\\u064f\\u0629\\u064c \\u0628\\u064b\\u062f\\u0650\\u0627\\u064f\\u064a\\u0627\\u0652\\u062a\\u064c \\u0639\\u0652\\u0645\\u0650\\u0644\\u064e\\u064a\\u0652\\u0629\\u064d \\u0627\\u0644\\u062a\\u0639\\u0644\\u064a\\u0645\\u064f \\u064f. . \\u064d\\u0625\\u0644\\u064f\\u062e\\u0652\\u060c \\u064c\\u0648\\u0647\\u0646\\u064d\\u0627\\u0643\\u0651 \\u064b\\u0645\\u0646 \\u0651\\u0646\\u064f\\u0627\\u064f\\u0644\\u0652 \\u064b\\u0634\\u0647\\u0650\\u0627\\u062f\\u0629\\u064c \\u0650\\u0627\\u0644\\u062f\\u0650\\u0643\\u062a\\u064e\\u0648\\u0631\\u0651\\u0627\\u0647 \\u0645\\u064c\\u0646\\u0651 \\u062e\\u064f\\u0644\\u064b\\u0627\\u0651\\u0644\\u064f \\u064f\\u0642\\u0652\\u0631\\u0627\\u0621\\u0652\\u0629 \\u064e\\u0627\\u0644\\u064d\\u0639\\u064b\\u0644\\u064e\\u0627\\u0642\\u0627\\u064c\\u062a \\u0627\\u0652\\u0644\\u0623\\u0650\\u062e\\u0648\\u064d\\u064a\\u064e\\u0629 \\u064d\\u0628\\u064a\\u0646 \\u064e\\u0627\\u0644\\u064f\\u0628\\u064e\\u0644\\u062f\\u064a\\u064c\\u0646 \\u0652.\\u0652\\u0648\\u062c\\u0627\\u0621\\u064e \\u062d\\u064d\\u062f\\u064d\\u064a\\u064d\\u062b\\u064f \\u0627\\u064f\\u0644\\u0651\\u0628\\u0652\\u062f\\u064c\\u0648\\u0631\\u064e \\u064e\\u0628\\u0645\\u0627 \\u064a\\u064f\\u0634\\u0650\\u0628\\u0647 \\u064f\\u0627\\u064f\\u0644\\u0652\\u0634\\u0650\\u0647\\u0627\\u062f\\u064e\\u0629\\u064e\\u060c \\u0645\\u0646 \\u064c\\u0642\\u064e\\u0628\\u0644\\u064e \\u0652\\u0623\\u062d\\u064e\\u062f\\u064f \\u0651\\u0623\\u064c\\u0628\\u064f\\u0646\\u0627\\u0621 \\u064d\\u0627\\u0644\\u064c\\u062c\\u064a\\u064d\\u0644 \\u0627\\u064d\\u0644\\u064e\\u0630\\u064a\\u064d \\u064f\\u0641\\u062a\\u0651\\u062d \\u0639\\u064a\\u0646\\u064a\\u064b\\u0647\\u064b \\u0650\\u0639\\u064b\\u0644\\u064d\\u0649\\u0650 \\u0627\\u0644\\u0645\\u0646\\u0627\\u064f\\u0647\\u064b\\u062c \\u0627\\u0652\\u0644\\u0651\\u062a\\u0639\\u0644\\u064f\\u064a\\u0645\\u064a\\u0629 \\u0627\\u0644\\u0651\\u0643\\u064f\\u0648\\u0650\\u064a\\u062a\\u064a\\u0629\\u064e \\u0627\\u0650\\u0644\\u062a\\u064a\\u064b \\u064e\\u062a\\u0645 \\u062a\\u064b\\u062f\\u0650\\u0631\\u064a\\u064f\\u0633\\u0650\\u0647\\u064e\\u0627\\u064b \\u0641\\u0651\\u064a\\u064d \\u0627\\u064f\\u0644\\u0652\\u0625\\u064d\\u0645\\u064c\\u0627\\u0631\\u064c\\u0627\\u0652\\u062a\\u0652\\u060c \\u0648\\u0651\\u0642\\u064d\\u0627\\u0644: \\u064e\\u0643\\u0644 \\u064f\\u0630\\u064c\\u0644\\u0643 \\u064f\\u0630\\u0643\\u0631\\u0650\\u062a\\u0647 \\u0641\\u0651\\u064a \\u0643\\u062a\\u0627\\u0628\\u064a \\u064b\\\"\\u0627\\u0644\\u062c\\u0630\\u0648\\u0631 \\u0650\\u0627\\u064f\\u0644\\u062a\\u0627\\u0631\\u0652\\u064a\\u064d\\u062e\\u0650\\u064a\\u0651\\u0629\\u064d \\u064e\\u0644\\u064f\\u0644\\u0639\\u064b\\u0644\\u0627\\u0642\\u0627\\u0650\\u062a\\u064f \\u064e\\u0627\\u064f\\u0644\\u062b\\u0652\\u0642\\u0627\\u0650\\u0641\\u064d\\u064a\\u0629 \\u064c\\u0628\\u064a\\u064b\\u0646 \\u0650\\u0627\\u0644\\u0625\\u0645\\u0627\\u0631\\u0627\\u064c\\u062a\\u064c \\u064f\\u0648\\u064e\\u0627\\u064b\\u0644\\u0643\\u0650\\u0648\\u064a\\u064f\\u062a\\\"\\u060c \\u0652\\u0648\\u0643\\u064b\\u0627\\u064b\\u0646 \\u064c\\u0628\\u064f\\u0645\\u064f\\u062b\\u064f\\u0627\\u064e\\u0628\\u064c\\u0629\\u064d \\u064c\\u0631\\u0652\\u0633\\u064b\\u0627\\u0651\\u0644\\u064e\\u0629 \\u0634\\u0652\\u0643\\u0631 \\u0652\\u0644\\u0644\\u0643\\u0648\\u064a\\u062a\\u060c \\u0648\\u064c\\u0623\\u0636\\u0650\\u0627\\u064d\\u0641:\\u064d \\u0623\\u062c\\u064f\\u0644\\u060c\\u064e \\u064c\\u062a\\u062a\\u0644\\u0645\\u0630\\u0646\\u0627\\u064c \\u0639\\u064f\\u0644\\u0651\\u0649 \\u0650\\u0645\\u064d\\u0646\\u064c\\u0627\\u064c\\u0647\\u062c \\u064b\\u0627\\u0644\\u0643\\u064e\\u0648\\u064b\\u064a\\u062a\\u064d\\u060c\\u0650 \\u0648\\u0642\\u0631\\u0623\\u0646\\u0627\\u064d \\u0650\\u0639\\u064e\\u0628\\u0627\\u0631\\u064d\\u0629 \\u064e\\\"\\u0639\\u064f\\u0644\\u0645 \\u0628\\u0651\\u0644\\u0651\\u0627\\u062f\\u064a\\u0650 \\u0651\\u0644\\u0651\\u0648\\u064e\\u0646\\u0647\\u0650 \\u064c\\u0623\\u064c\\u062d\\u0645\\u0650\\u0631\\\" \\u0648\\u0650\\u0627\\u0631\\u062a\\u064c\\u062f\\u064a\\u0646\\u0652\\u0627\\u064e \\u0632\\u064a \\u0627\\u064e\\u0644\\u0652\\u0645\\u062f\\u0651\\u0627\\u0652\\u0631\\u064b\\u0633\\u064f \\u064d\\u0627\\u0644\\u0643\\u064d\\u0648\\u064e\\u064a\\u062a\\u064a\\u0629 \\u0623\\u062b\\u064f\\u0646\\u064f\\u0627\\u064e\\u0621\\u064c \\u0651\\u062a\\u0639\\u064e\\u0644\\u0650\\u064a\\u0645\\u0646\\u0627\\u064c\\u060c \\u064c\\u0648\\u0652\\u062a\\u064d\\u0646\\u0627\\u0650\\u0648\\u0644\\u064b\\u0646\\u0627 \\u0627\\u0644\\u064e\\u0648\\u062c\\u064f\\u0628\\u0652\\u0627\\u062a\\u064d \\u0627\\u0651\\u0644\\u0635\\u0628\\u0627\\u062d\\u0650\\u064a\\u0629\\u0651 \\u0627\\u0651\\u0644\\u0650\\u0643\\u064b\\u0648\\u064a\\u062a\\u064a\\u0629\\u0650 \\u064d\\u0641\\u0650\\u064a \\u0645\\u062f\\u064b\\u0627\\u064b\\u0631\\u064c\\u0633\\u0646\\u0627\\u0652\\u060c\\u064b \\u0648\\u0627\\u0633\\u062a\\u062e\\u064c\\u062f\\u064f\\u0645\\u0651\\u0646\\u0627 \\u064d\\u0627\\u064b\\u0644\\u064c\\u0623\\u0650\\u0642\\u064c\\u0644\\u0627\\u0651\\u0645 \\u0652\\u0648\\u064d\\u0627\\u0644\\u0652\\u0645\\u0645\\u064e\\u062d\\u0651\\u0627\\u064f\\u064a\\u064d\\u0627\\u064b\\u062a\\u064e \\u0648\\u0627\\u064d\\u0644\\u064b\\u0645\\u0628\\u0631\\u0627\\u064a\\u0652\\u0627\\u064b\\u062a \\u064d\\u0627\\u0644\\u064e\\u0643\\u0648\\u064c\\u064a\\u062a\\u064a\\u0629\\u064e\\u060c \\u0644\\u064d\\u0627\\u064c \\u0641\\u0631\\u0642 \\u064f\\u0628\\u064b\\u064a\\u064c\\u0646\\u064d\\u0646\\u0651\\u0627\\u060c \\u0628\\u064a\\u064b\\u0626\\u0650\\u062a\\u0627 \\u0628\\u064f\\u0644\\u062f\\u064a\\u0646\\u0627\\u064b \\u0648\\u0650\\u0627\\u064f\\u062d\\u0652\\u062f\\u0629\\u064d\\u060c \\u0647\\u064a \\u0627\\u064f\\u0644\\u0628\\u0650\\u064a\\u0650\\u0626\\u0629\\u064b \\u064c\\u0627\\u0650\\u0644\\u0628\\u062d\\u0631\\u064a\\u0629\\u064f \\u064f.\\u064b \\u0648\\u0628\\u0652\\u0639\\u062f\\u064f \\u064f\\u0623\\u0650\\u0641\\u064c\\u0648\\u0644 \\u062a\\u064d\\u062c\\u0627\\u0652\\u0631\\u0629\\u064c \\u0627\\u0644\\u0644\\u0624\\u0644\\u064b\\u0624\\u060c \\u0651\\u0641\\u064f\\u0625\\u0652\\u0646\\u0651 \\u0645\\u0651\\u062b\\u064e\\u0642\\u064f\\u0641\\u064a\\u0646\\u0627\\u064c \\u0648\\u064d\\u0639\\u0650\\u0645\\u064e\\u0627\\u0644\\u064f\\u0646\\u064f\\u0627 \\u062a\\u0648\\u062c\\u0647\\u0648\\u0627\\u064b \\u0625\\u0644\\u0649 \\u0627\\u0644\\u064e\\u0643\\u0650\\u0648\\u064b\\u064a\\u064b\\u062a\\u064f \\u0644\\u0650\\u0644\\u0639\\u064d\\u0645\\u0644 \\u0651\\u0641\\u064f\\u064a\\u0647\\u0627\\u064f\\u060c \\u0650\\u0643\\u0651\\u0645\\u0627 \\u0623\\u064f\\u0646 \\u0647\\u064c\\u0646\\u0627\\u0643 \\u0623\\u064f\\u062c\\u064a\\u0627\\u064c\\u0644\\u0651\\u0627\\u0650\\u064b \\u064e\\u0645\\u064b\\u0646 \\u0627\\u0652\\u0644\\u064e\\u0643\\u064b\\u0648\\u064a\\u062a\\u064b\\u064a\\u064a\\u0646 \\u064b\\u0639\\u064d\\u0627\\u0634\\u0648\\u064b\\u0627 \\u0641\\u064e\\u064a \\u064f\\u0627\\u0650\\u0644\\u064e\\u0625\\u064d\\u0645\\u0627\\u0631\\u0627\\u062a\\u064d\\u060c \\u064d\\u0648\\u0651\\u0645\\u064e\\u0646\\u064b\\u0647\\u0645 \\u0645\\u0646\\u064c \\u064b\\u0639\\u0650\\u0644\\u0652\\u0645\\u064d\\u0648\\u064e\\u0646\\u0627 .\\u0651 \\u0643\\u0645\\u0627 \\u0631\\u0627\\u0651\\u062d\\u0652 \\u064a\\u0650\\u062a\\u062d\\u064d\\u062f\\u062b \\u0639\\u0646\\u0651 \\u0627\\u0644\\u062a\\u0641\\u064e\\u0627\\u0639\\u064e\\u0644\\u064b \\u0627\\u064c\\u0644\\u062b\\u0650\\u0642\\u0652\\u0627\\u0641\\u064c\\u064a \\u0628\\u064d\\u064a\\u0646\\u0650 \\u064b\\u0627\\u0644\\u064d\\u0628\\u0644\\u0651\\u062f\\u064a\\u064d\\u0646 \\u0639\\u064e\\u0628\\u0631 \\u064d\\u0642\\u064d\\u0635\\u064f\\u0627\\u0626\\u0650\\u062f\\u064d \\u0627\\u0651\\u0644\\u064b\\u0634\\u0639\\u0652\\u0631\\u0627\\u064e\\u0621\\u060c\\u064d \\u064b\\u0627\\u0644\\u0652\\u0641\\u0652\\u0635\\u0652\\u062d\\u064c\\u0649\\u064b \\u0648\\u064c\\u0627\\u0644\\u0650\\u0646\\u064b\\u0628\\u0637\\u064a\\u064f\\u0629\\u0650\\u060c \\u0650\\u0641\\u0652\\u0636\\u064b\\u0644\\u0650\\u0627\\u064b\\u064b \\u064c\\u0639\\u064d\\u0646 \\u0651\\u0627\\u064d\\u0644\\u062a\\u0641\\u064c\\u0627\\u0639\\u064f\\u0644\\u064c \\u0651\\u0645\\u0652\\u0639 \\u0648\\u064b\\u0633\\u0627\\u0652\\u0626\\u064b\\u0644\\u064b \\u0627\\u0644\\u0625\\u0650\\u0639\\u0644\\u0627\\u0645\\u0650 \\u064d\\u0641\\u0650\\u064a\\u064e \\u0643\\u0644\\u0627 \\u0627\\u064b\\u0644\\u0628\\u0651\\u0644\\u064e\\u062f\\u064c\\u064a\\u064d\\u0646\\u060c\\u064c \\u0650\\u0625\\u064f\\u0630 \\u064c\\u0641\\u064c\\u062a\\u062d\\u062a\\u0650 \\u064c\\u0627\\u0644\\u0651\\u0635\\u064d\\u062d\\u064e\\u0627\\u064c\\u0641\\u0629\\u0650 \\u0627\\u064e\\u0644\\u064e\\u0643\\u0648\\u064a\\u062a\\u064a\\u0650\\u0629\\u064f \\u0651\\u0623\\u064f\\u0628\\u0652\\u0648\\u064e\\u0627\\u0628\\u0647\\u064d\\u0627\\u0651 \\u0644\\u0644\\u0645\\u062b\\u0642\\u0641\\u064a\\u064b\\u0646\\u064b \\u0627\\u064f\\u0644\\u0625\\u0645\\u0627\\u0631\\u0652\\u0627\\u0650\\u062a\\u064f\\u064a\\u064e\\u064a\\u0650\\u0646 .\",\n          \"https://example.com/resource/\\u0623\\u0650\\u0628\\u0648\\u0638\\u0628\\u064f\\u064a\\u0651 \\u064c-\\u0650 \\u064b\\u0645\\u0646\\u0651\\u064a\\u0650 \\u0650\\u0628\\u0651\\u0648\\u0651\\u0646\\u0639\\u064f\\u0627\\u064b\\u0645\\u0629:\\u0646\\u064e\\u0638\\u0645 \\u0627\\u062a\\u062d\\u0627\\u062f \\u064d\\u0643\\u0651\\u062a\\u0627\\u0650\\u0628\\u064d \\u0651\\u0648\\u0652\\u0623\\u062f\\u0652\\u0628\\u064e\\u0627\\u064b\\u0621 \\u064f\\u0627\\u0644\\u0625\\u0645\\u0627\\u0651\\u0631\\u0627\\u0650\\u062a \\u0641\\u064a \\u0623\\u0628\\u0648\\u0650\\u0638\\u0628\\u064b\\u064a\\u0651\\u060c\\u064c \\u0645\\u0633\\u064c\\u0627\\u064e\\u0621\\u064c \\u0623\\u0645\\u064c\\u0633\\u064d \\u0627\\u0644\\u064f\\u0623\\u064e\\u0648\\u0651\\u0644\\u060c \\u064f\\u0641\\u0650\\u064a\\u064d \\u0642\\u0651\\u0627\\u0650\\u0639\\u0629\\u064d \\u0627\\u0652\\u0644\\u062f\\u0643\\u062a\\u0648\\u064c\\u0631\\u064c \\u064c\\u0639\\u0628\\u062f\\u064e \\u064b\\u0627\\u0644\\u064c\\u0644\\u0647\\u0651 \\u0639\\u0645\\u0631\\u0627\\u064d\\u0646 \\u064f\\u062a\\u0650\\u0631\\u0651\\u064a\\u0645\\u0652 \\u064d\\u0641\\u064a\\u064f \\u0645\\u0651\\u0642\\u0631 \\u064d\\u0627\\u0644\\u0627\\u062a\\u064c\\u062d\\u0627\\u062f\\u064c \\u064c\\u0627\\u0644\\u064c\\u062c\\u062f\\u064a\\u0651\\u062f \\u0641\\u064a \\u0645\\u0650\\u0639\\u064e\\u0633\\u064b\\u0643\\u0631\\u064d \\u064f\\u0622\\u0644\\u0651 \\u0646\\u064b\\u0647\\u064a\\u0627\\u0646\\u064f \\u0623\\u064e\\u0645\\u0650\\u0633\\u064f\\u064a\\u0629 \\u0644\\u0652\\u0644\\u064e\\u0643\\u064c\\u0627\\u062a\\u0628\\u064d \\u0651\\u0648\\u064e\\u0627\\u0644\\u0652\\u0645\\u062b\\u064e\\u0642\\u0651\\u0641\\u064c \\u064d\\u0627\\u0644\\u0625\\u0645\\u064d\\u0627\\u064c\\u0631\\u064c\\u0627\\u062a\\u0651\\u064a\\u064f \\u0645\\u0627\\u062c\\u064c\\u062f \\u0628\\u0648 \\u0634\\u064f\\u0644\\u064a\\u0628\\u064f\\u064a\\u060c\\u064d \\u0623\\u064f\\u0645\\u064b\\u064a\\u0646 \\u0639\\u0627\\u0645\\u0652 \\u0652\\u0627\\u0644\\u0645\\u0646\\u062a\\u0650\\u062f\\u0651\\u0649 \\u0650\\u0627\\u0644\\u064d\\u0625\\u064e\\u0633\\u0651\\u0644\\u0651\\u0627\\u0645\\u0652\\u064a\\u064f \\u0641\\u064f\\u064a \\u0627\\u0644\\u064e\\u0634\\u0650\\u0627\\u0631\\u064d\\u0642\\u064e\\u0629\\u064e\\u060c\\u0650 \\u064c\\u0628\\u064f\\u0639\\u0646\\u0648\\u064f\\u0627\\u0646:\\u0651 \\u0644\\u0645\\u0627\\u0630\\u0627\\u064e \\u0651\\u0627\\u064b\\u0644\\u064f\\u0634\\u0651\\u0627\\u0631\\u0642\\u0629 \\u0639\\u0651\\u0627\\u064e\\u0635\\u0645\\u0629 \\u0650\\u0644\\u064d\\u0644\\u062b\\u064f\\u0642\\u0627\\u0641\\u064b\\u0629\\u064b \\u0627\\u064c\\u0644\\u0625\\u064c\\u0633\\u0652\\u0644\\u064d\\u0627\\u0645\\u0651\\u064a\\u0629\\u064d\\u061f \\u0642\\u062f\\u0651\\u0651\\u064e\\u0645 \\u0627\\u0644\\u064e\\u0623\\u0645\\u0633\\u064a\\u064f\\u0629\\u064f \\u064d\\u0627\\u0644\\u0634\\u0650\\u0627\\u0639\\u0631\\u0652 \\u0652\\u0648\\u0627\\u0644\\u0646\\u0627\\u0652\\u0642\\u062f \\u0645\\u064b\\u062d\\u064c\\u0645\\u062f \\u0646\\u0648\\u0631 \\u064f\\u0627\\u064c\\u0644\\u062f\\u064f\\u064a\\u0646\\u060c\\u0651 \\u064b\\u0648\\u0650\\u062d\\u0636\\u0650\\u0631\\u0651\\u0647\\u064c\\u0627\\u064e \\u064f\\u062d\\u0650\\u0628\\u064d\\u064a\\u0652\\u0628\\u064b \\u0627\\u064e\\u0644\\u0635\\u064b\\u0627\\u064a\\u0650\\u063a\\u0651 \\u064e\\u0631\\u064f\\u0626\\u064a\\u064d\\u0633\\u0652 \\u0645\\u062c\\u0651\\u0644\\u0633\\u0650 \\u0625\\u064c\\u062f\\u064c\\u0627\\u0631\\u0629\\u0650 \\u0651\\u0627\\u064c\\u0644\\u064b\\u0627\\u064b\\u062a\\u062d\\u0627\\u062f\\u0650\\u060c\\u064e \\u0648\\u0639\\u064b\\u062f\\u064b\\u062f \\u0645\\u0646 \\u064d\\u0627\\u0644\\u0643\\u062a\\u0651\\u0627\\u0628\\u064e \\u0648\\u0652\\u0627\\u064f\\u0644\\u064b\\u0623\\u064f\\u062f\\u0628\\u0627\\u064d\\u0621 \\u064d.\\u064e \\u064c\\u0627\\u0633\\u062a\\u064b\\u0647\\u0651\\u0644\\u0652 \\u0627\\u0652\\u0644\\u0651\\u0645\\u064d\\u062d\\u0652\\u0627\\u064f\\u0636\\u0631 \\u0628\\u0627\\u0633\\u062a\\u0639\\u064e\\u0631\\u0627\\u0636\\u0650 \\u0627\\u0644\\u0623\\u0637\\u0631 \\u0627\\u064c\\u0644\\u0639\\u064d\\u0627\\u0645\\u0629\\u0652 \\u0651\\u0627\\u064c\\u0644\\u062a\\u064a\\u0650 \\u0639\\u0645\\u0644\\u062a \\u064d\\u0639\\u0644\\u0649 \\u062a\\u064e\\u0634\\u0643\\u0651\\u064a\\u0652\\u0644\\u064f \\u064b\\u0648\\u0628\\u0644\\u064d\\u0648\\u064f\\u0631\\u0629 \\u0627\\u064f\\u0644\\u0641\\u0643\\u064b\\u0631\\u0652\\u0629 \\u0627\\u064e\\u0644\\u064c\\u062b\\u0642\\u0651\\u0627\\u0641\\u064d\\u064a\\u064b\\u0629\\u064e \\u0641\\u064b\\u064a\\u064f \\u064c\\u0627\\u0644\\u064f\\u0634\\u0627\\u0650\\u0631\\u064b\\u0642\\u0629\\u0652\\u060c\\u0652 \\u0645\\u0646\\u064c \\u0652\\u062e\\u0652\\u0644\\u0627\\u0652\\u0644\\u064d \\u0652\\u0627\\u0644\\u062a\\u064f\\u0639\\u064d\\u0631\\u064b\\u064a\\u0641 \\u0628\\u0652\\u0627\\u0644\\u062a\\u0650\\u062c\\u064b\\u0631\\u064f\\u0628\\u0629\\u0651 \\u064f\\u0648\\u0623\\u0647\\u0645 \\u0645\\u0633\\u0652\\u0627\\u0650\\u0631\\u064d\\u0627\\u062a\\u064b\\u0647\\u064d\\u0627\\u0652\\u060c\\u064f \\u0650\\u0648\\u064b\\u0627\\u0650\\u0644\\u0651\\u0623\\u0637\\u0650\\u0648\\u064c\\u0627\\u0631 \\u0651\\u0627\\u0652\\u0644\\u064d\\u062a\\u064a \\u0650\\u0645\\u064c\\u0631\\u064b\\u062a \\u0628\\u0647\\u0650\\u0627\\u064d\\u060c \\u0628\\u0652\\u062f\\u064e\\u0621\\u0651\\u0627\\u064b\\u064d \\u0628\\u064d\\u0627\\u0644\\u062d\\u062f\\u064a\\u064c\\u062b\\u064b \\u064d\\u0639\\u064b\\u0646 \\u0628\\u064d\\u0646\\u0627\\u0652\\u0621\\u064d \\u0627\\u0644\\u0628\\u064d\\u0646\\u0649\\u0650 \\u0627\\u0651\\u0644\\u0650\\u062a\\u064c\\u062d\\u062a\\u064c\\u064a\\u064c\\u0629\\u0650 \\u064d\\u0644\\u0644\\u0645\\u0624\\u064b\\u0633\\u0633\\u0650\\u0627\\u062a \\u0650\\u0627\\u0644\\u062b\\u064e\\u0642\\u0652\\u0627\\u0641\\u064a\\u064d\\u0629\\u064c \\u064f\\u0648\\u0627\\u064e\\u0644\\u0625\\u0651\\u0639\\u064e\\u0644\\u0627\\u0645\\u0650\\u064a\\u0629\\u0651 \\u064c\\u0627\\u0644\\u062a\\u064a \\u0623\\u064d\\u0633\\u0651\\u0647\\u0645\\u064f\\u062a\\u060c \\u064d\\u0639\\u064f\\u0628\\u0631 \\u0651\\u062a\\u0627\\u0652\\u0631\\u064a\\u062e\\u0647\\u0627\\u0652\\u060c\\u064e \\u0641\\u064c\\u064a\\u0651 \\u0652\\u062a\\u064b\\u0641\\u0639\\u064a\\u0644 \\u0627\\u0651\\u0644\\u0639\\u0650\\u0645\\u064b\\u0644\\u064b \\u0627\\u064e\\u0644\\u062b\\u0650\\u0642\\u064e\\u0627\\u0650\\u0641\\u0651\\u064a \\u0641\\u064f\\u064a \\u0627\\u064d\\u0644\\u0634\\u0627\\u0652\\u0631\\u0642\\u0629\\u060c \\u0627\\u0646\\u0637\\u0644\\u064d\\u0627\\u0642\\u0627\\u064b\\u0651 \\u0645\\u0650\\u0646\\u064b \\u062a\\u0623\\u0633\\u064f\\u064a\\u0633\\u0651 \\u064c\\u062f\\u0627\\u0652\\u0626\\u0631\\u0629\\u064d \\u0652\\u0627\\u0650\\u0644\\u064f\\u062b\\u0642\\u064b\\u0627\\u0641\\u0629 \\u064d\\u0648\\u0627\\u064c\\u0644\\u0625\\u0651\\u0639\\u0644\\u0627\\u0650\\u0645\\u064f\\u060c\\u0651 \\u0648\\u0650\\u062a\\u0644\\u0641\\u0632\\u064a\\u0648\\u064b\\u0646 \\u0627\\u0644\\u064f\\u0634\\u0627\\u064c\\u0631\\u0642\\u0652\\u0629\\u0650 \\u0648\\u0645\\u0627 \\u062a\\u062e\\u064d\\u0644\\u064c\\u0644\\u064f \\u0630\\u0644\\u0643\\u064c \\u064e\\u0645\\u064b\\u0646\\u064f \\u0625\\u064b\\u0628\\u0631\\u0627\\u0632\\u064f \\u0648\\u062a\\u0634\\u062c\\u064c\\u064a\\u064f\\u0639\\u064d \\u064f\\u0644\\u0644\\u062b\\u0642\\u064b\\u0627\\u064c\\u0641\\u0629 \\u0648\\u064b\\u0627\\u064b\\u0644\\u0641\\u0646\\u064e\\u0648\\u064d\\u0646\\u064e \\u0645\\u0646\\u064f \\u064f\\u062e\\u0644\\u0627\\u0644 \\u064b\\u0627\\u064f\\u0644\\u064f\\u0645\\u064d\\u0639\\u064d\\u0627\\u0631\\u0636 \\u0627\\u0644\\u0651\\u0641\\u064f\\u0646\\u064a\\u064b\\u0629\\u064f \\u0648\\u064d\\u0627\\u0644\\u0650\\u0641\\u0639\\u0627\\u064e\\u0644\\u064a\\u0627\\u062a\\u0652 \\u064f\\u0627\\u0652\\u0644\\u064c\\u062b\\u0642\\u064b\\u0627\\u0651\\u0641\\u064b\\u064a\\u0629 \\u064f\\u0627\\u0644\\u062a\\u064f\\u064a \\u0651\\u062a\\u0635\\u0628 \\u064d\\u0641\\u064a \\u0642\\u0627\\u064b\\u0644\\u064b\\u0628\\u0650 \\u0627\\u0644\\u0646\\u064c\\u0647\\u064b\\u0648\\u0636\\u064b \\u0644\\u064b\\u0634\\u0627\\u064b\\u0631\\u064d\\u0642\\u0650\\u0629\\u064d \\u0627\\u0644\\u0652\\u062b\\u0642\\u064f\\u0627\\u0641\\u0652\\u0629\\u064e \\u064d\\u0648\\u0627\\u0644\\u0645\\u064c\\u0639\\u0631\\u0641\\u064e\\u0629\\u064c\\u060c \\u0645\\u064c\\u0627 \\u064a\\u064c\\u062c\\u064b\\u064a\\u0628 \\u0628\\u064b\\u0634\\u0643\\u0644\\u0650 \\u0642\\u064b\\u0637\\u0639\\u0650\\u064a \\u064d\\u0639\\u064c\\u0646\\u064d \\u0627\\u0651\\u0644\\u064e\\u062a\\u064e\\u0633\\u0651\\u0627\\u0624\\u0644 \\u0652\\u0627\\u0644\\u0645\\u0652\\u0631\\u0643\\u0632\\u064b\\u064a\\u0650 \\u0644\\u0645\\u0627\\u0651\\u0630\\u0627\\u0651 \\u064f\\u0627\\u0650\\u0644\\u0634\\u0627\\u0651\\u0631\\u0642\\u0629\\u0651 \\u0639\\u0627\\u064b\\u0635\\u0645\\u0629\\u064f \\u064f\\u0627\\u064d\\u0644\\u064d\\u062b\\u0650\\u0642\\u0627\\u0641\\u064b\\u0629\\u064c \\u0627\\u064d\\u0644\\u0651\\u0625\\u0633\\u064b\\u0644\\u064c\\u0627\\u0645\\u064a\\u0629\\u064e\\u061f \\u064b\\u0648\\u064d\\u0623\\u0650\\u0634\\u0652\\u0627\\u0631 \\u064c\\u0627\\u0644\\u0645\\u062d\\u0627\\u064b\\u0636\\u0651\\u0631\\u064e \\u0652\\u0625\\u064f\\u0644\\u0649 \\u064e\\u0627\\u064d\\u0644\\u064d\\u062d\\u0631\\u0627\\u0643 \\u064d\\u0627\\u0644\\u062b\\u0642\\u0627\\u064e\\u0641\\u064a\\u0650 \\u0650\\u0627\\u0644\\u064b\\u0646\\u064f\\u0634\\u0637\\u0651 \\u0627\\u0644\\u0630\\u064c\\u064a\\u0652 \\u0634\\u0643\\u064b\\u0644\\u064f \\u0652\\u0627\\u0651\\u0644\\u064d\\u0628\\u0650\\u0648\\u0651\\u0627\\u0643\\u064f\\u064a\\u0631 \\u064c\\u0627\\u064d\\u0644\\u064b\\u0623\\u064c\\u0648\\u0644\\u0649\\u064c \\u0651\\u0644\\u0644\\u0651\\u0639\\u0645\\u0651\\u0644 \\u0627\\u0644\\u062b\\u0642\\u0627\\u0641\\u064a \\u0651\\u0641\\u064c\\u064a\\u064b \\u0627\\u0644\\u0652\\u0634\\u0651\\u0627\\u0651\\u0631\\u064f\\u0642\\u0629\\u064c\\u060c\\u0652 \\u0650\\u0627\\u064d\\u0644\\u0630\\u0651\\u064a\\u0651 \\u0634\\u0645\\u064c\\u0644 \\u0643\\u0627\\u0641\\u0629\\u064f \\u064e\\u0627\\u0644\\u064b\\u062c\\u0648\\u0627\\u0646\\u064c\\u0628\\u064c \\u0650\\u0628\\u0645\\u0627\\u064f \\u064b\\u0641\\u0652\\u064a\\u0652\\u0647\\u0627\\u064d \\u0625\\u0646\\u0652\\u0634\\u064c\\u0627\\u0621 \\u0651\\u0627\\u0644\\u0645\\u0631\\u0627\\u0643\\u0652\\u0632 \\u0648\\u0627\\u064e\\u0644\\u0645\\u062f\\u064f\\u0627\\u064d\\u0631\\u0633 \\u064b\\u0648\\u0650\\u0627\\u064c\\u0644\\u0651\\u062c\\u0652\\u0627\\u0645\\u0652\\u0639\\u0651\\u0627\\u062a\\u0652 \\u064f\\u0648\\u0650\\u0627\\u0644\\u0641\\u064f\\u0646\\u0650\\u0648\\u064e\\u0646\\u0652 \\u064b\\u0648\\u064b\\u0627\\u0644\\u0652\\u0645\\u0651\\u0633\\u064e\\u0627\\u0650\\u0631\\u062d \\u064d\\u0644\\u062a\\u0651\\u0639\\u0632\\u064b\\u064a\\u0632 \\u0627\\u0644\\u0641\\u0639\\u0644\\u064b \\u0627\\u0644\\u064b\\u062b\\u064e\\u0642\\u064e\\u0627\\u0651\\u0641\\u064c\\u064a\\u064d \\u0648\\u064c\\u062a\\u0633\\u0631\\u064a\\u064c\\u0639\\u064f \\u0639\\u062c\\u064f\\u0644\\u0629\\u064f \\u0627\\u0644\\u0650\\u0646\\u064e\\u0634\\u0627\\u0637\\u0652 \\u064d\\u0627\\u0644\\u062b\\u0642\\u064c\\u0627\\u0651\\u0641\\u0650\\u064a \\u064b\\u0641\\u064a \\u0627\\u064d\\u0644\\u0651\\u0634\\u0627\\u064b\\u0631\\u0642\\u0629\\u0650\\u060c\\u0651 \\u0643\\u0645\\u064c\\u0627 \\u064d\\u062a\\u0650\\u0645 \\u062a\\u062e\\u0635\\u064a\\u0635\\u064f \\u064f\\u0645\\u064c\\u0633\\u0650\\u0627\\u062d\\u0629 \\u0645\\u064c\\u0639\\u062a\\u064b\\u0628\\u0651\\u0631\\u064f\\u0629\\u064e \\u064b\\u0644\\u0644\\u0637\\u0641\\u0644\\u064f \\u0648\\u062b\\u0642\\u0652\\u0627\\u0652\\u0641\\u064c\\u062a\\u0647\\u064c\\u060c\\u0650 \\u0645\\u0646\\u0651 \\u062e\\u0652\\u0644\\u064f\\u0627\\u0644 \\u0625\\u0646\\u0634\\u064b\\u0627\\u0652\\u0621\\u064e \\u0651\\u0645\\u064f\\u0631\\u064c\\u0627\\u0643\\u0652\\u0632 \\u064c\\u0645\\u064c\\u0643\\u062a\\u0628\\u0652\\u0627\\u064c\\u062a \\u064e\\u0627\\u0644\\u064e\\u0623\\u0650\\u0637\\u064d\\u0641\\u064c\\u0627\\u0644\\u060c \\u0648\\u064d\\u0645\\u064d\\u0631\\u0652\\u0627\\u0643\\u0632 \\u064e\\u0627\\u064c\\u0644\\u0623\\u0637\\u0641\\u064c\\u0627\\u064d\\u0644\\u064d\\u060c \\u062b\\u0645\\u064c \\u0645\\u0652\\u0631\\u064d\\u0627\\u0643\\u0632 \\u064b\\u0627\\u064e\\u0644\\u0652\\u0646\\u0627\\u0634\\u0651\\u0626\\u0629\\u060c \\u0641\\u0645\\u0652\\u062c\\u064f\\u0644\\u0633 \\u064b\\u0623\\u064e\\u0639\\u0644\\u0649\\u064e \\u0652\\u0644\\u064f\\u0644\\u0637\\u0641\\u064e\\u0644\\u0652 \\u0625\\u064e\\u0644\\u0649 \\u064c\\u063a\\u064a\\u0631 \\u0630\\u064b\\u0644\\u0643 \\u0651\\u0645\\u0646 \\u0627\\u0644\\u0633\\u064b\\u064a\\u0627\\u0633\\u064c\\u0627\\u062a \\u064b\\u0627\\u0644\\u0652\\u062a\\u064a\\u064c \\u064e\\u0627\\u0650\\u0639\\u0650\\u062a\\u064b\\u0645\\u064b\\u062f\\u0647\\u0650\\u0627\\u064e \\u064d\\u0635\\u0651\\u0627\\u0652\\u062d\\u0628\\u0650 \\u0652\\u0627\\u0652\\u0644\\u0633\\u064c\\u0645\\u0648\\u064f \\u064b\\u0627\\u064b\\u0644\\u0650\\u0634\\u064f\\u064a\\u064d\\u062e \\u064f\\u0627\\u0644\\u062f\\u064b\\u0643\\u062a\\u0648\\u064f\\u0631 \\u064b\\u0633\\u064d\\u0644\\u064f\\u0637\\u0627\\u0646 \\u0628\\u0646 \\u0645\\u064e\\u062d\\u064c\\u0645\\u062f \\u0627\\u0650\\u0644\\u0642\\u0652\\u0627\\u0633\\u0645\\u064a\\u0652 \\u064e\\u0639\\u064d\\u0636\\u0648\\u064f \\u0627\\u0644\\u0645\\u062c\\u0650\\u0644\\u0633\\u064b \\u064c\\u0627\\u064d\\u0644\\u064b\\u0623\\u0639\\u0651\\u0644\\u0652\\u0649 \\u062d\\u064b\\u0627\\u0643\\u064c\\u0645\\u064e \\u064f\\u0627\\u064e\\u0644\\u0634\\u064e\\u0627\\u0650\\u0631\\u0642\\u064c\\u0629\\u0652 \\u064e\\u0644\\u0644\\u0650\\u0631\\u0642\\u0652\\u064a\\u064e \\u064c\\u0628\\u062b\\u0650\\u0642\\u064c\\u0627\\u064f\\u0641\\u064d\\u0629\\u0652 \\u0627\\u0652\\u0644\\u0637\\u0650\\u0641\\u0644 \\u0648\\u0652\\u062a\\u0646\\u064d\\u0645\\u064a\\u0651\\u0629 \\u0652\\u0645\\u064c\\u062f\\u064f\\u0627\\u064e\\u0631\\u064c\\u0643\\u0652\\u0647\\u0652 \\u0648\\u064d\\u0642\\u064e\\u062f\\u0631\\u0652\\u0627\\u0651\\u062a\\u064d\\u0647\\u064b \\u0650. \\u0648\\u064b\\u0630\\u0647\\u064d\\u0628\\u064b \\u0627\\u064c\\u0644\\u0645\\u0650\\u062d\\u0651\\u0627\\u0650\\u0636\\u064b\\u0631 \\u0625\\u064d\\u0644\\u0650\\u0649\\u0650 \\u064f\\u0623\\u0646\\u064e \\u064f\\u0627\\u0644\\u0652\\u0633\\u064c\\u064a\\u0651\\u0627\\u0633\\u0650\\u0627\\u062a\\u064d \\u0627\\u0644\\u062b\\u0652\\u0642\\u0627\\u0641\\u064a\\u0629\\u064b \\u0648\\u0627\\u0644\\u062a\\u064d\\u0648\\u062c\\u064c\\u064a\\u064b\\u0647\\u0627\\u062a\\u0650 \\u0650\\u0627\\u064b\\u0644\\u064d\\u0646\\u064e\\u064a\\u0651\\u0631\\u0629\\u064c \\u0644\\u064e\\u0635\\u064c\\u0627\\u062d\\u0650\\u0628\\u064c \\u0627\\u0644\\u0633\\u0645\\u0648 \\u064d\\u062d\\u0627\\u064c\\u0643\\u0652\\u0645\\u064b \\u0627\\u064d\\u0644\\u0634\\u064c\\u0627\\u0631\\u064f\\u0642\\u0629 \\u064b\\u062c\\u064c\\u0639\\u0644\\u0650\\u062a\\u064f \\u0650\\u0645\\u064e\\u0646 \\u0627\\u0651\\u0644\\u0639\\u064d\\u0645\\u064c\\u0644\\u064e \\u0627\\u0644\\u064d\\u062b\\u064b\\u0642\\u0627\\u064d\\u0641\\u064f\\u064a\\u0652 \\u0641\\u064a\\u064e \\u0627\\u0652\\u0644\\u064d\\u0634\\u0627\\u0631\\u064f\\u0642\\u0651\\u0629\\u064c \\u0639\\u0645\\u0644\\u0627\\u064b\\u0650 \\u0646\\u064e\\u0634\\u064d\\u0637\\u0651\\u0627\\u064b \\u0648\\u0651\\u0642\\u0651\\u0648\\u0651\\u064a\\u0652\\u0627\\u064b\\u064c \\u064e\\u0633\\u0648\\u064f\\u0627\\u0621 \\u064f\\u0645\\u064d\\u0646 \\u0652\\u062e\\u0652\\u0644\\u0650\\u0627\\u0644 \\u062a\\u064d\\u0648\\u064e\\u062c\\u0650\\u064a\\u0647\\u0627\\u064c\\u062a\\u064c \\u0650\\u0633\\u064e\\u0645\\u0651\\u0648\\u0647 \\u064c\\u0644\\u064e\\u0644\\u0627\\u0652\\u0631\\u062a\\u064d\\u0642\\u0651\\u0627\\u0621 \\u064c\\u0628\\u0627\\u0651\\u0644\\u064f\\u0641\\u0646\\u064f \\u0627\\u064d\\u0644\\u064d\\u062a\\u0634\\u064f\\u0643\\u064a\\u064e\\u0644\\u064e\\u064a\\u0652 \\u0648\\u064b\\u062a\\u0634\\u064f\\u062c\\u064d\\u064a\\u0639 \\u064b\\u0627\\u0652\\u0644\\u0641\\u0646\\u0627\\u0650\\u0646\\u064a\\u0646\\u060c\\u064c \\u0648\\u064f\\u0627\\u0642\\u062a\\u0646\\u064d\\u0627\\u0621\\u064c \\u0652\\u0623\\u064c\\u0639\\u064e\\u0645\\u064e\\u0627\\u0644 \\u0641\\u064b\\u0646\\u0651\\u064a\\u064e\\u0629\\u064e \\u0644\\u0645\\u0635\\u0650\\u0644\\u0652\\u062d\\u064d\\u0629\\u064f \\u064f\\u0645\\u062a\\u064b\\u062d\\u064d\\u0641\\u0651 \\u0627\\u0644\\u064b\\u0634\\u0627\\u0631\\u0651\\u0642\\u0629\\u060c \\u0648\\u064f\\u0625\\u064c\\u0646\\u062c\\u0627\\u0632 \\u064e\\u0642\\u0652\\u0627\\u0639\\u0629 \\u064e\\u062e\\u064f\\u0627\\u0651\\u0635\\u0629\\u0652 \\u064f\\u0628\\u0627\\u064f\\u0644\\u0622\\u062b\\u0650\\u0627\\u0651\\u0631 \\u0627\\u064b\\u0644\\u0625\\u0633\\u064d\\u0644\\u064c\\u0627\\u064d\\u0645\\u0651\\u064a\\u0629\\u064b \\u064f\\u0641\\u064e\\u064a \\u0645\\u062a\\u062d\\u0641 \\u0627\\u0652\\u0644\\u064d\\u0634\\u0627\\u0651\\u0631\\u0642\\u064e\\u0629\\u060c\\u064c \\u064d\\u0623\\u064b\\u0645\\u064e \\u0645\\u064f\\u0646 \\u062e\\u064c\\u0644\\u0627\\u0651\\u0644 \\u0650\\u0627\\u0633\\u064b\\u062a\\u0643\\u0645\\u0651\\u0627\\u064d\\u0644 \\u0627\\u0652\\u0644\\u0645\\u0652\\u0634\\u0652\\u0631\\u0648\\u0639\\u0627\\u064d\\u062a\\u064c \\u0627\\u0644\\u062b\\u0652\\u0642\\u0651\\u0627\\u0652\\u0641\\u064a\\u0629\\u064c \\u0648\\u064e\\u062a\\u0631\\u0645\\u064a\\u0645 \\u0627\\u0651\\u0644\\u0645\\u0628\\u0627\\u0646\\u064c\\u064a\\u064f \\u0627\\u0644\\u064d\\u062a\\u0650\\u0631\\u0627\\u0650\\u062b\\u064a\\u0650\\u0629 \\u0652\\u0648\\u063a\\u064a\\u0631\\u0647\\u064b\\u0627\\u064f \\u0645\\u064f\\u0646 \\u0627\\u064e\\u0644\\u0651\\u0623\\u0639\\u0651\\u0645\\u0627\\u0644 \\u064c\\u0648\\u0650\\u0627\\u0644\\u0623\\u064f\\u0646\\u0634\\u064e\\u0637\\u0629 \\u0652\\u0627\\u0644\\u062a\\u064a \\u062a\\u0635\\u0628 \\u0641\\u064a\\u064d \\u064e\\u0635\\u0645\\u064e\\u064a\\u0651\\u0645\\u0651 \\u064b\\u0627\\u0644\\u0650\\u0641\\u0639\\u0651\\u0644\\u064d \\u0627\\u064f\\u0644\\u064e\\u062b\\u064c\\u0642\\u0627\\u064b\\u0641\\u0651\\u064a .\\u0648\\u0623\\u0652\\u0643\\u064e\\u062f\\u064d \\u0627\\u0652\\u0644\\u0650\\u0645\\u0650\\u062d\\u0650\\u0627\\u064c\\u0636\\u0631 \\u0623\\u064d\\u0646 \\u0627\\u064c\\u0644\\u064e\\u062f\\u064e\\u0648\\u0652\\u0631\\u0629\\u0652 \\u064b\\u0627\\u0652\\u0644\\u064c\\u0623\\u064c\\u0648\\u064c\\u0644\\u064f\\u0649\\u0651 \\u0644\\u0645\\u064e\\u0639\\u0631\\u064d\\u0636\\u064d \\u0627\\u0644\\u0650\\u0643\\u0650\\u062a\\u0651\\u0627\\u0628\\u060c \\u0627\\u0644\\u0630\\u064d\\u064a \\u0623\\u0635\\u0651\\u0628\\u062d \\u0627\\u0651\\u0644\\u0652\\u064a\\u064f\\u0648\\u064c\\u0645\\u0651 \\u0648\\u062c\\u064b\\u0647\\u0629 \\u0639\\u0627\\u064b\\u0644\\u0651\\u0645\\u064a\\u0650\\u0629 \\u0644\\u0651\\u0644\\u0643\\u062a\\u0627\\u064d\\u0628\\u064e \\u064c\\u0648\\u0627\\u0644\\u0650\\u0645\\u0641\\u064e\\u0643\\u064b\\u0631\\u064a\\u0650\\u0646 \\u064e\\u0645\\u0650\\u0646\\u0650 \\u0623\\u0650\\u0646\\u064d\\u062d\\u064d\\u0627\\u064d\\u0621\\u064c \\u0627\\u064e\\u0644\\u0650\\u0639\\u0651\\u0627\\u0651\\u0644\\u0645\\u0652 \\u0638\\u0652\\u0644\\u0627\\u0644\\u0647\\u064c \\u0627\\u0644\\u0650\\u0648\\u0627\\u0631\\u064f\\u0641\\u0629\\u064e\\u060c\\u064f \\u0634\\u064d\\u0643\\u064d\\u0644\\u062a\\u0650 \\u064d\\u0646\\u064f\\u0642\\u064b\\u0637\\u0629 \\u064f\\u0627\\u064f\\u0646\\u064c\\u0637\\u0644\\u064e\\u0627\\u0652\\u0642 \\u064f\\u0648\\u062a\\u062d\\u0648\\u0650\\u0651\\u064d\\u0644 \\u0641\\u0652\\u064a\\u064d \\u0627\\u064e\\u0644\\u0645\\u0634\\u0652\\u0631\\u0652\\u0648\\u0639 \\u0652\\u0627\\u0644\\u0651\\u062b\\u0642\\u0652\\u0627\\u0652\\u0641\\u064d\\u064a\\u064f \\u0652\\u0644\\u064d\\u0635\\u0627\\u062d\\u0628 \\u064c\\u0627\\u064d\\u0644\\u064e\\u0633\\u0651\\u0645\\u0650\\u0648\\u064d \\u0650\\u062d\\u064d\\u0627\\u0643\\u0645\\u064f \\u0627\\u0652\\u0644\\u0634\\u0652\\u0627\\u064b\\u0631\\u0642\\u0651\\u0629\\u060c\\u0652 \\u0643\\u0652\\u0645\\u064b\\u0627\\u064e \\u064c\\u062a\\u0632\\u064f\\u0627\\u064d\\u0645\\u0646 \\u064c\\u0645\\u064c\\u0639\\u0651 \\u064e\\u0647\\u0650\\u0630\\u0647 \\u0627\\u0644\\u062f\\u0648\\u0631\\u0651\\u0629 \\u0627\\u064b\\u0641\\u0652\\u062a\\u062a\\u0627\\u062d \\u0645\\u064f\\u0643\\u064b\\u062a\\u0628\\u0652\\u0629\\u064e \\u0627\\u0644\\u064b\\u0645\\u064f\\u062d\\u0650\\u0645\\u0651\\u0648\\u062f\\u064e \\u0652(\\u0651\\u0627\\u0644\\u0652\\u0623\\u064b\\u0647\\u064f\\u0644\\u0650\\u064a\\u0629\\u0652)\\u0652\\u060c\\u0652 \\u0651\\u062b\\u064c\\u0645 \\u064b\\u0627\\u0644\\u0650\\u0645\\u0651\\u0631\\u064f\\u0643\\u0652\\u0632\\u0651 \\u064e\\u0627\\u0652\\u0644\\u064c\\u062b\\u0651\\u0642\\u0627\\u0641\\u0652\\u064a\\u064d \\u064f\\u0641\\u064a\\u0645\\u0627\\u0652 \\u0628\\u0639\\u062f\\u064d .\\u0652\\u0648\\u0651\\u0627\\u064c\\u0639\\u062a\\u0628\\u064d\\u0631 \\u0627\\u064d\\u0644\\u064c\\u0645\\u062d\\u064e\\u0627\\u064b\\u0636\\u0651\\u0631 \\u064b\\u0623\\u0646 \\u064b\\u062d\\u064b\\u0632\\u0645\\u0629 \\u0652\\u0627\\u0652\\u0644\\u064c\\u0645\\u064d\\u0647\\u064d\\u0631\\u062c\\u064d\\u0627\\u064d\\u0646\\u0627\\u0651\\u062a \\u0652\\u0648\\u0651\\u0627\\u0644\\u064f\\u0641\\u064b\\u0639\\u0650\\u0627\\u0644\\u064a\\u0650\\u0627\\u0651\\u062a\\u064b \\u0627\\u0644\\u0652\\u062a\\u064a\\u0650 \\u062a\\u0642\\u0652\\u0627\\u0650\\u0645 \\u0652\\u0639\\u0644\\u0651\\u0649 \\u0645\\u062f\\u0627\\u064c\\u0631\\u0650 \\u0627\\u064e\\u0644\\u0639\\u0627\\u0645\\u0650 \\u0650\\u0641\\u064a \\u064c\\u0627\\u0644\\u064e\\u0634\\u0627\\u064d\\u0631\\u0642\\u0629\\u064f\\u060c\\u0652 \\u0651\\u0648\\u0645\\u0627 \\u064a\\u0651\\u062a\\u064c\\u062e\\u0644\\u0650\\u0644\\u0647\\u064f\\u0627\\u0651 \\u0645\\u0646 \\u0623\\u0646\\u0634\\u0637\\u064c\\u0629\\u064d \\u062b\\u0642\\u064d\\u0627\\u0641\\u0652\\u064a\\u0629\\u064f \\u064c\\u0645\\u0651\\u062a\\u064f\\u0646\\u0648\\u064d\\u0639\\u0652\\u0629 \\u064d\\u062a\\u064c\\u0634\\u064b\\u0643\\u0652\\u0644\\u064f \\u064f\\u0623\\u064d\\u0648\\u062c\\u064c \\u0650\\u0627\\u064f\\u0644\\u062d\\u0631\\u064d\\u0627\\u0652\\u0643\\u0651 \\u064f\\u0627\\u064e\\u0644\\u062b\\u0642\\u0627\\u0641\\u064b\\u064a\\u064f\\u060c\\u064d \\u0648\\u0631\\u0627\\u0651\\u0641\\u0652\\u062f\\u0652\\u0627\\u064f\\u064b\\u0651 \\u0623\\u0633\\u0627\\u064d\\u0633\\u064d\\u064a\\u064e\\u0627\\u064c\\u064b \\u0644\\u0644\\u064c\\u062a\\u0641\\u0652\\u0627\\u0639\\u0644\\u0651 \\u0651\\u0648\\u0652\\u0627\\u0644\\u0652\\u062a\\u0646\\u0627\\u0650\\u063a\\u0645 \\u0627\\u0644\\u064b\\u062b\\u0650\\u0642\\u0627\\u064b\\u0641\\u064c\\u064a \\u064d\\u0641\\u064a\\u0651 \\u0625\\u0645\\u0627\\u0631\\u0652\\u0629\\u0652 \\u062a\\u0632\\u064c\\u062f\\u0651\\u0627\\u064c\\u0646 \\u0648\\u062a\\u0652\\u0632\\u062f\\u064d\\u0647\\u0651\\u064a\\u0650 \\u0643\\u0644 \\u064e\\u062d\\u064e\\u064a\\u064e\\u0646 \\u0628\\u0651\\u0644\\u0650\\u0641\\u064f\\u062a\\u064c\\u0629\\u064b \\u0643\\u064d\\u0631\\u064a\\u0645\\u0629\\u0651 \\u0648\\u064d\\u0633\\u064c\\u0627\\u064e\\u0646\\u062d\\u0629 \\u064e\\u0637\\u064a\\u064e\\u0628\\u0629 \\u0645\\u0650\\u0646 \\u0652\\u062d\\u0627\\u064e\\u0643\\u064b\\u0645 \\u0645\\u062b\\u0642\\u0641\\u0652\\u060c \\u064a\\u064e\\u062d\\u064b\\u0645\\u064d\\u0644\\u0652 \\u0639\\u0644\\u0649 \\u0639\\u064d\\u0627\\u064b\\u062a\\u064f\\u0642\\u0647 \\u064b\\u0627\\u064e\\u0644\\u064e\\u0646\\u0651\\u0647\\u064f\\u0648\\u064d\\u0636 \\u064f\\u0628\\u0652\\u0627\\u064c\\u0644\\u062b\\u064d\\u0642\\u064f\\u0627\\u064c\\u0641\\u064b\\u0629\\u064c \\u0648\\u064f\\u0627\\u064c\\u0644\\u064b\\u0645\\u064e\\u0639\\u064b\\u0631\\u0650\\u0641\\u0629 \\u064b.\\u0648\\u062e\\u0651\\u0644\\u0650\\u0635 \\u064f\\u0627\\u0650\\u0644\\u0650\\u0645\\u062d\\u064b\\u0627\\u0636\\u0631 \\u0625\\u064e\\u0644\\u0651\\u0649\\u0652 \\u0623\\u064b\\u0646 \\u064c\\u062b\\u064e\\u0645\\u0629\\u0651 \\u064b\\u062b\\u0644\\u0627\\u064e\\u062b\\u064c \\u0646\\u0642\\u0651\\u0627\\u0637 \\u064e\\u0644\\u064b\\u0644\\u0650\\u0627\\u064b\\u0631\\u064c\\u062a\\u0642\\u0650\\u0627\\u0621\\u064b \\u064e\\u0628\\u064d\\u0627\\u064d\\u0644\\u0641\\u0643\\u0652\\u0631\\u0629 \\u064d\\u0627\\u064d\\u0644\\u062b\\u0642\\u0651\\u0627\\u0641\\u064d\\u064a\\u064d\\u0629\\u0650 \\u0641\\u064e\\u064a\\u064d \\u064f\\u0627\\u0644\\u064c\\u0634\\u064d\\u0627\\u0631\\u0652\\u0642\\u0629 \\u0623\\u064d\\u0648\\u0644\\u0650\\u0647\\u0627 \\u064d\\u062a\\u0652\\u0623\\u064b\\u0633\\u064e\\u064a\\u0633 \\u0650\\u062f\\u0652\\u0627\\u0652\\u0626\\u0650\\u0631\\u0652\\u0629\\u064e \\u064e\\u0627\\u0644\\u062b\\u0642\\u0651\\u0627\\u0641\\u0629 \\u0648\\u064e\\u0627\\u0650\\u0644\\u064e\\u0625\\u0639\\u0650\\u0644\\u0627\\u0645\\u0651\\u060c \\u064c\\u0648\\u0650\\u062b\\u0652\\u0627\\u0646\\u064a\\u0647\\u0651\\u0627\\u064c \\u0627\\u062c\\u062a\\u0651\\u0645\\u064d\\u0627\\u064d\\u0639 \\u064e\\u0635\\u0627\\u062d\\u0650\\u0628\\u0650 \\u0627\\u0651\\u0644\\u0651\\u0633\\u0651\\u0645\\u0648\\u064d \\u0650\\u062d\\u0627\\u064f\\u0643\\u064b\\u0645 \\u0627\\u0644\\u064f\\u0634\\u0652\\u0627\\u064b\\u0631\\u0642\\u064d\\u0629\\u0651 \\u064c\\u0628\\u0643\\u064f\\u0648\\u0650\\u0627\\u062f\\u064c\\u0631 \\u0627\\u0644\\u064b\\u062f\\u064b\\u0627\\u0650\\u0626\\u0631\\u064b\\u0629 \\u064c\\u0648\\u0642\\u0651\\u062f\\u064f\\u0651\\u0645 \\u0641\\u0651\\u064a\\u0647\\u064f \\u0645\\u062c\\u0650\\u0645\\u064b\\u0648\\u064d\\u0639\\u0651\\u0629\\u064d \\u0645\\u064f\\u0646 \\u0652\\u0627\\u064e\\u0644\\u0633\\u064a\\u0651\\u0627\\u0651\\u0633\\u0627\\u062a \\u0651\\u0627\\u0644\\u062b\\u0642\\u064c\\u0627\\u064b\\u0641\\u064a\\u064e\\u0629 \\u0648\\u064c\\u0627\\u0644\\u062e\\u0651\\u0637\\u0637\\u064b \\u0627\\u0644\\u064d\\u062a\\u0646\\u0645\\u064e\\u0648\\u064a\\u0650\\u0629 \\u0651\\u0648\\u062f\\u0652\\u0639\\u0627 \\u064c\\u0633\\u0650\\u0645\\u064b\\u0648\\u064c\\u0647 \\u064c\\u0625\\u0650\\u0644\\u064f\\u0649: \\u0627\\u0644\\u0627\\u0647\\u0651\\u062a\\u064f\\u0645\\u0627\\u064f\\u0645 \\u0628\\u064b\\u0627\\u0650\\u0644\\u064f\\u0645\\u0652\\u0633\\u0631\\u062d\\u060c\\u0652 \\u0648\\u064b\\u0627\\u0651\\u0644\\u0623\\u0637\\u064c\\u0631\\u0650 \\u0627\\u064d\\u0644\\u0651\\u0639\\u0627\\u064b\\u0645\\u0629 \\u064e\\u0644\\u0644\\u0650\\u062b\\u064e\\u0642\\u0627\\u064d\\u0641\\u0629\\u064d\\u060c\\u0651 \\u0651\\u0627\\u064c\\u0644\\u0650\\u0627\\u0631\\u064f\\u062a\\u0642\\u0627\\u064f\\u0621\\u064c \\u0628\\u064d\\u0627\\u0650\\u0644\\u0639\\u0645\\u0651\\u0644\\u064e \\u0627\\u0644\\u0651\\u062a\\u064d\\u0634\\u0643\\u0651\\u064a\\u0644\\u064a\\u0650\\u060c \\u0627\\u0651\\u0644\\u0627\\u064f\\u0647\\u064f\\u062a\\u0645\\u064d\\u0627\\u0645 \\u0650\\u0628\\u0650\\u0627\\u0651\\u0644\\u064b\\u0648\\u0639\\u0651\\u064a \\u064b\\u0648\\u0650\\u0627\\u0652\\u0644\\u064f\\u0630\\u0627\\u0626\\u0650\\u0642\\u0651\\u0629\\u064c \\u0627\\u0651\\u0644\\u062c\\u0650\\u0645\\u064d\\u0627\\u0652\\u0644\\u0652\\u064a\\u0652\\u0629\\u064f\\u060c \\u0627\\u064d\\u0644\\u0650\\u0627\\u0647\\u064f\\u062a\\u0645\\u0627\\u0651\\u0645\\u0652 \\u064f\\u0628\\u064d\\u0627\\u0644\\u0637\\u0641\\u0644\\u0651\\u060c \\u0651\\u062a\\u0637\\u0648\\u064a\\u0631\\u064b \\u0634\\u0628\\u0643\\u0629\\u0652 \\u0627\\u0644\\u0645\\u0643\\u062a\\u064b\\u0628\\u0627\\u062a\\u060c\\u0652 \\u064e\\u0627\\u0633\\u062a\\u0643\\u064f\\u0645\\u064d\\u0627\\u0644\\u064d \\u0639\\u064b\\u0645\\u064b\\u0644\\u0652\\u064a\\u0627\\u062a \\u064c\\u0627\\u0644\\u064f\\u062a\\u0631\\u0645\\u064a\\u0645\\u0650\\u060c \\u064b\\u0627\\u0644\\u064d\\u0627\\u0647\\u064b\\u062a\\u064c\\u0645\\u0652\\u0627\\u0650\\u0645\\u064d \\u0650\\u0628\\u062b\\u064e\\u0642\\u0652\\u0627\\u064b\\u0641\\u064e\\u0629\\u064d \\u0650\\u0627\\u064d\\u0644\\u0645\\u0650\\u0631\\u064b\\u0623\\u064b\\u0629 \\u0650\\u0648\\u064b\\u0627\\u064f\\u0644\\u064d\\u0637\\u0641\\u0652\\u0644 .\\u0652 \\u064c.\\u064d)\\u064f \\u064b\\u0648\\u062b\\u064b\\u0627\\u064d\\u0644\\u0651\\u062b\\u064b\\u0647\\u064e\\u0627\\u064f \\u064b\\u0625\\u0650\\u0639\\u0650\\u0644\\u0651\\u0627\\u064b\\u0646\\u064f \\u0627\\u0644\\u0634\\u0627\\u0631\\u0642\\u0629\\u064f \\u0651\\u0639\\u0627\\u064d\\u0635\\u064e\\u0645\\u0629\\u064c \\u0644\\u0644\\u064b\\u062b\\u0642\\u064b\\u0627\\u0641\\u0629 \\u064b\\u0627\\u0652\\u0644\\u064e\\u0639\\u0651\\u0631\\u0628\\u064a\\u0629\\u064f \\u064b\\u0641\\u064a\\u064b \\u0639\\u0627\\u0645 19\\u06529\\u064d8 \\u064e\\u0644\\u0645\\u0627 \\u062a\\u062a\\u0645\\u064b\\u064a\\u0632\\u064f \\u0628\\u064f\\u0647\\u064e \\u064e\\u0645\\u064b\\u0646\\u064b \\u064b\\u0646\\u064e\\u0634\\u0650\\u0627\\u0637 \\u0651\\u0648\\u064f\\u062d\\u064b\\u0631\\u0627\\u0643\\u064d \\u064f\\u062b\\u0642\\u0627\\u0641\\u064a\\u0650 \\u0645\\u0652\\u0645\\u064c\\u064a\\u0632\\u064d\\u060c\\u064e \\u064b\\u0641\\u0636\\u0644\\u0627\\u064b\\u064e \\u064f\\u0639\\u0650\\u0646 \\u062f\\u0648\\u0631\\u064b \\u064c\\u0627\\u0644\\u064d\\u062c\\u064f\\u0648\\u0627\\u0652\\u0626\\u064f\\u0632\\u0651 \\u0648\\u0635\\u0650\\u0646\\u064f\\u0627\\u062f\\u0651\\u064a\\u064b\\u0642 \\u064f\\u0627\\u064b\\u0644\\u062f\\u064d\\u0639\\u064c\\u0645\\u060c \\u064d\\u0648\\u0627\\u064f\\u0644\\u062f\\u0628\\u0652\\u0644\\u064b\\u0648\\u0645\\u0627\\u0633\\u064d\\u064a\\u0629 \\u064f\\u0627\\u0650\\u0644\\u064b\\u062b\\u0652\\u0642\\u0627\\u0641\\u0651\\u064a\\u0629\\u060c\\u064e \\u0648\\u0639\\u0650\\u062f\\u062f \\u0648\\u0652\\u0646\\u064c\\u0648\\u0639 \\u064b\\u0627\\u064b\\u0644\\u064c\\u062c\\u064b\\u0627\\u0645\\u0639\\u0650\\u0627\\u064c\\u062a \\u0648\\u0627\\u0644\\u064e\\u0645\\u0650\\u0631\\u0627\\u0652\\u0643\\u0632\\u060c \\u064f\\u0648\\u0627\\u064b\\u0644\\u0625\\u064f\\u062d\\u0635\\u064c\\u0627\\u0650\\u0621\\u064e \\u0627\\u0651\\u0644\\u0627\\u064b\\u062c\\u064f\\u062a\\u0645\\u0627\\u0650\\u0639\\u0650\\u064a\\u0651 \\u064b\\u0641\\u0651\\u064a \\u0628\\u0644\\u0648\\u064e\\u0631\\u0629\\u064f \\u064b\\u0648\\u064c\\u062a\\u064b\\u0631\\u0633\\u0652\\u064a\\u062e \\u064c\\u0645\\u064d\\u0643\\u064e\\u0627\\u0646\\u0629 \\u064b\\u0627\\u0644\\u0651\\u0634\\u0627\\u0651\\u0631\\u064e\\u0642\\u0629 \\u064d\\u0639\\u0627\\u0635\\u0645\\u0629\\u064f \\u0651\\u0644\\u064c\\u0644\\u0651\\u062b\\u064d\\u0642\\u0627\\u064d\\u0641\\u0629\\u064e \\u064c\\u0627\\u064c\\u0644\\u0652\\u0639\\u0650\\u0631\\u0628\\u064a\\u064c\\u0629 \\u0650\\u0648\\u0652\\u0627\\u0644\\u0625\\u064d\\u0633\\u0644\\u0627\\u0651\\u0645\\u064a\\u0652\\u0629\\u060c \\u0648\\u0643\\u064f\\u0644 \\u0651\\u0630\\u0652\\u0644\\u064b\\u0643 \\u064b\\u0628\\u062c\\u0647\\u062f \\u0651\\u0635\\u0651\\u0627\\u062d\\u0628\\u064d \\u0650\\u0627\\u0644\\u064d\\u0633\\u064e\\u0645\\u0648\\u0650 \\u064b\\u062d\\u0650\\u0627\\u064c\\u0643\\u064f\\u0645 \\u064d\\u0627\\u0644\\u0634\\u0627\\u0631\\u064c\\u0642\\u0629 \\u0627\\u064e\\u0644\\u0650\\u0630\\u064a\\u064b \\u064e\\u0639\\u0645\\u064f\\u0644 \\u0651\\u0648\\u064d\\u0644\\u0627 \\u064a\\u0632\\u064f\\u0627\\u064e\\u0644 \\u0628\\u0634\\u063a\\u0641\\u0652 \\u0648\\u062d\\u0628\\u064f \\u0639\\u064f\\u0644\\u0649\\u0652 \\u062a\\u064c\\u0639\\u0632\\u064b\\u064a\\u064b\\u0632\\u064e \\u064c\\u0627\\u064f\\u0644\\u064e\\u062a\\u0646\\u064b\\u0645\\u0651\\u064a\\u064d\\u0629\\u064c \\u0627\\u064e\\u0644\\u064b\\u062b\\u0642\\u064e\\u0627\\u064d\\u0641\\u064c\\u064a\\u0629 \\u064e\\u0641\\u0650\\u064a\\u064f \\u0627\\u0652\\u0644\\u064e\\u0634\\u0627\\u0631\\u064e\\u0642\\u064d\\u0629\\u064e \\u0645\\u0646\\u0650 \\u062e\\u064b\\u0644\\u0650\\u0627\\u0650\\u0644\\u0651 \\u0651\\u0633\\u064e\\u0646\\u0651 \\u0648\\u0625\\u0642\\u064b\\u0631\\u0651\\u0627\\u0631 \\u0645\\u062c\\u0645\\u0648\\u064c\\u0639\\u064e\\u0629\\u064e \\u0645\\u064f\\u0646\\u0651 \\u0627\\u064b\\u0644\\u0645\\u064d\\u0634\\u0650\\u0631\\u0648\\u0639\\u064f\\u0627\\u064f\\u062a\\u0652 \\u0627\\u0644\\u0651\\u062b\\u0650\\u0642\\u0627\\u0652\\u0641\\u0650\\u064a\\u0629\\u064c \\u0650\\u0627\\u0644\\u062a\\u064d\\u064a \\u064e\\u062a\\u064c\\u0647\\u064e\\u062f\\u064d\\u0641\\u064e \\u0625\\u064e\\u0644\\u0650\\u0649 \\u0652\\u062a\\u062d\\u0642\\u064a\\u0642 \\u0630\\u0644\\u0643\\u064d\\u060c\\u064b \\u0650\\u062d\\u062a\\u0650\\u0649 \\u0652\\u0623\\u064e\\u0635\\u0628\\u062d\\u062a\\u0651 \\u064c\\u0627\\u064e\\u0644\\u0634\\u0627\\u064c\\u0631\\u064c\\u0642\\u064b\\u0629\\u0652 \\u0627\\u0644\\u0651\\u064a\\u0648\\u064c\\u0645 \\u0651\\u0648\\u064f\\u062c\\u0647\\u064b\\u0629\\u064e \\u064a\\u0624\\u064f\\u0645\\u064e\\u0647\\u064c\\u0627 \\u0652\\u0627\\u0644\\u064e\\u0645\\u0641\\u064e\\u0643\\u0631\\u0651\\u0648\\u0651\\u0646 \\u0648\\u0650\\u0627\\u0644\\u0645\\u0651\\u062b\\u0642\\u0650\\u0641\\u0651\\u0648\\u0646 \\u0648\\u0627\\u0644\\u0645\\u064f\\u0628\\u064c\\u062f\\u0639\\u064c\\u0648\\u0650\\u0646 \\u0652\\u0648\\u0652\\u0627\\u0651\\u0644\\u064c\\u0643\\u062a\\u064c\\u0627\\u0628\\u0650 \\u064c\\u0645\\u0650\\u0646\\u064f \\u0634\\u062a\\u0650\\u0649\\u064e \\u0623\\u064f\\u0646\\u064d\\u062d\\u0627\\u0621 \\u0627\\u064d\\u0644\\u0652\\u0639\\u0627\\u0644\\u064f\\u0645\\u060c\\u0650 \\u064e\\u0634\\u064b\\u0627\\u0652\\u0645\\u062e\\u0651\\u0629\\u064e \\u0631\\u0627\\u0633\\u062e\\u064b\\u0629 \\u064c\\u0628\\u064c\\u0639\\u0651\\u0637\\u064c\\u0627\\u0626\\u064f\\u0647\\u0650\\u0627 \\u064e\\u0648\\u062a\\u064b\\u0642\\u0650\\u062f\\u0645\\u0647\\u064d\\u0627 \\u0650.\\u064f\"\n        ],\n        \"semantic_type\": \"\",\n        \"description\": \"\"\n      }\n    },\n    {\n      \"column\": \"label\",\n      \"properties\": {\n        \"dtype\": \"category\",\n        \"num_unique_values\": 7,\n        \"samples\": [\n          \"Culture\",\n          \"Finance\",\n          \"Sports\"\n        ],\n        \"semantic_type\": \"\",\n        \"description\": \"\"\n      }\n    }\n  ]\n}"
            }
          },
          "metadata": {},
          "execution_count": 37
        }
      ]
    },
    {
      "cell_type": "markdown",
      "metadata": {
        "id": "kVc0b_9fQGeH"
      },
      "source": [
        "# Data Exploration"
      ]
    },
    {
      "cell_type": "markdown",
      "metadata": {
        "id": "a98DaVUvQsi8"
      },
      "source": [
        "Before diving into preprocessing and model building, it’s important to first explore the dataset to understand its structure, distribution, and key characteristics. This step will help you gain insights into the data and guide your decisions in subsequent steps. Here’s what to consider:\n",
        "\n",
        "1. **Inspect the Data**:\n",
        "   Start by looking at the first few rows of the dataset to get a sense of its structure. Check the columns, data types, and a few sample entries. This helps to ensure that the data is loaded correctly and gives you an initial overview of the content.\n",
        "\n",
        "2. **Check for Missing Values**:\n",
        "   Identify if there are any missing values in the dataset.\n",
        "\n",
        "3. **Distribution of Labels**:\n",
        "   Examine the distribution of the target labels (classes).\n",
        "\n",
        "4. **Text Data Characteristics (Bonus)**:\n",
        "   Analyze the length of the text data. It is useful to calculate the number of words or characters in each text sample to understand how long the texts are. This will help you set a suitable `max_length` for tokenization and padding later. You can plot a histogram of text lengths to visualize the distribution.\n",
        "\n",
        "5. **Common Words and Vocabulary (Bonus)**:\n",
        "   Explore the most frequent words in the text data."
      ]
    },
    {
      "cell_type": "code",
      "source": [
        "df.sample(5)"
      ],
      "metadata": {
        "id": "WTKUGFz70G2B",
        "colab": {
          "base_uri": "https://localhost:8080/",
          "height": 206
        },
        "outputId": "94e3e095-ada6-405d-febc-040491dac2ff"
      },
      "execution_count": 38,
      "outputs": [
        {
          "output_type": "execute_result",
          "data": {
            "text/plain": [
              "                                                    text    label\n",
              "5618   https://example.com/resource/بْدٍأت ْفيَ ٌاْلُ...  Culture\n",
              "29179  https://example.com/resource/اَستّعدْ َرٍوًمُا...   Sports\n",
              "33953  https://example.com/resource/يتحّدثَ اّلَكثًير...     Tech\n",
              "36565  https://example.com/resource/أُعلُنت شرِكُة مو...     Tech\n",
              "30649  https://example.com/resource/كَاٍن ُطرَيق باُي...   Sports"
            ],
            "text/html": [
              "\n",
              "  <div id=\"df-5903df93-2cc7-431b-92d3-5e8cc0793a11\" class=\"colab-df-container\">\n",
              "    <div>\n",
              "<style scoped>\n",
              "    .dataframe tbody tr th:only-of-type {\n",
              "        vertical-align: middle;\n",
              "    }\n",
              "\n",
              "    .dataframe tbody tr th {\n",
              "        vertical-align: top;\n",
              "    }\n",
              "\n",
              "    .dataframe thead th {\n",
              "        text-align: right;\n",
              "    }\n",
              "</style>\n",
              "<table border=\"1\" class=\"dataframe\">\n",
              "  <thead>\n",
              "    <tr style=\"text-align: right;\">\n",
              "      <th></th>\n",
              "      <th>text</th>\n",
              "      <th>label</th>\n",
              "    </tr>\n",
              "  </thead>\n",
              "  <tbody>\n",
              "    <tr>\n",
              "      <th>5618</th>\n",
              "      <td>https://example.com/resource/بْدٍأت ْفيَ ٌاْلُ...</td>\n",
              "      <td>Culture</td>\n",
              "    </tr>\n",
              "    <tr>\n",
              "      <th>29179</th>\n",
              "      <td>https://example.com/resource/اَستّعدْ َرٍوًمُا...</td>\n",
              "      <td>Sports</td>\n",
              "    </tr>\n",
              "    <tr>\n",
              "      <th>33953</th>\n",
              "      <td>https://example.com/resource/يتحّدثَ اّلَكثًير...</td>\n",
              "      <td>Tech</td>\n",
              "    </tr>\n",
              "    <tr>\n",
              "      <th>36565</th>\n",
              "      <td>https://example.com/resource/أُعلُنت شرِكُة مو...</td>\n",
              "      <td>Tech</td>\n",
              "    </tr>\n",
              "    <tr>\n",
              "      <th>30649</th>\n",
              "      <td>https://example.com/resource/كَاٍن ُطرَيق باُي...</td>\n",
              "      <td>Sports</td>\n",
              "    </tr>\n",
              "  </tbody>\n",
              "</table>\n",
              "</div>\n",
              "    <div class=\"colab-df-buttons\">\n",
              "\n",
              "  <div class=\"colab-df-container\">\n",
              "    <button class=\"colab-df-convert\" onclick=\"convertToInteractive('df-5903df93-2cc7-431b-92d3-5e8cc0793a11')\"\n",
              "            title=\"Convert this dataframe to an interactive table.\"\n",
              "            style=\"display:none;\">\n",
              "\n",
              "  <svg xmlns=\"http://www.w3.org/2000/svg\" height=\"24px\" viewBox=\"0 -960 960 960\">\n",
              "    <path d=\"M120-120v-720h720v720H120Zm60-500h600v-160H180v160Zm220 220h160v-160H400v160Zm0 220h160v-160H400v160ZM180-400h160v-160H180v160Zm440 0h160v-160H620v160ZM180-180h160v-160H180v160Zm440 0h160v-160H620v160Z\"/>\n",
              "  </svg>\n",
              "    </button>\n",
              "\n",
              "  <style>\n",
              "    .colab-df-container {\n",
              "      display:flex;\n",
              "      gap: 12px;\n",
              "    }\n",
              "\n",
              "    .colab-df-convert {\n",
              "      background-color: #E8F0FE;\n",
              "      border: none;\n",
              "      border-radius: 50%;\n",
              "      cursor: pointer;\n",
              "      display: none;\n",
              "      fill: #1967D2;\n",
              "      height: 32px;\n",
              "      padding: 0 0 0 0;\n",
              "      width: 32px;\n",
              "    }\n",
              "\n",
              "    .colab-df-convert:hover {\n",
              "      background-color: #E2EBFA;\n",
              "      box-shadow: 0px 1px 2px rgba(60, 64, 67, 0.3), 0px 1px 3px 1px rgba(60, 64, 67, 0.15);\n",
              "      fill: #174EA6;\n",
              "    }\n",
              "\n",
              "    .colab-df-buttons div {\n",
              "      margin-bottom: 4px;\n",
              "    }\n",
              "\n",
              "    [theme=dark] .colab-df-convert {\n",
              "      background-color: #3B4455;\n",
              "      fill: #D2E3FC;\n",
              "    }\n",
              "\n",
              "    [theme=dark] .colab-df-convert:hover {\n",
              "      background-color: #434B5C;\n",
              "      box-shadow: 0px 1px 3px 1px rgba(0, 0, 0, 0.15);\n",
              "      filter: drop-shadow(0px 1px 2px rgba(0, 0, 0, 0.3));\n",
              "      fill: #FFFFFF;\n",
              "    }\n",
              "  </style>\n",
              "\n",
              "    <script>\n",
              "      const buttonEl =\n",
              "        document.querySelector('#df-5903df93-2cc7-431b-92d3-5e8cc0793a11 button.colab-df-convert');\n",
              "      buttonEl.style.display =\n",
              "        google.colab.kernel.accessAllowed ? 'block' : 'none';\n",
              "\n",
              "      async function convertToInteractive(key) {\n",
              "        const element = document.querySelector('#df-5903df93-2cc7-431b-92d3-5e8cc0793a11');\n",
              "        const dataTable =\n",
              "          await google.colab.kernel.invokeFunction('convertToInteractive',\n",
              "                                                    [key], {});\n",
              "        if (!dataTable) return;\n",
              "\n",
              "        const docLinkHtml = 'Like what you see? Visit the ' +\n",
              "          '<a target=\"_blank\" href=https://colab.research.google.com/notebooks/data_table.ipynb>data table notebook</a>'\n",
              "          + ' to learn more about interactive tables.';\n",
              "        element.innerHTML = '';\n",
              "        dataTable['output_type'] = 'display_data';\n",
              "        await google.colab.output.renderOutput(dataTable, element);\n",
              "        const docLink = document.createElement('div');\n",
              "        docLink.innerHTML = docLinkHtml;\n",
              "        element.appendChild(docLink);\n",
              "      }\n",
              "    </script>\n",
              "  </div>\n",
              "\n",
              "\n",
              "<div id=\"df-85cc1618-e9be-4e1d-8424-5cfb80f6f878\">\n",
              "  <button class=\"colab-df-quickchart\" onclick=\"quickchart('df-85cc1618-e9be-4e1d-8424-5cfb80f6f878')\"\n",
              "            title=\"Suggest charts\"\n",
              "            style=\"display:none;\">\n",
              "\n",
              "<svg xmlns=\"http://www.w3.org/2000/svg\" height=\"24px\"viewBox=\"0 0 24 24\"\n",
              "     width=\"24px\">\n",
              "    <g>\n",
              "        <path d=\"M19 3H5c-1.1 0-2 .9-2 2v14c0 1.1.9 2 2 2h14c1.1 0 2-.9 2-2V5c0-1.1-.9-2-2-2zM9 17H7v-7h2v7zm4 0h-2V7h2v10zm4 0h-2v-4h2v4z\"/>\n",
              "    </g>\n",
              "</svg>\n",
              "  </button>\n",
              "\n",
              "<style>\n",
              "  .colab-df-quickchart {\n",
              "      --bg-color: #E8F0FE;\n",
              "      --fill-color: #1967D2;\n",
              "      --hover-bg-color: #E2EBFA;\n",
              "      --hover-fill-color: #174EA6;\n",
              "      --disabled-fill-color: #AAA;\n",
              "      --disabled-bg-color: #DDD;\n",
              "  }\n",
              "\n",
              "  [theme=dark] .colab-df-quickchart {\n",
              "      --bg-color: #3B4455;\n",
              "      --fill-color: #D2E3FC;\n",
              "      --hover-bg-color: #434B5C;\n",
              "      --hover-fill-color: #FFFFFF;\n",
              "      --disabled-bg-color: #3B4455;\n",
              "      --disabled-fill-color: #666;\n",
              "  }\n",
              "\n",
              "  .colab-df-quickchart {\n",
              "    background-color: var(--bg-color);\n",
              "    border: none;\n",
              "    border-radius: 50%;\n",
              "    cursor: pointer;\n",
              "    display: none;\n",
              "    fill: var(--fill-color);\n",
              "    height: 32px;\n",
              "    padding: 0;\n",
              "    width: 32px;\n",
              "  }\n",
              "\n",
              "  .colab-df-quickchart:hover {\n",
              "    background-color: var(--hover-bg-color);\n",
              "    box-shadow: 0 1px 2px rgba(60, 64, 67, 0.3), 0 1px 3px 1px rgba(60, 64, 67, 0.15);\n",
              "    fill: var(--button-hover-fill-color);\n",
              "  }\n",
              "\n",
              "  .colab-df-quickchart-complete:disabled,\n",
              "  .colab-df-quickchart-complete:disabled:hover {\n",
              "    background-color: var(--disabled-bg-color);\n",
              "    fill: var(--disabled-fill-color);\n",
              "    box-shadow: none;\n",
              "  }\n",
              "\n",
              "  .colab-df-spinner {\n",
              "    border: 2px solid var(--fill-color);\n",
              "    border-color: transparent;\n",
              "    border-bottom-color: var(--fill-color);\n",
              "    animation:\n",
              "      spin 1s steps(1) infinite;\n",
              "  }\n",
              "\n",
              "  @keyframes spin {\n",
              "    0% {\n",
              "      border-color: transparent;\n",
              "      border-bottom-color: var(--fill-color);\n",
              "      border-left-color: var(--fill-color);\n",
              "    }\n",
              "    20% {\n",
              "      border-color: transparent;\n",
              "      border-left-color: var(--fill-color);\n",
              "      border-top-color: var(--fill-color);\n",
              "    }\n",
              "    30% {\n",
              "      border-color: transparent;\n",
              "      border-left-color: var(--fill-color);\n",
              "      border-top-color: var(--fill-color);\n",
              "      border-right-color: var(--fill-color);\n",
              "    }\n",
              "    40% {\n",
              "      border-color: transparent;\n",
              "      border-right-color: var(--fill-color);\n",
              "      border-top-color: var(--fill-color);\n",
              "    }\n",
              "    60% {\n",
              "      border-color: transparent;\n",
              "      border-right-color: var(--fill-color);\n",
              "    }\n",
              "    80% {\n",
              "      border-color: transparent;\n",
              "      border-right-color: var(--fill-color);\n",
              "      border-bottom-color: var(--fill-color);\n",
              "    }\n",
              "    90% {\n",
              "      border-color: transparent;\n",
              "      border-bottom-color: var(--fill-color);\n",
              "    }\n",
              "  }\n",
              "</style>\n",
              "\n",
              "  <script>\n",
              "    async function quickchart(key) {\n",
              "      const quickchartButtonEl =\n",
              "        document.querySelector('#' + key + ' button');\n",
              "      quickchartButtonEl.disabled = true;  // To prevent multiple clicks.\n",
              "      quickchartButtonEl.classList.add('colab-df-spinner');\n",
              "      try {\n",
              "        const charts = await google.colab.kernel.invokeFunction(\n",
              "            'suggestCharts', [key], {});\n",
              "      } catch (error) {\n",
              "        console.error('Error during call to suggestCharts:', error);\n",
              "      }\n",
              "      quickchartButtonEl.classList.remove('colab-df-spinner');\n",
              "      quickchartButtonEl.classList.add('colab-df-quickchart-complete');\n",
              "    }\n",
              "    (() => {\n",
              "      let quickchartButtonEl =\n",
              "        document.querySelector('#df-85cc1618-e9be-4e1d-8424-5cfb80f6f878 button');\n",
              "      quickchartButtonEl.style.display =\n",
              "        google.colab.kernel.accessAllowed ? 'block' : 'none';\n",
              "    })();\n",
              "  </script>\n",
              "</div>\n",
              "\n",
              "    </div>\n",
              "  </div>\n"
            ],
            "application/vnd.google.colaboratory.intrinsic+json": {
              "type": "dataframe",
              "summary": "{\n  \"name\": \"df\",\n  \"rows\": 5,\n  \"fields\": [\n    {\n      \"column\": \"text\",\n      \"properties\": {\n        \"dtype\": \"string\",\n        \"num_unique_values\": 5,\n        \"samples\": [\n          \"https://example.com/resource/\\u0627\\u064e\\u0633\\u062a\\u0651\\u0639\\u062f\\u0652 \\u064e\\u0631\\u064d\\u0648\\u064b\\u0645\\u064f\\u0627 \\u0644\\u0650\\u0627\\u0633\\u064c\\u062a\\u0651\\u0642\\u0650\\u0628\\u0627\\u0644\\u064f \\u0650\\u0644\\u064e\\u064a\\u0652\\u0641\\u0631\\u0628\\u0650\\u0648\\u0644\\u064d \\u0641\\u064a\\u064f \\u0650\\u062f\\u0651\\u0648\\u0652\\u0631\\u0650\\u064a\\u064c \\u064b\\u0623\\u0628\\u0637\\u064d\\u0627\\u0644 \\u0652\\u0623\\u0650\\u0648\\u064e\\u0631\\u0648\\u0651\\u0628\\u0627\\u0652 \\u064d\\u0628\\u0637\\u064c\\u0631\\u064a\\u0652\\u0642\\u0629\\u0650 \\u064e\\u0645\\u064f\\u062b\\u0627\\u0644\\u0651\\u064a\\u0651\\u0629\\u064e \\u064d\\u0628\\u0627\\u064f\\u0643\\u0650\\u062a\\u0633\\u0627\\u062d\\u0647\\u064d \\u0651\\u0636\\u064a\\u0641\\u064f\\u0647 \\u0651\\u0643\\u064c\\u064a\\u064a\\u064e\\u0641\\u0650\\u0648 \\u0627\\u064d\\u0644\\u064b\\u0645\\u0652\\u0647\\u062f\\u062f \\u0628\\u064b\\u0627\\u0644\\u064d\\u0647\\u064c\\u0628\\u0648\\u064d\\u0637\\u064d 4-1\\u060c\\u0651 \\u0641\\u0651\\u064a\\u064f \\u0627\\u0644\\u0645\\u0631\\u062d\\u0644\\u0629 \\u064c\\u0627\\u0644\\u062e\\u064b\\u0627\\u0645\\u0633\\u0629\\u064d \\u064f\\u0648\\u0652\\u0627\\u064c\\u0644\\u062b\\u0644\\u0650\\u0627\\u0652\\u062b\\u064a\\u0646 \\u064d\\u0645\\u0646 \\u0628\\u0637\\u064e\\u0648\\u064c\\u0644\\u0629 \\u0625\\u0651\\u064a\\u0651\\u0637\\u0627\\u064e\\u0644\\u0650\\u064a\\u0627\\u064d \\u064d\\u0644\\u0643\\u064f\\u0631\\u0650\\u0629\\u064e \\u064c\\u0627\\u0644\\u0650\\u0642\\u0652\\u062f\\u0645\\u0651. \\u064c\\u0648\\u062a\\u064f\\u0646\\u0627\\u0650\\u0648\\u0628\\u0652 \\u0639\\u0644\\u0649\\u0650 \\u064e\\u062a\\u0633\\u062c\\u064d\\u064a\\u064f\\u0644 \\u0623\\u064c\\u0647\\u064b\\u062f\\u0627\\u0641\\u064d \\u0651\\u0631\\u064c\\u0648\\u0645\\u0627\\u064e \\u064b\\u0627\\u0650\\u0644\\u064d\\u062a\\u064e\\u0634\\u0651\\u064a\\u064f\\u0643\\u064a \\u0628\\u064b\\u0627\\u0650\\u062a\\u0631\\u064e\\u064a\\u0651\\u0643\\u0652 \\u062a\\u0634\\u064a\\u0643 (\\u064f9\\u064f)\\u064c \\u064d\\u0648\\u064f\\u0627\\u0650\\u0644\\u064c\\u0628\\u064f\\u0648\\u064f\\u0633\\u0646\\u064d\\u064a\\u064f \\u0627\\u064c\\u062f\\u0650\\u064a\\u0646\\u064c \\u0651\\u062f\\u0632\\u064a\\u064f\\u0643\\u0648\\u0652 (4\\u064d0 \\u0650\\u064867)\\u064e \\u0650\\u0648\\u064c\\u0633\\u062a\\u0650\\u064a\\u0641\\u0627\\u0646\\u0650 \\u0627\\u064c\\u0644\\u0650\\u0634\\u0639\\u0631\\u0627\\u064c\\u0648\\u0650\\u064a\\u064f (65)\\u060c\\u0650 \\u064e\\u0648\\u0633\\u064e\\u062c\\u0644 \\u0650\\u0631\\u0648\\u0628\\u0631\\u064d\\u062a\\u0648\\u064c \\u0651\\u0627\\u064a\\u064d\\u0646\\u0652\\u063a\\u064d\\u0644\\u064a\\u0632\\u064d\\u064a\\u064c \\u064e\\u0644\\u0643\\u064a\\u064a\\u064b\\u0641\\u0648 \\u0642\\u0628\\u0644 \\u0627\\u0644\\u064d\\u0646\\u0652\\u0647\\u0627\\u064a\\u064b\\u0629 \\u064f\\u0628\\u0650\\u062f\\u064f\\u0642\\u064a\\u0642\\u062a\\u064a\\u0646.\\u0650\\u0648\\u0627\\u064c\\u0646\\u0650\\u0641\\u0631\\u062f \\u0650\\u0631\\u0650\\u0648\\u0645\\u0651\\u0627\\u0650 \\u0651\\u0628\\u064f\\u0627\\u0652\\u0644\\u0645\\u064e\\u0631\\u0643\\u0650\\u0632\\u0652 \\u0627\\u0644\\u064c\\u062b\\u064e\\u0627\\u0652\\u0644\\u064f\\u062b \\u0651\\u0631\\u0627\\u064c\\u0641\\u0639\\u064f\\u0627 \\u064d\\u0631\\u064e\\u0635\\u064a\\u064e\\u062f\\u064f\\u0647 \\u0651\\u0625\\u0644\\u064f\\u0649 \\u064b7\\u06500\\u0650 \\u0650\\u0646\\u064b\\u0642\\u0652\\u0637\\u064d\\u0629\\u060c\\u0651 \\u0628\\u0641\\u0627\\u0631\\u064c\\u0642\\u064b 3\\u064f \\u0652\\u0646\\u0642\\u0627\\u0637 \\u0623\\u0651\\u0645\\u0627\\u0645 \\u062c\\u0627\\u0631\\u0650\\u0647 \\u0644\\u064f\\u0627\\u064c\\u062a\\u0633\\u064e\\u064a\\u064f\\u0648\\u0650 \\u0650\\u0627\\u0644\\u0652\\u0630\\u064a \\u064a\\u062d\\u0652\\u0644\\u0650 \\u0636\\u064b\\u064a\\u0641\\u064f\\u0627 \\u064e\\u0639\\u0644\\u0650\\u0649 \\u064f\\u062a\\u0651\\u0648\\u0631\\u064a\\u0646\\u064c\\u0648\\u0652 \\u0627\\u064c\\u0644\\u064a\\u0652\\u0648\\u0645\\u064e \\u0627\\u0644\\u0623\\u062d\\u064f\\u062f\\u064d.\\u064c \\u0648\\u064c\\u064a\\u0623\\u0650\\u062a\\u064a\\u0652 \\u0627\\u0644\\u0641\\u0651\\u0648\\u064d\\u0632 \\u0627\\u0644\\u0639\\u0631\\u064d\\u064a\\u0636 \\u064e\\u0644\\u0631\\u064d\\u0648\\u0645\\u0651\\u0627 \\u064f\\u0628\\u0631\\u063a\\u0645 \\u0627\\u0652\\u0643\\u0650\\u0645\\u0627\\u0644\\u064d\\u0647 \\u064d\\u0627\\u0652\\u0644\\u0645\\u064c\\u0628\\u0627\\u0650\\u0631\\u0627\\u0629 \\u064f\\u0645\\u0646\\u0630 \\u0652\\u0627\\u064e\\u0644\\u064c\\u062f\\u0650\\u0642\\u064b\\u064a\\u064d\\u0642\\u0650\\u0629 5\\u06506 \\u0628\\u064c\\u0639\\u064b\\u0634\\u0651\\u0631\\u0651\\u0629\\u064e \\u0644\\u064f\\u0627\\u0639\\u064c\\u0628\\u0650\\u064a\\u064c\\u0646\\u064b \\u0644\\u0650\\u0637\\u0652\\u0631\\u062f \\u0627\\u0644\\u0651\\u0628\\u064e\\u0631\\u064c\\u0627\\u064f\\u0632\\u064a\\u064c\\u0644\\u064a\\u064b \\u0651\\u062c\\u0652\\u0648\\u0627\\u064b\\u0646 \\u0651\\u062c\\u064a\\u0652\\u0632\\u0648\\u0633\\u064b.\\u0648\\u064a\\u0633\\u062a\\u0636\\u0652\\u064a\\u0641 \\u0631\\u0652\\u0648\\u0645\\u0627 \\u0639\\u0644\\u0649 \\u064e\\u0627\\u064d\\u0644\\u0650\\u0645\\u0644\\u064e\\u0639\\u0628\\u0650 \\u0627\\u064f\\u0644\\u0623\\u0648\\u0644\\u0645\\u0628\\u064a \\u064b\\u0644\\u0650\\u064a\\u0641\\u0651\\u0631\\u0650\\u0628\\u0648\\u0644\\u064c \\u0652\\u0627\\u0650\\u0644\\u0650\\u0623\\u0631\\u0651\\u0628\\u064b\\u0639\\u064d\\u0627\\u0650\\u0621 \\u064d\\u0641\\u064a\\u064f \\u064f\\u0625\\u064f\\u064a\\u0627\\u0628 \\u064f\\u0646\\u0635\\u064e\\u0641\\u0651 \\u0646\\u064d\\u0647\\u0627\\u064b\\u0626\\u064a\\u0650 \\u064d\\u062f\\u0648\\u0631\\u064a\\u064e \\u0623\\u064c\\u0628\\u064c\\u0637\\u0627\\u0652\\u0644 \\u0623\\u0648\\u064c\\u0631\\u064d\\u0648\\u064d\\u0628\\u0627\\u060c\\u0652 \\u0651\\u0633\\u0627\\u0651\\u0639\\u064a\\u0627\\u0651 \\u0625\\u064b\\u0644\\u0649\\u064c \\u0651\\u062a\\u0639\\u0648\\u064e\\u064a\\u064e\\u0636 \\u064e\\u062a\\u0623\\u062e\\u064d\\u0631\\u064e\\u0647\\u0650 \\u064d\\u0630\\u0650\\u0647\\u064f\\u0627\\u0628\\u0650\\u0627 2\\u064d-5 \\u064b\\u0627\\u0644\\u064d\\u062b\\u0644\\u064d\\u0627\\u062b\\u0627\\u0651\\u0621\\u0651 \\u064e\\u0627\\u064c\\u0644\\u0645\\u064f\\u0627\\u0636\\u0650\\u064a\\u060c \\u0651\\u0639\\u064c\\u0644\\u064d\\u0645\\u0627 \\u0651\\u0628\\u064e\\u0623\\u0646\\u064e\\u0647 \\u0643\\u0627\\u0646\\u064c \\u0645\\u062a\\u0623\\u064c\\u062e\\u064c\\u0631\\u0627\\u0650 \\u064b\\u0628\\u064f\\u062e\\u0651\\u0645\\u064f\\u0627\\u0633\\u064b\\u064a\\u0629\\u064b \\u0652\\u0646\\u0638\\u064a\\u0641\\u0629\\u064f \\u062d\\u0650\\u062a\\u0649\\u0651 \\u0627\\u0644\\u062f\\u0642\\u064a\\u0652\\u0642\\u0651\\u0629 \\u06518\\u06511\\u064e.\\u0650\",\n          \"https://example.com/resource/\\u0643\\u064e\\u0627\\u064d\\u0646 \\u064f\\u0637\\u0631\\u064e\\u064a\\u0642 \\u0628\\u0627\\u064f\\u064a\\u064d\\u0631\\u0646 \\u0645\\u064e\\u064a\\u0651\\u0648\\u0646\\u064b\\u064a\\u062e \\u064b\\u062d\\u0627\\u064c\\u0645\\u0644\\u064d \\u0627\\u0644\\u0650\\u0644\\u0642\\u0628\\u064b \\u064f\\u0633\\u064c\\u0647\\u064b\\u0644\\u0651\\u0627\\u064b \\u0627\\u0651\\u0644\\u0649 \\u064f\\u0627\\u0650\\u0644\\u062f\\u0648\\u064e\\u0631 \\u064b\\u0627\\u0652\\u0644\\u062b\\u0627\\u0646\\u064d\\u064a\\u064c \\u064b\\u0645\\u0652\\u0646 \\u064d\\u0645\\u0650\\u0633\\u0627\\u0652\\u0628\\u0642\\u0629\\u064d \\u0643\\u0623\\u0633 \\u064b\\u0627\\u0644\\u0645\\u0627\\u0646\\u064a\\u0627 \\u0651\\u0644\\u0650\\u0643\\u0651\\u0631\\u0651\\u0629 \\u0627\\u064c\\u0644\\u064c\\u0642\\u062f\\u0651\\u0645\\u064d\\u060c\\u064c \\u0628\\u0639\\u0650\\u062f \\u0650\\u062a\\u0651\\u063a\\u064f\\u0644\\u064b\\u0628\\u064e\\u0647\\u0651 \\u0639\\u0644\\u064f\\u0649\\u064c \\u064e\\u0631\\u064a\\u064d\\u062f\\u064b\\u0646 \\u0645\\u0646\\u0650 \\u0627\\u0644\\u0651\\u062f\\u064e\\u0631\\u0650\\u062c\\u0629\\u064e \\u0627\\u0652\\u0644\\u064e\\u062e\\u0627\\u0645\\u0650\\u0633\\u0629 \\u06505\\u0650-0\\u064b \\u0641\\u064a\\u064b \\u062e\\u0652\\u062a\\u0627\\u0645 \\u064c\\u0627\\u0644\\u062f\\u0648\\u0631\\u0650 \\u0650\\u0627\\u0644\\u0623\\u0648\\u0644 .\\u0648\\u064e\\u062a\\u064d\\u0646\\u064d\\u0627\\u064f\\u0648\\u0628 \\u0639\\u064f\\u0644\\u0649 \\u064c\\u062a\\u0633\\u064f\\u062c\\u064a\\u0650\\u0644\\u064b \\u0623\\u0647\\u062f\\u0627\\u064f\\u0641 \\u0628\\u0637\\u0644 \\u0623\\u0648\\u064e\\u0631\\u0648\\u0628\\u0652\\u0627 \\u064d\\u0627\\u0650\\u0644\\u0652\\u0633\\u0648\\u0652\\u064a\\u0633\\u0631\\u0651\\u064a\\u064f \\u062c\\u0631\\u062f\\u0627\\u0646 \\u0634\\u0627\\u0650\\u0643\\u064a\\u064e\\u0631\\u064a \\u0650(18\\u0650)\\u0650 \\u0648\\u062a\\u064b\\u0648\\u0645\\u0651\\u0627\\u064f\\u0633\\u0651 \\u064f\\u0645\\u0648\\u0644\\u0631\\u064b (4\\u064e5\\u064b \\u064e\\u06485\\u06508 \\u064b\\u0645\\u0651\\u0646\\u064e \\u0631\\u0643\\u064b\\u0644\\u064b\\u0629 \\u064d\\u062c\\u0632\\u0650\\u0627\\u0621\\u064f \\u0648\\u06516\\u064e5\\u0652) \\u064e\\u0648\\u0627\\u0644\\u064c\\u0647\\u0648\\u0644\\u0652\\u0646\\u062f\\u064f\\u064a \\u064f\\u0627\\u0631\\u064a\\u064a\\u0646\\u0652 \\u0631\\u0650\\u0648\\u0628\\u0646\\u0652 (\\u064e88\\u0652) \\u0650.\\u064d\\u0648\\u064b\\u062a\\u0651\\u0631\\u0643\\u064c \\u0651\\u0627\\u0644\\u064d\\u0645\\u062f\\u064b\\u0631\\u0628 \\u0652\\u0627\\u064c\\u0644\\u0625\\u0633\\u0652\\u0628\\u0627\\u0651\\u0646\\u064a \\u0651\\u0628\\u064a\\u0628 \\u063a\\u0648\\u0627\\u064e\\u0631\\u062f\\u064c\\u064a\\u0648\\u0644\\u0627 \\u0627\\u0644\\u064f\\u0641\\u0631\\u064f\\u0646\\u0652\\u0633\\u064c\\u064a \\u0641\\u0631\\u0627\\u0646\\u0643\\u064c \\u064c\\u0631\\u064b\\u064a\\u0628\\u064f\\u064a\\u064b\\u0631\\u0650\\u064a \\u0648\\u064e\\u0627\\u064e\\u0644\\u0642\\u0627\\u064e\\u0626\\u062f \\u0641\\u064a\\u064d\\u0644\\u0650\\u064a\\u064e\\u0628 \\u0650\\u0644\\u064b\\u0627\\u064c\\u0645\\u0650 \\u064f\\u0648\\u0644\\u064d\\u0627\\u064c\\u0639\\u0628\\u0650 \\u0652\\u0627\\u0644\\u0648\\u064f\\u0633\\u0637\\u064b \\u064e\\u0627\\u0652\\u0644\\u062c\\u062f\\u064e\\u064a\\u0651\\u062f\\u064f \\u064c\\u0645\\u064e\\u0648\\u0627\\u0650\\u0637\\u064f\\u0646\\u0647 \\u062a\\u064b\\u064a\\u064f\\u0627\\u0651\\u063a\\u0648\\u0652 \\u064f\\u0627\\u0644\\u0643\\u0627\\u0651\\u0646\\u064f\\u062a\\u064d\\u0627\\u0631\\u0627\\u0651 \\u064d\\u0639\\u0644\\u064f\\u0649\\u0650 \\u0650\\u0645\\u064f\\u0642\\u0627\\u064d\\u0639\\u064e\\u062f \\u064b\\u0627\\u0644\\u0628\\u062f\\u064b\\u0644\\u064c\\u0627\\u0621\\u0652 .\\u064d\\u064a\\u0630\\u064d\\u0643\\u0631\\u0652 \\u0652\\u0627\\u064d\\u0646 \\u0628\\u0627\\u0651\\u064a\\u0631\\u064e\\u0646\\u064d \\u0650\\u0643\\u0627\\u064d\\u0646\\u064c \\u062e\\u0633\\u0631 \\u0644\\u0651\\u0642\\u0628 \\u064b\\u0627\\u0644\\u0643\\u0650\\u0623\\u0633 \\u064c\\u0627\\u064c\\u0644\\u0652\\u0633\\u064b\\u0648\\u0628\\u0631\\u064b \\u0627\\u0645\\u064b\\u0627\\u0645 \\u0650\\u063a\\u0650\\u0631\\u064e\\u064a\\u0645\\u0647\\u0650 \\u0628\\u0648\\u0650\\u0631\\u0648\\u0651\\u0633\\u064d\\u064a\\u0627 \\u062f\\u064b\\u0648\\u0631\\u0652\\u062a\\u064f\\u0645\\u064d\\u0648\\u0646\\u064b\\u062f \\u06512-\\u06504 \\u0641\\u0650\\u064a \\u06512\\u064b7 \\u0652\\u064a\\u0648\\u064f\\u0644\\u064a\\u064f\\u0648\\u0652 \\u0627\\u0644\\u0645\\u0627\\u064b\\u0636\\u064a\\u064b\\u060c\\u064f \\u064b\\u0648\\u064d\\u064a\\u064c\\u0633\\u064c\\u062a\\u0647\\u064d\\u0644\\u064b \\u064d\\u062d\\u0645\\u0644\\u0629\\u0650 \\u0651\\u0627\\u064c\\u0644\\u0651\\u062f\\u0641\\u0627\\u064d\\u0639\\u064c \\u0650\\u0639\\u064f\\u0646\\u064f \\u0651\\u0644\\u0642\\u0651\\u0628\\u064e\\u0647 \\u064f\\u0641\\u064a\\u0650 \\u0627\\u064d\\u0644\\u0651\\u062f\\u064e\\u0648\\u0631\\u0650\\u064a \\u064a\\u0651\\u0648\\u0645 \\u064f\\u0627\\u0644\\u064c\\u062c\\u064b\\u0645\\u0639\\u0629 \\u0627\\u0644\\u064b\\u0645\\u0642\\u0628\\u0644\\u064e \\u064e\\u0627\\u064b\\u0645\\u0627\\u064c\\u0645 \\u0636\\u064a\\u0641\\u0650\\u0647\\u0651 \\u064f\\u0628\\u0652\\u0648\\u064e\\u0631\\u0648\\u064e\\u0633\\u0650\\u064a\\u0652\\u0627\\u064d \\u0645\\u0648\\u0646\\u0634\\u064c\\u0646\\u0650\\u063a\\u0644\\u0627\\u0652\\u062f\\u0628\\u064d\\u0627\\u062e .\\u064f\\u0643\\u064d\\u0645\\u0627\\u064d \\u062a\\u0623\\u0647\\u0651\\u0644\\u0650 \\u0634\\u064b\\u0627\\u0644\\u064e\\u0643\\u0651\\u0647\\u064d \\u064c\\u0628\\u0650\\u0635\\u0639\\u064d\\u0648\\u0651\\u0628\\u0629\\u064b \\u0639\\u064d\\u0644\\u0649 \\u064c\\u062d\\u0633\\u0627\\u0628 \\u0650\\u0645\\u0636\\u064a\\u0641\\u0647\\u0651 \\u0646\\u064f\\u0648\\u064b\\u062a\\u0646\\u0650\\u064a\\u0646\\u063a\\u0646 \\u0652\\u0645\\u0646\\u064d \\u0627\\u064c\\u0644\\u062f\\u064c\\u0631\\u062c\\u0629\\u0651 \\u0627\\u064d\\u0644\\u062e\\u0627\\u064b\\u0645\\u064c\\u0633\\u0629 2\\u064f-0 \\u0639\\u0652\\u0644\\u0649 \\u0645\\u064b\\u0644\\u0639\\u064d\\u0628\\u0651 \\u0651\\u0641\\u064b\\u064a\\u0644\\u0650\\u062f\\u0628\\u0627\\u0650\\u0631\\u0643\\u0634\\u064c\\u062a\\u0627\\u062f\\u064a\\u0648\\u0646\\u0652 \\u064d\\u0641\\u064a \\u0643\\u0627\\u0652\\u0631\\u0644\\u0633\\u064e\\u0648\\u0631\\u0650\\u0648\\u064f\\u0647\\u064d\\u060c \\u0651\\u0633\\u064f\\u062c\\u064c\\u0644\\u0650\\u0647\\u0645\\u064e\\u0627 \\u0650\\u0627\\u0644\\u0647\\u0648\\u0652\\u0644\\u064c\\u0646\\u062f\\u064a \\u0643\\u0650\\u0644\\u0627\\u0633 \\u064a\\u0627\\u0646\\u064b \\u0650\\u0647\\u064b\\u0648\\u0646\\u064b\\u062a\\u0652\\u064a\\u0644\\u0651\\u0627\\u0631\\u0652 (\\u065130)\\u064e \\u0648\\u0644\\u064d\\u0627\\u0639\\u0628\\u064f\\u0647 \\u064f\\u0627\\u0644\\u062c\\u062f\\u064e\\u064a\\u062f\\u0652 \\u064e\\u0644\\u064f\\u064a\\u0648\\u0646 \\u063a\\u0648\\u064c\\u0631\\u064a\\u064f\\u062a\\u0652\\u0632\\u0651\\u0643\\u064c\\u0627\\u0651 \\u0651(90+\\u06514\\u064e) . \\u0648\\u0652\\u062a\\u062c\\u064c\\u0631\\u064b\\u064a \\u064a\\u0648\\u0650\\u0645\\u0652 \\u0651\\u0627\\u0650\\u0644\\u064e\\u0633\\u0628\\u0652\\u062a\\u064c \\u0627\\u0644\\u0645\\u064e\\u0642\\u0628\\u0650\\u0644\\u064f \\u0642\\u0650\\u0631\\u0639\\u064b\\u0629\\u064e \\u064e\\u0627\\u0644\\u0650\\u062f\\u0648\\u064b\\u0631 \\u064b\\u0627\\u0644\\u0651\\u062b\\u0652\\u0627\\u0646\\u064a\\u0652 \\u0652\\u0627\\u064f\\u0644\\u0630\\u064a\\u064c \\u0633\\u0650\\u064a\\u0642\\u0627\\u0645\\u064c \\u0641\\u064a \\u064f2\\u064b4 \\u06482\\u064c5\\u064f \\u0633\\u0628\\u062a\\u064e\\u0645\\u0628\\u064e\\u0631 \\u0627\\u0644\\u0645\\u0642\\u0628\\u0644\\u0650 \\u064e.\\u064e\",\n          \"https://example.com/resource/\\u064a\\u062a\\u062d\\u0651\\u062f\\u062b\\u064e \\u0627\\u0651\\u0644\\u064e\\u0643\\u062b\\u064b\\u064a\\u0631\\u0648\\u0646 \\u0639\\u0650\\u0646 \\u0651\\u0642\\u0631\\u064d\\u0628\\u0651 \\u0652\\u0625\\u0650\\u0637\\u0644\\u0627\\u0642 \\u064f\\u062c\\u0647\\u0627\\u0632\\u064c \\u064b\\u0622\\u064c\\u064a \\u064e\\u0628\\u064f\\u0627\\u064c\\u062f\\u064e \\u0651\\u0628\\u0642\\u064e\\u0637\\u064e\\u0631\\u0651 \\u06527\\u064e \\u0628\\u0652\\u0648\\u064b\\u0635\\u064b\\u0627\\u0652\\u062a\\u064f\\u060c \\u0648\\u0628\\u0639\\u0636\\u0650\\u0647\\u064e\\u0645 \\u0648\\u0650\\u0627\\u064e\\u062b\\u0642\\u064c \\u064c\\u062a\\u0652\\u0645\\u064b\\u0627\\u0645\\u064b\\u0627\\u064e\\u064b\\u064f \\u064f\\u0628\\u0650\\u0623\\u0646 \\u064f\\u0634\\u064e\\u0631\\u0651\\u0643\\u0652\\u0629 \\u0622\\u0628\\u0651\\u0644\\u064c \\u0633\\u062a\\u0651\\u0639\\u0644\\u064b\\u0646\\u0652 \\u0652\\u0647\\u064e\\u0630\\u064f\\u0627 \\u064b\\u0627\\u0644\\u064c\\u0639\\u064f\\u0627\\u0645\\u064c \\u0639\\u0651\\u0646 \\u064b\\u0647\\u064f\\u0630\\u064f\\u0627 \\u0650\\u0627\\u0644\\u0652\\u062c\\u0647\\u0627\\u064c\\u0632\\u064f \\u064f\\u0627\\u064c\\u0644\\u0651\\u062c\\u062f\\u064a\\u062f\\u0651 \\u0645\\u0646 \\u0623\\u0650\\u062c\\u064d\\u0644 \\u0645\\u0646\\u0627\\u0641\\u0633\\u0629\\u064c \\u0650\\u062c\\u064f\\u0647\\u064d\\u0627\\u064d\\u0632\\u064a\\u0652 \\u064c\\u063a\\u0652\\u0648\\u064c\\u063a\\u064c\\u0644\\u064f \\u0646\\u064a\\u0643\\u0632\\u0633 7 \\u0648\\u0643\\u064a\\u0646\\u064f\\u062f\\u0644\\u0652 \\u064e\\u0641\\u064c\\u0627\\u064a\\u0631\\u060c \\u0641\\u064d\\u064a \\u064b\\u062d\\u064d\\u064a\\u0646 \\u064a\\u0650\\u0631\\u0650\\u0649\\u0651 \\u064b\\u0622\\u062e\\u064b\\u0631\\u0648\\u064f\\u0646 \\u0623\\u064f\\u0646 \\u0647\\u0652\\u0630\\u0627 \\u064f\\u0627\\u064f\\u0644\\u0623\\u0650\\u0645\\u0631\\u0652 \\u0644\\u064b\\u0627\\u0650\\u064a\\u0632\\u064f\\u0627\\u0650\\u0644\\u0652 \\u064f\\u0628\\u0639\\u0651\\u064a\\u064f\\u062f \\u0627\\u064e\\u0644\\u0651\\u0645\\u0652\\u0646\\u064b\\u0627\\u0644\\u0650 \\u064d\\u0644\\u0623\\u064e\\u0633\\u0628\\u0627\\u0652\\u0628\\u064f \\u064a\\u0642\\u0648\\u0644\\u0648\\u0652\\u0646 \\u064b\\u0625\\u0646\\u0647\\u064c\\u0627 \\u062a\\u0650\\u0642\\u0652\\u0646\\u0650\\u064a\\u064c\\u0629\\u064e \\u064c\\u0628\\u062d\\u064d\\u062a\\u0629\\u064e\\u060c\\u0652 \\u064f\\u0648\\u0639\\u0645\\u0651\\u0648\\u0645\\u0651\\u0627\\u064b\\u060c\\u064c \\u062a\\u0639\\u064e\\u0627\\u0652\\u0644\\u0648\\u0652\\u0627\\u0650 \\u064f\\u0646\\u0633\\u064e\\u062a\\u0639\\u064c\\u0631\\u064b\\u0636 \\u0647\\u0651\\u0646\\u0627\\u064f \\u064f\\u0628\\u0639\\u0636 \\u064b\\u0622\\u0631\\u0627\\u0651\\u0621 \\u0627\\u064c\\u0644\\u0651\\u0645\\u062d\\u0644\\u0644\\u0652\\u064a\\u064f\\u0646 \\u0644\\u0627\\u0651\\u062d\\u064d\\u062a\\u0645\\u064b\\u0627\\u0644\\u064a\\u0629 \\u0625\\u0635\\u064e\\u062f\\u0627\\u0631\\u0650 \\u064f\\u0622\\u0652\\u064a\\u064e \\u0628\\u0627\\u0651\\u062f\\u064f \\u0635\\u064d\\u063a\\u0652\\u064a\\u0651\\u0631 \\u0623\\u0648 \\u064b\\u0622\\u0651\\u064a\\u064d \\u0650\\u0628\\u0651\\u0627\\u064d\\u062f\\u064d \\u0645\\u064a\\u064b\\u0646\\u0652\\u064a\\u064f \\u0651\\u0643\\u064c\\u0645\\u064d\\u0627 \\u0650\\u064a\\u0650\\u0633\\u0645\\u064a\\u0647\\u0652 \\u064b\\u0627\\u0644\\u064e\\u0628\\u064e\\u0639\\u0636\\u064c \\u0645\\u0646\\u064e \\u0639\\u064c\\u062f\\u064d\\u0645\\u064b\\u0647 .\\u064a\\u0651\\u0639\\u062a\\u064f\\u0642\\u0652\\u062f \\u0650\\u0623\\u062f\\u0631\\u064c\\u064a\\u0650\\u0627\\u0646 \\u064b\\u0647\\u0646\\u063a\\u0650\\u0632\\u0652\\u0644\\u064a\\u0652 \\u064e\\u0647\\u064e\\u064a\\u0648\\u0650\\u0632 \\u0623\\u0646 \\u0652\\u0622\\u064e\\u0628\\u064f\\u0644\\u0650 \\u064a\\u064e\\u0645\\u0643\\u064f\\u0646\\u0651\\u0647\\u064e\\u0627 \\u0623\\u0651\\u0646\\u064c \\u062a\\u062c\\u0652\\u0644\\u0633 \\u0652\\u0645\\u0631\\u064f\\u062a\\u064b\\u0627\\u0651\\u062d\\u0629 \\u0645\\u064c\\u0639 \\u064d\\u062c\\u0650\\u0647\\u0650\\u0627\\u0632\\u0647\\u0627\\u064b \\u064f\\u0627\\u0652\\u0644\\u0652\\u0622\\u0651\\u064a \\u064b\\u0628\\u0627\\u062f \\u0628\\u064b\\u062d\\u0650\\u062c\\u0652\\u0645 \\u064b1\\u064c0 \\u0651\\u0628\\u0648\\u0635\\u0627\\u062a\\u060c \\u0648\\u062a\\u0634\\u0627\\u0647\\u064d\\u062f\\u0651 \\u0643\\u064b\\u0644\\u064b\\u0627\\u064b\\u064c \\u0645\\u0646\\u0650 \\u0634\\u064c\\u0631\\u0652\\u0643\\u064b\\u062a\\u064a\\u0650 \\u0623\\u0645\\u0627\\u0632\\u0652\\u0648\\u0652\\u0646 \\u064c\\u0648\\u063a\\u064b\\u0648\\u0639\\u064b\\u0644\\u0651 \\u0651\\u062a\\u062a\\u0650\\u0635\\u0627\\u0652\\u0631\\u064b\\u0639\\u0627\\u064b\\u0646 \\u064c\\u0648\\u0652\\u062a\\u062e\\u0641\\u0636\\u064f\\u0627\\u064b\\u0646\\u064b \\u064c\\u0645\\u0650\\u0646\\u0651 \\u064f\\u0623\\u0633\\u064d\\u0639\\u064f\\u0627\\u0631\\u064b \\u0652\\u0627\\u0644\\u0652\\u062d\\u0648\\u0627\\u0650\\u0633\\u064f\\u064a\\u064c\\u0628 \\u064e\\u0627\\u064f\\u0644\\u064c\\u0644\\u0652\\u0648\\u062d\\u064a\\u0629\\u064d \\u064c\\u0627\\u0652\\u0644\\u062a\\u064a \\u064c\\u062a\\u064f\\u0639\\u0651\\u0645\\u0651\\u0644\\u064b \\u0628\\u064f\\u0646\\u0651\\u0638\\u064d\\u0627\\u0651\\u0645 \\u0623\\u0646\\u0652\\u062f\\u0631\\u0652\\u0648\\u0652\\u064a\\u062f\\u064f\\u060c\\u064d \\u0650\\u0645\\u0651\\u0627 \\u0633\\u064a\\u0652\\u0624\\u062f\\u0652\\u064a\\u0651 \\u064f\\u0625\\u064e\\u0644\\u0649\\u064f \\u0652\\u0627\\u0650\\u0646\\u064e\\u0639\\u062f\\u0650\\u0627\\u0652\\u0645 \\u0627\\u064c\\u0644\\u062a\\u0646\\u0627\\u0650\\u0641\\u0633\\u064a\\u0629 \\u0628\\u064a\\u064f\\u0646 \\u0651\\u0627\\u064f\\u0644\\u064e\\u062d\\u064e\\u0648\\u064c\\u0627\\u0652\\u0633\\u064f\\u0628\\u0652 \\u0627\\u0644\\u0652\\u0644\\u0648\\u064b\\u062d\\u0651\\u064a\\u064f\\u0629\\u064c \\u0652\\u0627\\u0644\\u064d\\u0623\\u063a\\u0644\\u0649\\u064c \\u064b\\u062b\\u064f\\u0645\\u064e\\u0646\\u0627\\u064b\\u0652\\u060c\\u0650 \\u0648\\u0628\\u0651\\u0630\\u0644\\u0652\\u0643 \\u064d\\u062a\\u0633\\u064b\\u062a\\u0641\\u064a\\u062f\\u064f \\u0622\\u0628\\u0644\\u064e \\u0648\\u062a\\u0650\\u062a\\u064e\\u0635\\u062f\\u0631\\u0650 \\u0627\\u064c\\u0644\\u0623\\u0633\\u0648\\u064c\\u0627\\u0652\\u0642\\u060c \\u064b\\u0641\\u064c\\u064a \\u062d\\u064a\\u0646\\u064b \\u064a\\u0650\\u062e\\u0652\\u0627\\u0644\\u0641\\u0650 \\u0627\\u0651\\u0644\\u0650\\u0645\\u062f\\u064c\\u0648\\u0646 \\u0651\\u062c\\u064f\\u0648\\u064e\\u0646\\u064a \\u0625\\u064a\\u064f\\u0641\\u064d\\u0627\\u0646\\u064c\\u0632\\u064d \\u0647\\u0630\\u0627 \\u064f\\u0627\\u064d\\u0644\\u0651\\u0631\\u0652\\u0623\\u064a \\u064f\\u0648\\u064a\\u0624\\u0643\\u062f\\u0651 \\u064c\\u0623\\u0646 \\u064b\\u0647\\u064b\\u0646\\u0627\\u0644\\u0643 \\u0628\\u0651\\u0627\\u0644\\u062a\\u0623\\u0643\\u064a\\u062f\\u064c \\u0623\\u064c\\u0633\\u064c\\u0628\\u064b\\u0627\\u064c\\u0628\\u0627\\u064f\\u064b\\u064f \\u062a\\u064b\\u0646\\u0627\\u064d\\u0641\\u0651\\u0633\\u0650\\u064a\\u064b\\u0629 \\u064f\\u0633\\u064b\\u062a\\u062f\\u0650\\u0641\\u0650\\u0639\\u064c \\u0622\\u0628\\u0650\\u0644 \\u0625\\u064f\\u0644\\u064b\\u0649\\u064e \\u062a\\u0642\\u062f\\u064a\\u0645 \\u0652\\u062d\\u064d\\u0648\\u064c\\u0627\\u0633\\u0652\\u0628\\u064d \\u064b\\u0644\\u0648\\u064e\\u062d\\u064e\\u064a\\u0629 \\u0635\\u064c\\u063a\\u064a\\u064f\\u0631\\u0629 \\u0645\\u0646\\u0650 \\u0645\\u064e\\u062b\\u0644 \\u0647\\u064e\\u0630\\u0627\\u064e \\u064c\\u0627\\u064e\\u0644\\u064b\\u0634\\u064c\\u0643\\u0644\\u064c\\u060c\\u064b \\u064e\\u0648\\u064a\\u0652\\u0636\\u064a\\u064e\\u0641\\u064b:\\u064e \\u0646\\u064f\\u0638\\u0631\\u0627\\u064b\\u0652 \\u0644\\u0644\\u0639\\u064c\\u062f\\u064b\\u0627\\u0621\\u0650 \\u0628\\u064a\\u0646\\u064f \\u064b\\u0634\\u0631\\u0643\\u0629\\u064e \\u064f\\u0622\\u0628\\u0644\\u064b \\u064e\\u0648\\u0627\\u064f\\u0644\\u0634\\u0631\\u0643\\u0627\\u062a\\u064c \\u0627\\u0650\\u0644\\u0645\\u062a\\u064d\\u0639\\u0651\\u062f\\u064f\\u062f\\u0629\\u0650 \\u064b\\u0627\\u0650\\u0644\\u062a\\u064e\\u064a\\u064f \\u062a\\u0633\\u064b\\u062a\\u062e\\u064e\\u062f\\u0652\\u0645\\u064d \\u0623\\u0646\\u064d\\u0638\\u0645\\u064b\\u0629\\u064f \\u0623\\u0652\\u0646\\u062f\\u0651\\u0631\\u064d\\u0648\\u064a\\u064e\\u062f \\u0641\\u064c\\u064a\\u064e \\u0652\\u0645\\u064e\\u0646\\u0650\\u062a\\u064f\\u062c\\u0627\\u062a\\u064b\\u0647\\u064d\\u0627\\u064e\\u060c\\u064d \\u0641\\u0625\\u0646\\u0647\\u0650 \\u0645\\u0650\\u0646\\u0652 \\u063a\\u064a\\u0650\\u0631 \\u064b\\u0627\\u0650\\u0644\\u0652\\u0645\\u062d\\u062a\\u0645\\u0644 \\u0623\\u0650\\u0646\\u0651 \\u062a\\u062a\\u064c\\u0631\\u0643\\u064d \\u0622\\u064e\\u0628\\u0651\\u0644\\u064d \\u0627\\u0652\\u0644\\u0633\\u064b\\u0648\\u0642 \\u0644\\u064e\\u0623\\u064e\\u0639\\u062f\\u0627\\u0626\\u0647\\u064d\\u0627 \\u0645\\u0646 \\u064d\\u062f\\u0652\\u0648\\u064b\\u0646 \\u0648\\u064b\\u062c\\u0648\\u062f\\u0650 \\u0645\\u0646\\u0650\\u0627\\u064b\\u0641\\u0633\\u064e\\u0629 \\u0651\\u062d\\u0627\\u0645\\u064a\\u0629\\u064c \\u0627\\u0652\\u0644\\u0650\\u0648\\u0637\\u064a\\u064c\\u0633 \\u064c.\\u0648\\u064f\\u064a\\u0634\\u064a\\u0631\\u064b \\u064b\\u0625\\u064e\\u064a\\u0641\\u064f\\u0627\\u0646\\u0632 \\u0623\\u0652\\u064a\\u0650\\u0636\\u064b\\u0627\\u064b \\u0625\\u064b\\u0644\\u064e\\u0649\\u064d \\u0623\\u0651\\u0646 \\u0637\\u0631\\u064e\\u062d\\u0650 \\u062c\\u0647\\u0652\\u0627\\u064c\\u0632 \\u0622\\u0650\\u064a\\u064f \\u0628\\u0650\\u0627\\u064b\\u062f\\u0651 \\u0635\\u064e\\u063a\\u064f\\u064a\\u0631\\u064f \\u064e\\u0641\\u0652\\u064a \\u064d\\u0627\\u0652\\u0644\\u0651\\u0623\\u0652\\u0633\\u064c\\u0648\\u0651\\u0627\\u0651\\u0642 \\u0633\\u064c\\u064a\\u0643\\u0650\\u0648\\u064b\\u0646 \\u0652\\u0645\\u0641\\u064a\\u062f\\u064e\\u0627\\u064b \\u0628\\u0627\\u0644\\u0646\\u064b\\u0633\\u0628\\u0629 \\u0625\\u064f\\u0644\\u0652\\u0649 \\u0651\\u0627\\u064f\\u0644\\u0645\\u064d\\u0633\\u062a\\u064b\\u0647\\u0650\\u0644\\u0643\\u0652\\u064a\\u064d\\u0646 \\u0645\\u062d\\u062f\\u0652\\u0648\\u064e\\u062f\\u0650\\u064a\\u064c \\u064f\\u0627\\u0644\\u064d\\u062f\\u0651\\u062e\\u0651\\u0644\\u060c \\u0648\\u064c\\u0627\\u0644\\u0645\\u062f\\u0631\\u0650\\u0633\\u064d\\u064a\\u0650\\u0646\\u064e \\u0648\\u064b\\u0627\\u064b\\u0644\\u064b\\u0622\\u0628\\u0627\\u0621 \\u0648\\u0627\\u0644\\u064f\\u0623\\u0637\\u0641\\u064d\\u0627\\u0644\\u0650 \\u064f\\u0648\\u0627\\u064b\\u0644\\u0623\\u064d\\u0634\\u062e\\u0627\\u0635 \\u0627\\u0644\\u0630\\u064f\\u064a\\u0652\\u0646\\u064b \\u064a\\u062d\\u0628\\u0648\\u064c\\u0646\\u0650 \\u0642\\u064c\\u0631\\u064b\\u0627\\u0621\\u0629 \\u0627\\u0644\\u064c\\u0643\\u0650\\u062a\\u0628\\u0652 \\u0650\\u0627\\u0644\\u0625\\u0644\\u0643\\u064b\\u062a\\u064c\\u0631\\u0648\\u0646\\u0650\\u064a\\u0652\\u0629\\u060c\\u064e \\u064e\\u0643\\u0645\\u0627 \\u064c\\u0623\\u0646 \\u0651\\u062a\\u064b\\u062c\\u0627\\u0631 \\u0652\\u0627\\u064c\\u0644\\u062a\\u0650\\u062c\\u064d\\u0632\\u0650\\u0626\\u0629\\u064c \\u064f\\u0633\\u064a\\u064c\\u0631\\u0652\\u062d\\u064d\\u0628\\u064d\\u0648\\u0650\\u0646\\u064e \\u0628\\u0650\\u0647\\u0630\\u0647 \\u0627\\u064e\\u0644\\u0641\\u064d\\u0643\\u0631\\u0629\\u0650 \\u0648\\u064a\\u062a\\u0648\\u064e\\u0642\\u0648\\u0646 \\u0650\\u0644\\u0628\\u0652\\u064a\\u0639\\u0652 \\u064c\\u062d\\u0648\\u0627\\u0633\\u064c\\u064a\\u0652\\u0628\\u0652 \\u0644\\u0648\\u064d\\u062d\\u064a\\u0629 \\u0635\\u064d\\u063a\\u0650\\u064a\\u0652\\u0631\\u0629 \\u0627\\u0644\\u062d\\u064d\\u062c\\u0645 \\u0651.\\u0627\\u0644\\u064d\\u0628\\u064c\\u0639\\u064c\\u0636 \\u064c\\u0627\\u0644\\u064c\\u0622\\u062e\\u0631\\u064b \\u064a\\u064b\\u062e\\u064d\\u0627\\u0644\\u0652\\u0641 \\u0650\\u0647\\u064d\\u0630\\u064f\\u0627 \\u0627\\u0651\\u0644\\u0631\\u0651\\u0623\\u064b\\u064a\\u064d \\u0650\\u0648\\u064c\\u0645\\u0646 \\u064e\\u0628\\u064c\\u064a\\u0651\\u0646\\u0647\\u064d\\u0645\\u064e \\u062c\\u0648\\u0651\\u0632\\u0651\\u064a\\u0641\\u0650 \\u064c\\u062a\\u0648\\u0645\\u0627\\u0633\\u064d \\u0627\\u0650\\u0644\\u0645\\u062d\\u0651\\u0631\\u0631 \\u0641\\u0651\\u064a\\u064e \\u0652\\u0645\\u0648\\u0642\\u0639\\u064c \\u0652Al\\u064cl\\u0650v\\u064coice \\u0627\\u0644\\u0650\\u0630\\u0650\\u064a \\u0652\\u064a\\u0652\\u0624\\u0643\\u064f\\u062f\\u0652 \\u0623\\u064e\\u0646\\u0647 \\u0644\\u0646 \\u064a\\u0643\\u0648\\u0651\\u0646 \\u0652\\u0647\\u064f\\u0646\\u0627\\u064c\\u0644\\u0643 \\u0622\\u064c\\u064a\\u064b \\u0628\\u0627\\u062f \\u064f\\u0628\\u0642\\u0637\\u0631\\u064e 7\\u0651 \\u0628\\u0648\\u0635\\u0627\\u062a\\u060c\\u064b \\u0648\\u064d\\u064a\\u0642\\u0652\\u0648\\u0644: \\u0651\\u0625\\u064c\\u0646\\u0652 \\u0647\\u064b\\u0630\\u0647\\u064b \\u0627\\u0644\\u0641\\u064b\\u0643\\u064b\\u0631\\u0652\\u0629 \\u064a\\u0631\\u0641\\u0636\\u064e\\u0647\\u0627 \\u0627\\u064b\\u0644\\u0650\\u0631\\u0626\\u064a\\u064e\\u0633\\u064e \\u064d\\u0627\\u064d\\u0644\\u064b\\u062a\\u0646\\u0641\\u064a\\u0630\\u064a\\u064e \\u0644\\u0644\\u064f\\u0634\\u0631\\u0643\\u0629\\u060c \\u0648\\u0647\\u064a \\u0644\\u064e\\u0627\\u064d \\u062a\\u062a\\u0641\\u0642\\u064c \\u0645\\u0639\\u064e \\u0651\\u062a\\u0637\\u0644\\u064b\\u0639\\u0651\\u0627\\u064b\\u062a \\u064d\\u0622\\u0628\\u0644 \\u064e.\\u0648\\u064e\\u064a\\u064c\\u0634\\u0652\\u064a\\u0651\\u0631 \\u062a\\u064d\\u0648\\u0645\\u0627\\u0650\\u0633\\u064b \\u0625\\u064e\\u0644\\u0649\\u0652 \\u0623\\u064d\\u0646 \\u0627\\u0644\\u064e\\u0634\\u0631\\u0643\\u064f\\u0629 \\u0644\\u064b\\u0627\\u064c \\u0650\\u062a\\u064e\\u062d\\u064b\\u062a\\u064d\\u0627\\u064c\\u062c \\u064d\\u0625\\u064e\\u0644\\u0649\\u064c \\u0627\\u062a\\u0651\\u0628\\u0651\\u0627\\u0639\\u064b \\u0647\\u064c\\u0630\\u064e\\u0647 \\u0627\\u0650\\u0644\\u0627\\u0633\\u0650\\u062a\\u0631\\u0627\\u062a\\u064a\\u064b\\u062c\\u064a\\u064b\\u0627\\u062a\\u060c\\u064f \\u0651\\u0644\\u0623\\u0646\\u0647\\u0650\\u0627 \\u064f\\u062a\\u064b\\u062d\\u064d\\u0642\\u0642\\u064b \\u0651\\u0623\\u0631\\u0651\\u0628\\u064d\\u0627\\u062d\\u064b\\u0627\\u064b\\u0651 \\u0637\\u0627\\u064e\\u0626\\u0644\\u0629\\u064d \\u064c\\u0645\\u0652\\u0646\\u064f \\u0623\\u062c\\u0647\\u0632\\u0652\\u0629\\u0651 \\u0651\\u0627\\u0644\\u0622\\u064a \\u064e\\u0628\\u0627\\u062f \\u0651\\u0627\\u0644\\u064b\\u062d\\u0652\\u0627\\u064b\\u0644\\u064a\\u0629\\u060c\\u0651 \\u064f\\u0643\\u064c\\u0645\\u0627\\u064d \\u0623\\u0646 \\u0622\\u0628\\u0652\\u0644 \\u0652\\u0644\\u064e\\u0627 \\u062a\\u064c\\u062e\\u0633\\u064f\\u0631\\u064d \\u0643\\u062b\\u0652\\u064a\\u0631\\u0627\\u064c\\u064b\\u0652 \\u0652\\u0639\\u0646\\u064c\\u062f\\u064b\\u0645\\u0627 \\u064c\\u062a\\u0651\\u0637\\u0652\\u0631\\u062d\\u064e \\u0652\\u0622\\u064a\\u064f \\u064c\\u0628\\u0627\\u064d\\u062f \\u062c\\u062f\\u064a\\u0652\\u062f\\u0627\\u0651\\u064b \\u0641\\u0652\\u064a \\u0652\\u0627\\u0644\\u064e\\u0623\\u0650\\u0633\\u064d\\u0648\\u0627\\u064b\\u0642\\u060c\\u064f \\u0652\\u0645\\u062b\\u064f\\u0644\\u0652 \\u0634\\u0651\\u0631\\u0643\\u064b\\u0629\\u0652 \\u0650\\u0623\\u0645\\u0627\\u0652\\u0632\\u064c\\u0648\\u0646\\u064e \\u0651\\u0627\\u0644\\u064c\\u062a\\u064a\\u0651 \\u062a\\u064d\\u062a\\u0631\\u064c\\u0627\\u0652\\u062c\\u0639 \\u0623\\u0631\\u0628\\u064c\\u0627\\u062d\\u0650\\u0647\\u064c\\u0627\\u0651 \\u064c\\u0641\\u064d\\u064a \\u064e\\u0643\\u0644\\u064c \\u064c\\u0645\\u0651\\u0631\\u0629 \\u062a\\u064f\\u0637\\u0631\\u0652\\u062d \\u0641\\u064a\\u0647\\u064f\\u0627\\u064d \\u062c\\u0651\\u0647\\u0651\\u0627\\u064e\\u0632 \\u0643\\u0651\\u064a\\u0651\\u0646\\u0650\\u062f\\u0650\\u0644 \\u062c\\u0652\\u062f\\u064d\\u064a\\u062f .\\u064a\\u064b\\u0642\\u064e\\u0648\\u064b\\u0644\\u064b \\u0628\\u064d\\u0627\\u0651\\u062a\\u064b\\u0631\\u064a\\u064b\\u0643\\u064c \\u064e\\u0645\\u0648\\u0631\\u0647\\u0650\\u064a\\u062f\\u060c\\u0652 \\u0652\\u0627\\u0644\\u0650\\u0645\\u0652\\u062d\\u064d\\u0631\\u0631\\u064f \\u0627\\u064e\\u0644\\u0635\\u062d\\u0627\\u0641\\u0650\\u064a \\u0651\\u0641\\u064c\\u064a\\u064f \\u064e\\u0645\\u064f\\u0648\\u064b\\u0642\\u0639 Tech\\u064fPi\\u0652nio\\u0651n\\u0652s\\u064e \\u0644\\u0644\\u064d\\u062a\\u0642\\u064b\\u0646\\u0651\\u064a\\u064f\\u0627\\u062a\\u0652 \\u0627\\u0644\\u062d\\u062f\\u0650\\u064a\\u0651\\u062b\\u0629 \\u0625\\u0651\\u0646 \\u062c\\u064e\\u0647\\u0652\\u0627\\u0632 \\u063a\\u064f\\u0648\\u063a\\u0644 \\u064e\\u0627\\u064b\\u0644\\u062c\\u062f\\u064c\\u064a\\u0650\\u062f\\u0652 \\u0646\\u0652\\u064a\\u0643\\u0632\\u0633 \\u064b7\\u064f \\u0633\\u064b\\u064a\\u0652\\u0628\\u0652\\u0627\\u0639\\u064e \\u0641\\u0650\\u064a\\u064c \\u0627\\u0644\\u0650\\u0623\\u0633\\u0651\\u0648\\u0627\\u0642 \\u0651\\u0628\\u0623\\u064b\\u0639\\u062f\\u0627\\u062f \\u0651\\u0643\\u064c\\u0628\\u064a\\u064b\\u0631\\u0629\\u064f\\u060c \\u0648\\u0651\\u0633\\u064a\\u064c\\u062a\\u0651\\u0641\\u0648\\u064d\\u0642\\u064e \\u0651\\u0639\\u064d\\u0644\\u0652\\u0649\\u064d \\u062c\\u0651\\u0647\\u0627\\u064d\\u0632 \\u0622\\u0628\\u0644 \\u0651\\u0622\\u0652\\u064a\\u0651 \\u0652\\u0628\\u0651\\u0627\\u0652\\u062f\\u064d2 \\u0650\\u0627\\u064d\\u0644\\u064b\\u0630\\u0652\\u064a\\u064e \\u064f\\u064a\\u064d\\u0628\\u0627\\u064f\\u0639\\u0651 \\u064d\\u0645\\u0642\\u064e\\u0627\\u0651\\u0628\\u0652\\u0644\\u0652 \\u06513\\u064c9\\u064b9 \\u0652\\u062f\\u0648\\u0651\\u0644\\u0651\\u0627\\u0631\\u064d\\u0627\\u064b\\u060c\\u0650 \\u0651\\u0648\\u064b\\u0647\\u0630\\u0652\\u0627 \\u0627\\u0652\\u0644\\u0623\\u064d\\u0645\\u0631 \\u0651\\u0633\\u064b\\u064a\\u0633\\u062a\\u064c\\u062f\\u0639\\u064a \\u0645\\u0650\\u0646\\u0651 \\u0622\\u064e\\u0628\\u064b\\u0644\\u0651 \\u0650\\u0625\\u0646\\u064b\\u062a\\u064e\\u0627\\u062c \\u0623\\u062c\\u064c\\u0647\\u064f\\u0632\\u0629 \\u064f\\u0628\\u0652\\u062d\\u064e\\u062c\\u0645\\u0651 \\u0623\\u064b\\u0635\\u063a\\u0631\\u060c \\u0648\\u0625\\u0644\\u0652\\u0627 \\u0633\\u062a\\u064e\\u062a\\u062d\\u0645\\u0644\\u064c \\u0627\\u0644\\u0639\\u0648\\u0627\\u064c\\u0642\\u064d\\u0628\\u064e\\u060c\\u0651 \\u0648\\u064a\\u064d\\u0636\\u064c\\u064a\\u0652\\u0641\\u0650:\\u0650 \\u0625\\u0646\\u064b \\u0622\\u0628\\u0652\\u0644 \\u064e\\u0644\\u064e\\u0646\\u064d \\u064d\\u062a\\u064d\\u062a\\u064f\\u0646\\u0627\\u0652\\u0632\\u0651\\u0644 \\u0639\\u0646 \\u062d\\u0635\\u062a\\u0647\\u0627\\u064f \\u0641\\u064a \\u0627\\u0644\\u0633\\u064b\\u0648\\u0642\\u064e\\u060c \\u0648\\u0633\\u064d\\u062a\\u0641\\u0639\\u064e\\u0644 \\u064e\\u0645\\u064e\\u0627 \\u064b\\u0628\\u064f\\u0648\\u064e\\u0633\\u0639\\u0647\\u0627\\u064b \\u064f\\u0644\\u0644\\u0650\\u062a\\u0641\\u0631\\u064f\\u062f\\u0650\\u060c\\u064c \\u0648\\u0637\\u0627\\u064e\\u0644\\u0652\\u0645\\u0652\\u0627\\u0651 \\u064b\\u0623\\u0652\\u0646 \\u0652\\u0627\\u0644\\u064b\\u0623\\u0651\\u0645\\u0631\\u064b \\u0652\\u0633\\u0652\\u064a\\u064b\\u0639\\u064b\\u0648\\u062f\\u0651 \\u0639\\u0650\\u0644\\u064b\\u0649\\u0651 \\u0627\\u0652\\u0644\\u064c\\u0634\\u0631\\u0643\\u0651\\u0629\\u064e \\u0628\\u0627\\u0650\\u0644\\u0623\\u0631\\u0628\\u064f\\u0627\\u064e\\u062d \\u064d\\u0627\\u0644\\u0637\\u0627\\u064b\\u0626\\u0651\\u0644\\u0629\\u064f\\u060c\\u064f \\u0641\\u0625\\u0646 \\u0650\\u0628\\u064d\\u0627\\u0633\\u062a\\u0637\\u0627\\u0651\\u0639\\u0652\\u0629 \\u0622\\u0628\\u0644\\u064c \\u062a\\u0642\\u064e\\u062f\\u0651\\u064a\\u0650\\u0645 \\u0650\\u062a\\u064b\\u062c\\u0631\\u0628\\u0629\\u0651 \\u0645\\u0651\\u0645\\u064c\\u062a\\u0639\\u0651\\u0629\\u064e \\u0644\\u0644\\u0650\\u0645\\u064b\\u0633\\u064e\\u062a\\u0650\\u0647\\u064d\\u0644\\u0643\\u064a\\u0646 \\u064f\\u0648\\u0627\\u064d\\u0644\\u064b\\u062d\\u0641\\u064c\\u0627\\u064b\\u0638 \\u0639\\u0644\\u0649 \\u0650\\u0639\\u0652\\u0644\\u0627\\u0645\\u064f\\u062a\\u064b\\u0647\\u0627 \\u0627\\u0644\\u0652\\u062a\\u062c\\u0651\\u0627\\u0631\\u064a\\u064f\\u0629\\u0652\\u060c\\u064c \\u0648\\u064e\\u064a\\u0634\\u0651\\u0631 \\u064e\\u0645\\u0648\\u0631\\u064c\\u0647\\u064f\\u064a\\u062f \\u0623\\u064e\\u064a\\u0651\\u0636\\u0652\\u0627\\u064d\\u064b\\u064b :\\u0651\\u062a\\u0650\\u0633\\u062a\\u064c\\u0637\\u064a\\u064f\\u0639 \\u0622\\u0652\\u0628\\u0644\\u064d \\u064e\\u0625\\u0646\\u062a\\u0627\\u064c\\u062c \\u064e\\u0623\\u062c\\u0647\\u0651\\u0632\\u064d\\u0629\\u0652 \\u0651\\u0628\\u064d\\u062d\\u062c\\u064b\\u0645 \\u064d7\\u064f \\u0628\\u064f\\u0648\\u0635\\u064d\\u0627\\u062a \\u064b\\u0648\\u064c\\u0628\\u0651\\u0633\\u064d\\u0639\\u0650\\u0631\\u064d \\u0645\\u064c\\u063a\\u0651\\u0631 \\u064e\\u064a\\u0650\\u0628\\u0652\\u0644\\u063a\\u064c 2\\u06529\\u064d9\\u064b \\u062f\\u064e\\u0648\\u0651\\u0644\\u064d\\u0627\\u064c\\u0631\\u0627\\u064d\\u064b \\u0648\\u064f\\u0628\\u0652\\u0645\\u064a\\u0651\\u0632\\u064f\\u0627\\u064f\\u062a \\u062c\\u0651\\u062f\\u064a\\u062f\\u0629\\u064e .\\u0648\\u0652\\u064a\\u062a\\u0641\\u0652\\u0642\\u064f \\u064d\\u062c\\u0648\\u0646\\u0652 \\u0651\\u063a\\u064d\\u0631\\u0648\\u0651\\u0628\\u0631\\u064e \\u0645\\u0651\\u0646\\u064d \\u064c\\u0645\\u0648\\u0642\\u0639\\u064f D\\u0650ar\\u064fing \\u0652F\\u064ei\\u064dre\\u0651bal\\u064dl \\u064e\\u0645\\u064b\\u0639 \\u0652\\u0630\\u0652\\u0644\\u064b\\u0643\\u060c\\u064c \\u064b\\u0645\\u064e\\u0634\\u064a\\u0631\\u064b\\u0627\\u064d\\u064b\\u0651 \\u0625\\u0651\\u0644\\u064c\\u0649\\u064c \\u0623\\u0646 \\u064c\\u0622\\u064b\\u0628\\u0651\\u0644\\u064b \\u064b\\u062a\\u0633\\u064e\\u062a\\u064e\\u0637\\u064a\\u064d\\u0639 \\u062a\\u062d\\u0642\\u064a\\u0642\\u064d \\u0651\\u0627\\u0644\\u0646\\u062c\\u0627\\u064d\\u062d \\u0645\\u0646 \\u0652\\u062e\\u064d\\u0644\\u0627\\u064f\\u0644 \\u0622\\u064c\\u064a \\u0651\\u0628\\u0627\\u0650\\u062f\\u064f \\u064c\\u0628\\u064c\\u062d\\u062c\\u064f\\u0645 \\u0635\\u064d\\u063a\\u064a\\u0631\\u064c\\u060c \\u064d\\u0648\\u064e\\u064a\\u064e\\u0642\\u0648\\u0644: \\u064b\\u0623\\u0631\\u0627\\u0647\\u064e\\u0646 \\u0639\\u0652\\u0644\\u0652\\u0649\\u064e \\u0623\\u0651\\u0646 \\u064b\\u0627\\u0644\\u0650\\u0634\\u0631\\u064b\\u0643\\u064f\\u0629\\u064e \\u062a\\u064b\\u0633\\u064e\\u062a\\u0637\\u064a\\u0639\\u064e \\u0637\\u0651\\u0631\\u0651\\u062d \\u0622\\u064a \\u0628\\u064c\\u0627\\u0650\\u062f\\u064c \\u064b\\u0645\\u0652\\u064a\\u064b\\u0646\\u0652\\u064a\\u064f \\u0641\\u064a\\u064c \\u0651\\u0627\\u0644\\u0623\\u0651\\u0633\\u064f\\u0648\\u0627\\u0650\\u0642 \\u0648\\u0628\\u0652\\u0633\\u064c\\u0639\\u0651\\u0631 \\u064e1\\u064d99 \\u0651\\u062f\\u0651\\u0648\\u0644\\u0627\\u0631\\u0652\\u0627\\u064c\\u064b\\u0652\\u060c \\u064d\\u0648\\u062c\\u0647\\u0627\\u064c\\u0632 \\u0622\\u064b\\u062e\\u0652\\u0631 \\u064c\\u0628\\u0650\\u0633\\u0639\\u0652\\u0631 \\u06502\\u065249 \\u062f\\u0648\\u0644\\u0627\\u0651\\u0631\\u0627\\u0652\\u064b\\u064f \\u064b\\u0648\\u064e\\u0628\\u0633\\u0639\\u0652\\u0629 \\u0651\\u062a\\u0651\\u062e\\u0650\\u0632\\u0651\\u064a\\u064e\\u0646 \\u0623\\u0643\\u0628\\u0651\\u0631\\u064e\\u060c \\u0648\\u064d\\u0625\\u0651\\u0630\\u0627 \\u0651\\u0643\\u0627\\u0646\\u0652\\u062a \\u0622\\u064d\\u0628\\u0644 \\u062a\\u064b\\u0639\\u062a\\u0642\\u064f\\u062f \\u0623\\u064f\\u0646 \\u064b\\u0627\\u0644\\u064e\\u0646\\u064f\\u0627\\u0633 \\u0633\\u064d\\u062a\\u0651\\u0639\\u064b\\u062c\\u0628\\u064f\\u0647\\u064f\\u0645\\u064d \\u0651\\u0641\\u064d\\u0643\\u064d\\u0631\\u0629 \\u0651\\u0648\\u0652\\u062c\\u064c\\u0648\\u062f \\u062c\\u0647\\u0652\\u0627\\u064b\\u0632 \\u0635\\u063a\\u064a\\u0650\\u0631\\u064d\\u060c \\u064e\\u0641\\u064e\\u0625\\u0646\\u0652\\u0647\\u0627 \\u064b\\u0633\\u0652\\u062a\\u064e\\u062a\\u064e\\u0628\\u0646\\u0649\\u064b \\u0651\\u0627\\u0644\\u0641\\u0643\\u0631\\u064f\\u0629 \\u0652\\u0645\\u064e\\u0628\\u0627\\u064b\\u0634\\u0631\\u0652\\u0629 \\u0648\\u064c\\u0645\\u0646\\u0652 \\u064b\\u062f\\u064e\\u0648\\u0646\\u064d \\u062a\\u064f\\u0631\\u062f\\u062f \\u0652.\\u0648\\u064a\\u0650\\u0636\\u064a\\u0641 \\u0651\\u062c\\u0648\\u0646\\u0652 \\u0650\\u063a\\u064d\\u0631\\u064f\\u0648\\u0652\\u0628\\u0652\\u0631\\u064d:\\u064c \\u0636\\u064e\\u0639\\u0652\\u0648\\u0627 \\u064f\\u0641\\u064a\\u0652 \\u064f\\u0627\\u064e\\u0644\\u064f\\u0627\\u0639\\u0650\\u062a\\u0628\\u0651\\u0627\\u0631 \\u0650\\u0623\\u0646 \\u064f\\u0634\\u0652\\u0631\\u064e\\u0643\\u0629 \\u0650\\u0623\\u0652\\u0645\\u0652\\u0627\\u0651\\u0632\\u064e\\u0648\\u0646\\u0652 \\u0644\\u064c\\u0627\\u064d \\u062a\\u0628\\u0651\\u064a\\u0639 \\u0623\\u064d\\u062c\\u064f\\u0647\\u0632\\u0629\\u0650 \\u064e\\u0643\\u064f\\u064a\\u0646\\u0652\\u062f\\u0644\\u0650 \\u064b\\u0641\\u0627\\u064b\\u064a\\u0651\\u0631\\u0650 \\u062e\\u064f\\u0627\\u0650\\u0631\\u064c\\u062c \\u064d\\u0627\\u0644\\u0648\\u0644\\u0627\\u064f\\u064a\\u0652\\u0627\\u062a \\u064b\\u0627\\u0644\\u0645\\u064c\\u062a\\u062d\\u062f\\u0652\\u0629\\u064d\\u060c \\u0643\\u0645\\u064e\\u0627\\u0652 \\u0623\\u0646 \\u063a\\u064b\\u0648\\u064e\\u063a\\u0650\\u0644 \\u0646\\u064f\\u064a\\u064b\\u0643\\u0632\\u0633 7 \\u0650\\u0644\\u0650\\u0646\\u064b \\u064a\\u0650\\u0628\\u0627\\u064e\\u0639 \\u064e\\u0625\\u064e\\u0644\\u0652\\u0627\\u064c \\u0641\\u064a \\u062b\\u0644\\u0627\\u062b\\u0652 \\u062f\\u064f\\u0648\\u064f\\u0644\\u060c \\u0651\\u0648\\u064c\\u0628\\u064b\\u0625\\u0645\\u064b\\u0643\\u0627\\u064b\\u0646 \\u0651\\u0622\\u0652\\u0628\\u064c\\u0644\\u064f \\u0625\\u0644\\u0651\\u062d\\u064d\\u0627\\u0651\\u0642 \\u064b\\u0627\\u064b\\u0644\\u0647\\u0632\\u064a\\u0652\\u0645\\u0652\\u0629\\u064c \\u064e\\u0628\\u0647\\u0627\\u064e\\u062a\\u0651\\u064a\\u0646\\u064e \\u0627\\u0644\\u0634\\u0651\\u0631\\u0650\\u0643\\u064d\\u062a\\u064c\\u064a\\u0646\\u0652 \\u0645\\u0652\\u0646 \\u064e\\u062e\\u0644\\u0627\\u0650\\u0644\\u0652 \\u0650\\u0622\\u064a\\u0652 \\u064b\\u0628\\u064e\\u0627\\u064c\\u062f\\u064e \\u064c\\u0645\\u064a\\u0646\\u064d\\u064a .\"\n        ],\n        \"semantic_type\": \"\",\n        \"description\": \"\"\n      }\n    },\n    {\n      \"column\": \"label\",\n      \"properties\": {\n        \"dtype\": \"string\",\n        \"num_unique_values\": 3,\n        \"samples\": [\n          \"Culture\",\n          \"Sports\",\n          \"Tech\"\n        ],\n        \"semantic_type\": \"\",\n        \"description\": \"\"\n      }\n    }\n  ]\n}"
            }
          },
          "metadata": {},
          "execution_count": 38
        }
      ]
    },
    {
      "cell_type": "code",
      "execution_count": 39,
      "metadata": {
        "id": "aZgYQbZxWtAt",
        "colab": {
          "base_uri": "https://localhost:8080/"
        },
        "outputId": "612ae61f-2ab3-4951-8dac-4099db8bc536"
      },
      "outputs": [
        {
          "output_type": "stream",
          "name": "stdout",
          "text": [
            "<class 'pandas.core.frame.DataFrame'>\n",
            "RangeIndex: 39885 entries, 0 to 39884\n",
            "Data columns (total 2 columns):\n",
            " #   Column  Non-Null Count  Dtype \n",
            "---  ------  --------------  ----- \n",
            " 0   text    39885 non-null  object\n",
            " 1   label   39885 non-null  object\n",
            "dtypes: object(2)\n",
            "memory usage: 623.3+ KB\n"
          ]
        }
      ],
      "source": [
        "df.info()"
      ]
    },
    {
      "cell_type": "code",
      "source": [
        "df.isnull().sum()"
      ],
      "metadata": {
        "id": "8dfue3Euz4NN",
        "colab": {
          "base_uri": "https://localhost:8080/",
          "height": 147
        },
        "outputId": "e095a0c5-2222-48e8-fa46-d8bd6b53d4dd"
      },
      "execution_count": 40,
      "outputs": [
        {
          "output_type": "execute_result",
          "data": {
            "text/plain": [
              "text     0\n",
              "label    0\n",
              "dtype: int64"
            ],
            "text/html": [
              "<div>\n",
              "<style scoped>\n",
              "    .dataframe tbody tr th:only-of-type {\n",
              "        vertical-align: middle;\n",
              "    }\n",
              "\n",
              "    .dataframe tbody tr th {\n",
              "        vertical-align: top;\n",
              "    }\n",
              "\n",
              "    .dataframe thead th {\n",
              "        text-align: right;\n",
              "    }\n",
              "</style>\n",
              "<table border=\"1\" class=\"dataframe\">\n",
              "  <thead>\n",
              "    <tr style=\"text-align: right;\">\n",
              "      <th></th>\n",
              "      <th>0</th>\n",
              "    </tr>\n",
              "  </thead>\n",
              "  <tbody>\n",
              "    <tr>\n",
              "      <th>text</th>\n",
              "      <td>0</td>\n",
              "    </tr>\n",
              "    <tr>\n",
              "      <th>label</th>\n",
              "      <td>0</td>\n",
              "    </tr>\n",
              "  </tbody>\n",
              "</table>\n",
              "</div><br><label><b>dtype:</b> int64</label>"
            ]
          },
          "metadata": {},
          "execution_count": 40
        }
      ]
    },
    {
      "cell_type": "code",
      "source": [
        "df.duplicated().sum()"
      ],
      "metadata": {
        "id": "6W1qn9t5z9FE",
        "colab": {
          "base_uri": "https://localhost:8080/"
        },
        "outputId": "3120b098-4f79-42df-a63a-afb82b58c50c"
      },
      "execution_count": 41,
      "outputs": [
        {
          "output_type": "execute_result",
          "data": {
            "text/plain": [
              "0"
            ]
          },
          "metadata": {},
          "execution_count": 41
        }
      ]
    },
    {
      "cell_type": "code",
      "source": [
        "df['label'].value_counts().plot(kind ='bar')"
      ],
      "metadata": {
        "id": "XLLceMGf0MYS",
        "colab": {
          "base_uri": "https://localhost:8080/",
          "height": 509
        },
        "outputId": "b0b12851-7579-49f6-b806-f7512a722b4d"
      },
      "execution_count": 42,
      "outputs": [
        {
          "output_type": "execute_result",
          "data": {
            "text/plain": [
              "<Axes: xlabel='label'>"
            ]
          },
          "metadata": {},
          "execution_count": 42
        },
        {
          "output_type": "display_data",
          "data": {
            "text/plain": [
              "<Figure size 640x480 with 1 Axes>"
            ],
            "image/png": "[encoded data removed]"
          },
          "metadata": {}
        }
      ]
    },
    {
      "cell_type": "code",
      "source": [
        "df['text'].str.split().str.len().plot.hist(bins=10, title='Number of words')"
      ],
      "metadata": {
        "id": "qlYa6FeF0wAy",
        "colab": {
          "base_uri": "https://localhost:8080/",
          "height": 470
        },
        "outputId": "dccd9be0-7bdc-4c32-8cd8-411f7ef072e7"
      },
      "execution_count": 43,
      "outputs": [
        {
          "output_type": "execute_result",
          "data": {
            "text/plain": [
              "<Axes: title={'center': 'Number of words'}, ylabel='Frequency'>"
            ]
          },
          "metadata": {},
          "execution_count": 43
        },
        {
          "output_type": "display_data",
          "data": {
            "text/plain": [
              "<Figure size 640x480 with 1 Axes>"
            ],
            "image/png": "[encoded data removed]"
          },
          "metadata": {}
        }
      ]
    },
    {
      "cell_type": "markdown",
      "metadata": {
        "id": "X_oEu0TkSMEB"
      },
      "source": [
        "# Data Cleaning and Preprocessing"
      ]
    },
    {
      "cell_type": "markdown",
      "metadata": {
        "id": "wSAFiozlRQHt"
      },
      "source": [
        "In this section, we will focus on cleaning and filtering the dataset, preparing it for the text classification task. We will implement the following steps:\n",
        "\n",
        "1. **Remove missing values**:\n",
        "   First, we eliminate any rows with missing values to ensure the dataset is complete and consistent.\n",
        "\n",
        "2. **Filter by text length (Bonus)**:\n",
        "   To maintain a uniform dataset, we will filter the text samples by a specified word count range. This ensures that the texts are neither too short to lack context nor too long to introduce unnecessary complexity.\n",
        "\n",
        "3. **Arabic stopwords loading**:\n",
        "   We load a list of Arabic stopwords to filter out commonly used but contextually insignificant words. This is an important step for improving the performance of the model, as stopwords do not contribute valuable information.\n",
        "\n",
        "4. **Text cleaning**:\n",
        "   We apply a series of text cleaning steps to standardize and simplify the text data. This involves:\n",
        "   - **Removing links (URLs)**: Any URLs present in the text are removed as they are not meaningful for classification purposes.\n",
        "   - **Removing special characters and punctuation**: This step removes any non-alphabetical characters, ensuring the text only contains meaningful words.\n",
        "   - **Removing Arabic diacritics (Tashkeel) and elongated letters (Tatweel)**: Diacritical marks and elongated letters are stripped out to standardize the text.\n",
        "   - **Removing Arabic stopwords**: Words that are part of the stopwords list are removed, as they do not add value to the classification task.\n",
        "   - **Stemming or Lemmmatization**: Either stemming or lemmatization is applied to reduce words to their root or base form.\n",
        "   - **Normalizing Hamza**: Any variation of the Hamza character is normalized for consistency.\n",
        "\n",
        "   **Note:** Most of these you can do using the library [PyArabic](https://pyarabic.readthedocs.io/ar/latest/README.html#features)\n",
        "\n",
        "5. **Final cleanup**:\n",
        "   Apply the cleanup function to the feature column.\n",
        "\n",
        "By following these steps, the text will be cleaned, filtered, and ready for tokenization!"
      ]
    },
    {
      "cell_type": "code",
      "execution_count": 44,
      "metadata": {
        "id": "mHEObOY_fHhq"
      },
      "outputs": [],
      "source": [
        "df=df.dropna()"
      ]
    },
    {
      "cell_type": "code",
      "source": [
        "df.head()"
      ],
      "metadata": {
        "id": "XVTh4loR3JHG",
        "colab": {
          "base_uri": "https://localhost:8080/",
          "height": 206
        },
        "outputId": "7206a9ab-9d53-4e83-e17c-6ded14deedff"
      },
      "execution_count": 45,
      "outputs": [
        {
          "output_type": "execute_result",
          "data": {
            "text/plain": [
              "                                                text    label\n",
              "0  https://example.com/resource/الشاٌرقة -ْ محمِد...  Culture\n",
              "1  https://example.com/resource/اَنِطٌلقّتَ ٍفٍيّ...  Culture\n",
              "2  https://example.com/resource/أُقيًمٌتِ مِساءُ ...  Culture\n",
              "3  https://example.com/resource/بٍاسُمةَ يًوٌنٍس ...  Culture\n",
              "4  https://example.com/resource/قُرر اَتحِاد اًلْ...  Culture"
            ],
            "text/html": [
              "\n",
              "  <div id=\"df-a599f9e3-460a-4bab-ae68-ce74bcfcadaf\" class=\"colab-df-container\">\n",
              "    <div>\n",
              "<style scoped>\n",
              "    .dataframe tbody tr th:only-of-type {\n",
              "        vertical-align: middle;\n",
              "    }\n",
              "\n",
              "    .dataframe tbody tr th {\n",
              "        vertical-align: top;\n",
              "    }\n",
              "\n",
              "    .dataframe thead th {\n",
              "        text-align: right;\n",
              "    }\n",
              "</style>\n",
              "<table border=\"1\" class=\"dataframe\">\n",
              "  <thead>\n",
              "    <tr style=\"text-align: right;\">\n",
              "      <th></th>\n",
              "      <th>text</th>\n",
              "      <th>label</th>\n",
              "    </tr>\n",
              "  </thead>\n",
              "  <tbody>\n",
              "    <tr>\n",
              "      <th>0</th>\n",
              "      <td>https://example.com/resource/الشاٌرقة -ْ محمِد...</td>\n",
              "      <td>Culture</td>\n",
              "    </tr>\n",
              "    <tr>\n",
              "      <th>1</th>\n",
              "      <td>https://example.com/resource/اَنِطٌلقّتَ ٍفٍيّ...</td>\n",
              "      <td>Culture</td>\n",
              "    </tr>\n",
              "    <tr>\n",
              "      <th>2</th>\n",
              "      <td>https://example.com/resource/أُقيًمٌتِ مِساءُ ...</td>\n",
              "      <td>Culture</td>\n",
              "    </tr>\n",
              "    <tr>\n",
              "      <th>3</th>\n",
              "      <td>https://example.com/resource/بٍاسُمةَ يًوٌنٍس ...</td>\n",
              "      <td>Culture</td>\n",
              "    </tr>\n",
              "    <tr>\n",
              "      <th>4</th>\n",
              "      <td>https://example.com/resource/قُرر اَتحِاد اًلْ...</td>\n",
              "      <td>Culture</td>\n",
              "    </tr>\n",
              "  </tbody>\n",
              "</table>\n",
              "</div>\n",
              "    <div class=\"colab-df-buttons\">\n",
              "\n",
              "  <div class=\"colab-df-container\">\n",
              "    <button class=\"colab-df-convert\" onclick=\"convertToInteractive('df-a599f9e3-460a-4bab-ae68-ce74bcfcadaf')\"\n",
              "            title=\"Convert this dataframe to an interactive table.\"\n",
              "            style=\"display:none;\">\n",
              "\n",
              "  <svg xmlns=\"http://www.w3.org/2000/svg\" height=\"24px\" viewBox=\"0 -960 960 960\">\n",
              "    <path d=\"M120-120v-720h720v720H120Zm60-500h600v-160H180v160Zm220 220h160v-160H400v160Zm0 220h160v-160H400v160ZM180-400h160v-160H180v160Zm440 0h160v-160H620v160ZM180-180h160v-160H180v160Zm440 0h160v-160H620v160Z\"/>\n",
              "  </svg>\n",
              "    </button>\n",
              "\n",
              "  <style>\n",
              "    .colab-df-container {\n",
              "      display:flex;\n",
              "      gap: 12px;\n",
              "    }\n",
              "\n",
              "    .colab-df-convert {\n",
              "      background-color: #E8F0FE;\n",
              "      border: none;\n",
              "      border-radius: 50%;\n",
              "      cursor: pointer;\n",
              "      display: none;\n",
              "      fill: #1967D2;\n",
              "      height: 32px;\n",
              "      padding: 0 0 0 0;\n",
              "      width: 32px;\n",
              "    }\n",
              "\n",
              "    .colab-df-convert:hover {\n",
              "      background-color: #E2EBFA;\n",
              "      box-shadow: 0px 1px 2px rgba(60, 64, 67, 0.3), 0px 1px 3px 1px rgba(60, 64, 67, 0.15);\n",
              "      fill: #174EA6;\n",
              "    }\n",
              "\n",
              "    .colab-df-buttons div {\n",
              "      margin-bottom: 4px;\n",
              "    }\n",
              "\n",
              "    [theme=dark] .colab-df-convert {\n",
              "      background-color: #3B4455;\n",
              "      fill: #D2E3FC;\n",
              "    }\n",
              "\n",
              "    [theme=dark] .colab-df-convert:hover {\n",
              "      background-color: #434B5C;\n",
              "      box-shadow: 0px 1px 3px 1px rgba(0, 0, 0, 0.15);\n",
              "      filter: drop-shadow(0px 1px 2px rgba(0, 0, 0, 0.3));\n",
              "      fill: #FFFFFF;\n",
              "    }\n",
              "  </style>\n",
              "\n",
              "    <script>\n",
              "      const buttonEl =\n",
              "        document.querySelector('#df-a599f9e3-460a-4bab-ae68-ce74bcfcadaf button.colab-df-convert');\n",
              "      buttonEl.style.display =\n",
              "        google.colab.kernel.accessAllowed ? 'block' : 'none';\n",
              "\n",
              "      async function convertToInteractive(key) {\n",
              "        const element = document.querySelector('#df-a599f9e3-460a-4bab-ae68-ce74bcfcadaf');\n",
              "        const dataTable =\n",
              "          await google.colab.kernel.invokeFunction('convertToInteractive',\n",
              "                                                    [key], {});\n",
              "        if (!dataTable) return;\n",
              "\n",
              "        const docLinkHtml = 'Like what you see? Visit the ' +\n",
              "          '<a target=\"_blank\" href=https://colab.research.google.com/notebooks/data_table.ipynb>data table notebook</a>'\n",
              "          + ' to learn more about interactive tables.';\n",
              "        element.innerHTML = '';\n",
              "        dataTable['output_type'] = 'display_data';\n",
              "        await google.colab.output.renderOutput(dataTable, element);\n",
              "        const docLink = document.createElement('div');\n",
              "        docLink.innerHTML = docLinkHtml;\n",
              "        element.appendChild(docLink);\n",
              "      }\n",
              "    </script>\n",
              "  </div>\n",
              "\n",
              "\n",
              "<div id=\"df-e2a71e0c-05b8-484e-b5e1-9d75e49acae1\">\n",
              "  <button class=\"colab-df-quickchart\" onclick=\"quickchart('df-e2a71e0c-05b8-484e-b5e1-9d75e49acae1')\"\n",
              "            title=\"Suggest charts\"\n",
              "            style=\"display:none;\">\n",
              "\n",
              "<svg xmlns=\"http://www.w3.org/2000/svg\" height=\"24px\"viewBox=\"0 0 24 24\"\n",
              "     width=\"24px\">\n",
              "    <g>\n",
              "        <path d=\"M19 3H5c-1.1 0-2 .9-2 2v14c0 1.1.9 2 2 2h14c1.1 0 2-.9 2-2V5c0-1.1-.9-2-2-2zM9 17H7v-7h2v7zm4 0h-2V7h2v10zm4 0h-2v-4h2v4z\"/>\n",
              "    </g>\n",
              "</svg>\n",
              "  </button>\n",
              "\n",
              "<style>\n",
              "  .colab-df-quickchart {\n",
              "      --bg-color: #E8F0FE;\n",
              "      --fill-color: #1967D2;\n",
              "      --hover-bg-color: #E2EBFA;\n",
              "      --hover-fill-color: #174EA6;\n",
              "      --disabled-fill-color: #AAA;\n",
              "      --disabled-bg-color: #DDD;\n",
              "  }\n",
              "\n",
              "  [theme=dark] .colab-df-quickchart {\n",
              "      --bg-color: #3B4455;\n",
              "      --fill-color: #D2E3FC;\n",
              "      --hover-bg-color: #434B5C;\n",
              "      --hover-fill-color: #FFFFFF;\n",
              "      --disabled-bg-color: #3B4455;\n",
              "      --disabled-fill-color: #666;\n",
              "  }\n",
              "\n",
              "  .colab-df-quickchart {\n",
              "    background-color: var(--bg-color);\n",
              "    border: none;\n",
              "    border-radius: 50%;\n",
              "    cursor: pointer;\n",
              "    display: none;\n",
              "    fill: var(--fill-color);\n",
              "    height: 32px;\n",
              "    padding: 0;\n",
              "    width: 32px;\n",
              "  }\n",
              "\n",
              "  .colab-df-quickchart:hover {\n",
              "    background-color: var(--hover-bg-color);\n",
              "    box-shadow: 0 1px 2px rgba(60, 64, 67, 0.3), 0 1px 3px 1px rgba(60, 64, 67, 0.15);\n",
              "    fill: var(--button-hover-fill-color);\n",
              "  }\n",
              "\n",
              "  .colab-df-quickchart-complete:disabled,\n",
              "  .colab-df-quickchart-complete:disabled:hover {\n",
              "    background-color: var(--disabled-bg-color);\n",
              "    fill: var(--disabled-fill-color);\n",
              "    box-shadow: none;\n",
              "  }\n",
              "\n",
              "  .colab-df-spinner {\n",
              "    border: 2px solid var(--fill-color);\n",
              "    border-color: transparent;\n",
              "    border-bottom-color: var(--fill-color);\n",
              "    animation:\n",
              "      spin 1s steps(1) infinite;\n",
              "  }\n",
              "\n",
              "  @keyframes spin {\n",
              "    0% {\n",
              "      border-color: transparent;\n",
              "      border-bottom-color: var(--fill-color);\n",
              "      border-left-color: var(--fill-color);\n",
              "    }\n",
              "    20% {\n",
              "      border-color: transparent;\n",
              "      border-left-color: var(--fill-color);\n",
              "      border-top-color: var(--fill-color);\n",
              "    }\n",
              "    30% {\n",
              "      border-color: transparent;\n",
              "      border-left-color: var(--fill-color);\n",
              "      border-top-color: var(--fill-color);\n",
              "      border-right-color: var(--fill-color);\n",
              "    }\n",
              "    40% {\n",
              "      border-color: transparent;\n",
              "      border-right-color: var(--fill-color);\n",
              "      border-top-color: var(--fill-color);\n",
              "    }\n",
              "    60% {\n",
              "      border-color: transparent;\n",
              "      border-right-color: var(--fill-color);\n",
              "    }\n",
              "    80% {\n",
              "      border-color: transparent;\n",
              "      border-right-color: var(--fill-color);\n",
              "      border-bottom-color: var(--fill-color);\n",
              "    }\n",
              "    90% {\n",
              "      border-color: transparent;\n",
              "      border-bottom-color: var(--fill-color);\n",
              "    }\n",
              "  }\n",
              "</style>\n",
              "\n",
              "  <script>\n",
              "    async function quickchart(key) {\n",
              "      const quickchartButtonEl =\n",
              "        document.querySelector('#' + key + ' button');\n",
              "      quickchartButtonEl.disabled = true;  // To prevent multiple clicks.\n",
              "      quickchartButtonEl.classList.add('colab-df-spinner');\n",
              "      try {\n",
              "        const charts = await google.colab.kernel.invokeFunction(\n",
              "            'suggestCharts', [key], {});\n",
              "      } catch (error) {\n",
              "        console.error('Error during call to suggestCharts:', error);\n",
              "      }\n",
              "      quickchartButtonEl.classList.remove('colab-df-spinner');\n",
              "      quickchartButtonEl.classList.add('colab-df-quickchart-complete');\n",
              "    }\n",
              "    (() => {\n",
              "      let quickchartButtonEl =\n",
              "        document.querySelector('#df-e2a71e0c-05b8-484e-b5e1-9d75e49acae1 button');\n",
              "      quickchartButtonEl.style.display =\n",
              "        google.colab.kernel.accessAllowed ? 'block' : 'none';\n",
              "    })();\n",
              "  </script>\n",
              "</div>\n",
              "\n",
              "    </div>\n",
              "  </div>\n"
            ],
            "application/vnd.google.colaboratory.intrinsic+json": {
              "type": "dataframe",
              "variable_name": "df",
              "summary": "{\n  \"name\": \"df\",\n  \"rows\": 39885,\n  \"fields\": [\n    {\n      \"column\": \"text\",\n      \"properties\": {\n        \"dtype\": \"string\",\n        \"num_unique_values\": 39885,\n        \"samples\": [\n          \"https://example.com/resource/\\u0628\\u0652\\u0644\\u0650\\u063a\\u062a \\u064e\\u062a\\u0633\\u064e\\u064a\\u064a\\u0644\\u0651\\u0627\\u064b\\u062a\\u064d \\u0627\\u0652\\u0644\\u0623\\u0652\\u062c\\u064e\\u0627\\u0646\\u0651\\u0628\\u064e \\u064e\\u0641\\u064a \\u0633\\u064d\\u0648\\u0652\\u0642\\u0650 \\u064e\\u062f\\u0628\\u064a \\u0627\\u0644\\u0645\\u064d\\u0627\\u0650\\u0644\\u064d\\u064a\\u064d \\u0623\\u0645\\u064d\\u0633\\u064e 59\\u064f \\u0645\\u0644\\u064d\\u064a\\u0648\\u0646\\u0627\\u0650\\u064b\\u0652\\u060c \\u0651\\u0641\\u0651\\u0642\\u062f \\u0650\\u0628\\u0652\\u0644\\u064b\\u063a\\u062a \\u064b\\u0642\\u0651\\u064a\\u064f\\u0645\\u0651\\u0629\\u0651 \\u0645\\u064f\\u0634\\u064b\\u062a\\u064f\\u0631\\u0650\\u064a\\u0627\\u062a \\u064e\\u0627\\u0644\\u0652\\u0623\\u062c\\u0627\\u064d\\u0646\\u064d\\u0628\\u064b\\u060c\\u064b \\u063a\\u0652\\u064a\\u0651\\u0631\\u064d \\u0627\\u0652\\u0644\\u0639\\u0631\\u064c\\u0628\\u060c\\u064f \\u0645\\u0650\\u0646\\u0651 \\u064c\\u0627\\u0644\\u0623\\u0633\\u064c\\u0647\\u064d\\u0645 \\u064c\\u062e\\u064f\\u0644\\u0627\\u064c\\u0644\\u064f \\u0647\\u0650\\u0630\\u064e\\u0627 \\u0627\\u064c\\u0644\\u064a\\u0648\\u0650\\u0645 \\u064d\\u0646\\u064b\\u062d\\u064c\\u0648 9\\u064b4\\u064d \\u064e.\\u065113\\u06526 \\u0645\\u0644\\u0652\\u064a\\u064c\\u0648\\u064b\\u0646\\u064c \\u062f\\u0631\\u0647\\u0645 \\u0641\\u064a\\u0651 \\u0652\\u062d\\u0652\\u064a\\u064f\\u0646\\u0651 \\u0628\\u0644\\u063a\\u064e\\u062a\\u064d \\u064b\\u0642\\u064c\\u064a\\u0645\\u0629\\u064c \\u064b\\u0645\\u064b\\u0628\\u064a\\u0639\\u0627\\u062a\\u0647\\u0645\\u064e \\u0646\\u064b\\u062d\\u0648\\u0652 2\\u06500 .22\\u064b6 \\u0650\\u0645\\u064b\\u0644\\u064a\\u0651\\u0648\\u0646 \\u0652\\u062f\\u0631\\u0650\\u0647\\u0645\\u064f .\\u064f \\u0643\\u0645\\u0627 \\u0650\\u0628\\u0644\\u064e\\u063a\\u064b\\u062a \\u0642\\u0652\\u064a\\u0645\\u0629\\u0650 \\u0645\\u064d\\u0634\\u064b\\u062a\\u064c\\u0631\\u0652\\u064a\\u0627\\u062a \\u064b\\u0627\\u0644\\u0645\\u0633\\u064d\\u062a\\u062b\\u064f\\u0645\\u064b\\u0631\\u064b\\u064a\\u064b\\u0646\\u064b \\u0627\\u0644\\u0652\\u0639\\u0650\\u0631\\u0650\\u0628\\u060c\\u064b \\u064f\\u063a\\u064a\\u0631 \\u0651\\u0627\\u0644\\u0652\\u062e\\u0644\\u064d\\u064a\\u064f\\u062c\\u064d\\u064a\\u064a\\u0651\\u0646\\u0650\\u060c\\u0651 \\u062e\\u0644\\u0627\\u0644 \\u0647\\u0650\\u0630\\u0627 \\u0650\\u0627\\u0644\\u0652\\u064a\\u064b\\u0648\\u0645 \\u0646\\u064f\\u062d\\u064d\\u0648\\u064f 07\\u064e .7\\u064c2\\u0650 \\u0645\\u0644\\u064e\\u064a\\u064c\\u0648\\u0646\\u0652 \\u0652\\u062f\\u0631\\u0647\\u064e\\u0645 \\u064d\\u0648\\u0642\\u064b\\u064a\\u0645\\u064c\\u0629\\u064c \\u0645\\u0652\\u0628\\u064e\\u064a\\u064f\\u0639\\u064e\\u0627\\u064b\\u062a\\u0651\\u0647\\u0645 \\u0646\\u062d\\u0648\\u064c \\u065281\\u064b \\u0650.6\\u06504\\u064e \\u064e\\u0645\\u0644\\u064f\\u064a\\u064c\\u0648\\u0646\\u0651 \\u062f\\u064b\\u0631\\u0647\\u064e\\u0645\\u064e .\\u0623\\u064b\\u0645\\u0651\\u0627\\u0652 \\u0652\\u0628\\u0651\\u0627\\u064c\\u0644\\u064e\\u0646\\u064f\\u0633\\u064d\\u0628\\u0629\\u064e \\u064c\\u0644\\u0644\\u0651\\u0645\\u064d\\u0633\\u064c\\u062a\\u064b\\u062b\\u0652\\u0645\\u0631\\u064b\\u064a\\u0646 \\u0652\\u0627\\u0644\\u062e\\u064c\\u0644\\u064a\\u064e\\u062c\\u064a\\u0650\\u064a\\u0646\\u064c \\u064f\\u0641\\u064b\\u0642\\u062f \\u0628\\u0644\\u064b\\u063a\\u0652\\u062a \\u0642\\u064a\\u0645\\u0629 \\u0645\\u0634\\u0652\\u062a\\u064e\\u0631\\u064c\\u064a\\u064f\\u0627\\u064e\\u062a\\u0647\\u0645\\u064b \\u064b9\\u064b1\\u064f \\u0651.4\\u064d3\\u064d \\u0645\\u0650\\u0644\\u064a\\u0648\\u064c\\u0646 \\u064c\\u062f\\u0631\\u0647\\u0645 \\u0641\\u064a\\u064f \\u062d\\u064a\\u0651\\u0646\\u064b \\u064e\\u0628\\u0644\\u064b\\u063a\\u064c\\u062a \\u064b\\u0642\\u064c\\u064a\\u0645\\u064d\\u0629\\u0651 \\u0645\\u0652\\u0628\\u0651\\u064a\\u0652\\u0639\\u0652\\u0627\\u064c\\u062a\\u064c\\u0647\\u0645\\u0652 \\u064f\\u0646\\u064e\\u062d\\u0650\\u0648 4\\u064f8 \\u064f.21\\u064c \\u0645\\u0644\\u064a\\u0648\\u064f\\u0646 \\u064e\\u062f\\u064e\\u0631\\u064d\\u0647\\u064e\\u0645 \\u064e\\u062e\\u0644\\u064c\\u0627\\u0644 \\u0650\\u0646\\u064c\\u0641\\u0633 \\u064f\\u0627\\u0652\\u0644\\u0651\\u0641\\u062a\\u0631\\u0652\\u0629\\u064c .\",\n          \"https://example.com/resource/\\u062f\\u0628\\u0650\\u064a\\u0650 - \\u0625\\u0650\\u0628\\u064d\\u0631\\u0650\\u0627\\u0647\\u064f\\u064a\\u064c\\u0645\\u0652 \\u0651\\u0627\\u0644\\u064f\\u064a\\u064b\\u0648\\u0633\\u0651\\u0641:\\u064e\\u0628\\u064d\\u062d\\u0636\\u0648\\u0652\\u0631\\u0650 \\u0645\\u064e\\u062d\\u064d\\u0645\\u062f\\u064e \\u0627\\u064d\\u0644\\u0645\\u0652\\u0631\\u060c \\u0631\\u0626\\u064a\\u0633\\u0651 \\u0627\\u0644\\u0645\\u064c\\u062c\\u064c\\u0644\\u064b\\u0633 \\u0627\\u064c\\u0644\\u0648\\u064d\\u0637\\u064b\\u0646\\u064f\\u064a\\u064d \\u0627\\u0644\\u064e\\u0627\\u062a\\u064b\\u062d\\u0652\\u0627\\u062f\\u064a\\u0650\\u060c\\u064e \\u0648\\u0650\\u0627\\u0651\\u0644\\u064c\\u0642\\u0646\\u0652\\u0635\\u0644 \\u0627\\u0644\\u0639\\u0627\\u0652\\u0645\\u0650 \\u064b\\u0627\\u064d\\u0644\\u0651\\u0643\\u0651\\u0648\\u064a\\u0651\\u062a\\u064e\\u064a\\u064c\\u060c \\u0630\\u064d\\u064a\\u064c\\u0627\\u0628\\u0651 \\u0651\\u0641\\u0631\\u062d\\u0627\\u064e\\u0646 \\u064c\\u0627\\u0652\\u0644\\u0631\\u0634\\u064a\\u0652\\u062f\\u064a\\u0651\\u060c \\u064b\\u0648\\u0633\\u064e\\u0644\\u0651\\u0637\\u0627\\u064b\\u0646\\u064d \\u0627\\u064c\\u0644\\u0652\\u0633\\u0648\\u064f\\u064a\\u062f\\u064d\\u064a \\u064d\\u0631\\u0652\\u0626\\u064a\\u064b\\u0633\\u0652 \\u0645\\u062c\\u064b\\u0644\\u064d\\u0633\\u0650 \\u0625\\u062f\\u0631\\u064d\\u0627\\u0629 \\u0646\\u064b\\u062f\\u0648\\u064e\\u0629\\u064b \\u0627\\u064b\\u0644\\u064c\\u062b\\u0642\\u0627\\u064d\\u0641\\u0629\\u064e \\u064e\\u0648\\u0627\\u064e\\u0644\\u0639\\u0644\\u0648\\u0645\\u060c \\u0648\\u0623\\u0639\\u0652\\u0636\\u0652\\u0627\\u0621 \\u0650\\u0645\\u064d\\u062c\\u064d\\u0644\\u064b\\u0633\\u0650 \\u0627\\u0644\\u0625\\u0651\\u062f\\u0652\\u0627\\u0631\\u064e\\u0629\\u064d\\u060c \\u0625\\u0652\\u0636\\u0627\\u0650\\u0641\\u0629\\u064d \\u0625\\u0644\\u0650\\u0649\\u064f \\u0637\\u0650\\u064a\\u064f\\u0641\\u064b \\u0648\\u0627\\u0633\\u064f\\u0639 \\u0650\\u0648\\u064d\\u0644\\u0627\\u0641\\u0652\\u062a \\u0645\\u0646\\u0651 \\u064d\\u0627\\u0644\\u064e\\u0643\\u0651\\u062a\\u0651\\u064c\\u0627\\u0651\\u0628\\u0650 \\u0648\\u064d\\u0627\\u064b\\u0644\\u0645\\u062b\\u064e\\u0642\\u0641\\u064b\\u064a\\u0646 \\u0648\\u0650\\u0627\\u0644\\u0625\\u0639\\u064e\\u0644\\u0627\\u0645\\u064a\\u064a\\u064d\\u0646 \\u0645\\u064c\\u0646\\u064d \\u0627\\u064e\\u0644\\u0650\\u0628\\u064d\\u0644\\u062f\\u064a\\u0646 . \\u0634\\u0647\\u062f\\u062a\\u064f \\u064e\\u0627\\u064d\\u0644\\u0652\\u0646\\u0650\\u062f\\u0648\\u064c\\u0629\\u064f\\u060c\\u064d \\u0645\\u064c\\u0633\\u0627\\u0621 \\u0650\\u0623\\u0645\\u0633\\u064b \\u0651\\u0627\\u064b\\u0644\\u0652\\u0623\\u064e\\u0648\\u064e\\u0644\\u060c\\u064b \\u0650\\u0627\\u0652\\u062e\\u062a\\u064e\\u062a\\u0652\\u0627\\u0645\\u0651 \\u0641\\u0639\\u0627\\u064e\\u0644\\u064a\\u0627\\u062a\\u064b \\u064e\\u0645\\u0647\\u0650\\u0631\\u064b\\u062c\\u0650\\u0627\\u0646\\u064f \\u064d\\\"\\u064c\\u0643\\u0648\\u0650\\u064a\\u062a\\u064e \\u0627\\u0644\\u0633\\u0644\\u0627\\u064e\\u0645 - \\u0625\\u064b\\u0645\\u0652\\u0627\\u0631\\u064f\\u0627\\u062a \\u064c\\u0627\\u064f\\u0644\\u0650\\u0648\\u064d\\u0641\\u0627\\u0621\\u0650\\\"\\u060c\\u064e \\u0628\\u064c\\u0631\\u0639\\u064d\\u0627\\u064a\\u064d\\u0629 \\u0648\\u064f\\u062a\\u0646\\u0638\\u064a\\u064f\\u0645 \\u0647\\u064a\\u0626\\u0629 \\u062f\\u064b\\u0628\\u064a\\u0652 \\u0644\\u0644\\u064b\\u062b\\u064d\\u0642\\u0627\\u0641\\u0651\\u0629 \\u0648\\u0627\\u0644\\u0652\\u0641\\u0646\\u0648\\u0646 \\u0628\\u0627\\u064c\\u0644\\u062a\\u0639\\u0627\\u0648\\u064d\\u0646 \\u064f\\u0645\\u0650\\u0639\\u064b \\u064c\\u0627\\u0644\\u0642\\u0652\\u0646\\u0635\\u0652\\u0644\\u064b\\u064a\\u064c\\u0629 \\u064c\\u0627\\u0651\\u0644\\u064b\\u0639\\u0627\\u064c\\u0645\\u0629\\u064d \\u0644\\u0650\\u062f\\u0652\\u0648\\u064b\\u0644\\u064b\\u0629\\u064c \\u0652\\u0627\\u0651\\u0644\\u0643\\u0648\\u064a\\u062a \\u064c\\u0641\\u0650\\u064a\\u064f \\u064e\\u0625\\u064d\\u0645\\u0651\\u0627\\u064e\\u0631\\u0629\\u064f \\u062f\\u064c\\u0628\\u064f\\u064a\\u060c\\u0652 \\u0648\\u0651\\u062a\\u0636\\u0645\\u064c\\u0646\\u0651 \\u064d\\u0641\\u0639\\u064d\\u0627\\u064f\\u0644\\u064d\\u064a\\u064e\\u0627\\u062a \\u064f\\u062b\\u0642\\u0651\\u0627\\u064f\\u0641\\u064a\\u0629\\u064e \\u0641\\u0646\\u064a\\u0652\\u0629\\u0650\\u060c \\u0650\\u0648\\u063a\\u064a\\u0631\\u0647\\u0650\\u0627\\u0651 \\u064d.\\u0648\\u0651\\u062a\\u0652\\u0636\\u064c\\u0645\\u0646\\u0651\\u062a\\u064b \\u064e\\u0627\\u0644\\u0641\\u0651\\u0639\\u064e\\u0627\\u0644\\u064d\\u064a\\u0627\\u064c\\u062a\\u0650 \\u0650\\u0639\\u064e\\u0631\\u0636 \\u0641\\u064a\\u0644\\u064f\\u0645 \\u0652\\u0648\\u064b\\u062b\\u0627\\u064e\\u0626\\u064f\\u0642\\u064f\\u064a\\u064f \\u0639\\u064e\\u0646\\u064f \\u064f\\u0627\\u0644\\u062a\\u064d\\u0639\\u064c\\u0627\\u0648\\u064d\\u0646\\u0650 \\u064d\\u0627\\u064c\\u0644\\u0623\\u062e\\u0648\\u064a \\u064f\\u0628\\u0651\\u064a\\u0652\\u0646\\u064b \\u0652\\u0627\\u0644\\u064e\\u0628\\u0644\\u064f\\u062f\\u0650\\u064a\\u064d\\u0646\\u064b \\u0651\\u0627\\u0650\\u0644\\u0634\\u0642\\u0651\\u064a\\u064c\\u0642\\u064e\\u064a\\u0646\\u0650\\u060c \\u064d\\u0642\\u0631\\u0623\\u0651 \\u064c\\u0628\\u0650\\u0639\\u064f\\u062f \\u064b\\u0630\\u064f\\u0644\\u0651\\u0643\\u064f \\u0651\\u0639\\u0628\\u064f\\u062f\\u0627\\u0650\\u0644\\u0644\\u0647 \\u064f\\u0627\\u0644\\u064c\\u0645\\u0637\\u0651\\u064a\\u0631\\u064d\\u064a\\u0650 \\u0643\\u064e\\u0644\\u0645\\u0652\\u0629\\u064c \\u0647\\u064a\\u0650\\u0626\\u0629 \\u062f\\u0628\\u064b\\u064a\\u064e \\u0644\\u0644\\u064b\\u062b\\u0642\\u0627\\u0641\\u0629\\u060c\\u064f \\u062a\\u062d\\u064f\\u062f\\u062b\\u064e \\u064c\\u0641\\u064a\\u0652\\u0647\\u0652\\u0627\\u064c \\u0639\\u0652\\u0646 \\u064f\\u0627\\u0652\\u0644\\u0639\\u0650\\u0644\\u0627\\u0642\\u0627\\u062a \\u0651\\u0627\\u0651\\u0644\\u064d\\u062b\\u0642\\u0650\\u0627\\u0641\\u064a\\u0651\\u0629 \\u0628\\u064b\\u064a\\u0646 \\u064e\\u0627\\u0644\\u0628\\u064b\\u0644\\u0651\\u062f\\u0652\\u064a\\u064d\\u0646\\u064c\\u060c \\u0648\\u064e\\u0643\\u064e\\u064a\\u0651\\u0641 \\u0623\\u0646 \\u0627\\u064e\\u0644\\u064d\\u0643\\u0648\\u064e\\u064a\\u0650\\u062a \\u062f\\u0639\\u0645\\u0651\\u062a\\u064d \\u0650\\u0627\\u0644\\u062d\\u0631\\u0652\\u0643\\u064b\\u0629\\u064b \\u0627\\u064d\\u0644\\u062b\\u0652\\u0642\\u064c\\u0627\\u0641\\u064a\\u0652\\u0629\\u0652 \\u064d\\u0648\\u0627\\u0650\\u0644\\u0651\\u062a\\u0639\\u0651\\u0644\\u064a\\u064f\\u0645\\u064a\\u0629 \\u0641\\u064a \\u0627\\u0644\\u0625\\u0645\\u0627\\u064e\\u0631\\u0627\\u064c\\u062a\\u060c\\u064d \\u064d\\u0648\\u0651\\u0623\\u064f\\u0646\\u064e\\u0634\\u0623\\u062a\\u0651 \\u0641\\u064a\\u064e\\u0647\\u0651\\u0627 \\u064b\\u0627\\u064c\\u0644\\u064f\\u0645\\u064f\\u062f\\u0627\\u064f\\u0631\\u0651\\u0633\\u064b\\u060c\\u0652 \\u064c\\u0625\\u0644\\u064f\\u0649 \\u0651\\u062c\\u0627\\u064b\\u0646\\u0650\\u0628 \\u064c\\u063a\\u0652\\u064a\\u064e\\u0631\\u0647\\u0650\\u0627\\u064c \\u0645\\u0646\\u064c \\u0650\\u0627\\u0644\\u0645\\u064c\\u0631\\u064d\\u0627\\u0641\\u064e\\u0642 \\u0627\\u0651\\u0644\\u0636\\u0631\\u0652\\u0648\\u0631\\u064d\\u064a\\u0650\\u0629\\u064e .\\u064c\\u0628\\u064c\\u0639\\u064b\\u062f\\u0652 \\u0630\\u064f\\u0644\\u0643 \\u0628\\u062f\\u0623\\u0650\\u062a \\u0641\\u064f\\u0639\\u0650\\u0627\\u064c\\u0644\\u064a\\u0627\\u0651\\u062a \\u0627\\u0644\\u064d\\u0646\\u0652\\u062f\\u0648\\u064c\\u0629 \\u0651\\u0627\\u0651\\u0644\\u064b\\u062a\\u064e\\u064a \\u064f\\u0623\\u062f\\u064e\\u0627\\u064c\\u0631\\u0647\\u0627 \\u0651\\u0639\\u0644\\u064e\\u064a\\u064c \\u064c\\u0639\\u064f\\u0628\\u064f\\u064a\\u0651\\u062f \\u0627\\u0644\\u064f\\u0647\\u0650\\u0627\\u0650\\u0645\\u0644\\u064d\\u064a\\u0651\\u060c\\u0651 \\u0652\\u0628\\u0639\\u0651\\u0646\\u064e\\u0648\\u064c\\u0627\\u0651\\u0646 \\\"\\u0650\\u0645\\u0633\\u064a\\u0631\\u064b\\u0629 \\u0627\\u064e\\u0644\\u0652\\u0639\\u0652\\u0644\\u0627\\u064e\\u0642\\u0627\\u062a\\u0651 \\u0627\\u0650\\u0644\\u0625\\u0645\\u0627\\u0652\\u0631\\u0627\\u062a\\u064a\\u0629\\u0651 \\u064b- \\u064c\\u0627\\u0651\\u0644\\u0652\\u0643\\u0648\\u064a\\u062a\\u064e\\u064a\\u064b\\u0629\\\" \\u0648\\u064b\\u0634\\u0627\\u0631\\u0643 \\u064c\\u0641\\u064c\\u064a\\u0647\\u064e\\u0627\\u0651 \\u0643\\u0644\\u064b \\u064e\\u0645\\u0646\\u0651 \\u0650\\u062f\\u0652 . \\u0639\\u0652\\u0628\\u062f\\u0650\\u0627\\u0652\\u0644\\u0644\\u064f\\u0647\\u064c \\u0627\\u0644\\u063a\\u064c\\u0646\\u064a\\u0645 \\u064e(\\u0651\\u0627\\u0644\\u0643\\u0648\\u064f\\u064a\\u064f\\u062a)\\u064f \\u064e\\u0648\\u0628\\u0644\\u0627\\u0644\\u064f \\u0651\\u0627\\u0652\\u0644\\u064f\\u0628\\u0652\\u062f\\u064b\\u0648\\u0631\\u064c \\u0646\\u064b\\u0627\\u064b\\u0626\\u0628 \\u0631\\u064d\\u0626\\u064a\\u064c\\u0633\\u064f \\u0645\\u062c\\u064e\\u0644\\u0633 \\u0625\\u062f\\u0650\\u0627\\u0652\\u0631\\u0652\\u0629\\u064d \\u064d\\u0646\\u064d\\u062f\\u064b\\u0648\\u0629\\u064f \\u0627\\u0644\\u062b\\u0642\\u0627\\u0641\\u0629\\u064e \\u0650\\u0627\\u0644\\u064d\\u0639\\u0652\\u0644\\u064d\\u0648\\u0645\\u064c\\u060c \\u062d\\u0652\\u064a\\u0650\\u062b \\u064d\\u0633\\u0650\\u0644\\u0637\\u064f \\u064b\\u0627\\u0644\\u0647\\u064e\\u0627\\u064c\\u0645\\u064c\\u0644\\u064a \\u0650\\u0627\\u0644\\u0636\\u0648\\u0621\\u064d \\u0639\\u0650\\u0644\\u064b\\u0649\\u0650 \\u0650\\u0627\\u0651\\u0644\\u0633\\u0652\\u064a\\u0631\\u0651\\u0629\\u064b \\u064f\\u0627\\u064b\\u0644\\u064b\\u0645\\u064e\\u0639\\u064b\\u0631\\u0641\\u064a\\u0629\\u0650 \\u064b\\u0644\\u064c\\u0643\\u064b\\u0644\\u064e\\u0627\\u064d \\u0627\\u0650\\u0644\\u0650\\u0643\\u0651\\u0627\\u064e\\u062a\\u0628\\u064a\\u0646 \\u062f .\\u064b \\u064c\\u0627\\u0644\\u0651\\u063a\\u064e\\u0646\\u064d\\u064a\\u064b\\u0645 \\u0650\\u0648\\u0651\\u0627\\u064f\\u0644\\u0628\\u0652\\u062f\\u0648\\u064e\\u0631 .\\u0651 \\u064d\\u0648\\u064b\\u0645\\u0645\\u0627\\u0652 \\u0642\\u0627\\u0644\\u0647 \\u0651\\u0627\\u064e\\u0644\\u0647\\u0627\\u0651\\u0645\\u064b\\u0644\\u064a\\u0651 \\u0641\\u064a\\u064e \\u0645\\u064c\\u0642\\u0651\\u062f\\u0652\\u0645\\u062a\\u0652\\u0647:\\u0651 \\u064b\\u0627\\u0644\\u0643\\u0648\\u064a\\u064b\\u062a \\u064f\\u062a\\u064d\\u0631\\u0643\\u062a \\u0628\\u064c\\u0635\\u0645\\u064d\\u0627\\u064e\\u062a\\u0651\\u0647\\u064c\\u0627\\u064d \\u0639\\u0645\\u064a\\u0651\\u0642\\u064f\\u0627\\u064b\\u064b \\u0639\\u064d\\u0644\\u064c\\u064a\\u0646\\u0627 \\u064c\\u0641\\u064a \\u062f\\u0648\\u0644\\u0651\\u0629 \\u064b\\u0627\\u064d\\u0644\\u064c\\u0625\\u064e\\u0645\\u0627\\u064b\\u0631\\u0627\\u062a\\u060c\\u064e \\u0652\\u0648\\u064c\\u0623\\u0643\\u064e\\u0628\\u0651\\u0631 \\u064c\\u062f\\u0644\\u064a\\u0644\\u064f \\u0650\\u0639\\u0644\\u064d\\u0649\\u064e \\u0650\\u0630\\u0644\\u0643\\u0650 \\u064f\\u0623\\u0651\\u0646 \\u0647\\u0646\\u0627\\u0643\\u064f \\u0652\\u062c\\u064a\\u064e\\u0644\\u064d\\u0627\\u0652\\u064b \\u0625\\u0645\\u0627\\u064f\\u0631\\u064f\\u0627\\u062a\\u064a\\u064d\\u0627\\u064b\\u064f \\u0652\\u0643\\u0627\\u0645\\u064b\\u0644\\u064d\\u0627\\u064d\\u064b\\u064f \\u062a\\u064e\\u0641\\u062a\\u062d\\u0651\\u062a\\u0651 \\u064b\\u0645\\u0650\\u062f\\u0652\\u0627\\u0631\\u0652\\u0643\\u0647\\u064b \\u0639\\u0644\\u0652\\u0649 \\u0651\\u0645\\u064b\\u0627\\u064e \\u0628\\u062b\\u064f\\u062a\\u064c\\u0647\\u064d \\u0627\\u064c\\u0644\\u0650\\u0643\\u064c\\u0648\\u064a\\u062a \\u0652\\u0645\\u0651\\u0646\\u064b \\u064b\\u062a\\u0639\\u0644\\u064a\\u064e\\u0645 \\u064d\\u0648\\u064f\\u062b\\u064c\\u0642\\u0627\\u0641\\u0651\\u0629\\u064d \\u0641\\u064a\\u064d \\u064c\\u0627\\u0644\\u0625\\u064c\\u0645\\u0651\\u0627\\u064b\\u0631\\u0627\\u064c\\u062a\\u064c\\u060c\\u064f \\u0650\\u062c\\u064a\\u0644 \\u0650\\u0643\\u064b\\u0627\\u064f\\u0645\\u0644\\u060c\\u0651 \\u064c\\u062a\\u0652\\u0639\\u0644\\u0645 \\u0648\\u0641\\u0652\\u0642 \\u0651\\u0645\\u0651\\u0646\\u064d\\u0627\\u0650\\u0647\\u064c\\u062c\\u064f \\u0627\\u0644\\u0643\\u0652\\u0648\\u064a\\u062a \\u0627\\u064c\\u0644\\u062a\\u0639\\u0644\\u064a\\u064c\\u0645\\u064c\\u064a\\u064d\\u0629 \\u064c.\\u064e\\u0648\\u0623\\u0634\\u0627\\u0651\\u062f\\u064d \\u064e\\u062f \\u064e.\\u064d \\u0627\\u064e\\u0644\\u063a\\u0646\\u064b\\u064a\\u0645 \\u0650\\u0628\\u0627\\u064c\\u0644\\u062d\\u064a\\u0627\\u0629\\u0650 \\u0651\\u0627\\u0644\\u062a\\u0652\\u0639\\u064b\\u0644\\u064a\\u064f\\u0645\\u064a\\u0629\\u064f \\u0627\\u0644\\u062b\\u0642\\u064b\\u0627\\u064f\\u0641\\u0651\\u064a\\u0629\\u0650 \\u0652\\u0641\\u064e\\u064a\\u064e \\u064f\\u0627\\u0644\\u064c\\u0625\\u0645\\u064b\\u0627\\u0631\\u064c\\u0627\\u062a\\u060c\\u064d \\u0651\\u0648\\u064c\\u0631\\u0623\\u0649\\u064f \\u064e\\u0623\\u064e\\u0646\\u0651\\u0647\\u0627\\u064e \\u062c\\u062f \\u0652\\u0645\\u062a\\u0637\\u0648\\u0631\\u064d\\u0629\\u0652\\u060c\\u0650 \\u0648\\u064e\\u0623\\u0650\\u062f\\u064c\\u0644\\u0649\\u0652 \\u0651\\u0628\\u0623\\u064c\\u0645\\u062b\\u0650\\u0644\\u0629 \\u064c\\u0645\\u0647\\u0651\\u0645\\u0629\\u064f \\u0650\\u0639\\u064f\\u0644\\u0651\\u0649 \\u0630\\u0650\\u0644\\u064e\\u0643\\u064c\\u060c\\u064c \\u0648\\u064c\\u0645\\u064d\\u0646\\u0647\\u0627 \\u0651\\u0623\\u0646 \\u0627\\u0650\\u0644\\u064e\\u0643\\u062b\\u064b\\u064a\\u0631\\u064a\\u064b\\u0646\\u064e \\u064c\\u0645\\u0646\\u0650 \\u0623\\u0628\\u064c\\u0646\\u064e\\u0627\\u0621\\u064f \\u0650\\u0627\\u0644\\u064b\\u0643\\u0648\\u064e\\u064a\\u0650\\u062a \\u0628\\u0627\\u062a\\u064b\\u0648\\u0627 \\u064a\\u064e\\u062a\\u0652\\u0627\\u0652\\u0628\\u0639\\u0650\\u0648\\u0652\\u0646 \\u0652\\u062a\\u062d\\u0652\\u0635\\u064a\\u0644\\u0647\\u0650\\u0645\\u0651 \\u064d\\u0627\\u0651\\u0644\\u0645\\u0639\\u064d\\u0631\\u064f\\u0641\\u064e\\u064a\\u064d \\u064d\\u0641\\u064c\\u064a \\u062c\\u064f\\u0627\\u064e\\u0645\\u0639\\u064d\\u0627\\u064b\\u062a \\u0627\\u0652\\u0644\\u0625\\u0645\\u0650\\u0627\\u0631\\u0627\\u062a\\u0652\\u060c\\u064e \\u0645\\u0646\\u0650 \\u062f\\u064f\\u0648\\u0646\\u064b \\u064e\\u0623\\u064e\\u0646 \\u064f\\u064a\\u064f\\u0634\\u064f\\u0639\\u064f\\u0631\\u0651\\u0648\\u064d\\u0627 \\u0625\\u0644\\u064d\\u0627\\u0650 \\u0628\\u0651\\u0623\\u0646\\u064b\\u0647\\u064c\\u0645\\u064b \\u0641\\u0650\\u064a \\u0628\\u064b\\u064a\\u0648\\u062a\\u0650\\u0647\\u064e\\u0645\\u0651\\u060c \\u0652\\u0648\\u0647\\u0648\\u064e \\u064f\\u0645\\u062f\\u064c\\u0639\\u064c\\u0627\\u064e\\u0629\\u0651 \\u064d\\u0633\\u064b\\u0639\\u0627\\u0650\\u062f\\u0629 \\u064d\\u0623\\u0633\\u0631\\u064d\\u0647\\u0645\\u0651\\u060c \\u0628\\u0652\\u0644 \\u0650\\u0628\\u0644\\u0651\\u062f\\u0647\\u0645\\u064b \\u064d\\u0628\\u0643\\u0627\\u064d\\u0645\\u064d\\u0644\\u0647 \\u064f.\\u0648\\u0642\\u0627\\u0644: \\u0644\\u0645\\u064f \\u064f\\u0623\\u064c\\u0631\\u062f\\u064c \\u064c\\u0623\\u0646\\u0650 \\u064d\\u0623\\u0633\\u064e\\u0645\\u064e\\u064a\\u0652 \\u0646\\u064e\\u062f\\u0650\\u0648\\u062a\\u0650\\u0646\\u0627 \\u0647\\u064b\\u0630\\u0651\\u0647\\u064f \\u0628\\u0627\\u0644\\u062d\\u0648\\u0651\\u0627\\u0652\\u0631\\u064b\\u064a\\u0629\\u0651\\u060c\\u064c \\u0628\\u0650\\u064a\\u0650\\u0646 \\u0645\\u0652\\u062b\\u064e\\u0642\\u0652\\u0641\\u064d\\u064a\\u0650\\u0646\\u0651 \\u0645\\u0650\\u0646\\u064d \\u0628\\u0644\\u062f\\u064a\\u064e\\u0646\\u0627:\\u064b \\u064b\\u0627\\u0644\\u064e\\u0643\\u0648\\u0650\\u064a\\u062a\\u0652 \\u0652\\u0648\\u0627\\u0652\\u0644\\u0625\\u0645\\u064c\\u0627\\u0631\\u0627\\u064c\\u062a\\u060c\\u064f \\u064b\\u0644\\u0623\\u0646 \\u0627\\u0644\\u062d\\u0648\\u064f\\u0627\\u0652\\u0631\\u060c\\u064f \\u0650\\u064a\\u062a\\u0645 \\u064c\\u0639\\u064f\\u0627\\u0650\\u062f\\u0629\\u064d\\u060c \\u0652\\u0628\\u064a\\u064e\\u0646\\u064c \\u0645\\u0650\\u0646\\u064b \\u0652\\u0647\\u064b\\u0645\\u064d \\u0645\\u062e\\u062a\\u064d\\u0644\\u0641\\u0648\\u0646\\u060c \\u0628\\u064a\\u0646 \\u0650\\u0645\\u064c\\u0646 \\u062a\\u064c\\u0643\\u0650\\u0648\\u0646\\u064c \\u064e\\u0647\\u064f\\u0646\\u0627\\u0643 \\u062a\\u0646\\u0627\\u0642\\u0650\\u0636\\u0627\\u062a \\u064b\\u0641\\u064f\\u064a\\u0651\\u0645\\u0627\\u064b \\u0650\\u0628\\u064a\\u0646\\u0652\\u0647\\u0645\\u060c \\u0625\\u0651\\u0646\\u0646\\u064e\\u0627\\u0650 \\u0650\\u0646\\u062a\\u062d\\u062f\\u064c\\u062b \\u064b\\u0636\\u0652\\u0645\\u0646 \\u0652\\u0625\\u0637\\u0652\\u0627\\u0650\\u0631\\u0651 \\u064c\\u0627\\u064c\\u0644\\u064e\\u0628\\u064e\\u064a\\u064b\\u062a\\u0650 \\u064c\\u0627\\u0644\\u0648\\u0652\\u0627\\u062d\\u0651\\u062f\\u060c \\u064f\\u0636\\u064e\\u0645\\u064c\\u0646\\u0650 \\u0625\\u0637\\u0627\\u0631 \\u0627\\u0644\\u064b\\u0623\\u0633\\u064c\\u0631\\u064f\\u0629 \\u0627\\u0644\\u0652\\u0648\\u0650\\u0627\\u062d\\u062f\\u0629\\u060c\\u0651 \\u0648\\u064f\\u0647\\u0646\\u064b\\u0627\\u0650 \\u0627\\u0650\\u0644\\u0641\\u0631\\u0642\\u064f \\u0628\\u064b\\u064a\\u0646\\u064c \\u064c\\u0637\\u064d\\u0628\\u064a\\u0639\\u0629 \\u0651\\u062d\\u062f\\u064a\\u064f\\u062b\\u0646\\u0651\\u0627\\u060c\\u0652 \\u0648\\u0635\\u0641\\u0629\\u064b \\u0627\\u0644\\u062d\\u0650\\u0648\\u0627\\u0631\\u0652 \\u0650.\\u0651\\u0648\\u062a\\u0627\\u0628\\u0651\\u0639\\u064b \\u062f . \\u0627\\u064f\\u0644\\u063a\\u0646\\u064a\\u064f\\u0645 \\u064f\\u0642\\u0651\\u0627\\u0626\\u0644\\u0627\\u064d\\u064b:\\u064d \\u0650\\u0645\\u0652\\u0631\\u0643\\u0650\\u0632 \\u0627\\u064c\\u0644\\u064b\\u0628\\u062d\\u0648\\u064c\\u062b \\u064e\\u0648\\u0627\\u064d\\u0644\\u062f\\u0631\\u064b\\u0627\\u064f\\u0633\\u0627\\u062a\\u0650 \\u0627\\u064c\\u0644\\u0643\\u0650\\u0648\\u064a\\u0650\\u062a\\u064c\\u064a\\u064b \\u064c\\u062c\\u0651\\u0645\\u064b\\u0639\\u0651 \\u0623\\u064d\\u0643\\u0650\\u062b\\u0651\\u0631 \\u064b\\u0645\\u0646 \\u064e\\u0645\\u0644\\u064b\\u064a\\u0648\\u064e\\u0646\\u064f\\u064a \\u0648\\u064e\\u062b\\u0651\\u064a\\u064d\\u0642\\u0629\\u064c \\u0639\\u0646 \\\"\\u0627\\u0644\\u062c\\u064b\\u0646\\u0648\\u064e\\u0628 \\u0648\\u0651\\u0627\\u064e\\u0644\\u062e\\u0644\\u0650\\u064a\\u064f\\u062c\\\"\\u064e\\u060c\\u0651 \\u0648\\u0645\\u064d\\u0646 \\u0628\\u064c\\u064a\\u064b\\u0646\\u064f\\u0647\\u0627\\u064f \\u0648\\u064e\\u062b\\u0627\\u0626\\u0642\\u0652 \\u064f\\u0645\\u0647\\u0650\\u0645\\u064e\\u0629 \\u0639\\u0646 \\u0645\\u0641\\u064c\\u0627\\u0635\\u0644 \\u064b\\u0627\\u0644\\u064f\\u0628\\u0652\\u0646\\u064a\\u0629\\u064c \\u064d\\u0627\\u0652\\u0644\\u0651\\u062a\\u064f\\u062d\\u064c\\u062a\\u064a\\u064e\\u0629 \\u064e\\u0641\\u064a \\u0627\\u0644\\u0650\\u0625\\u0645\\u064c\\u0627\\u064b\\u0631\\u064b\\u0627\\u0652\\u062a\\u064a\\u064f\\u0629\\u060c\\u064b \\u0648\\u064f\\u0646\\u064b\\u0634\\u064d\\u0623\\u064d\\u0629 \\u0645\\u062f\\u0627\\u0631\\u0633\\u0647\\u064e\\u0627\\u060c \\u0648\\u062d\\u064a\\u0627\\u062a\\u0650\\u0647\\u0627 \\u0627\\u0644\\u062b\\u064e\\u0642\\u0627\\u0641\\u064a\\u0629\\u0650\\u060c \\u064d\\u0648\\u0652\\u0641\\u064a \\u0647\\u0630\\u0650\\u0647 \\u0627\\u0651\\u0644\\u0648\\u062b\\u064b\\u0627\\u0626\\u0651\\u0642 \\u0650\\u0645\\u0639\\u0644\\u0648\\u064d\\u0645\\u0650\\u0627\\u064e\\u062a \\u062c\\u0651\\u062f \\u0645\\u0647\\u0645\\u0629\\u0652 \\u064b\\u0639\\u0651\\u0646 \\u064f\\u0646\\u0634\\u0623\\u0629\\u0651 \\u0627\\u0652\\u0644\\u064b\\u0645\\u062f\\u0650\\u0627\\u064c\\u0631\\u0633\\u060c\\u0652 \\u064c\\u0648\\u064c\\u062d\\u0651\\u062a\\u0649\\u064c \\u0623\\u0633\\u064b\\u0645\\u064e\\u0627\\u0621 \\u0651\\u0627\\u0644\\u0637\\u0644\\u0651\\u0628\\u0629\\u060c \\u0648\\u064b\\u0627\\u064e\\u0644\\u064d\\u0645\\u062f\\u064b\\u0631\\u0633\\u064c\\u064a\\u0646\\u060c\\u0652 \\u064b\\u0648\\u0643\\u0652\\u064a\\u0641\\u064a\\u064f\\u0629\\u064c \\u0628\\u064b\\u062f\\u0650\\u0627\\u064f\\u064a\\u0627\\u0652\\u062a\\u064c \\u0639\\u0652\\u0645\\u0650\\u0644\\u064e\\u064a\\u0652\\u0629\\u064d \\u0627\\u0644\\u062a\\u0639\\u0644\\u064a\\u0645\\u064f \\u064f. . \\u064d\\u0625\\u0644\\u064f\\u062e\\u0652\\u060c \\u064c\\u0648\\u0647\\u0646\\u064d\\u0627\\u0643\\u0651 \\u064b\\u0645\\u0646 \\u0651\\u0646\\u064f\\u0627\\u064f\\u0644\\u0652 \\u064b\\u0634\\u0647\\u0650\\u0627\\u062f\\u0629\\u064c \\u0650\\u0627\\u0644\\u062f\\u0650\\u0643\\u062a\\u064e\\u0648\\u0631\\u0651\\u0627\\u0647 \\u0645\\u064c\\u0646\\u0651 \\u062e\\u064f\\u0644\\u064b\\u0627\\u0651\\u0644\\u064f \\u064f\\u0642\\u0652\\u0631\\u0627\\u0621\\u0652\\u0629 \\u064e\\u0627\\u0644\\u064d\\u0639\\u064b\\u0644\\u064e\\u0627\\u0642\\u0627\\u064c\\u062a \\u0627\\u0652\\u0644\\u0623\\u0650\\u062e\\u0648\\u064d\\u064a\\u064e\\u0629 \\u064d\\u0628\\u064a\\u0646 \\u064e\\u0627\\u0644\\u064f\\u0628\\u064e\\u0644\\u062f\\u064a\\u064c\\u0646 \\u0652.\\u0652\\u0648\\u062c\\u0627\\u0621\\u064e \\u062d\\u064d\\u062f\\u064d\\u064a\\u064d\\u062b\\u064f \\u0627\\u064f\\u0644\\u0651\\u0628\\u0652\\u062f\\u064c\\u0648\\u0631\\u064e \\u064e\\u0628\\u0645\\u0627 \\u064a\\u064f\\u0634\\u0650\\u0628\\u0647 \\u064f\\u0627\\u064f\\u0644\\u0652\\u0634\\u0650\\u0647\\u0627\\u062f\\u064e\\u0629\\u064e\\u060c \\u0645\\u0646 \\u064c\\u0642\\u064e\\u0628\\u0644\\u064e \\u0652\\u0623\\u062d\\u064e\\u062f\\u064f \\u0651\\u0623\\u064c\\u0628\\u064f\\u0646\\u0627\\u0621 \\u064d\\u0627\\u0644\\u064c\\u062c\\u064a\\u064d\\u0644 \\u0627\\u064d\\u0644\\u064e\\u0630\\u064a\\u064d \\u064f\\u0641\\u062a\\u0651\\u062d \\u0639\\u064a\\u0646\\u064a\\u064b\\u0647\\u064b \\u0650\\u0639\\u064b\\u0644\\u064d\\u0649\\u0650 \\u0627\\u0644\\u0645\\u0646\\u0627\\u064f\\u0647\\u064b\\u062c \\u0627\\u0652\\u0644\\u0651\\u062a\\u0639\\u0644\\u064f\\u064a\\u0645\\u064a\\u0629 \\u0627\\u0644\\u0651\\u0643\\u064f\\u0648\\u0650\\u064a\\u062a\\u064a\\u0629\\u064e \\u0627\\u0650\\u0644\\u062a\\u064a\\u064b \\u064e\\u062a\\u0645 \\u062a\\u064b\\u062f\\u0650\\u0631\\u064a\\u064f\\u0633\\u0650\\u0647\\u064e\\u0627\\u064b \\u0641\\u0651\\u064a\\u064d \\u0627\\u064f\\u0644\\u0652\\u0625\\u064d\\u0645\\u064c\\u0627\\u0631\\u064c\\u0627\\u0652\\u062a\\u0652\\u060c \\u0648\\u0651\\u0642\\u064d\\u0627\\u0644: \\u064e\\u0643\\u0644 \\u064f\\u0630\\u064c\\u0644\\u0643 \\u064f\\u0630\\u0643\\u0631\\u0650\\u062a\\u0647 \\u0641\\u0651\\u064a \\u0643\\u062a\\u0627\\u0628\\u064a \\u064b\\\"\\u0627\\u0644\\u062c\\u0630\\u0648\\u0631 \\u0650\\u0627\\u064f\\u0644\\u062a\\u0627\\u0631\\u0652\\u064a\\u064d\\u062e\\u0650\\u064a\\u0651\\u0629\\u064d \\u064e\\u0644\\u064f\\u0644\\u0639\\u064b\\u0644\\u0627\\u0642\\u0627\\u0650\\u062a\\u064f \\u064e\\u0627\\u064f\\u0644\\u062b\\u0652\\u0642\\u0627\\u0650\\u0641\\u064d\\u064a\\u0629 \\u064c\\u0628\\u064a\\u064b\\u0646 \\u0650\\u0627\\u0644\\u0625\\u0645\\u0627\\u0631\\u0627\\u064c\\u062a\\u064c \\u064f\\u0648\\u064e\\u0627\\u064b\\u0644\\u0643\\u0650\\u0648\\u064a\\u064f\\u062a\\\"\\u060c \\u0652\\u0648\\u0643\\u064b\\u0627\\u064b\\u0646 \\u064c\\u0628\\u064f\\u0645\\u064f\\u062b\\u064f\\u0627\\u064e\\u0628\\u064c\\u0629\\u064d \\u064c\\u0631\\u0652\\u0633\\u064b\\u0627\\u0651\\u0644\\u064e\\u0629 \\u0634\\u0652\\u0643\\u0631 \\u0652\\u0644\\u0644\\u0643\\u0648\\u064a\\u062a\\u060c \\u0648\\u064c\\u0623\\u0636\\u0650\\u0627\\u064d\\u0641:\\u064d \\u0623\\u062c\\u064f\\u0644\\u060c\\u064e \\u064c\\u062a\\u062a\\u0644\\u0645\\u0630\\u0646\\u0627\\u064c \\u0639\\u064f\\u0644\\u0651\\u0649 \\u0650\\u0645\\u064d\\u0646\\u064c\\u0627\\u064c\\u0647\\u062c \\u064b\\u0627\\u0644\\u0643\\u064e\\u0648\\u064b\\u064a\\u062a\\u064d\\u060c\\u0650 \\u0648\\u0642\\u0631\\u0623\\u0646\\u0627\\u064d \\u0650\\u0639\\u064e\\u0628\\u0627\\u0631\\u064d\\u0629 \\u064e\\\"\\u0639\\u064f\\u0644\\u0645 \\u0628\\u0651\\u0644\\u0651\\u0627\\u062f\\u064a\\u0650 \\u0651\\u0644\\u0651\\u0648\\u064e\\u0646\\u0647\\u0650 \\u064c\\u0623\\u064c\\u062d\\u0645\\u0650\\u0631\\\" \\u0648\\u0650\\u0627\\u0631\\u062a\\u064c\\u062f\\u064a\\u0646\\u0652\\u0627\\u064e \\u0632\\u064a \\u0627\\u064e\\u0644\\u0652\\u0645\\u062f\\u0651\\u0627\\u0652\\u0631\\u064b\\u0633\\u064f \\u064d\\u0627\\u0644\\u0643\\u064d\\u0648\\u064e\\u064a\\u062a\\u064a\\u0629 \\u0623\\u062b\\u064f\\u0646\\u064f\\u0627\\u064e\\u0621\\u064c \\u0651\\u062a\\u0639\\u064e\\u0644\\u0650\\u064a\\u0645\\u0646\\u0627\\u064c\\u060c \\u064c\\u0648\\u0652\\u062a\\u064d\\u0646\\u0627\\u0650\\u0648\\u0644\\u064b\\u0646\\u0627 \\u0627\\u0644\\u064e\\u0648\\u062c\\u064f\\u0628\\u0652\\u0627\\u062a\\u064d \\u0627\\u0651\\u0644\\u0635\\u0628\\u0627\\u062d\\u0650\\u064a\\u0629\\u0651 \\u0627\\u0651\\u0644\\u0650\\u0643\\u064b\\u0648\\u064a\\u062a\\u064a\\u0629\\u0650 \\u064d\\u0641\\u0650\\u064a \\u0645\\u062f\\u064b\\u0627\\u064b\\u0631\\u064c\\u0633\\u0646\\u0627\\u0652\\u060c\\u064b \\u0648\\u0627\\u0633\\u062a\\u062e\\u064c\\u062f\\u064f\\u0645\\u0651\\u0646\\u0627 \\u064d\\u0627\\u064b\\u0644\\u064c\\u0623\\u0650\\u0642\\u064c\\u0644\\u0627\\u0651\\u0645 \\u0652\\u0648\\u064d\\u0627\\u0644\\u0652\\u0645\\u0645\\u064e\\u062d\\u0651\\u0627\\u064f\\u064a\\u064d\\u0627\\u064b\\u062a\\u064e \\u0648\\u0627\\u064d\\u0644\\u064b\\u0645\\u0628\\u0631\\u0627\\u064a\\u0652\\u0627\\u064b\\u062a \\u064d\\u0627\\u0644\\u064e\\u0643\\u0648\\u064c\\u064a\\u062a\\u064a\\u0629\\u064e\\u060c \\u0644\\u064d\\u0627\\u064c \\u0641\\u0631\\u0642 \\u064f\\u0628\\u064b\\u064a\\u064c\\u0646\\u064d\\u0646\\u0651\\u0627\\u060c \\u0628\\u064a\\u064b\\u0626\\u0650\\u062a\\u0627 \\u0628\\u064f\\u0644\\u062f\\u064a\\u0646\\u0627\\u064b \\u0648\\u0650\\u0627\\u064f\\u062d\\u0652\\u062f\\u0629\\u064d\\u060c \\u0647\\u064a \\u0627\\u064f\\u0644\\u0628\\u0650\\u064a\\u0650\\u0626\\u0629\\u064b \\u064c\\u0627\\u0650\\u0644\\u0628\\u062d\\u0631\\u064a\\u0629\\u064f \\u064f.\\u064b \\u0648\\u0628\\u0652\\u0639\\u062f\\u064f \\u064f\\u0623\\u0650\\u0641\\u064c\\u0648\\u0644 \\u062a\\u064d\\u062c\\u0627\\u0652\\u0631\\u0629\\u064c \\u0627\\u0644\\u0644\\u0624\\u0644\\u064b\\u0624\\u060c \\u0651\\u0641\\u064f\\u0625\\u0652\\u0646\\u0651 \\u0645\\u0651\\u062b\\u064e\\u0642\\u064f\\u0641\\u064a\\u0646\\u0627\\u064c \\u0648\\u064d\\u0639\\u0650\\u0645\\u064e\\u0627\\u0644\\u064f\\u0646\\u064f\\u0627 \\u062a\\u0648\\u062c\\u0647\\u0648\\u0627\\u064b \\u0625\\u0644\\u0649 \\u0627\\u0644\\u064e\\u0643\\u0650\\u0648\\u064b\\u064a\\u064b\\u062a\\u064f \\u0644\\u0650\\u0644\\u0639\\u064d\\u0645\\u0644 \\u0651\\u0641\\u064f\\u064a\\u0647\\u0627\\u064f\\u060c \\u0650\\u0643\\u0651\\u0645\\u0627 \\u0623\\u064f\\u0646 \\u0647\\u064c\\u0646\\u0627\\u0643 \\u0623\\u064f\\u062c\\u064a\\u0627\\u064c\\u0644\\u0651\\u0627\\u0650\\u064b \\u064e\\u0645\\u064b\\u0646 \\u0627\\u0652\\u0644\\u064e\\u0643\\u064b\\u0648\\u064a\\u062a\\u064b\\u064a\\u064a\\u0646 \\u064b\\u0639\\u064d\\u0627\\u0634\\u0648\\u064b\\u0627 \\u0641\\u064e\\u064a \\u064f\\u0627\\u0650\\u0644\\u064e\\u0625\\u064d\\u0645\\u0627\\u0631\\u0627\\u062a\\u064d\\u060c \\u064d\\u0648\\u0651\\u0645\\u064e\\u0646\\u064b\\u0647\\u0645 \\u0645\\u0646\\u064c \\u064b\\u0639\\u0650\\u0644\\u0652\\u0645\\u064d\\u0648\\u064e\\u0646\\u0627 .\\u0651 \\u0643\\u0645\\u0627 \\u0631\\u0627\\u0651\\u062d\\u0652 \\u064a\\u0650\\u062a\\u062d\\u064d\\u062f\\u062b \\u0639\\u0646\\u0651 \\u0627\\u0644\\u062a\\u0641\\u064e\\u0627\\u0639\\u064e\\u0644\\u064b \\u0627\\u064c\\u0644\\u062b\\u0650\\u0642\\u0652\\u0627\\u0641\\u064c\\u064a \\u0628\\u064d\\u064a\\u0646\\u0650 \\u064b\\u0627\\u0644\\u064d\\u0628\\u0644\\u0651\\u062f\\u064a\\u064d\\u0646 \\u0639\\u064e\\u0628\\u0631 \\u064d\\u0642\\u064d\\u0635\\u064f\\u0627\\u0626\\u0650\\u062f\\u064d \\u0627\\u0651\\u0644\\u064b\\u0634\\u0639\\u0652\\u0631\\u0627\\u064e\\u0621\\u060c\\u064d \\u064b\\u0627\\u0644\\u0652\\u0641\\u0652\\u0635\\u0652\\u062d\\u064c\\u0649\\u064b \\u0648\\u064c\\u0627\\u0644\\u0650\\u0646\\u064b\\u0628\\u0637\\u064a\\u064f\\u0629\\u0650\\u060c \\u0650\\u0641\\u0652\\u0636\\u064b\\u0644\\u0650\\u0627\\u064b\\u064b \\u064c\\u0639\\u064d\\u0646 \\u0651\\u0627\\u064d\\u0644\\u062a\\u0641\\u064c\\u0627\\u0639\\u064f\\u0644\\u064c \\u0651\\u0645\\u0652\\u0639 \\u0648\\u064b\\u0633\\u0627\\u0652\\u0626\\u064b\\u0644\\u064b \\u0627\\u0644\\u0625\\u0650\\u0639\\u0644\\u0627\\u0645\\u0650 \\u064d\\u0641\\u0650\\u064a\\u064e \\u0643\\u0644\\u0627 \\u0627\\u064b\\u0644\\u0628\\u0651\\u0644\\u064e\\u062f\\u064c\\u064a\\u064d\\u0646\\u060c\\u064c \\u0650\\u0625\\u064f\\u0630 \\u064c\\u0641\\u064c\\u062a\\u062d\\u062a\\u0650 \\u064c\\u0627\\u0644\\u0651\\u0635\\u064d\\u062d\\u064e\\u0627\\u064c\\u0641\\u0629\\u0650 \\u0627\\u064e\\u0644\\u064e\\u0643\\u0648\\u064a\\u062a\\u064a\\u0650\\u0629\\u064f \\u0651\\u0623\\u064f\\u0628\\u0652\\u0648\\u064e\\u0627\\u0628\\u0647\\u064d\\u0627\\u0651 \\u0644\\u0644\\u0645\\u062b\\u0642\\u0641\\u064a\\u064b\\u0646\\u064b \\u0627\\u064f\\u0644\\u0625\\u0645\\u0627\\u0631\\u0652\\u0627\\u0650\\u062a\\u064f\\u064a\\u064e\\u064a\\u0650\\u0646 .\",\n          \"https://example.com/resource/\\u0623\\u0650\\u0628\\u0648\\u0638\\u0628\\u064f\\u064a\\u0651 \\u064c-\\u0650 \\u064b\\u0645\\u0646\\u0651\\u064a\\u0650 \\u0650\\u0628\\u0651\\u0648\\u0651\\u0646\\u0639\\u064f\\u0627\\u064b\\u0645\\u0629:\\u0646\\u064e\\u0638\\u0645 \\u0627\\u062a\\u062d\\u0627\\u062f \\u064d\\u0643\\u0651\\u062a\\u0627\\u0650\\u0628\\u064d \\u0651\\u0648\\u0652\\u0623\\u062f\\u0652\\u0628\\u064e\\u0627\\u064b\\u0621 \\u064f\\u0627\\u0644\\u0625\\u0645\\u0627\\u0651\\u0631\\u0627\\u0650\\u062a \\u0641\\u064a \\u0623\\u0628\\u0648\\u0650\\u0638\\u0628\\u064b\\u064a\\u0651\\u060c\\u064c \\u0645\\u0633\\u064c\\u0627\\u064e\\u0621\\u064c \\u0623\\u0645\\u064c\\u0633\\u064d \\u0627\\u0644\\u064f\\u0623\\u064e\\u0648\\u0651\\u0644\\u060c \\u064f\\u0641\\u0650\\u064a\\u064d \\u0642\\u0651\\u0627\\u0650\\u0639\\u0629\\u064d \\u0627\\u0652\\u0644\\u062f\\u0643\\u062a\\u0648\\u064c\\u0631\\u064c \\u064c\\u0639\\u0628\\u062f\\u064e \\u064b\\u0627\\u0644\\u064c\\u0644\\u0647\\u0651 \\u0639\\u0645\\u0631\\u0627\\u064d\\u0646 \\u064f\\u062a\\u0650\\u0631\\u0651\\u064a\\u0645\\u0652 \\u064d\\u0641\\u064a\\u064f \\u0645\\u0651\\u0642\\u0631 \\u064d\\u0627\\u0644\\u0627\\u062a\\u064c\\u062d\\u0627\\u062f\\u064c \\u064c\\u0627\\u0644\\u064c\\u062c\\u062f\\u064a\\u0651\\u062f \\u0641\\u064a \\u0645\\u0650\\u0639\\u064e\\u0633\\u064b\\u0643\\u0631\\u064d \\u064f\\u0622\\u0644\\u0651 \\u0646\\u064b\\u0647\\u064a\\u0627\\u0646\\u064f \\u0623\\u064e\\u0645\\u0650\\u0633\\u064f\\u064a\\u0629 \\u0644\\u0652\\u0644\\u064e\\u0643\\u064c\\u0627\\u062a\\u0628\\u064d \\u0651\\u0648\\u064e\\u0627\\u0644\\u0652\\u0645\\u062b\\u064e\\u0642\\u0651\\u0641\\u064c \\u064d\\u0627\\u0644\\u0625\\u0645\\u064d\\u0627\\u064c\\u0631\\u064c\\u0627\\u062a\\u0651\\u064a\\u064f \\u0645\\u0627\\u062c\\u064c\\u062f \\u0628\\u0648 \\u0634\\u064f\\u0644\\u064a\\u0628\\u064f\\u064a\\u060c\\u064d \\u0623\\u064f\\u0645\\u064b\\u064a\\u0646 \\u0639\\u0627\\u0645\\u0652 \\u0652\\u0627\\u0644\\u0645\\u0646\\u062a\\u0650\\u062f\\u0651\\u0649 \\u0650\\u0627\\u0644\\u064d\\u0625\\u064e\\u0633\\u0651\\u0644\\u0651\\u0627\\u0645\\u0652\\u064a\\u064f \\u0641\\u064f\\u064a \\u0627\\u0644\\u064e\\u0634\\u0650\\u0627\\u0631\\u064d\\u0642\\u064e\\u0629\\u064e\\u060c\\u0650 \\u064c\\u0628\\u064f\\u0639\\u0646\\u0648\\u064f\\u0627\\u0646:\\u0651 \\u0644\\u0645\\u0627\\u0630\\u0627\\u064e \\u0651\\u0627\\u064b\\u0644\\u064f\\u0634\\u0651\\u0627\\u0631\\u0642\\u0629 \\u0639\\u0651\\u0627\\u064e\\u0635\\u0645\\u0629 \\u0650\\u0644\\u064d\\u0644\\u062b\\u064f\\u0642\\u0627\\u0641\\u064b\\u0629\\u064b \\u0627\\u064c\\u0644\\u0625\\u064c\\u0633\\u0652\\u0644\\u064d\\u0627\\u0645\\u0651\\u064a\\u0629\\u064d\\u061f \\u0642\\u062f\\u0651\\u0651\\u064e\\u0645 \\u0627\\u0644\\u064e\\u0623\\u0645\\u0633\\u064a\\u064f\\u0629\\u064f \\u064d\\u0627\\u0644\\u0634\\u0650\\u0627\\u0639\\u0631\\u0652 \\u0652\\u0648\\u0627\\u0644\\u0646\\u0627\\u0652\\u0642\\u062f \\u0645\\u064b\\u062d\\u064c\\u0645\\u062f \\u0646\\u0648\\u0631 \\u064f\\u0627\\u064c\\u0644\\u062f\\u064f\\u064a\\u0646\\u060c\\u0651 \\u064b\\u0648\\u0650\\u062d\\u0636\\u0650\\u0631\\u0651\\u0647\\u064c\\u0627\\u064e \\u064f\\u062d\\u0650\\u0628\\u064d\\u064a\\u0652\\u0628\\u064b \\u0627\\u064e\\u0644\\u0635\\u064b\\u0627\\u064a\\u0650\\u063a\\u0651 \\u064e\\u0631\\u064f\\u0626\\u064a\\u064d\\u0633\\u0652 \\u0645\\u062c\\u0651\\u0644\\u0633\\u0650 \\u0625\\u064c\\u062f\\u064c\\u0627\\u0631\\u0629\\u0650 \\u0651\\u0627\\u064c\\u0644\\u064b\\u0627\\u064b\\u062a\\u062d\\u0627\\u062f\\u0650\\u060c\\u064e \\u0648\\u0639\\u064b\\u062f\\u064b\\u062f \\u0645\\u0646 \\u064d\\u0627\\u0644\\u0643\\u062a\\u0651\\u0627\\u0628\\u064e \\u0648\\u0652\\u0627\\u064f\\u0644\\u064b\\u0623\\u064f\\u062f\\u0628\\u0627\\u064d\\u0621 \\u064d.\\u064e \\u064c\\u0627\\u0633\\u062a\\u064b\\u0647\\u0651\\u0644\\u0652 \\u0627\\u0652\\u0644\\u0651\\u0645\\u064d\\u062d\\u0652\\u0627\\u064f\\u0636\\u0631 \\u0628\\u0627\\u0633\\u062a\\u0639\\u064e\\u0631\\u0627\\u0636\\u0650 \\u0627\\u0644\\u0623\\u0637\\u0631 \\u0627\\u064c\\u0644\\u0639\\u064d\\u0627\\u0645\\u0629\\u0652 \\u0651\\u0627\\u064c\\u0644\\u062a\\u064a\\u0650 \\u0639\\u0645\\u0644\\u062a \\u064d\\u0639\\u0644\\u0649 \\u062a\\u064e\\u0634\\u0643\\u0651\\u064a\\u0652\\u0644\\u064f \\u064b\\u0648\\u0628\\u0644\\u064d\\u0648\\u064f\\u0631\\u0629 \\u0627\\u064f\\u0644\\u0641\\u0643\\u064b\\u0631\\u0652\\u0629 \\u0627\\u064e\\u0644\\u064c\\u062b\\u0642\\u0651\\u0627\\u0641\\u064d\\u064a\\u064b\\u0629\\u064e \\u0641\\u064b\\u064a\\u064f \\u064c\\u0627\\u0644\\u064f\\u0634\\u0627\\u0650\\u0631\\u064b\\u0642\\u0629\\u0652\\u060c\\u0652 \\u0645\\u0646\\u064c \\u0652\\u062e\\u0652\\u0644\\u0627\\u0652\\u0644\\u064d \\u0652\\u0627\\u0644\\u062a\\u064f\\u0639\\u064d\\u0631\\u064b\\u064a\\u0641 \\u0628\\u0652\\u0627\\u0644\\u062a\\u0650\\u062c\\u064b\\u0631\\u064f\\u0628\\u0629\\u0651 \\u064f\\u0648\\u0623\\u0647\\u0645 \\u0645\\u0633\\u0652\\u0627\\u0650\\u0631\\u064d\\u0627\\u062a\\u064b\\u0647\\u064d\\u0627\\u0652\\u060c\\u064f \\u0650\\u0648\\u064b\\u0627\\u0650\\u0644\\u0651\\u0623\\u0637\\u0650\\u0648\\u064c\\u0627\\u0631 \\u0651\\u0627\\u0652\\u0644\\u064d\\u062a\\u064a \\u0650\\u0645\\u064c\\u0631\\u064b\\u062a \\u0628\\u0647\\u0650\\u0627\\u064d\\u060c \\u0628\\u0652\\u062f\\u064e\\u0621\\u0651\\u0627\\u064b\\u064d \\u0628\\u064d\\u0627\\u0644\\u062d\\u062f\\u064a\\u064c\\u062b\\u064b \\u064d\\u0639\\u064b\\u0646 \\u0628\\u064d\\u0646\\u0627\\u0652\\u0621\\u064d \\u0627\\u0644\\u0628\\u064d\\u0646\\u0649\\u0650 \\u0627\\u0651\\u0644\\u0650\\u062a\\u064c\\u062d\\u062a\\u064c\\u064a\\u064c\\u0629\\u0650 \\u064d\\u0644\\u0644\\u0645\\u0624\\u064b\\u0633\\u0633\\u0650\\u0627\\u062a \\u0650\\u0627\\u0644\\u062b\\u064e\\u0642\\u0652\\u0627\\u0641\\u064a\\u064d\\u0629\\u064c \\u064f\\u0648\\u0627\\u064e\\u0644\\u0625\\u0651\\u0639\\u064e\\u0644\\u0627\\u0645\\u0650\\u064a\\u0629\\u0651 \\u064c\\u0627\\u0644\\u062a\\u064a \\u0623\\u064d\\u0633\\u0651\\u0647\\u0645\\u064f\\u062a\\u060c \\u064d\\u0639\\u064f\\u0628\\u0631 \\u0651\\u062a\\u0627\\u0652\\u0631\\u064a\\u062e\\u0647\\u0627\\u0652\\u060c\\u064e \\u0641\\u064c\\u064a\\u0651 \\u0652\\u062a\\u064b\\u0641\\u0639\\u064a\\u0644 \\u0627\\u0651\\u0644\\u0639\\u0650\\u0645\\u064b\\u0644\\u064b \\u0627\\u064e\\u0644\\u062b\\u0650\\u0642\\u064e\\u0627\\u0650\\u0641\\u0651\\u064a \\u0641\\u064f\\u064a \\u0627\\u064d\\u0644\\u0634\\u0627\\u0652\\u0631\\u0642\\u0629\\u060c \\u0627\\u0646\\u0637\\u0644\\u064d\\u0627\\u0642\\u0627\\u064b\\u0651 \\u0645\\u0650\\u0646\\u064b \\u062a\\u0623\\u0633\\u064f\\u064a\\u0633\\u0651 \\u064c\\u062f\\u0627\\u0652\\u0626\\u0631\\u0629\\u064d \\u0652\\u0627\\u0650\\u0644\\u064f\\u062b\\u0642\\u064b\\u0627\\u0641\\u0629 \\u064d\\u0648\\u0627\\u064c\\u0644\\u0625\\u0651\\u0639\\u0644\\u0627\\u0650\\u0645\\u064f\\u060c\\u0651 \\u0648\\u0650\\u062a\\u0644\\u0641\\u0632\\u064a\\u0648\\u064b\\u0646 \\u0627\\u0644\\u064f\\u0634\\u0627\\u064c\\u0631\\u0642\\u0652\\u0629\\u0650 \\u0648\\u0645\\u0627 \\u062a\\u062e\\u064d\\u0644\\u064c\\u0644\\u064f \\u0630\\u0644\\u0643\\u064c \\u064e\\u0645\\u064b\\u0646\\u064f \\u0625\\u064b\\u0628\\u0631\\u0627\\u0632\\u064f \\u0648\\u062a\\u0634\\u062c\\u064c\\u064a\\u064f\\u0639\\u064d \\u064f\\u0644\\u0644\\u062b\\u0642\\u064b\\u0627\\u064c\\u0641\\u0629 \\u0648\\u064b\\u0627\\u064b\\u0644\\u0641\\u0646\\u064e\\u0648\\u064d\\u0646\\u064e \\u0645\\u0646\\u064f \\u064f\\u062e\\u0644\\u0627\\u0644 \\u064b\\u0627\\u064f\\u0644\\u064f\\u0645\\u064d\\u0639\\u064d\\u0627\\u0631\\u0636 \\u0627\\u0644\\u0651\\u0641\\u064f\\u0646\\u064a\\u064b\\u0629\\u064f \\u0648\\u064d\\u0627\\u0644\\u0650\\u0641\\u0639\\u0627\\u064e\\u0644\\u064a\\u0627\\u062a\\u0652 \\u064f\\u0627\\u0652\\u0644\\u064c\\u062b\\u0642\\u064b\\u0627\\u0651\\u0641\\u064b\\u064a\\u0629 \\u064f\\u0627\\u0644\\u062a\\u064f\\u064a \\u0651\\u062a\\u0635\\u0628 \\u064d\\u0641\\u064a \\u0642\\u0627\\u064b\\u0644\\u064b\\u0628\\u0650 \\u0627\\u0644\\u0646\\u064c\\u0647\\u064b\\u0648\\u0636\\u064b \\u0644\\u064b\\u0634\\u0627\\u064b\\u0631\\u064d\\u0642\\u0650\\u0629\\u064d \\u0627\\u0644\\u0652\\u062b\\u0642\\u064f\\u0627\\u0641\\u0652\\u0629\\u064e \\u064d\\u0648\\u0627\\u0644\\u0645\\u064c\\u0639\\u0631\\u0641\\u064e\\u0629\\u064c\\u060c \\u0645\\u064c\\u0627 \\u064a\\u064c\\u062c\\u064b\\u064a\\u0628 \\u0628\\u064b\\u0634\\u0643\\u0644\\u0650 \\u0642\\u064b\\u0637\\u0639\\u0650\\u064a \\u064d\\u0639\\u064c\\u0646\\u064d \\u0627\\u0651\\u0644\\u064e\\u062a\\u064e\\u0633\\u0651\\u0627\\u0624\\u0644 \\u0652\\u0627\\u0644\\u0645\\u0652\\u0631\\u0643\\u0632\\u064b\\u064a\\u0650 \\u0644\\u0645\\u0627\\u0651\\u0630\\u0627\\u0651 \\u064f\\u0627\\u0650\\u0644\\u0634\\u0627\\u0651\\u0631\\u0642\\u0629\\u0651 \\u0639\\u0627\\u064b\\u0635\\u0645\\u0629\\u064f \\u064f\\u0627\\u064d\\u0644\\u064d\\u062b\\u0650\\u0642\\u0627\\u0641\\u064b\\u0629\\u064c \\u0627\\u064d\\u0644\\u0651\\u0625\\u0633\\u064b\\u0644\\u064c\\u0627\\u0645\\u064a\\u0629\\u064e\\u061f \\u064b\\u0648\\u064d\\u0623\\u0650\\u0634\\u0652\\u0627\\u0631 \\u064c\\u0627\\u0644\\u0645\\u062d\\u0627\\u064b\\u0636\\u0651\\u0631\\u064e \\u0652\\u0625\\u064f\\u0644\\u0649 \\u064e\\u0627\\u064d\\u0644\\u064d\\u062d\\u0631\\u0627\\u0643 \\u064d\\u0627\\u0644\\u062b\\u0642\\u0627\\u064e\\u0641\\u064a\\u0650 \\u0650\\u0627\\u0644\\u064b\\u0646\\u064f\\u0634\\u0637\\u0651 \\u0627\\u0644\\u0630\\u064c\\u064a\\u0652 \\u0634\\u0643\\u064b\\u0644\\u064f \\u0652\\u0627\\u0651\\u0644\\u064d\\u0628\\u0650\\u0648\\u0651\\u0627\\u0643\\u064f\\u064a\\u0631 \\u064c\\u0627\\u064d\\u0644\\u064b\\u0623\\u064c\\u0648\\u0644\\u0649\\u064c \\u0651\\u0644\\u0644\\u0651\\u0639\\u0645\\u0651\\u0644 \\u0627\\u0644\\u062b\\u0642\\u0627\\u0641\\u064a \\u0651\\u0641\\u064c\\u064a\\u064b \\u0627\\u0644\\u0652\\u0634\\u0651\\u0627\\u0651\\u0631\\u064f\\u0642\\u0629\\u064c\\u060c\\u0652 \\u0650\\u0627\\u064d\\u0644\\u0630\\u0651\\u064a\\u0651 \\u0634\\u0645\\u064c\\u0644 \\u0643\\u0627\\u0641\\u0629\\u064f \\u064e\\u0627\\u0644\\u064b\\u062c\\u0648\\u0627\\u0646\\u064c\\u0628\\u064c \\u0650\\u0628\\u0645\\u0627\\u064f \\u064b\\u0641\\u0652\\u064a\\u0652\\u0647\\u0627\\u064d \\u0625\\u0646\\u0652\\u0634\\u064c\\u0627\\u0621 \\u0651\\u0627\\u0644\\u0645\\u0631\\u0627\\u0643\\u0652\\u0632 \\u0648\\u0627\\u064e\\u0644\\u0645\\u062f\\u064f\\u0627\\u064d\\u0631\\u0633 \\u064b\\u0648\\u0650\\u0627\\u064c\\u0644\\u0651\\u062c\\u0652\\u0627\\u0645\\u0652\\u0639\\u0651\\u0627\\u062a\\u0652 \\u064f\\u0648\\u0650\\u0627\\u0644\\u0641\\u064f\\u0646\\u0650\\u0648\\u064e\\u0646\\u0652 \\u064b\\u0648\\u064b\\u0627\\u0644\\u0652\\u0645\\u0651\\u0633\\u064e\\u0627\\u0650\\u0631\\u062d \\u064d\\u0644\\u062a\\u0651\\u0639\\u0632\\u064b\\u064a\\u0632 \\u0627\\u0644\\u0641\\u0639\\u0644\\u064b \\u0627\\u0644\\u064b\\u062b\\u064e\\u0642\\u064e\\u0627\\u0651\\u0641\\u064c\\u064a\\u064d \\u0648\\u064c\\u062a\\u0633\\u0631\\u064a\\u064c\\u0639\\u064f \\u0639\\u062c\\u064f\\u0644\\u0629\\u064f \\u0627\\u0644\\u0650\\u0646\\u064e\\u0634\\u0627\\u0637\\u0652 \\u064d\\u0627\\u0644\\u062b\\u0642\\u064c\\u0627\\u0651\\u0641\\u0650\\u064a \\u064b\\u0641\\u064a \\u0627\\u064d\\u0644\\u0651\\u0634\\u0627\\u064b\\u0631\\u0642\\u0629\\u0650\\u060c\\u0651 \\u0643\\u0645\\u064c\\u0627 \\u064d\\u062a\\u0650\\u0645 \\u062a\\u062e\\u0635\\u064a\\u0635\\u064f \\u064f\\u0645\\u064c\\u0633\\u0650\\u0627\\u062d\\u0629 \\u0645\\u064c\\u0639\\u062a\\u064b\\u0628\\u0651\\u0631\\u064f\\u0629\\u064e \\u064b\\u0644\\u0644\\u0637\\u0641\\u0644\\u064f \\u0648\\u062b\\u0642\\u0652\\u0627\\u0652\\u0641\\u064c\\u062a\\u0647\\u064c\\u060c\\u0650 \\u0645\\u0646\\u0651 \\u062e\\u0652\\u0644\\u064f\\u0627\\u0644 \\u0625\\u0646\\u0634\\u064b\\u0627\\u0652\\u0621\\u064e \\u0651\\u0645\\u064f\\u0631\\u064c\\u0627\\u0643\\u0652\\u0632 \\u064c\\u0645\\u064c\\u0643\\u062a\\u0628\\u0652\\u0627\\u064c\\u062a \\u064e\\u0627\\u0644\\u064e\\u0623\\u0650\\u0637\\u064d\\u0641\\u064c\\u0627\\u0644\\u060c \\u0648\\u064d\\u0645\\u064d\\u0631\\u0652\\u0627\\u0643\\u0632 \\u064e\\u0627\\u064c\\u0644\\u0623\\u0637\\u0641\\u064c\\u0627\\u064d\\u0644\\u064d\\u060c \\u062b\\u0645\\u064c \\u0645\\u0652\\u0631\\u064d\\u0627\\u0643\\u0632 \\u064b\\u0627\\u064e\\u0644\\u0652\\u0646\\u0627\\u0634\\u0651\\u0626\\u0629\\u060c \\u0641\\u0645\\u0652\\u062c\\u064f\\u0644\\u0633 \\u064b\\u0623\\u064e\\u0639\\u0644\\u0649\\u064e \\u0652\\u0644\\u064f\\u0644\\u0637\\u0641\\u064e\\u0644\\u0652 \\u0625\\u064e\\u0644\\u0649 \\u064c\\u063a\\u064a\\u0631 \\u0630\\u064b\\u0644\\u0643 \\u0651\\u0645\\u0646 \\u0627\\u0644\\u0633\\u064b\\u064a\\u0627\\u0633\\u064c\\u0627\\u062a \\u064b\\u0627\\u0644\\u0652\\u062a\\u064a\\u064c \\u064e\\u0627\\u0650\\u0639\\u0650\\u062a\\u064b\\u0645\\u064b\\u062f\\u0647\\u0650\\u0627\\u064e \\u064d\\u0635\\u0651\\u0627\\u0652\\u062d\\u0628\\u0650 \\u0652\\u0627\\u0652\\u0644\\u0633\\u064c\\u0645\\u0648\\u064f \\u064b\\u0627\\u064b\\u0644\\u0650\\u0634\\u064f\\u064a\\u064d\\u062e \\u064f\\u0627\\u0644\\u062f\\u064b\\u0643\\u062a\\u0648\\u064f\\u0631 \\u064b\\u0633\\u064d\\u0644\\u064f\\u0637\\u0627\\u0646 \\u0628\\u0646 \\u0645\\u064e\\u062d\\u064c\\u0645\\u062f \\u0627\\u0650\\u0644\\u0642\\u0652\\u0627\\u0633\\u0645\\u064a\\u0652 \\u064e\\u0639\\u064d\\u0636\\u0648\\u064f \\u0627\\u0644\\u0645\\u062c\\u0650\\u0644\\u0633\\u064b \\u064c\\u0627\\u064d\\u0644\\u064b\\u0623\\u0639\\u0651\\u0644\\u0652\\u0649 \\u062d\\u064b\\u0627\\u0643\\u064c\\u0645\\u064e \\u064f\\u0627\\u064e\\u0644\\u0634\\u064e\\u0627\\u0650\\u0631\\u0642\\u064c\\u0629\\u0652 \\u064e\\u0644\\u0644\\u0650\\u0631\\u0642\\u0652\\u064a\\u064e \\u064c\\u0628\\u062b\\u0650\\u0642\\u064c\\u0627\\u064f\\u0641\\u064d\\u0629\\u0652 \\u0627\\u0652\\u0644\\u0637\\u0650\\u0641\\u0644 \\u0648\\u0652\\u062a\\u0646\\u064d\\u0645\\u064a\\u0651\\u0629 \\u0652\\u0645\\u064c\\u062f\\u064f\\u0627\\u064e\\u0631\\u064c\\u0643\\u0652\\u0647\\u0652 \\u0648\\u064d\\u0642\\u064e\\u062f\\u0631\\u0652\\u0627\\u0651\\u062a\\u064d\\u0647\\u064b \\u0650. \\u0648\\u064b\\u0630\\u0647\\u064d\\u0628\\u064b \\u0627\\u064c\\u0644\\u0645\\u0650\\u062d\\u0651\\u0627\\u0650\\u0636\\u064b\\u0631 \\u0625\\u064d\\u0644\\u0650\\u0649\\u0650 \\u064f\\u0623\\u0646\\u064e \\u064f\\u0627\\u0644\\u0652\\u0633\\u064c\\u064a\\u0651\\u0627\\u0633\\u0650\\u0627\\u062a\\u064d \\u0627\\u0644\\u062b\\u0652\\u0642\\u0627\\u0641\\u064a\\u0629\\u064b \\u0648\\u0627\\u0644\\u062a\\u064d\\u0648\\u062c\\u064c\\u064a\\u064b\\u0647\\u0627\\u062a\\u0650 \\u0650\\u0627\\u064b\\u0644\\u064d\\u0646\\u064e\\u064a\\u0651\\u0631\\u0629\\u064c \\u0644\\u064e\\u0635\\u064c\\u0627\\u062d\\u0650\\u0628\\u064c \\u0627\\u0644\\u0633\\u0645\\u0648 \\u064d\\u062d\\u0627\\u064c\\u0643\\u0652\\u0645\\u064b \\u0627\\u064d\\u0644\\u0634\\u064c\\u0627\\u0631\\u064f\\u0642\\u0629 \\u064b\\u062c\\u064c\\u0639\\u0644\\u0650\\u062a\\u064f \\u0650\\u0645\\u064e\\u0646 \\u0627\\u0651\\u0644\\u0639\\u064d\\u0645\\u064c\\u0644\\u064e \\u0627\\u0644\\u064d\\u062b\\u064b\\u0642\\u0627\\u064d\\u0641\\u064f\\u064a\\u0652 \\u0641\\u064a\\u064e \\u0627\\u0652\\u0644\\u064d\\u0634\\u0627\\u0631\\u064f\\u0642\\u0651\\u0629\\u064c \\u0639\\u0645\\u0644\\u0627\\u064b\\u0650 \\u0646\\u064e\\u0634\\u064d\\u0637\\u0651\\u0627\\u064b \\u0648\\u0651\\u0642\\u0651\\u0648\\u0651\\u064a\\u0652\\u0627\\u064b\\u064c \\u064e\\u0633\\u0648\\u064f\\u0627\\u0621 \\u064f\\u0645\\u064d\\u0646 \\u0652\\u062e\\u0652\\u0644\\u0650\\u0627\\u0644 \\u062a\\u064d\\u0648\\u064e\\u062c\\u0650\\u064a\\u0647\\u0627\\u064c\\u062a\\u064c \\u0650\\u0633\\u064e\\u0645\\u0651\\u0648\\u0647 \\u064c\\u0644\\u064e\\u0644\\u0627\\u0652\\u0631\\u062a\\u064d\\u0642\\u0651\\u0627\\u0621 \\u064c\\u0628\\u0627\\u0651\\u0644\\u064f\\u0641\\u0646\\u064f \\u0627\\u064d\\u0644\\u064d\\u062a\\u0634\\u064f\\u0643\\u064a\\u064e\\u0644\\u064e\\u064a\\u0652 \\u0648\\u064b\\u062a\\u0634\\u064f\\u062c\\u064d\\u064a\\u0639 \\u064b\\u0627\\u0652\\u0644\\u0641\\u0646\\u0627\\u0650\\u0646\\u064a\\u0646\\u060c\\u064c \\u0648\\u064f\\u0627\\u0642\\u062a\\u0646\\u064d\\u0627\\u0621\\u064c \\u0652\\u0623\\u064c\\u0639\\u064e\\u0645\\u064e\\u0627\\u0644 \\u0641\\u064b\\u0646\\u0651\\u064a\\u064e\\u0629\\u064e \\u0644\\u0645\\u0635\\u0650\\u0644\\u0652\\u062d\\u064d\\u0629\\u064f \\u064f\\u0645\\u062a\\u064b\\u062d\\u064d\\u0641\\u0651 \\u0627\\u0644\\u064b\\u0634\\u0627\\u0631\\u0651\\u0642\\u0629\\u060c \\u0648\\u064f\\u0625\\u064c\\u0646\\u062c\\u0627\\u0632 \\u064e\\u0642\\u0652\\u0627\\u0639\\u0629 \\u064e\\u062e\\u064f\\u0627\\u0651\\u0635\\u0629\\u0652 \\u064f\\u0628\\u0627\\u064f\\u0644\\u0622\\u062b\\u0650\\u0627\\u0651\\u0631 \\u0627\\u064b\\u0644\\u0625\\u0633\\u064d\\u0644\\u064c\\u0627\\u064d\\u0645\\u0651\\u064a\\u0629\\u064b \\u064f\\u0641\\u064e\\u064a \\u0645\\u062a\\u062d\\u0641 \\u0627\\u0652\\u0644\\u064d\\u0634\\u0627\\u0651\\u0631\\u0642\\u064e\\u0629\\u060c\\u064c \\u064d\\u0623\\u064b\\u0645\\u064e \\u0645\\u064f\\u0646 \\u062e\\u064c\\u0644\\u0627\\u0651\\u0644 \\u0650\\u0627\\u0633\\u064b\\u062a\\u0643\\u0645\\u0651\\u0627\\u064d\\u0644 \\u0627\\u0652\\u0644\\u0645\\u0652\\u0634\\u0652\\u0631\\u0648\\u0639\\u0627\\u064d\\u062a\\u064c \\u0627\\u0644\\u062b\\u0652\\u0642\\u0651\\u0627\\u0652\\u0641\\u064a\\u0629\\u064c \\u0648\\u064e\\u062a\\u0631\\u0645\\u064a\\u0645 \\u0627\\u0651\\u0644\\u0645\\u0628\\u0627\\u0646\\u064c\\u064a\\u064f \\u0627\\u0644\\u064d\\u062a\\u0650\\u0631\\u0627\\u0650\\u062b\\u064a\\u0650\\u0629 \\u0652\\u0648\\u063a\\u064a\\u0631\\u0647\\u064b\\u0627\\u064f \\u0645\\u064f\\u0646 \\u0627\\u064e\\u0644\\u0651\\u0623\\u0639\\u0651\\u0645\\u0627\\u0644 \\u064c\\u0648\\u0650\\u0627\\u0644\\u0623\\u064f\\u0646\\u0634\\u064e\\u0637\\u0629 \\u0652\\u0627\\u0644\\u062a\\u064a \\u062a\\u0635\\u0628 \\u0641\\u064a\\u064d \\u064e\\u0635\\u0645\\u064e\\u064a\\u0651\\u0645\\u0651 \\u064b\\u0627\\u0644\\u0650\\u0641\\u0639\\u0651\\u0644\\u064d \\u0627\\u064f\\u0644\\u064e\\u062b\\u064c\\u0642\\u0627\\u064b\\u0641\\u0651\\u064a .\\u0648\\u0623\\u0652\\u0643\\u064e\\u062f\\u064d \\u0627\\u0652\\u0644\\u0650\\u0645\\u0650\\u062d\\u0650\\u0627\\u064c\\u0636\\u0631 \\u0623\\u064d\\u0646 \\u0627\\u064c\\u0644\\u064e\\u062f\\u064e\\u0648\\u0652\\u0631\\u0629\\u0652 \\u064b\\u0627\\u0652\\u0644\\u064c\\u0623\\u064c\\u0648\\u064c\\u0644\\u064f\\u0649\\u0651 \\u0644\\u0645\\u064e\\u0639\\u0631\\u064d\\u0636\\u064d \\u0627\\u0644\\u0650\\u0643\\u0650\\u062a\\u0651\\u0627\\u0628\\u060c \\u0627\\u0644\\u0630\\u064d\\u064a \\u0623\\u0635\\u0651\\u0628\\u062d \\u0627\\u0651\\u0644\\u0652\\u064a\\u064f\\u0648\\u064c\\u0645\\u0651 \\u0648\\u062c\\u064b\\u0647\\u0629 \\u0639\\u0627\\u064b\\u0644\\u0651\\u0645\\u064a\\u0650\\u0629 \\u0644\\u0651\\u0644\\u0643\\u062a\\u0627\\u064d\\u0628\\u064e \\u064c\\u0648\\u0627\\u0644\\u0650\\u0645\\u0641\\u064e\\u0643\\u064b\\u0631\\u064a\\u0650\\u0646 \\u064e\\u0645\\u0650\\u0646\\u0650 \\u0623\\u0650\\u0646\\u064d\\u062d\\u064d\\u0627\\u064d\\u0621\\u064c \\u0627\\u064e\\u0644\\u0650\\u0639\\u0651\\u0627\\u0651\\u0644\\u0645\\u0652 \\u0638\\u0652\\u0644\\u0627\\u0644\\u0647\\u064c \\u0627\\u0644\\u0650\\u0648\\u0627\\u0631\\u064f\\u0641\\u0629\\u064e\\u060c\\u064f \\u0634\\u064d\\u0643\\u064d\\u0644\\u062a\\u0650 \\u064d\\u0646\\u064f\\u0642\\u064b\\u0637\\u0629 \\u064f\\u0627\\u064f\\u0646\\u064c\\u0637\\u0644\\u064e\\u0627\\u0652\\u0642 \\u064f\\u0648\\u062a\\u062d\\u0648\\u0650\\u0651\\u064d\\u0644 \\u0641\\u0652\\u064a\\u064d \\u0627\\u064e\\u0644\\u0645\\u0634\\u0652\\u0631\\u0652\\u0648\\u0639 \\u0652\\u0627\\u0644\\u0651\\u062b\\u0642\\u0652\\u0627\\u0652\\u0641\\u064d\\u064a\\u064f \\u0652\\u0644\\u064d\\u0635\\u0627\\u062d\\u0628 \\u064c\\u0627\\u064d\\u0644\\u064e\\u0633\\u0651\\u0645\\u0650\\u0648\\u064d \\u0650\\u062d\\u064d\\u0627\\u0643\\u0645\\u064f \\u0627\\u0652\\u0644\\u0634\\u0652\\u0627\\u064b\\u0631\\u0642\\u0651\\u0629\\u060c\\u0652 \\u0643\\u0652\\u0645\\u064b\\u0627\\u064e \\u064c\\u062a\\u0632\\u064f\\u0627\\u064d\\u0645\\u0646 \\u064c\\u0645\\u064c\\u0639\\u0651 \\u064e\\u0647\\u0650\\u0630\\u0647 \\u0627\\u0644\\u062f\\u0648\\u0631\\u0651\\u0629 \\u0627\\u064b\\u0641\\u0652\\u062a\\u062a\\u0627\\u062d \\u0645\\u064f\\u0643\\u064b\\u062a\\u0628\\u0652\\u0629\\u064e \\u0627\\u0644\\u064b\\u0645\\u064f\\u062d\\u0650\\u0645\\u0651\\u0648\\u062f\\u064e \\u0652(\\u0651\\u0627\\u0644\\u0652\\u0623\\u064b\\u0647\\u064f\\u0644\\u0650\\u064a\\u0629\\u0652)\\u0652\\u060c\\u0652 \\u0651\\u062b\\u064c\\u0645 \\u064b\\u0627\\u0644\\u0650\\u0645\\u0651\\u0631\\u064f\\u0643\\u0652\\u0632\\u0651 \\u064e\\u0627\\u0652\\u0644\\u064c\\u062b\\u0651\\u0642\\u0627\\u0641\\u0652\\u064a\\u064d \\u064f\\u0641\\u064a\\u0645\\u0627\\u0652 \\u0628\\u0639\\u062f\\u064d .\\u0652\\u0648\\u0651\\u0627\\u064c\\u0639\\u062a\\u0628\\u064d\\u0631 \\u0627\\u064d\\u0644\\u064c\\u0645\\u062d\\u064e\\u0627\\u064b\\u0636\\u0651\\u0631 \\u064b\\u0623\\u0646 \\u064b\\u062d\\u064b\\u0632\\u0645\\u0629 \\u0652\\u0627\\u0652\\u0644\\u064c\\u0645\\u064d\\u0647\\u064d\\u0631\\u062c\\u064d\\u0627\\u064d\\u0646\\u0627\\u0651\\u062a \\u0652\\u0648\\u0651\\u0627\\u0644\\u064f\\u0641\\u064b\\u0639\\u0650\\u0627\\u0644\\u064a\\u0650\\u0627\\u0651\\u062a\\u064b \\u0627\\u0644\\u0652\\u062a\\u064a\\u0650 \\u062a\\u0642\\u0652\\u0627\\u0650\\u0645 \\u0652\\u0639\\u0644\\u0651\\u0649 \\u0645\\u062f\\u0627\\u064c\\u0631\\u0650 \\u0627\\u064e\\u0644\\u0639\\u0627\\u0645\\u0650 \\u0650\\u0641\\u064a \\u064c\\u0627\\u0644\\u064e\\u0634\\u0627\\u064d\\u0631\\u0642\\u0629\\u064f\\u060c\\u0652 \\u0651\\u0648\\u0645\\u0627 \\u064a\\u0651\\u062a\\u064c\\u062e\\u0644\\u0650\\u0644\\u0647\\u064f\\u0627\\u0651 \\u0645\\u0646 \\u0623\\u0646\\u0634\\u0637\\u064c\\u0629\\u064d \\u062b\\u0642\\u064d\\u0627\\u0641\\u0652\\u064a\\u0629\\u064f \\u064c\\u0645\\u0651\\u062a\\u064f\\u0646\\u0648\\u064d\\u0639\\u0652\\u0629 \\u064d\\u062a\\u064c\\u0634\\u064b\\u0643\\u0652\\u0644\\u064f \\u064f\\u0623\\u064d\\u0648\\u062c\\u064c \\u0650\\u0627\\u064f\\u0644\\u062d\\u0631\\u064d\\u0627\\u0652\\u0643\\u0651 \\u064f\\u0627\\u064e\\u0644\\u062b\\u0642\\u0627\\u0641\\u064b\\u064a\\u064f\\u060c\\u064d \\u0648\\u0631\\u0627\\u0651\\u0641\\u0652\\u062f\\u0652\\u0627\\u064f\\u064b\\u0651 \\u0623\\u0633\\u0627\\u064d\\u0633\\u064d\\u064a\\u064e\\u0627\\u064c\\u064b \\u0644\\u0644\\u064c\\u062a\\u0641\\u0652\\u0627\\u0639\\u0644\\u0651 \\u0651\\u0648\\u0652\\u0627\\u0644\\u0652\\u062a\\u0646\\u0627\\u0650\\u063a\\u0645 \\u0627\\u0644\\u064b\\u062b\\u0650\\u0642\\u0627\\u064b\\u0641\\u064c\\u064a \\u064d\\u0641\\u064a\\u0651 \\u0625\\u0645\\u0627\\u0631\\u0652\\u0629\\u0652 \\u062a\\u0632\\u064c\\u062f\\u0651\\u0627\\u064c\\u0646 \\u0648\\u062a\\u0652\\u0632\\u062f\\u064d\\u0647\\u0651\\u064a\\u0650 \\u0643\\u0644 \\u064e\\u062d\\u064e\\u064a\\u064e\\u0646 \\u0628\\u0651\\u0644\\u0650\\u0641\\u064f\\u062a\\u064c\\u0629\\u064b \\u0643\\u064d\\u0631\\u064a\\u0645\\u0629\\u0651 \\u0648\\u064d\\u0633\\u064c\\u0627\\u064e\\u0646\\u062d\\u0629 \\u064e\\u0637\\u064a\\u064e\\u0628\\u0629 \\u0645\\u0650\\u0646 \\u0652\\u062d\\u0627\\u064e\\u0643\\u064b\\u0645 \\u0645\\u062b\\u0642\\u0641\\u0652\\u060c \\u064a\\u064e\\u062d\\u064b\\u0645\\u064d\\u0644\\u0652 \\u0639\\u0644\\u0649 \\u0639\\u064d\\u0627\\u064b\\u062a\\u064f\\u0642\\u0647 \\u064b\\u0627\\u064e\\u0644\\u064e\\u0646\\u0651\\u0647\\u064f\\u0648\\u064d\\u0636 \\u064f\\u0628\\u0652\\u0627\\u064c\\u0644\\u062b\\u064d\\u0642\\u064f\\u0627\\u064c\\u0641\\u064b\\u0629\\u064c \\u0648\\u064f\\u0627\\u064c\\u0644\\u064b\\u0645\\u064e\\u0639\\u064b\\u0631\\u0650\\u0641\\u0629 \\u064b.\\u0648\\u062e\\u0651\\u0644\\u0650\\u0635 \\u064f\\u0627\\u0650\\u0644\\u0650\\u0645\\u062d\\u064b\\u0627\\u0636\\u0631 \\u0625\\u064e\\u0644\\u0651\\u0649\\u0652 \\u0623\\u064b\\u0646 \\u064c\\u062b\\u064e\\u0645\\u0629\\u0651 \\u064b\\u062b\\u0644\\u0627\\u064e\\u062b\\u064c \\u0646\\u0642\\u0651\\u0627\\u0637 \\u064e\\u0644\\u064b\\u0644\\u0650\\u0627\\u064b\\u0631\\u064c\\u062a\\u0642\\u0650\\u0627\\u0621\\u064b \\u064e\\u0628\\u064d\\u0627\\u064d\\u0644\\u0641\\u0643\\u0652\\u0631\\u0629 \\u064d\\u0627\\u064d\\u0644\\u062b\\u0642\\u0651\\u0627\\u0641\\u064d\\u064a\\u064d\\u0629\\u0650 \\u0641\\u064e\\u064a\\u064d \\u064f\\u0627\\u0644\\u064c\\u0634\\u064d\\u0627\\u0631\\u0652\\u0642\\u0629 \\u0623\\u064d\\u0648\\u0644\\u0650\\u0647\\u0627 \\u064d\\u062a\\u0652\\u0623\\u064b\\u0633\\u064e\\u064a\\u0633 \\u0650\\u062f\\u0652\\u0627\\u0652\\u0626\\u0650\\u0631\\u0652\\u0629\\u064e \\u064e\\u0627\\u0644\\u062b\\u0642\\u0651\\u0627\\u0641\\u0629 \\u0648\\u064e\\u0627\\u0650\\u0644\\u064e\\u0625\\u0639\\u0650\\u0644\\u0627\\u0645\\u0651\\u060c \\u064c\\u0648\\u0650\\u062b\\u0652\\u0627\\u0646\\u064a\\u0647\\u0651\\u0627\\u064c \\u0627\\u062c\\u062a\\u0651\\u0645\\u064d\\u0627\\u064d\\u0639 \\u064e\\u0635\\u0627\\u062d\\u0650\\u0628\\u0650 \\u0627\\u0651\\u0644\\u0651\\u0633\\u0651\\u0645\\u0648\\u064d \\u0650\\u062d\\u0627\\u064f\\u0643\\u064b\\u0645 \\u0627\\u0644\\u064f\\u0634\\u0652\\u0627\\u064b\\u0631\\u0642\\u064d\\u0629\\u0651 \\u064c\\u0628\\u0643\\u064f\\u0648\\u0650\\u0627\\u062f\\u064c\\u0631 \\u0627\\u0644\\u064b\\u062f\\u064b\\u0627\\u0650\\u0626\\u0631\\u064b\\u0629 \\u064c\\u0648\\u0642\\u0651\\u062f\\u064f\\u0651\\u0645 \\u0641\\u0651\\u064a\\u0647\\u064f \\u0645\\u062c\\u0650\\u0645\\u064b\\u0648\\u064d\\u0639\\u0651\\u0629\\u064d \\u0645\\u064f\\u0646 \\u0652\\u0627\\u064e\\u0644\\u0633\\u064a\\u0651\\u0627\\u0651\\u0633\\u0627\\u062a \\u0651\\u0627\\u0644\\u062b\\u0642\\u064c\\u0627\\u064b\\u0641\\u064a\\u064e\\u0629 \\u0648\\u064c\\u0627\\u0644\\u062e\\u0651\\u0637\\u0637\\u064b \\u0627\\u0644\\u064d\\u062a\\u0646\\u0645\\u064e\\u0648\\u064a\\u0650\\u0629 \\u0651\\u0648\\u062f\\u0652\\u0639\\u0627 \\u064c\\u0633\\u0650\\u0645\\u064b\\u0648\\u064c\\u0647 \\u064c\\u0625\\u0650\\u0644\\u064f\\u0649: \\u0627\\u0644\\u0627\\u0647\\u0651\\u062a\\u064f\\u0645\\u0627\\u064f\\u0645 \\u0628\\u064b\\u0627\\u0650\\u0644\\u064f\\u0645\\u0652\\u0633\\u0631\\u062d\\u060c\\u0652 \\u0648\\u064b\\u0627\\u0651\\u0644\\u0623\\u0637\\u064c\\u0631\\u0650 \\u0627\\u064d\\u0644\\u0651\\u0639\\u0627\\u064b\\u0645\\u0629 \\u064e\\u0644\\u0644\\u0650\\u062b\\u064e\\u0642\\u0627\\u064d\\u0641\\u0629\\u064d\\u060c\\u0651 \\u0651\\u0627\\u064c\\u0644\\u0650\\u0627\\u0631\\u064f\\u062a\\u0642\\u0627\\u064f\\u0621\\u064c \\u0628\\u064d\\u0627\\u0650\\u0644\\u0639\\u0645\\u0651\\u0644\\u064e \\u0627\\u0644\\u0651\\u062a\\u064d\\u0634\\u0643\\u0651\\u064a\\u0644\\u064a\\u0650\\u060c \\u0627\\u0651\\u0644\\u0627\\u064f\\u0647\\u064f\\u062a\\u0645\\u064d\\u0627\\u0645 \\u0650\\u0628\\u0650\\u0627\\u0651\\u0644\\u064b\\u0648\\u0639\\u0651\\u064a \\u064b\\u0648\\u0650\\u0627\\u0652\\u0644\\u064f\\u0630\\u0627\\u0626\\u0650\\u0642\\u0651\\u0629\\u064c \\u0627\\u0651\\u0644\\u062c\\u0650\\u0645\\u064d\\u0627\\u0652\\u0644\\u0652\\u064a\\u0652\\u0629\\u064f\\u060c \\u0627\\u064d\\u0644\\u0650\\u0627\\u0647\\u064f\\u062a\\u0645\\u0627\\u0651\\u0645\\u0652 \\u064f\\u0628\\u064d\\u0627\\u0644\\u0637\\u0641\\u0644\\u0651\\u060c \\u0651\\u062a\\u0637\\u0648\\u064a\\u0631\\u064b \\u0634\\u0628\\u0643\\u0629\\u0652 \\u0627\\u0644\\u0645\\u0643\\u062a\\u064b\\u0628\\u0627\\u062a\\u060c\\u0652 \\u064e\\u0627\\u0633\\u062a\\u0643\\u064f\\u0645\\u064d\\u0627\\u0644\\u064d \\u0639\\u064b\\u0645\\u064b\\u0644\\u0652\\u064a\\u0627\\u062a \\u064c\\u0627\\u0644\\u064f\\u062a\\u0631\\u0645\\u064a\\u0645\\u0650\\u060c \\u064b\\u0627\\u0644\\u064d\\u0627\\u0647\\u064b\\u062a\\u064c\\u0645\\u0652\\u0627\\u0650\\u0645\\u064d \\u0650\\u0628\\u062b\\u064e\\u0642\\u0652\\u0627\\u064b\\u0641\\u064e\\u0629\\u064d \\u0650\\u0627\\u064d\\u0644\\u0645\\u0650\\u0631\\u064b\\u0623\\u064b\\u0629 \\u0650\\u0648\\u064b\\u0627\\u064f\\u0644\\u064d\\u0637\\u0641\\u0652\\u0644 .\\u0652 \\u064c.\\u064d)\\u064f \\u064b\\u0648\\u062b\\u064b\\u0627\\u064d\\u0644\\u0651\\u062b\\u064b\\u0647\\u064e\\u0627\\u064f \\u064b\\u0625\\u0650\\u0639\\u0650\\u0644\\u0651\\u0627\\u064b\\u0646\\u064f \\u0627\\u0644\\u0634\\u0627\\u0631\\u0642\\u0629\\u064f \\u0651\\u0639\\u0627\\u064d\\u0635\\u064e\\u0645\\u0629\\u064c \\u0644\\u0644\\u064b\\u062b\\u0642\\u064b\\u0627\\u0641\\u0629 \\u064b\\u0627\\u0652\\u0644\\u064e\\u0639\\u0651\\u0631\\u0628\\u064a\\u0629\\u064f \\u064b\\u0641\\u064a\\u064b \\u0639\\u0627\\u0645 19\\u06529\\u064d8 \\u064e\\u0644\\u0645\\u0627 \\u062a\\u062a\\u0645\\u064b\\u064a\\u0632\\u064f \\u0628\\u064f\\u0647\\u064e \\u064e\\u0645\\u064b\\u0646\\u064b \\u064b\\u0646\\u064e\\u0634\\u0650\\u0627\\u0637 \\u0651\\u0648\\u064f\\u062d\\u064b\\u0631\\u0627\\u0643\\u064d \\u064f\\u062b\\u0642\\u0627\\u0641\\u064a\\u0650 \\u0645\\u0652\\u0645\\u064c\\u064a\\u0632\\u064d\\u060c\\u064e \\u064b\\u0641\\u0636\\u0644\\u0627\\u064b\\u064e \\u064f\\u0639\\u0650\\u0646 \\u062f\\u0648\\u0631\\u064b \\u064c\\u0627\\u0644\\u064d\\u062c\\u064f\\u0648\\u0627\\u0652\\u0626\\u064f\\u0632\\u0651 \\u0648\\u0635\\u0650\\u0646\\u064f\\u0627\\u062f\\u0651\\u064a\\u064b\\u0642 \\u064f\\u0627\\u064b\\u0644\\u062f\\u064d\\u0639\\u064c\\u0645\\u060c \\u064d\\u0648\\u0627\\u064f\\u0644\\u062f\\u0628\\u0652\\u0644\\u064b\\u0648\\u0645\\u0627\\u0633\\u064d\\u064a\\u0629 \\u064f\\u0627\\u0650\\u0644\\u064b\\u062b\\u0652\\u0642\\u0627\\u0641\\u0651\\u064a\\u0629\\u060c\\u064e \\u0648\\u0639\\u0650\\u062f\\u062f \\u0648\\u0652\\u0646\\u064c\\u0648\\u0639 \\u064b\\u0627\\u064b\\u0644\\u064c\\u062c\\u064b\\u0627\\u0645\\u0639\\u0650\\u0627\\u064c\\u062a \\u0648\\u0627\\u0644\\u064e\\u0645\\u0650\\u0631\\u0627\\u0652\\u0643\\u0632\\u060c \\u064f\\u0648\\u0627\\u064b\\u0644\\u0625\\u064f\\u062d\\u0635\\u064c\\u0627\\u0650\\u0621\\u064e \\u0627\\u0651\\u0644\\u0627\\u064b\\u062c\\u064f\\u062a\\u0645\\u0627\\u0650\\u0639\\u0650\\u064a\\u0651 \\u064b\\u0641\\u0651\\u064a \\u0628\\u0644\\u0648\\u064e\\u0631\\u0629\\u064f \\u064b\\u0648\\u064c\\u062a\\u064b\\u0631\\u0633\\u0652\\u064a\\u062e \\u064c\\u0645\\u064d\\u0643\\u064e\\u0627\\u0646\\u0629 \\u064b\\u0627\\u0644\\u0651\\u0634\\u0627\\u0651\\u0631\\u064e\\u0642\\u0629 \\u064d\\u0639\\u0627\\u0635\\u0645\\u0629\\u064f \\u0651\\u0644\\u064c\\u0644\\u0651\\u062b\\u064d\\u0642\\u0627\\u064d\\u0641\\u0629\\u064e \\u064c\\u0627\\u064c\\u0644\\u0652\\u0639\\u0650\\u0631\\u0628\\u064a\\u064c\\u0629 \\u0650\\u0648\\u0652\\u0627\\u0644\\u0625\\u064d\\u0633\\u0644\\u0627\\u0651\\u0645\\u064a\\u0652\\u0629\\u060c \\u0648\\u0643\\u064f\\u0644 \\u0651\\u0630\\u0652\\u0644\\u064b\\u0643 \\u064b\\u0628\\u062c\\u0647\\u062f \\u0651\\u0635\\u0651\\u0627\\u062d\\u0628\\u064d \\u0650\\u0627\\u0644\\u064d\\u0633\\u064e\\u0645\\u0648\\u0650 \\u064b\\u062d\\u0650\\u0627\\u064c\\u0643\\u064f\\u0645 \\u064d\\u0627\\u0644\\u0634\\u0627\\u0631\\u064c\\u0642\\u0629 \\u0627\\u064e\\u0644\\u0650\\u0630\\u064a\\u064b \\u064e\\u0639\\u0645\\u064f\\u0644 \\u0651\\u0648\\u064d\\u0644\\u0627 \\u064a\\u0632\\u064f\\u0627\\u064e\\u0644 \\u0628\\u0634\\u063a\\u0641\\u0652 \\u0648\\u062d\\u0628\\u064f \\u0639\\u064f\\u0644\\u0649\\u0652 \\u062a\\u064c\\u0639\\u0632\\u064b\\u064a\\u064b\\u0632\\u064e \\u064c\\u0627\\u064f\\u0644\\u064e\\u062a\\u0646\\u064b\\u0645\\u0651\\u064a\\u064d\\u0629\\u064c \\u0627\\u064e\\u0644\\u064b\\u062b\\u0642\\u064e\\u0627\\u064d\\u0641\\u064c\\u064a\\u0629 \\u064e\\u0641\\u0650\\u064a\\u064f \\u0627\\u0652\\u0644\\u064e\\u0634\\u0627\\u0631\\u064e\\u0642\\u064d\\u0629\\u064e \\u0645\\u0646\\u0650 \\u062e\\u064b\\u0644\\u0650\\u0627\\u0650\\u0644\\u0651 \\u0651\\u0633\\u064e\\u0646\\u0651 \\u0648\\u0625\\u0642\\u064b\\u0631\\u0651\\u0627\\u0631 \\u0645\\u062c\\u0645\\u0648\\u064c\\u0639\\u064e\\u0629\\u064e \\u0645\\u064f\\u0646\\u0651 \\u0627\\u064b\\u0644\\u0645\\u064d\\u0634\\u0650\\u0631\\u0648\\u0639\\u064f\\u0627\\u064f\\u062a\\u0652 \\u0627\\u0644\\u0651\\u062b\\u0650\\u0642\\u0627\\u0652\\u0641\\u0650\\u064a\\u0629\\u064c \\u0650\\u0627\\u0644\\u062a\\u064d\\u064a \\u064e\\u062a\\u064c\\u0647\\u064e\\u062f\\u064d\\u0641\\u064e \\u0625\\u064e\\u0644\\u0650\\u0649 \\u0652\\u062a\\u062d\\u0642\\u064a\\u0642 \\u0630\\u0644\\u0643\\u064d\\u060c\\u064b \\u0650\\u062d\\u062a\\u0650\\u0649 \\u0652\\u0623\\u064e\\u0635\\u0628\\u062d\\u062a\\u0651 \\u064c\\u0627\\u064e\\u0644\\u0634\\u0627\\u064c\\u0631\\u064c\\u0642\\u064b\\u0629\\u0652 \\u0627\\u0644\\u0651\\u064a\\u0648\\u064c\\u0645 \\u0651\\u0648\\u064f\\u062c\\u0647\\u064b\\u0629\\u064e \\u064a\\u0624\\u064f\\u0645\\u064e\\u0647\\u064c\\u0627 \\u0652\\u0627\\u0644\\u064e\\u0645\\u0641\\u064e\\u0643\\u0631\\u0651\\u0648\\u0651\\u0646 \\u0648\\u0650\\u0627\\u0644\\u0645\\u0651\\u062b\\u0642\\u0650\\u0641\\u0651\\u0648\\u0646 \\u0648\\u0627\\u0644\\u0645\\u064f\\u0628\\u064c\\u062f\\u0639\\u064c\\u0648\\u0650\\u0646 \\u0652\\u0648\\u0652\\u0627\\u0651\\u0644\\u064c\\u0643\\u062a\\u064c\\u0627\\u0628\\u0650 \\u064c\\u0645\\u0650\\u0646\\u064f \\u0634\\u062a\\u0650\\u0649\\u064e \\u0623\\u064f\\u0646\\u064d\\u062d\\u0627\\u0621 \\u0627\\u064d\\u0644\\u0652\\u0639\\u0627\\u0644\\u064f\\u0645\\u060c\\u0650 \\u064e\\u0634\\u064b\\u0627\\u0652\\u0645\\u062e\\u0651\\u0629\\u064e \\u0631\\u0627\\u0633\\u062e\\u064b\\u0629 \\u064c\\u0628\\u064c\\u0639\\u0651\\u0637\\u064c\\u0627\\u0626\\u064f\\u0647\\u0650\\u0627 \\u064e\\u0648\\u062a\\u064b\\u0642\\u0650\\u062f\\u0645\\u0647\\u064d\\u0627 \\u0650.\\u064f\"\n        ],\n        \"semantic_type\": \"\",\n        \"description\": \"\"\n      }\n    },\n    {\n      \"column\": \"label\",\n      \"properties\": {\n        \"dtype\": \"category\",\n        \"num_unique_values\": 7,\n        \"samples\": [\n          \"Culture\",\n          \"Finance\",\n          \"Sports\"\n        ],\n        \"semantic_type\": \"\",\n        \"description\": \"\"\n      }\n    }\n  ]\n}"
            }
          },
          "metadata": {},
          "execution_count": 45
        }
      ]
    },
    {
      "cell_type": "code",
      "source": [
        "df.isnull().sum()"
      ],
      "metadata": {
        "id": "XM2aHx5Y3LLb",
        "colab": {
          "base_uri": "https://localhost:8080/",
          "height": 147
        },
        "outputId": "714cf2c7-ea19-4ea1-9ba6-dca06089b039"
      },
      "execution_count": 46,
      "outputs": [
        {
          "output_type": "execute_result",
          "data": {
            "text/plain": [
              "text     0\n",
              "label    0\n",
              "dtype: int64"
            ],
            "text/html": [
              "<div>\n",
              "<style scoped>\n",
              "    .dataframe tbody tr th:only-of-type {\n",
              "        vertical-align: middle;\n",
              "    }\n",
              "\n",
              "    .dataframe tbody tr th {\n",
              "        vertical-align: top;\n",
              "    }\n",
              "\n",
              "    .dataframe thead th {\n",
              "        text-align: right;\n",
              "    }\n",
              "</style>\n",
              "<table border=\"1\" class=\"dataframe\">\n",
              "  <thead>\n",
              "    <tr style=\"text-align: right;\">\n",
              "      <th></th>\n",
              "      <th>0</th>\n",
              "    </tr>\n",
              "  </thead>\n",
              "  <tbody>\n",
              "    <tr>\n",
              "      <th>text</th>\n",
              "      <td>0</td>\n",
              "    </tr>\n",
              "    <tr>\n",
              "      <th>label</th>\n",
              "      <td>0</td>\n",
              "    </tr>\n",
              "  </tbody>\n",
              "</table>\n",
              "</div><br><label><b>dtype:</b> int64</label>"
            ]
          },
          "metadata": {},
          "execution_count": 46
        }
      ]
    },
    {
      "cell_type": "code",
      "source": [
        "df['text']"
      ],
      "metadata": {
        "id": "QUU0Vj7p3eFf",
        "colab": {
          "base_uri": "https://localhost:8080/",
          "height": 458
        },
        "outputId": "eb3e0ba0-baad-4cfc-dd0c-4b97340121be"
      },
      "execution_count": 47,
      "outputs": [
        {
          "output_type": "execute_result",
          "data": {
            "text/plain": [
              "0        https://example.com/resource/الشاٌرقة -ْ محمِد...\n",
              "1        https://example.com/resource/اَنِطٌلقّتَ ٍفٍيّ...\n",
              "2        https://example.com/resource/أُقيًمٌتِ مِساءُ ...\n",
              "3        https://example.com/resource/بٍاسُمةَ يًوٌنٍس ...\n",
              "4        https://example.com/resource/قُرر اَتحِاد اًلْ...\n",
              "                               ...                        \n",
              "39880    https://example.com/resource/أعلّنت شّركٌةً بّ...\n",
              "39881    https://example.com/resource/بُتٍاَرٌيًخَ 28ْ ...\n",
              "39882    https://example.com/resource/دبَيُ:َ «ُاَلخليج...\n",
              "39883    https://example.com/resource/LٌG GًS2ْ9ً0 Coْo...\n",
              "39884    https://example.com/resource/تنطًلقٍ اٌليومّ َ...\n",
              "Name: text, Length: 39885, dtype: object"
            ],
            "text/html": [
              "<div>\n",
              "<style scoped>\n",
              "    .dataframe tbody tr th:only-of-type {\n",
              "        vertical-align: middle;\n",
              "    }\n",
              "\n",
              "    .dataframe tbody tr th {\n",
              "        vertical-align: top;\n",
              "    }\n",
              "\n",
              "    .dataframe thead th {\n",
              "        text-align: right;\n",
              "    }\n",
              "</style>\n",
              "<table border=\"1\" class=\"dataframe\">\n",
              "  <thead>\n",
              "    <tr style=\"text-align: right;\">\n",
              "      <th></th>\n",
              "      <th>text</th>\n",
              "    </tr>\n",
              "  </thead>\n",
              "  <tbody>\n",
              "    <tr>\n",
              "      <th>0</th>\n",
              "      <td>https://example.com/resource/الشاٌرقة -ْ محمِد...</td>\n",
              "    </tr>\n",
              "    <tr>\n",
              "      <th>1</th>\n",
              "      <td>https://example.com/resource/اَنِطٌلقّتَ ٍفٍيّ...</td>\n",
              "    </tr>\n",
              "    <tr>\n",
              "      <th>2</th>\n",
              "      <td>https://example.com/resource/أُقيًمٌتِ مِساءُ ...</td>\n",
              "    </tr>\n",
              "    <tr>\n",
              "      <th>3</th>\n",
              "      <td>https://example.com/resource/بٍاسُمةَ يًوٌنٍس ...</td>\n",
              "    </tr>\n",
              "    <tr>\n",
              "      <th>4</th>\n",
              "      <td>https://example.com/resource/قُرر اَتحِاد اًلْ...</td>\n",
              "    </tr>\n",
              "    <tr>\n",
              "      <th>...</th>\n",
              "      <td>...</td>\n",
              "    </tr>\n",
              "    <tr>\n",
              "      <th>39880</th>\n",
              "      <td>https://example.com/resource/أعلّنت شّركٌةً بّ...</td>\n",
              "    </tr>\n",
              "    <tr>\n",
              "      <th>39881</th>\n",
              "      <td>https://example.com/resource/بُتٍاَرٌيًخَ 28ْ ...</td>\n",
              "    </tr>\n",
              "    <tr>\n",
              "      <th>39882</th>\n",
              "      <td>https://example.com/resource/دبَيُ:َ «ُاَلخليج...</td>\n",
              "    </tr>\n",
              "    <tr>\n",
              "      <th>39883</th>\n",
              "      <td>https://example.com/resource/LٌG GًS2ْ9ً0 Coْo...</td>\n",
              "    </tr>\n",
              "    <tr>\n",
              "      <th>39884</th>\n",
              "      <td>https://example.com/resource/تنطًلقٍ اٌليومّ َ...</td>\n",
              "    </tr>\n",
              "  </tbody>\n",
              "</table>\n",
              "<p>39885 rows × 1 columns</p>\n",
              "</div><br><label><b>dtype:</b> object</label>"
            ]
          },
          "metadata": {},
          "execution_count": 47
        }
      ]
    },
    {
      "cell_type": "code",
      "source": [
        "df = df[df['label'] != 'Mixed']\n",
        "df = df[df['text'].str.split().str.len().between(18,230)]"
      ],
      "metadata": {
        "id": "6026sPto1cyR"
      },
      "execution_count": 48,
      "outputs": []
    },
    {
      "cell_type": "code",
      "source": [
        "df['text'].str.split().str.len().plot.hist(bins=30, title='Number of words ')"
      ],
      "metadata": {
        "id": "B5_qGN751c0c",
        "colab": {
          "base_uri": "https://localhost:8080/",
          "height": 470
        },
        "outputId": "46025ac9-687b-4e0d-de18-2db4ca5d0782"
      },
      "execution_count": 49,
      "outputs": [
        {
          "output_type": "execute_result",
          "data": {
            "text/plain": [
              "<Axes: title={'center': 'Number of words '}, ylabel='Frequency'>"
            ]
          },
          "metadata": {},
          "execution_count": 49
        },
        {
          "output_type": "display_data",
          "data": {
            "text/plain": [
              "<Figure size 640x480 with 1 Axes>"
            ],
            "image/png": "[encoded data removed]"
          },
          "metadata": {}
        }
      ]
    },
    {
      "cell_type": "code",
      "source": [
        "arabic_stopwords = set(stopwords.words('arabic'))\n",
        "st = ISRIStemmer()\n",
        "def clean_text(text):\n",
        "\n",
        "    cleaned_text = re.sub(r'http\\S+|www\\S+|https\\S+', '', text, flags=re.MULTILINE)\n",
        "    cleaned_text = re.sub(r'[^\\w\\s]', '', cleaned_text)\n",
        "    cleaned_text = araby.strip_tashkeel(cleaned_text)\n",
        "    cleaned_text = araby.strip_tatweel(cleaned_text)\n",
        "    cleaned_text = araby.strip_lastharaka(cleaned_text)\n",
        "    words = cleaned_text.split()\n",
        "    filtered_words = [word for word in words if word not in arabic_stopwords]\n",
        "    stemmed_words = []\n",
        "    for word in words:\n",
        "      stemmed_words.append(st.stem(word))\n",
        "\n",
        "    stemmed_words = ' '.join(filtered_words)\n",
        "    cleaned_text = araby.normalize_hamza(stemmed_words)\n",
        "\n",
        "    return cleaned_text\n",
        "\n",
        "#resource pyarabic doc"
      ],
      "metadata": {
        "id": "rMRmwZnK2dbB"
      },
      "execution_count": 50,
      "outputs": []
    },
    {
      "cell_type": "code",
      "source": [
        "df['cleaned_text'] = df['text'].apply(clean_text)"
      ],
      "metadata": {
        "id": "TEFIqBrU4hfE"
      },
      "execution_count": 51,
      "outputs": []
    },
    {
      "cell_type": "code",
      "source": [
        "df.head()"
      ],
      "metadata": {
        "id": "xRk7kX2Q1c2v",
        "colab": {
          "base_uri": "https://localhost:8080/",
          "height": 206
        },
        "outputId": "f7716d02-efac-4761-a5fb-069aa9621578"
      },
      "execution_count": 52,
      "outputs": [
        {
          "output_type": "execute_result",
          "data": {
            "text/plain": [
              "                                                 text    label  \\\n",
              "4   https://example.com/resource/قُرر اَتحِاد اًلْ...  Culture   \n",
              "7   https://example.com/resource/توفٌي َأمس ِاَلُأ...  Culture   \n",
              "8   https://example.com/resource/نظم ْمَرٍكزْ َاِل...  Culture   \n",
              "15  https://example.com/resource/اَلّشْاِرقِةّ:ً م...  Culture   \n",
              "19  https://example.com/resource/أعلّنْت إداِرِة م...  Culture   \n",
              "\n",
              "                                         cleaned_text  \n",
              "4   اتحاد الءدباء والكتاب الموريتانيين عقد مءتمره ...  \n",
              "7   الءديب الءسباني ميجيل ديليبس يعتبر واحدا ءهم ا...  \n",
              "8   مركز الشارقة للشعر الشعبي مجلس ضاحية مغيدر بال...  \n",
              "15  ميرفت الخطيب تلبية لدعوة حرم صاحب السمو الشيخ ...  \n",
              "19  ءدارة مسرح ءسطنبولي وجمعية تيرو للفنون تنظيم ا...  "
            ],
            "text/html": [
              "\n",
              "  <div id=\"df-bba25437-9c49-4a9e-878a-cdf291488b41\" class=\"colab-df-container\">\n",
              "    <div>\n",
              "<style scoped>\n",
              "    .dataframe tbody tr th:only-of-type {\n",
              "        vertical-align: middle;\n",
              "    }\n",
              "\n",
              "    .dataframe tbody tr th {\n",
              "        vertical-align: top;\n",
              "    }\n",
              "\n",
              "    .dataframe thead th {\n",
              "        text-align: right;\n",
              "    }\n",
              "</style>\n",
              "<table border=\"1\" class=\"dataframe\">\n",
              "  <thead>\n",
              "    <tr style=\"text-align: right;\">\n",
              "      <th></th>\n",
              "      <th>text</th>\n",
              "      <th>label</th>\n",
              "      <th>cleaned_text</th>\n",
              "    </tr>\n",
              "  </thead>\n",
              "  <tbody>\n",
              "    <tr>\n",
              "      <th>4</th>\n",
              "      <td>https://example.com/resource/قُرر اَتحِاد اًلْ...</td>\n",
              "      <td>Culture</td>\n",
              "      <td>اتحاد الءدباء والكتاب الموريتانيين عقد مءتمره ...</td>\n",
              "    </tr>\n",
              "    <tr>\n",
              "      <th>7</th>\n",
              "      <td>https://example.com/resource/توفٌي َأمس ِاَلُأ...</td>\n",
              "      <td>Culture</td>\n",
              "      <td>الءديب الءسباني ميجيل ديليبس يعتبر واحدا ءهم ا...</td>\n",
              "    </tr>\n",
              "    <tr>\n",
              "      <th>8</th>\n",
              "      <td>https://example.com/resource/نظم ْمَرٍكزْ َاِل...</td>\n",
              "      <td>Culture</td>\n",
              "      <td>مركز الشارقة للشعر الشعبي مجلس ضاحية مغيدر بال...</td>\n",
              "    </tr>\n",
              "    <tr>\n",
              "      <th>15</th>\n",
              "      <td>https://example.com/resource/اَلّشْاِرقِةّ:ً م...</td>\n",
              "      <td>Culture</td>\n",
              "      <td>ميرفت الخطيب تلبية لدعوة حرم صاحب السمو الشيخ ...</td>\n",
              "    </tr>\n",
              "    <tr>\n",
              "      <th>19</th>\n",
              "      <td>https://example.com/resource/أعلّنْت إداِرِة م...</td>\n",
              "      <td>Culture</td>\n",
              "      <td>ءدارة مسرح ءسطنبولي وجمعية تيرو للفنون تنظيم ا...</td>\n",
              "    </tr>\n",
              "  </tbody>\n",
              "</table>\n",
              "</div>\n",
              "    <div class=\"colab-df-buttons\">\n",
              "\n",
              "  <div class=\"colab-df-container\">\n",
              "    <button class=\"colab-df-convert\" onclick=\"convertToInteractive('df-bba25437-9c49-4a9e-878a-cdf291488b41')\"\n",
              "            title=\"Convert this dataframe to an interactive table.\"\n",
              "            style=\"display:none;\">\n",
              "\n",
              "  <svg xmlns=\"http://www.w3.org/2000/svg\" height=\"24px\" viewBox=\"0 -960 960 960\">\n",
              "    <path d=\"M120-120v-720h720v720H120Zm60-500h600v-160H180v160Zm220 220h160v-160H400v160Zm0 220h160v-160H400v160ZM180-400h160v-160H180v160Zm440 0h160v-160H620v160ZM180-180h160v-160H180v160Zm440 0h160v-160H620v160Z\"/>\n",
              "  </svg>\n",
              "    </button>\n",
              "\n",
              "  <style>\n",
              "    .colab-df-container {\n",
              "      display:flex;\n",
              "      gap: 12px;\n",
              "    }\n",
              "\n",
              "    .colab-df-convert {\n",
              "      background-color: #E8F0FE;\n",
              "      border: none;\n",
              "      border-radius: 50%;\n",
              "      cursor: pointer;\n",
              "      display: none;\n",
              "      fill: #1967D2;\n",
              "      height: 32px;\n",
              "      padding: 0 0 0 0;\n",
              "      width: 32px;\n",
              "    }\n",
              "\n",
              "    .colab-df-convert:hover {\n",
              "      background-color: #E2EBFA;\n",
              "      box-shadow: 0px 1px 2px rgba(60, 64, 67, 0.3), 0px 1px 3px 1px rgba(60, 64, 67, 0.15);\n",
              "      fill: #174EA6;\n",
              "    }\n",
              "\n",
              "    .colab-df-buttons div {\n",
              "      margin-bottom: 4px;\n",
              "    }\n",
              "\n",
              "    [theme=dark] .colab-df-convert {\n",
              "      background-color: #3B4455;\n",
              "      fill: #D2E3FC;\n",
              "    }\n",
              "\n",
              "    [theme=dark] .colab-df-convert:hover {\n",
              "      background-color: #434B5C;\n",
              "      box-shadow: 0px 1px 3px 1px rgba(0, 0, 0, 0.15);\n",
              "      filter: drop-shadow(0px 1px 2px rgba(0, 0, 0, 0.3));\n",
              "      fill: #FFFFFF;\n",
              "    }\n",
              "  </style>\n",
              "\n",
              "    <script>\n",
              "      const buttonEl =\n",
              "        document.querySelector('#df-bba25437-9c49-4a9e-878a-cdf291488b41 button.colab-df-convert');\n",
              "      buttonEl.style.display =\n",
              "        google.colab.kernel.accessAllowed ? 'block' : 'none';\n",
              "\n",
              "      async function convertToInteractive(key) {\n",
              "        const element = document.querySelector('#df-bba25437-9c49-4a9e-878a-cdf291488b41');\n",
              "        const dataTable =\n",
              "          await google.colab.kernel.invokeFunction('convertToInteractive',\n",
              "                                                    [key], {});\n",
              "        if (!dataTable) return;\n",
              "\n",
              "        const docLinkHtml = 'Like what you see? Visit the ' +\n",
              "          '<a target=\"_blank\" href=https://colab.research.google.com/notebooks/data_table.ipynb>data table notebook</a>'\n",
              "          + ' to learn more about interactive tables.';\n",
              "        element.innerHTML = '';\n",
              "        dataTable['output_type'] = 'display_data';\n",
              "        await google.colab.output.renderOutput(dataTable, element);\n",
              "        const docLink = document.createElement('div');\n",
              "        docLink.innerHTML = docLinkHtml;\n",
              "        element.appendChild(docLink);\n",
              "      }\n",
              "    </script>\n",
              "  </div>\n",
              "\n",
              "\n",
              "<div id=\"df-8dee8ef5-7962-48bd-8e42-adca6c85f72c\">\n",
              "  <button class=\"colab-df-quickchart\" onclick=\"quickchart('df-8dee8ef5-7962-48bd-8e42-adca6c85f72c')\"\n",
              "            title=\"Suggest charts\"\n",
              "            style=\"display:none;\">\n",
              "\n",
              "<svg xmlns=\"http://www.w3.org/2000/svg\" height=\"24px\"viewBox=\"0 0 24 24\"\n",
              "     width=\"24px\">\n",
              "    <g>\n",
              "        <path d=\"M19 3H5c-1.1 0-2 .9-2 2v14c0 1.1.9 2 2 2h14c1.1 0 2-.9 2-2V5c0-1.1-.9-2-2-2zM9 17H7v-7h2v7zm4 0h-2V7h2v10zm4 0h-2v-4h2v4z\"/>\n",
              "    </g>\n",
              "</svg>\n",
              "  </button>\n",
              "\n",
              "<style>\n",
              "  .colab-df-quickchart {\n",
              "      --bg-color: #E8F0FE;\n",
              "      --fill-color: #1967D2;\n",
              "      --hover-bg-color: #E2EBFA;\n",
              "      --hover-fill-color: #174EA6;\n",
              "      --disabled-fill-color: #AAA;\n",
              "      --disabled-bg-color: #DDD;\n",
              "  }\n",
              "\n",
              "  [theme=dark] .colab-df-quickchart {\n",
              "      --bg-color: #3B4455;\n",
              "      --fill-color: #D2E3FC;\n",
              "      --hover-bg-color: #434B5C;\n",
              "      --hover-fill-color: #FFFFFF;\n",
              "      --disabled-bg-color: #3B4455;\n",
              "      --disabled-fill-color: #666;\n",
              "  }\n",
              "\n",
              "  .colab-df-quickchart {\n",
              "    background-color: var(--bg-color);\n",
              "    border: none;\n",
              "    border-radius: 50%;\n",
              "    cursor: pointer;\n",
              "    display: none;\n",
              "    fill: var(--fill-color);\n",
              "    height: 32px;\n",
              "    padding: 0;\n",
              "    width: 32px;\n",
              "  }\n",
              "\n",
              "  .colab-df-quickchart:hover {\n",
              "    background-color: var(--hover-bg-color);\n",
              "    box-shadow: 0 1px 2px rgba(60, 64, 67, 0.3), 0 1px 3px 1px rgba(60, 64, 67, 0.15);\n",
              "    fill: var(--button-hover-fill-color);\n",
              "  }\n",
              "\n",
              "  .colab-df-quickchart-complete:disabled,\n",
              "  .colab-df-quickchart-complete:disabled:hover {\n",
              "    background-color: var(--disabled-bg-color);\n",
              "    fill: var(--disabled-fill-color);\n",
              "    box-shadow: none;\n",
              "  }\n",
              "\n",
              "  .colab-df-spinner {\n",
              "    border: 2px solid var(--fill-color);\n",
              "    border-color: transparent;\n",
              "    border-bottom-color: var(--fill-color);\n",
              "    animation:\n",
              "      spin 1s steps(1) infinite;\n",
              "  }\n",
              "\n",
              "  @keyframes spin {\n",
              "    0% {\n",
              "      border-color: transparent;\n",
              "      border-bottom-color: var(--fill-color);\n",
              "      border-left-color: var(--fill-color);\n",
              "    }\n",
              "    20% {\n",
              "      border-color: transparent;\n",
              "      border-left-color: var(--fill-color);\n",
              "      border-top-color: var(--fill-color);\n",
              "    }\n",
              "    30% {\n",
              "      border-color: transparent;\n",
              "      border-left-color: var(--fill-color);\n",
              "      border-top-color: var(--fill-color);\n",
              "      border-right-color: var(--fill-color);\n",
              "    }\n",
              "    40% {\n",
              "      border-color: transparent;\n",
              "      border-right-color: var(--fill-color);\n",
              "      border-top-color: var(--fill-color);\n",
              "    }\n",
              "    60% {\n",
              "      border-color: transparent;\n",
              "      border-right-color: var(--fill-color);\n",
              "    }\n",
              "    80% {\n",
              "      border-color: transparent;\n",
              "      border-right-color: var(--fill-color);\n",
              "      border-bottom-color: var(--fill-color);\n",
              "    }\n",
              "    90% {\n",
              "      border-color: transparent;\n",
              "      border-bottom-color: var(--fill-color);\n",
              "    }\n",
              "  }\n",
              "</style>\n",
              "\n",
              "  <script>\n",
              "    async function quickchart(key) {\n",
              "      const quickchartButtonEl =\n",
              "        document.querySelector('#' + key + ' button');\n",
              "      quickchartButtonEl.disabled = true;  // To prevent multiple clicks.\n",
              "      quickchartButtonEl.classList.add('colab-df-spinner');\n",
              "      try {\n",
              "        const charts = await google.colab.kernel.invokeFunction(\n",
              "            'suggestCharts', [key], {});\n",
              "      } catch (error) {\n",
              "        console.error('Error during call to suggestCharts:', error);\n",
              "      }\n",
              "      quickchartButtonEl.classList.remove('colab-df-spinner');\n",
              "      quickchartButtonEl.classList.add('colab-df-quickchart-complete');\n",
              "    }\n",
              "    (() => {\n",
              "      let quickchartButtonEl =\n",
              "        document.querySelector('#df-8dee8ef5-7962-48bd-8e42-adca6c85f72c button');\n",
              "      quickchartButtonEl.style.display =\n",
              "        google.colab.kernel.accessAllowed ? 'block' : 'none';\n",
              "    })();\n",
              "  </script>\n",
              "</div>\n",
              "\n",
              "    </div>\n",
              "  </div>\n"
            ],
            "application/vnd.google.colaboratory.intrinsic+json": {
              "type": "dataframe",
              "variable_name": "df",
              "summary": "{\n  \"name\": \"df\",\n  \"rows\": 20475,\n  \"fields\": [\n    {\n      \"column\": \"text\",\n      \"properties\": {\n        \"dtype\": \"string\",\n        \"num_unique_values\": 20475,\n        \"samples\": [\n          \"https://example.com/resource/\\u0623\\u0639\\u0644\\u064e\\u0646\\u064b\\u062a\\u064b \\u064c\\u0627\\u064d\\u0644\\u0634\\u064b\\u0631\\u0651\\u0643\\u0629 \\u0627\\u0651\\u0644\\u0650\\u062e\\u0652\\u0644\\u064d\\u064a\\u064b\\u062c\\u064b\\u064a\\u0629 \\u0644\\u064c\\u0644\\u0627\\u0650\\u0633\\u062a\\u064d\\u062b\\u064d\\u0645\\u0627\\u0631\\u0650\\u0627\\u062a\\u064b \\u064f\\u0627\\u0644\\u064c\\u0639\\u0627\\u064e\\u0645\\u064e\\u0629\\u0650 \\u064c\\u0623\\u064b\\u0633\\u0651\\u0645\\u0650\\u0627\\u0621\\u0652 \\u0627\\u064b\\u0644\\u0645\\u0631\\u064b\\u0634\\u0652\\u062d\\u064c\\u064a\\u064f\\u0646\\u064f \\u0652\\u0644\\u0639\\u0636\\u0648\\u064a\\u064b\\u0629\\u0650 \\u064d\\u0645\\u064f\\u062c\\u0652\\u0644\\u064f\\u0633 \\u0627\\u0644\\u0625\\u0651\\u062f\\u064c\\u0627\\u064b\\u0631\\u064b\\u0629\\u0651 \\u0648\\u0647\\u064d\\u0645\\u064c:\\u0651 \\u0639\\u064d\\u0628\\u064f\\u062f\\u064d\\u0627\\u064f\\u0644\\u0652\\u0644\\u0647 \\u0650\\u062c\\u064f\\u0645\\u0639\\u0652\\u0629 \\u0652\\u0627\\u064f\\u0644\\u064b\\u0633\\u064b\\u0631\\u064e\\u064a\\u060c\\u0650 \\u0651\\u0645\\u064c\\u0627\\u064f\\u062c\\u062f \\u0639\\u0650\\u0628\\u062f\\u0627\\u064e\\u0644\\u0644\\u0647 \\u062c\\u0652\\u0645\\u0639\\u064c\\u0629\\u0652 \\u0627\\u0650\\u0644\\u064c\\u0633\\u0652\\u0631\\u064a\\u0651\\u060c \\u0650\\u0623\\u064d\\u062d\\u0645\\u0650\\u062f \\u0652\\u064a\\u0650\\u0648\\u0633\\u064f\\u0641\\u0650 \\u062d\\u0628\\u0651\\u064a\\u0651\\u0628 \\u0627\\u0651\\u0644\\u064c\\u064a\\u0648\\u064d\\u0633\\u0650\\u0641\\u060c \\u0622\\u064a \\u064b.\\u064e\\u062c\\u064a\\u064b \\u064c.\\u0628\\u064c\\u064a\\u0651 \\u064f\\u0625\\u0644\\u064b \\u064b\\u0644\\u064e\\u0644\\u0650\\u062a\\u064d\\u062c\\u0650\\u0627\\u0631\\u0629\\u064f \\u064f\\u0627\\u064b\\u0644\\u064c\\u0639\\u0650\\u0627\\u0645\\u0629\\u060c \\u0645\\u062d\\u0651\\u0645\\u0650\\u062f\\u064f \\u064d\\u0639\\u0628\\u064e\\u062f\\u0627\\u0644\\u0644\\u0652\\u0647\\u064e \\u062c\\u0645\\u0639\\u064c\\u0629\\u064f \\u0627\\u064c\\u0644\\u064d\\u0633\\u064d\\u0631\\u064b\\u064a\\u0651 .\",\n          \"https://example.com/resource/\\u0623\\u0633\\u0641\\u0631\\u064e\\u062a \\u064b\\u0639\\u0627\\u064d\\u0635\\u064b\\u0641\\u0629\\u064e \\u064e\\u0627\\u0633\\u064f\\u062a\\u0648\\u064e\\u0627\\u0626\\u064a\\u064b\\u0629 \\u0651\\u0639\\u0652\\u0646\\u0651 \\u064d\\u0645\\u0642\\u062a\\u0644\\u064c \\u064e\\u0633\\u064f\\u062a\\u0629\\u064f \\u0623\\u064f\\u0634\\u0652\\u062e\\u0652\\u0627\\u064f\\u0635 \\u0648\\u0651\\u062a\\u0636\\u0631\\u0631 \\u0646\\u064c\\u062d\\u064b\\u0648 89 \\u0623\\u064c\\u0644\\u0641\\u064b\\u0627\\u064e\\u064b\\u064f \\u0651\\u0622\\u062e\\u064f\\u0631\\u064a\\u0650\\u0646 \\u064b\\u0641\\u064a\\u064f \\u0645\\u062f\\u064e\\u063a\\u0652\\u0634\\u064c\\u0642\\u064e\\u0631\\u0651 \\u064e\\u0628\\u064d\\u062d\\u0633\\u0628\\u064e \\u0650\\u062d\\u064c\\u0635\\u064a\\u0644\\u0629 \\u064b\\u0644\\u064e\\u0644\\u0645\\u064d\\u0643\\u064f\\u062a\\u0628 \\u0651\\u0627\\u0644\\u0650\\u0648\\u0652\\u0637\\u064c\\u0646\\u064a \\u0650\\u0644\\u0650\\u0625\\u062f\\u0627\\u064b\\u0631\\u0629 \\u064b\\u0627\\u064f\\u0644\\u0645\\u062e\\u0627\\u064f\\u0637\\u0631\\u064c \\u064c\\u0648\\u064e\\u0627\\u064c\\u0644\\u0643\\u0648\\u064b\\u0627\\u0631\\u0652\\u062b \\u064c.\\u0648\\u0630\\u064d\\u0643\\u064f\\u0631\\u0651\\u062a\\u064d \\u064f\\u0627\\u0651\\u0644\\u0625\\u0652\\u0630\\u0650\\u0627\\u0639\\u0629\\u0652 \\u064e\\u0627\\u064e\\u0644\\u0648\\u0651\\u0637\\u064e\\u0646\\u064a\\u064f\\u0629 \\u064e\\u0645\\u0642\\u064b\\u062a\\u0651\\u0644\\u0652 13 \\u0652\\u0634\\u062e\\u0635\\u0627\\u064e\\u064b\\u064e \\u0628\\u064f\\u064a\\u0646\\u0647\\u0645 \\u062b\\u064e\\u0644\\u0650\\u0627\\u062b\\u0652\\u0629\\u0651 \\u064f\\u0641\\u0651\\u064a \\u0627\\u064f\\u0644\\u0639\\u064f\\u0627\\u064f\\u0635\\u0645\\u064d\\u0629\\u064b \\u0652\\u062a\\u0646\\u0627\\u0646\\u0652\\u0627\\u0631\\u064a\\u0641\\u0648\\u064c\\u060c \\u064b\\u0628\\u064c\\u0639\\u0652\\u062f \\u064f\\u0645\\u0650\\u0631\\u0648\\u0651\\u0631 \\u0627\\u0644\\u0639\\u0627\\u0635\\u0641\\u0629\\u064f \\u064f\\\"\\u064b\\u0634\\u062f\\u064c\\u0632\\u0627\\u064d\\\" \\u064d\\u0627\\u064e\\u0644\\u064f\\u062a\\u064c\\u064a\\u064d \\u0639\\u064e\\u0628\\u0631\\u064c\\u062a \\u064c\\u0627\\u0644\\u0652\\u062c\\u0652\\u0632\\u0651\\u064a\\u0631\\u064c\\u0629\\u064d \\u0645\\u0650\\u0646 \\u0627\\u064f\\u0644\\u063a\\u0631\\u0628\\u064b \\u0625\\u064c\\u0644\\u064f\\u0649 \\u0627\\u0644\\u0634\\u0631\\u0652\\u0642 \\u0627\\u064f\\u0644\\u064e\\u062c\\u0645\\u064d\\u0639\\u0629\\u064b \\u064b\\u0648\\u064b\\u0627\\u0650\\u0644\\u064f\\u0633\\u064e\\u0628\\u062a\\u064e \\u064d.\\u0648\\u0637\\u0627\\u0652\\u0644\\u064b\\u062a \\u0627\\u064c\\u0644\\u0650\\u0639\\u0627\\u0635\\u0641\\u0652\\u0629 \\u0623\\u0652\\u0631\\u064e\\u0628\\u064b\\u0639 \\u0645\\u0646\\u0652\\u0627\\u0652\\u0637\\u0642\\u064f \\u0641\\u064a\\u0650 \\u064b\\u0648\\u0633\\u064d\\u0637 \\u064c\\u0648\\u064d\\u062c\\u0646\\u064b\\u0648\\u064c\\u0628 \\u064b\\u0627\\u064f\\u0644\\u064c\\u0628\\u0650\\u0644\\u064d\\u0627\\u062f\\u0651 \\u064b\\u0645\\u0646\\u064b \\u064b\\u0623\\u0635\\u0650\\u0644\\u064d 2\\u06522\\u064f \\u0645\\u0646\\u0652\\u0637\\u0650\\u0642\\u064b\\u0629 \\u0641\\u064a \\u064e\\u0645\\u062f\\u064c\\u063a\\u064c\\u0634\\u0642\\u064d\\u0631\\u0652 \\u0652\\u0648\\u064b\\u0647\\u064a \\u0627\\u064c\\u0644\\u0627\\u064d\\u0645\\u064e\\u0627\\u0646\\u0651\\u063a\\u0627\\u064d \\u064d\\u0648\\u0645\\u064a\\u064e\\u0646\\u0650\\u0627\\u0628\\u064f\\u064a \\u064b\\u0648\\u064e\\u062c\\u0646\\u0652\\u0648\\u064e\\u0628\\u064d \\u064c\\u0634\\u0650\\u0631\\u064e\\u0642 \\u064f\\u0648\\u064d\\u0641\\u0627\\u062a\\u0648\\u0641\\u0627\\u0641\\u064a\\u064f-\\u0651 \\u0641\\u064d\\u064a\\u064e\\u062a\\u0648\\u0641\\u064a\\u0646\\u0650\\u0627\\u064d\\u0646\\u0652\\u064a\\u064d .\\u064d (\\u0623 .\\u064e\\u0641 \\u064d.\\u0628\\u0651)\",\n          \"https://example.com/resource/\\u0623\\u0650\\u0643\\u062f\\u0652 \\u064c\\u062f .\\u064e \\u0623\\u062d\\u064e\\u0645\\u064d\\u062f\\u064f \\u0633\\u064b\\u0644\\u0652\\u064a\\u064f\\u0645\\u0652\\u0627\\u064e\\u0646 \\u064b\\u0627\\u0644\\u064e\\u0639\\u064f\\u0636\\u0648\\u064f \\u0650\\u0627\\u0644\\u0651\\u0645\\u064c\\u0624\\u0633\\u0633\\u0650 \\u0644\\u064c\\u062f\\u064f\\u0627\\u0631 \\u0627\\u0644\\u0628\\u0627\\u0652\\u062d\\u0650\\u062b\\u0650 \\u064d\\u0627\\u0644\\u064d\\u0625\\u0650\\u0645\\u0627\\u064f\\u0631\\u064b\\u0627\\u062a\\u064c\\u064a\\u064b \\u0627\\u064e\\u0644\\u062a\\u064a \\u0641\\u064e\\u0627\\u064f\\u0632\\u064e\\u062a\\u0652 \\u064f\\u0628\\u064d\\u062c\\u0627\\u0652\\u0626\\u0632\\u0651\\u0629\\u0651 \\u0652\\u0623\\u0641\\u0650\\u0636\\u0650\\u0644 \\u064c\\u062f\\u0627\\u0631 \\u0651\\u0646\\u0650\\u0634\\u0631 \\u0645\\u0650\\u062d\\u0644\\u064c\\u064a\\u064d\\u0629\\u064c \\u0648\\u064c\\u0627\\u0644\\u064f\\u062a\\u064d\\u064a \\u062a\\u0652\\u0645\\u0651\\u0646\\u062d \\u064b\\u0633\\u0646\\u0648\\u064c\\u064a\\u0627\\u064f\\u064b \\u0645\\u0651\\u0646\\u0652 \\u064c\\u0642\\u0628\\u0644 \\u062f\\u0627\\u0652\\u0626\\u064c\\u0631\\u064d\\u0629 \\u064f\\u0627\\u0644\\u064f\\u062b\\u064f\\u0642\\u0627\\u0641\\u064b\\u0629 \\u064f\\u0648\\u0650\\u0627\\u0644\\u064e\\u0625\\u0639\\u0644\\u064c\\u0627\\u0645\\u0651 \\u064f\\u0641\\u064e\\u064a \\u0627\\u0644\\u064e\\u0634\\u0627\\u0651\\u0631\\u0642\\u0650\\u0629\\u060c\\u064b \\u0623\\u064e\\u0646 \\u064b\\u0627\\u064c\\u0644\\u064b\\u062c\\u064f\\u0627\\u0626\\u064d\\u0632\\u0629 \\u0648\\u0633\\u0627\\u0650\\u0645 \\u0639\\u0644\\u064f\\u0649 \\u0635\\u062f\\u0631\\u0650\\u0647 \\u064c\\u0648\\u0635\\u062f\\u0631 \\u0632\\u0645\\u0644\\u0627\\u0626\\u0647 \\u064f\\u0645\\u064c\\u0646 \\u0627\\u0644\\u064d\\u0623\\u0650\\u0639\\u064d\\u0636\\u0627\\u064b\\u0621 \\u064b\\u0627\\u0652\\u0644\\u064e\\u0645\\u0650\\u0624\\u0633\\u0650\\u0633\\u064a\\u0646 \\u0644\\u0644\\u0651\\u062f\\u0651\\u0627\\u064b\\u0631 \\u0648\\u064d\\u0647\\u064f\\u0645 \\u062e\\u064e\\u0645\\u064f\\u0633\\u064d\\u0629 \\u064d\\u0645\\u064f\\u0648\\u0627\\u0650\\u0637\\u064b\\u0646\\u064c\\u064a\\u064d\\u0646 \\u0645\\u0646 \\u062d\\u0645\\u0652\\u0644\\u0629\\u064f \\u064b\\u0627\\u0644\\u062f\\u0643\\u062a\\u0652\\u0648\\u064c\\u0631\\u064d\\u0627\\u0647 \\u064b\\u0648\\u0627\\u0644\\u0645\\u0652\\u0627\\u064f\\u062c\\u0651\\u0633\\u062a\\u064a\\u0631\\u064b .\\u0648\\u0650\\u0642\\u0627\\u0644:\\u064f \\u064d\\u0646\\u0639\\u062a\\u0628\\u064c\\u0631 \\u0627\\u0644\\u062c\\u064e\\u0627\\u0650\\u0626\\u064d\\u0632\\u064b\\u0629\\u0651 \\u064e\\u062f\\u0641\\u0639\\u0629 \\u064c\\u0642\\u064b\\u0648\\u064a\\u064e\\u0629 \\u064b\\u0644\\u0646\\u0627\\u064f \\u064f\\u0644\\u064e\\u0627\\u064e\\u0633\\u0651\\u062a\\u0652\\u0643\\u0645\\u0627\\u0644\\u064f \\u0652\\u0645\\u0651\\u0633\\u0650\\u064a\\u064e\\u0631\\u0629 \\u0627\\u064d\\u0644\\u064c\\u0639\\u0645\\u0651\\u0644\\u064c \\u0648\\u0651\\u0627\\u064d\\u0644\\u0646\\u062c\\u064d\\u0627\\u0650\\u062d \\u0648\\u0627\\u0644\\u064d\\u062a\\u0642\\u062f\\u0645 \\u0627\\u0644\\u062a\\u064a\\u0650 \\u064c\\u0628\\u062f\\u0651\\u0623\\u0646\\u0627\\u0647\\u0627\\u064d \\u0645\\u064c\\u0646\\u0651\\u0630\\u0650 \\u064e\\u0645\\u064d\\u0627 \\u064a\\u0651\\u0642\\u0631\\u0628\\u0651 \\u0627\\u0644\\u0639\\u0627\\u0645\\u0651 \\u064c\\u0648\\u0652\\u0646\\u0635\\u0641\\u0651 \\u0627\\u0644\\u0652\\u0639\\u064d\\u0627\\u0652\\u0645\\u064e\\u060c\\u064b \\u0645\\u0624\\u064c\\u0643\\u0652\\u062f\\u0627\\u064b \\u0623\\u0646 \\u0641\\u0643\\u064d\\u0631\\u064b\\u0629\\u064b \\u0627\\u064c\\u0644\\u064e\\u0645\\u064e\\u0634\\u064f\\u0631\\u0648\\u0639\\u064e \\u064d\\u0646\\u0628\\u0639\\u062a\\u064f \\u0650\\u0645\\u0646 \\u0652\\u0627\\u0644\\u064e\\u0635\\u0652\\u0639\\u0652\\u0648\\u0628\\u0629\\u064e \\u064e\\u0627\\u0644\\u062a\\u0650\\u064a\\u0650 \\u064f\\u062a\\u0652\\u0648\\u0627\\u062c\\u0647\\u064b \\u0652\\u0627\\u064f\\u0644\\u064c\\u062f\\u064b\\u0627\\u064e\\u0631\\u064d\\u0633\\u0652\\u064a\\u0646\\u064d \\u064d\\u0641\\u064a\\u064d \\u0627\\u0652\\u0644\\u064c\\u062d\\u0651\\u0635\\u064f\\u0648\\u0644\\u0650 \\u0652\\u0639\\u0644\\u0649\\u064b \\u0628\\u0652\\u0639\\u0636\\u064c \\u064f\\u0627\\u0644\\u0645\\u0631\\u0651\\u0627\\u064e\\u062c\\u064e\\u0639\\u0650 \\u0627\\u0651\\u0644\\u0639\\u064e\\u0644\\u0645\\u064d\\u064a\\u0629 \\u0623\\u064d\\u062b\\u0646\\u064b\\u0627\\u064d\\u0621\\u064e \\u064f\\u062f\\u0631\\u064c\\u0627\\u0651\\u0633\\u062a\\u0647\\u0651\\u0645 \\u064c\\u0627\\u064b\\u0644\\u0639\\u0644\\u064a\\u064d\\u0627\\u064f\\u060c\\u0651 \\u062d\\u064e\\u064a\\u064e\\u062b\\u0652 \\u0650\\u064a\\u0639\\u0648\\u064f\\u062f \\u0651\\u0627\\u064b\\u0644\\u064c\\u0633\\u064b\\u0628\\u0650\\u0628 \\u0651\\u0641\\u0650\\u064a\\u0650 \\u0646\\u062f\\u064c\\u0631\\u064b\\u0629\\u064b \\u0652\\u0647\\u0630\\u0647\\u064b \\u064c\\u0627\\u064e\\u0644\\u0645\\u064d\\u0631\\u0627\\u062c\\u0639\\u064e \\u0644\\u0652\\u063a\\u064a\\u0627\\u064b\\u0628 \\u0650\\u062f\\u064f\\u0648\\u064d\\u0631 \\u0650\\u0627\\u0644\\u064d\\u0646\\u0634\\u0631 \\u0627\\u0644\\u0645\\u064f\\u062a\\u064c\\u062e\\u064e\\u0635\\u0635\\u064f\\u0629\\u064d \\u0641\\u064a\\u0652 \\u064c\\u0647\\u0651\\u0630\\u064f\\u0627 \\u0651\\u0627\\u0651\\u0644\\u0650\\u0645\\u062c\\u0627\\u064f\\u0644\\u060c\\u064f \\u0648\\u064b\\u0630\\u0643\\u0631\\u064e \\u064e\\u0623\\u0646 \\u064d\\u062f\\u064f\\u0627\\u064c\\u0631 \\u0627\\u0644\\u0646\\u064b\\u0634\\u0631 \\u064f\\u0627\\u0644\\u0628\\u064e\\u0627\\u062d\\u0652\\u062b \\u0627\\u0652\\u0644\\u0625\\u064c\\u0645\\u064e\\u0627\\u064f\\u0631\\u0627\\u062a\\u064a \\u0645\\u0652\\u062a\\u062e\\u064f\\u0635\\u064c\\u0635\\u0629\\u064b \\u064c\\u0641\\u064a\\u0652 \\u0646\\u0634\\u0651\\u0631 \\u064c\\u0627\\u0644\\u0631\\u0633\\u0627\\u0626\\u0644\\u064f \\u0650\\u0648\\u0627\\u0644\\u0651\\u0623\\u064c\\u0628\\u064d\\u062d\\u0627\\u064f\\u062b\\u064c \\u064b\\u0627\\u0644\\u064e\\u0639\\u064c\\u0644\\u0652\\u0645\\u064d\\u064a\\u0629 \\u064e\\u0627\\u064f\\u0644\\u0652\\u0645\\u064c\\u062a\\u0650\\u0639\\u064b\\u0644\\u0642\\u064b\\u0629\\u0652 \\u064f\\u0628\\u0627\\u0644\\u064f\\u062f\\u064c\\u0631\\u0651\\u0627\\u064d\\u0633\\u0650\\u0627\\u062a\\u0650 \\u064d\\u0627\\u0644\\u0639\\u0652\\u0644\\u064d\\u064a\\u0627 \\u0643\\u064e\\u0627\\u0650\\u0644\\u064b\\u0645\\u064c\\u0627\\u064e\\u062c\\u0633\\u064b\\u062a\\u064a\\u0631\\u064b \\u0651\\u0648\\u0627\\u0644\\u062f\\u0643\\u064d\\u062a\\u0648\\u064e\\u0631\\u0627\\u064f\\u0647\\u064e .\\u064e\"\n        ],\n        \"semantic_type\": \"\",\n        \"description\": \"\"\n      }\n    },\n    {\n      \"column\": \"label\",\n      \"properties\": {\n        \"dtype\": \"category\",\n        \"num_unique_values\": 7,\n        \"samples\": [\n          \"Culture\",\n          \"Finance\",\n          \"Sports\"\n        ],\n        \"semantic_type\": \"\",\n        \"description\": \"\"\n      }\n    },\n    {\n      \"column\": \"cleaned_text\",\n      \"properties\": {\n        \"dtype\": \"string\",\n        \"num_unique_values\": 20466,\n        \"samples\": [\n          \"\\u0627\\u0644\\u0644\\u0627\\u0639\\u0628 \\u0627\\u0644\\u062f\\u0648\\u0644\\u064a \\u0627\\u0644\\u0621\\u0644\\u0645\\u0627\\u0646\\u064a \\u0627\\u064a\\u0644\\u0643\\u0627\\u064a \\u062c\\u064a\\u0646\\u062f\\u0648\\u062c\\u0627\\u0646 \\u062a\\u0639\\u0627\\u0642\\u062f\\u0647 \\u0644\\u0639\\u0627\\u0645\\u064a\\u0646 \\u0621\\u0636\\u0627\\u0641\\u064a\\u064a\\u0646 \\u0628\\u0631\\u0648\\u0633\\u064a\\u0627 \\u062f\\u0648\\u0631\\u062a\\u0645\\u0648\\u0646\\u062f \\u0645\\u0646\\u0647\\u064a\\u0627 \\u062a\\u0643\\u0647\\u0646\\u0627\\u062a \\u0628\\u0634\\u0621\\u0646 \\u0645\\u0633\\u062a\\u0642\\u0628\\u0644\\u0647 \\u0627\\u0644\\u0646\\u0627\\u062f\\u064a \\u0627\\u0644\\u0645\\u0646\\u062a\\u0645\\u064a \\u0644\\u062f\\u0648\\u0631\\u064a \\u0627\\u0644\\u062f\\u0631\\u062c\\u0629 \\u0627\\u0644\\u0621\\u0648\\u0644\\u0649 \\u0627\\u0644\\u0621\\u0644\\u0645\\u0627\\u0646\\u064a \\u0644\\u0643\\u0631\\u0629 \\u0627\\u0644\\u0642\\u062f\\u0645\\u0648\\u0621\\u0628\\u062f\\u062a \\u0627\\u0644\\u0639\\u062f\\u064a\\u062f \\u0627\\u0644\\u0621\\u0646\\u062f\\u064a\\u0629 \\u0627\\u0644\\u0621\\u0648\\u0631\\u0648\\u0628\\u064a\\u0629 \\u0627\\u0647\\u062a\\u0645\\u0627\\u0645\\u0647\\u0627 \\u0628\\u0627\\u0644\\u062a\\u0639\\u0627\\u0642\\u062f \\u0644\\u0627\\u0639\\u0628 \\u0627\\u0644\\u0648\\u0633\\u0637 \\u0627\\u0644\\u0628\\u0627\\u0644\\u063a \\u0627\\u0644\\u0639\\u0645\\u0631 24 \\u0639\\u0627\\u0645\\u0627 \\u062e\\u0627\\u0636 11 \\u0645\\u0628\\u0627\\u0631\\u0627\\u0629 \\u062f\\u0648\\u0644\\u064a\\u0629 \\u0648\\u0634\\u0627\\u0631\\u0643 80 \\u0645\\u0628\\u0627\\u0631\\u0627\\u0629 \\u062f\\u0648\\u0631\\u062a\\u0645\\u0648\\u0646\\u062f \\u0627\\u0646\\u0636\\u0645\\u0627\\u0645\\u0647 \\u0646\\u0648\\u0631\\u0645\\u0628\\u0631\\u063a 2011 \\u0648\\u0633\\u064a\\u0631\\u0628\\u0637\\u0647 \\u0627\\u0644\\u062a\\u0639\\u0627\\u0642\\u062f \\u0627\\u0644\\u062c\\u062f\\u064a\\u062f \\u0628\\u0627\\u0644\\u0646\\u0627\\u062f\\u064a 2017\\u0648\\u0642\\u0627\\u0644 \\u062c\\u064a\\u0646\\u062f\\u0648\\u062c\\u0627\\u0646 \\u064a\\u0634\\u0631\\u0641\\u0646\\u064a \\u0627\\u0644\\u0627\\u0633\\u062a\\u0645\\u0631\\u0627\\u0631 \\u0627\\u0644\\u0644\\u0639\\u0628 \\u0648\\u0627\\u0644\\u062f\\u0641\\u0627\\u0639 \\u0621\\u0644\\u0648\\u0627\\u0646 \\u0628\\u0631\\u0648\\u0633\\u064a\\u0627 \\u062f\\u0648\\u0631\\u062a\\u0645\\u0648\\u0646\\u062f \\u064a\\u0645\\u0643\\u0646\\u0646\\u064a \\u0627\\u0644\\u062a\\u0631\\u0643\\u064a\\u0632 \\u0628\\u0643\\u0644 \\u0637\\u0627\\u0642\\u062a\\u064a \\u0627\\u0644\\u0627\\u0633\\u062a\\u0639\\u062f\\u0627\\u062f \\u0644\\u0644\\u0645\\u0648\\u0633\\u0645 \\u0627\\u0644\\u062c\\u062f\\u064a\\u062f\",\n          \"\\u0627\\u0644\\u0646\\u062c\\u0645 \\u0627\\u0644\\u0628\\u0631\\u0627\\u0632\\u064a\\u0644\\u064a \\u0631\\u0648\\u0646\\u0627\\u0644\\u062f\\u064a\\u0646\\u064a\\u0648 \\u0627\\u0644\\u062a\\u0621\\u0644\\u0642 \\u0641\\u0631\\u064a\\u0642\\u0647 \\u0641\\u0644\\u0627\\u0645\\u0646\\u063a\\u0648 \\u0648\\u0642\\u0627\\u062f\\u0647 \\u0644\\u0644\\u0641\\u0648\\u0632 \\u063a\\u0631\\u064a\\u0645\\u064a\\u0648 \\u0628\\u0646\\u062a\\u064a\\u062c\\u0629 2\\u0635\\u0641\\u0631 \\u0645\\u0633\\u062a\\u0647\\u0644 \\u0645\\u0628\\u0627\\u0631\\u064a\\u0627\\u062a \\u0627\\u0644\\u062c\\u0648\\u0644\\u0629 \\u0627\\u0644\\u062b\\u0627\\u0644\\u062b\\u0629 \\u0628\\u0627\\u0644\\u062f\\u0648\\u0631\\u064a \\u0627\\u0644\\u0628\\u0631\\u0627\\u0632\\u064a\\u0644\\u064a \\u0621\\u062d\\u0631\\u0632 \\u062a\\u064a\\u0627\\u063a\\u0648 \\u062a\\u064a\\u0641\\u064a\\u0632 28 \\u0627\\u0644\\u0647\\u062f\\u0641 \\u0627\\u0644\\u0621\\u0648\\u0644 \\u0644\\u0641\\u0644\\u0627\\u0645\\u0646\\u063a\\u0648 \\u0628\\u0631\\u0621\\u0633\\u064a\\u0629 \\u062a\\u0644\\u0642\\u064a\\u0647 \\u0643\\u0631\\u0629 \\u0645\\u062a\\u0642\\u0646\\u0629 \\u0631\\u0648\\u0646\\u0627\\u0644\\u062f\\u064a\\u0646\\u064a\\u0648 \\u0621\\u0636\\u0627\\u0641 \\u0627\\u0644\\u0647\\u062f\\u0641 \\u0627\\u0644\\u062b\\u0627\\u0646\\u064a \\u0627\\u0644\\u062f\\u0642\\u064a\\u0642\\u0629 74 \\u062d\\u064a\\u0646\\u0645\\u0627 \\u0627\\u0633\\u062a\\u063a\\u0644 \\u062e\\u0637\\u0621 \\u0644\\u062d\\u0627\\u0631\\u0633 \\u063a\\u0631\\u064a\\u0645\\u064a\\u0648 \\u0648\\u0627\\u0644\\u0645\\u0646\\u062a\\u062e\\u0628 \\u0627\\u0644\\u0628\\u0631\\u0627\\u0632\\u064a\\u0644\\u064a \\u0641\\u064a\\u0643\\u062a\\u0648\\u0631 \\u0648\\u0627\\u0633\\u062a\\u0639\\u0627\\u062f \\u0631\\u0648\\u0646\\u0627\\u0644\\u062f\\u064a\\u0646\\u064a\\u0648 \\u0628\\u0631\\u064a\\u0642\\u0647 \\u0628\\u0639\\u062f\\u0645\\u0627 \\u0633\\u062c\\u0644 \\u0627\\u0644\\u0645\\u0628\\u0627\\u0631\\u0627\\u0629 \\u0627\\u0644\\u062b\\u0627\\u0646\\u064a\\u0629 \\u0627\\u0644\\u062a\\u0648\\u0627\\u0644\\u064a \\u0627\\u0644\\u062b\\u0644\\u0627\\u062b\\u064a\\u0629 \\u0621\\u062d\\u0631\\u0632\\u0647\\u0627 \\u062e\\u0644\\u0627\\u0644 \\u0627\\u0644\\u0644\\u0642\\u0627\\u0621 \\u0627\\u0646\\u062a\\u0647\\u0649 \\u0644\\u0645\\u0635\\u0644\\u062d\\u0629 \\u0641\\u0631\\u064a\\u0642\\u0647 54 \\u0633\\u0627\\u0646\\u062a\\u0648\\u0633 \\u0627\\u0644\\u0621\\u0633\\u0628\\u0648\\u0639 \\u0627\\u0644\\u0645\\u0627\\u0636\\u064a \\u0648\\u0628\\u0627\\u062a \\u064a\\u062d\\u062a\\u0644 \\u0635\\u062f\\u0627\\u0631\\u0629 \\u0642\\u0627\\u0621\\u0645\\u0629 \\u0647\\u062f\\u0627\\u0641\\u064a \\u0627\\u0644\\u062f\\u0648\\u0631\\u064a \\u0628\\u0631\\u0635\\u064a\\u062f \\u0621\\u0647\\u062f\\u0627\\u0641 \\u0628\\u0647\\u0630\\u0647 \\u0627\\u0644\\u0646\\u062a\\u064a\\u062c\\u0629 \\u0627\\u0631\\u062a\\u0641\\u0639 \\u0631\\u0635\\u064a\\u062f \\u0641\\u0644\\u0627\\u0645\\u0646\\u063a\\u0648 27 \\u0646\\u0642\\u0637\\u0629 \\u0627\\u0644\\u0645\\u0631\\u0643\\u0632 \\u0627\\u0644\\u062b\\u0627\\u0646\\u064a \\u0646\\u0642\\u0637\\u0629 \\u0648\\u0627\\u062d\\u062f\\u0629 \\u0643\\u0648\\u0631\\u064a\\u0646\\u062b\\u064a\\u0627\\u0646\\u0632 \\u0627\\u0644\\u0645\\u062a\\u0635\\u062f\\u0631 \\u0633\\u064a\\u0648\\u0627\\u062c\\u0647 \\u0621\\u0621\\u0641\\u0627\\u064a \\u0627\\u0644\\u064a\\u0648\\u0645 \\u0627\\u0644\\u062c\\u0648\\u0644\\u0629 \\u0646\\u0641\\u0633\\u0647\\u0627 \\u0628\\u064a\\u0646\\u0645\\u0627 \\u062a\\u062c\\u0645\\u062f \\u0631\\u0635\\u064a\\u062f \\u063a\\u0631\\u064a\\u0645\\u064a\\u0648 13 \\u0646\\u0642\\u0637\\u0629 \\u0627\\u0644\\u0645\\u0631\\u0643\\u0632 \\u0627\\u0644\\u0631\\u0627\\u0628\\u0639 \\u0648\\u0641\\u064a \\u0645\\u0628\\u0627\\u0631\\u0627\\u0629 \\u0621\\u062e\\u0631\\u0649 \\u062a\\u063a\\u0644\\u0628 \\u0628\\u0648\\u062a\\u0627\\u0641\\u0648\\u063a\\u0648 \\u0643\\u0631\\u0648\\u0632\\u064a\\u0631\\u0648 \\u0639\\u0642\\u0631 \\u062f\\u0627\\u0631\\u0647 \\u0628\\u0647\\u062f\\u0641 \\u0646\\u0638\\u064a\\u0641\",\n          \"\\u0627\\u0644\\u062f\\u0643\\u062a\\u0648\\u0631 \\u0621\\u0633\\u0645\\u0627\\u0639\\u064a\\u0644 \\u0633\\u0631\\u0627\\u062c \\u0627\\u0644\\u062f\\u064a\\u0646 \\u0645\\u062f\\u064a\\u0631 \\u0645\\u0643\\u062a\\u0628\\u0629 \\u0627\\u0644\\u0621\\u0633\\u0643\\u0646\\u062f\\u0631\\u064a\\u0629 \\u0642\\u0631\\u0627\\u0631\\u0627 \\u0628\\u062f\\u0639\\u0645 \\u0637\\u0628\\u0639\\u0627\\u062a \\u0634\\u0639\\u0628\\u064a\\u0629 \\u0644\\u0633\\u0644\\u0633\\u0644\\u0629 \\u0645\\u0631\\u0627\\u0635\\u062f \\u0627\\u0644\\u0645\\u062a\\u062e\\u0635\\u0635\\u0629 \\u0628\\u0639\\u0644\\u0645 \\u0627\\u0644\\u0627\\u062c\\u062a\\u0645\\u0627\\u0639 \\u0627\\u0644\\u062f\\u064a\\u0646\\u064a \\u062a\\u0635\\u062f\\u0631 \\u0648\\u062d\\u062f\\u0629 \\u0627\\u0644\\u062f\\u0631\\u0627\\u0633\\u0627\\u062a \\u0627\\u0644\\u0645\\u0633\\u062a\\u0642\\u0628\\u0644\\u064a\\u0629 \\u0627\\u0644\\u0645\\u0643\\u062a\\u0628\\u0629\\u0648\\u0642\\u0627\\u0644 \\u0627\\u0644\\u062f\\u0643\\u062a\\u0648\\u0631 \\u062e\\u0627\\u0644\\u062f \\u0639\\u0632\\u0628 \\u0631\\u0621\\u064a\\u0633 \\u0642\\u0637\\u0627\\u0639 \\u0627\\u0644\\u0645\\u0634\\u0631\\u0648\\u0639\\u0627\\u062a \\u0627\\u0644\\u0645\\u0643\\u062a\\u0628\\u0629 \\u0627\\u0644\\u0645\\u0642\\u0631\\u0631 \\u064a\\u0635\\u062f\\u0631 \\u0621\\u0639\\u062f\\u0627\\u062f \\u062c\\u062f\\u064a\\u062f\\u0629 \\u0627\\u0644\\u0633\\u0644\\u0633\\u0644\\u0629 \\u0627\\u0644\\u0641\\u062a\\u0631\\u0629 \\u0627\\u0644\\u0642\\u0631\\u064a\\u0628\\u0629 \\u0627\\u0644\\u0645\\u0642\\u0628\\u0644\\u0629 \\u0648\\u0645\\u0646\\u0647\\u0627 \\u0627\\u062a\\u062c\\u0627\\u0647\\u0627\\u062a \\u0627\\u0644\\u062a\\u0637\\u0631\\u0641 \\u0648\\u0627\\u0644\\u063a\\u0644\\u0648 \\u0627\\u0644\\u062a\\u0631\\u0627\\u062b \\u0627\\u0644\\u0621\\u0633\\u0644\\u0627\\u0645\\u064a \\u0648\\u0639\\u0644\\u0627\\u0645\\u0627\\u062a \\u0637\\u0631\\u064a\\u0642 \\u0627\\u0644\\u0642\\u062a\\u0627\\u0644 \\u062a\\u0641\\u0635\\u062d \\u0639\\u0646\\u0647 \\u062d\\u064a\\u0627\\u0629 \\u062c\\u0647\\u0627\\u062f\\u064a \\u062d\\u0631\\u0643\\u0629 \\u0639\\u0627\\u0644\\u0645\\u064a\\u0629 \\u0648\\u0645\\u0633\\u0621\\u0644\\u0629 \\u0627\\u0644\\u0621\\u0621\\u062e\\u0631 \\u0627\\u0644\\u0641\\u0643\\u0631 \\u0627\\u0644\\u0621\\u0633\\u0644\\u0627\\u0645\\u064a \\u062a\\u062c\\u0627\\u0648\\u0632 \\u0644\\u0621\\u0634\\u0643\\u0627\\u0644 \\u0627\\u0644\\u0646\\u0633\\u062e \\u0641\\u0642\\u0647\\u0646\\u0627 \\u0627\\u0644\\u0645\\u0648\\u0631\\u0648\\u062b \\u0648\\u0627\\u0644\\u062a\\u0641\\u0633\\u064a\\u0631 \\u0627\\u0644\\u0646\\u0641\\u0633\\u064a \\u0644\\u0644\\u062a\\u0637\\u0631\\u0641 \\u0648\\u0627\\u0644\\u0621\\u0631\\u0647\\u0627\\u0628 \\u0648\\u0645\\u0621\\u0632\\u0642 \\u0627\\u0644\\u0647\\u0648\\u064a\\u0629 \\u0621\\u064a\\u0631\\u0627\\u0646 \\u0648\\u0627\\u0644\\u063a\\u0632\\u0648 \\u0627\\u0644\\u0621\\u0633\\u0644\\u0627\\u0645\\u064a \\u0627\\u0644\\u062d\\u0631\\u0643\\u064a \\u0644\\u0644\\u062b\\u0648\\u0631\\u0629 \\u0627\\u0644\\u0631\\u0642\\u0645\\u064a\\u0629 \\u0646\\u0645\\u0648\\u0630\\u062c \\u0627\\u0644\\u0621\\u0633\\u0644\\u0627\\u0645\\u064a\\u064a\\u0646 \\u0627\\u0644\\u0645\\u063a\\u0627\\u0631\\u0628\\u0629 \\u0648\\u0627\\u0644\\u0633\\u064a\\u0627\\u0633\\u0629 \\u0648\\u0627\\u0644\\u062f\\u064a\\u0646 \\u0645\\u0633\\u0627\\u0631\\u0627\\u062a \\u0645\\u062e\\u062a\\u0644\\u0641\\u0629 \\u0648\\u0633\\u064a\\u0627\\u0642\\u0627\\u062a \\u0645\\u062a\\u0628\\u0627\\u064a\\u0646\\u0629 \\u0648\\u063a\\u064a\\u0631\\u0647\\u0627\"\n        ],\n        \"semantic_type\": \"\",\n        \"description\": \"\"\n      }\n    }\n  ]\n}"
            }
          },
          "metadata": {},
          "execution_count": 52
        }
      ]
    },
    {
      "cell_type": "code",
      "source": [
        "df.sample()"
      ],
      "metadata": {
        "id": "ofKJSKJA1c83",
        "colab": {
          "base_uri": "https://localhost:8080/",
          "height": 81
        },
        "outputId": "c28b96ca-eb2a-4dad-9aba-a6240b92ab61"
      },
      "execution_count": 53,
      "outputs": [
        {
          "output_type": "execute_result",
          "data": {
            "text/plain": [
              "                                                    text label  \\\n",
              "39141  https://example.com/resource/دٍبي ْ-ْ ّ\"الَخٌل...  Tech   \n",
              "\n",
              "                                            cleaned_text  \n",
              "39141  الخليجءعلنت نوكيا طرح هاتف Nokia X للبيع دولة ...  "
            ],
            "text/html": [
              "\n",
              "  <div id=\"df-0818918e-5db1-4755-be17-8a9d311a613e\" class=\"colab-df-container\">\n",
              "    <div>\n",
              "<style scoped>\n",
              "    .dataframe tbody tr th:only-of-type {\n",
              "        vertical-align: middle;\n",
              "    }\n",
              "\n",
              "    .dataframe tbody tr th {\n",
              "        vertical-align: top;\n",
              "    }\n",
              "\n",
              "    .dataframe thead th {\n",
              "        text-align: right;\n",
              "    }\n",
              "</style>\n",
              "<table border=\"1\" class=\"dataframe\">\n",
              "  <thead>\n",
              "    <tr style=\"text-align: right;\">\n",
              "      <th></th>\n",
              "      <th>text</th>\n",
              "      <th>label</th>\n",
              "      <th>cleaned_text</th>\n",
              "    </tr>\n",
              "  </thead>\n",
              "  <tbody>\n",
              "    <tr>\n",
              "      <th>39141</th>\n",
              "      <td>https://example.com/resource/دٍبي ْ-ْ ّ\"الَخٌل...</td>\n",
              "      <td>Tech</td>\n",
              "      <td>الخليجءعلنت نوكيا طرح هاتف Nokia X للبيع دولة ...</td>\n",
              "    </tr>\n",
              "  </tbody>\n",
              "</table>\n",
              "</div>\n",
              "    <div class=\"colab-df-buttons\">\n",
              "\n",
              "  <div class=\"colab-df-container\">\n",
              "    <button class=\"colab-df-convert\" onclick=\"convertToInteractive('df-0818918e-5db1-4755-be17-8a9d311a613e')\"\n",
              "            title=\"Convert this dataframe to an interactive table.\"\n",
              "            style=\"display:none;\">\n",
              "\n",
              "  <svg xmlns=\"http://www.w3.org/2000/svg\" height=\"24px\" viewBox=\"0 -960 960 960\">\n",
              "    <path d=\"M120-120v-720h720v720H120Zm60-500h600v-160H180v160Zm220 220h160v-160H400v160Zm0 220h160v-160H400v160ZM180-400h160v-160H180v160Zm440 0h160v-160H620v160ZM180-180h160v-160H180v160Zm440 0h160v-160H620v160Z\"/>\n",
              "  </svg>\n",
              "    </button>\n",
              "\n",
              "  <style>\n",
              "    .colab-df-container {\n",
              "      display:flex;\n",
              "      gap: 12px;\n",
              "    }\n",
              "\n",
              "    .colab-df-convert {\n",
              "      background-color: #E8F0FE;\n",
              "      border: none;\n",
              "      border-radius: 50%;\n",
              "      cursor: pointer;\n",
              "      display: none;\n",
              "      fill: #1967D2;\n",
              "      height: 32px;\n",
              "      padding: 0 0 0 0;\n",
              "      width: 32px;\n",
              "    }\n",
              "\n",
              "    .colab-df-convert:hover {\n",
              "      background-color: #E2EBFA;\n",
              "      box-shadow: 0px 1px 2px rgba(60, 64, 67, 0.3), 0px 1px 3px 1px rgba(60, 64, 67, 0.15);\n",
              "      fill: #174EA6;\n",
              "    }\n",
              "\n",
              "    .colab-df-buttons div {\n",
              "      margin-bottom: 4px;\n",
              "    }\n",
              "\n",
              "    [theme=dark] .colab-df-convert {\n",
              "      background-color: #3B4455;\n",
              "      fill: #D2E3FC;\n",
              "    }\n",
              "\n",
              "    [theme=dark] .colab-df-convert:hover {\n",
              "      background-color: #434B5C;\n",
              "      box-shadow: 0px 1px 3px 1px rgba(0, 0, 0, 0.15);\n",
              "      filter: drop-shadow(0px 1px 2px rgba(0, 0, 0, 0.3));\n",
              "      fill: #FFFFFF;\n",
              "    }\n",
              "  </style>\n",
              "\n",
              "    <script>\n",
              "      const buttonEl =\n",
              "        document.querySelector('#df-0818918e-5db1-4755-be17-8a9d311a613e button.colab-df-convert');\n",
              "      buttonEl.style.display =\n",
              "        google.colab.kernel.accessAllowed ? 'block' : 'none';\n",
              "\n",
              "      async function convertToInteractive(key) {\n",
              "        const element = document.querySelector('#df-0818918e-5db1-4755-be17-8a9d311a613e');\n",
              "        const dataTable =\n",
              "          await google.colab.kernel.invokeFunction('convertToInteractive',\n",
              "                                                    [key], {});\n",
              "        if (!dataTable) return;\n",
              "\n",
              "        const docLinkHtml = 'Like what you see? Visit the ' +\n",
              "          '<a target=\"_blank\" href=https://colab.research.google.com/notebooks/data_table.ipynb>data table notebook</a>'\n",
              "          + ' to learn more about interactive tables.';\n",
              "        element.innerHTML = '';\n",
              "        dataTable['output_type'] = 'display_data';\n",
              "        await google.colab.output.renderOutput(dataTable, element);\n",
              "        const docLink = document.createElement('div');\n",
              "        docLink.innerHTML = docLinkHtml;\n",
              "        element.appendChild(docLink);\n",
              "      }\n",
              "    </script>\n",
              "  </div>\n",
              "\n",
              "\n",
              "    </div>\n",
              "  </div>\n"
            ],
            "application/vnd.google.colaboratory.intrinsic+json": {
              "type": "dataframe",
              "summary": "{\n  \"name\": \"df\",\n  \"rows\": 1,\n  \"fields\": [\n    {\n      \"column\": \"text\",\n      \"properties\": {\n        \"dtype\": \"string\",\n        \"num_unique_values\": 1,\n        \"samples\": [\n          \"https://example.com/resource/\\u062f\\u064d\\u0628\\u064a \\u0652-\\u0652 \\u0651\\\"\\u0627\\u0644\\u064e\\u062e\\u064c\\u0644\\u064e\\u064a\\u062c\\u064c\\\"\\u064b:\\u0652\\u0623\\u0639\\u064d\\u0644\\u0646\\u064e\\u062a\\u064c \\u0646\\u0648\\u064e\\u0643\\u064c\\u064a\\u064d\\u0627 \\u064c\\u0623\\u0645\\u064e\\u0633\\u064c \\u0637\\u0631\\u0651\\u062d\\u064c \\u0650\\u0647\\u0627\\u062a\\u064f\\u0641 \\u064eNok\\u064ci\\u064da \\u064bX \\u0644\\u0644\\u0651\\u0628\\u0652\\u064a\\u0651\\u0639 \\u0650\\u0641\\u064a \\u062f\\u0650\\u0648\\u0644\\u0629\\u0651 \\u064e\\u0627\\u0644\\u0652\\u0625\\u064f\\u0645\\u0651\\u0627\\u0631\\u0627\\u0650\\u062a\\u060c\\u064d \\u0648\\u064a\\u064f\\u0634\\u0643\\u064f\\u0644 \\u0650\\u0647\\u0651\\u0630\\u0627 \\u0652\\u0627\\u064b\\u0644\\u0647\\u064c\\u0627\\u064d\\u062a\\u0641\\u064e \\u062c\\u064b\\u0632\\u0621\\u0627\\u064b \\u0651\\u0645\\u0646\\u064b \\u0639\\u0627\\u0626\\u0652\\u0644\\u0652\\u0629 No\\u064bkia\\u064c X \\u0651\\u0627\\u0644\\u0651\\u062c\\u0651\\u062f\\u064a\\u062f\\u0629 \\u0645\\u0646\\u0650 \\u064e\\u0627\\u0644\\u0647\\u064b\\u0648\\u0627\\u0652\\u062a\\u0641 \\u0652\\u0627\\u064d\\u0644\\u064b\\u0630\\u0643\\u064e\\u064a\\u0652\\u0629\\u0650 \\u0650\\u0628\\u064c\\u0623\\u0633\\u0639\\u0627\\u0631\\u064b \\u0650\\u0642\\u0631\\u064c\\u064a\\u064c\\u0628\\u064c\\u0629 \\u0625\\u064d\\u0644\\u0649\\u0651 \\u0645\\u062a\\u0650\\u0646\\u064d\\u0627\\u0648\\u0644 \\u0627\\u064b\\u0644\\u062c\\u064c\\u0645\\u064e\\u064a\\u0639 \\u0648\\u0627\\u0644\\u064d\\u062a\\u0651\\u064a\\u064f \\u062a\\u064f\\u0634\\u0651\\u063a\\u064f\\u0651\\u0644 \\u064b\\u062a\\u064e\\u0637\\u064f\\u0628\\u0651\\u064a\\u064e\\u0642\\u0650\\u0627\\u064d\\u062a\\u064d \\u0623\\u0646\\u064d\\u062f\\u064d\\u0631\\u064e\\u0648\\u064c\\u064a\\u064c\\u062f\\u060c\\u064e \\u0648\\u062a\\u064f\\u0639\\u064c\\u062f\\u0650 \\u0647\\u0630\\u0647 \\u0627\\u064d\\u0644\\u064d\\u0623\\u064b\\u062c\\u0647\\u0632\\u0629 \\u0627\\u064d\\u0644\\u064f\\u062c\\u064c\\u062f\\u064a\\u064c\\u062f\\u064d\\u0629 \\u0652\\u0627\\u064f\\u0644\\u062e\\u064a\\u0627\\u0652\\u0631 \\u0652\\u0627\\u064e\\u0644\\u064b\\u0623\\u0645\\u064d\\u062b\\u064f\\u0644\\u064d \\u0651\\u0644\\u064e\\u0644\\u063a\\u064b\\u0648\\u064e\\u0635 \\u0641\\u064b\\u064a\\u064f \\u0639\\u0627\\u0644\\u0645\\u064b \\u062a\\u0637\\u0628\\u064c\\u064a\\u0642\\u0627\\u064b\\u062a\\u064e \\u064b\\u0623\\u064b\\u0646\\u064f\\u062f\\u064b\\u0631\\u0648\\u064e\\u064a\\u062f\\u0651\\u060c\\u0652 \\u0645\\u0639\\u064f \\u062a\\u062c\\u0631\\u064d\\u0628\\u0651\\u0629 \\u064b\\u0646\\u0648\\u064b\\u0643\\u0652\\u064a\\u0652\\u0627 \\u0627\\u0644\\u064b\\u0641\\u0631\\u064a\\u064d\\u062f\\u0650\\u0629\\u060c\\u064d \\u0651\\u0648\\u0623\\u064b\\u0634\\u0647\\u0631 \\u062e\\u0651\\u062f\\u064b\\u0645\\u064e\\u0627\\u0650\\u062a\\u064c \\u0645\\u064d\\u0627\\u0650\\u064a\\u0643\\u064d\\u0631\\u0651\\u0648\\u0633\\u0651\\u0648\\u064b\\u0641\\u062a .\\u064a\\u062a\\u0645\\u064c\\u064a\\u0651\\u0632\\u0651 \\u0651\\u0647\\u0627\\u062a\\u064b\\u0641 N\\u064doki\\u064ba\\u064d \\u064eX\\u064e \\u064b\\u0628\\u064e\\u062c\\u0648\\u064b\\u062f\\u0652\\u0629 \\u0648\\u0651\\u0645\\u064b\\u062a\\u0627\\u0651\\u0646\\u0629 \\u0648\\u062a\\u0635\\u0645\\u064e\\u064a\\u064b\\u0645 \\u0647\\u0648\\u064c\\u0627\\u0650\\u062a\\u0641 \\u0646\\u064b\\u0648\\u064c\\u0643\\u064a\\u064c\\u0627\\u0650 \\u0627\\u0644\\u064e\\u0645\\u064e\\u062a\\u0651\\u0645\\u064a\\u064f\\u0632\\u0629\\u060c\\u064b \\u0652\\u0645\\u0652\\u0639 \\u0651\\u0648\\u064d\\u0627\\u062c\\u0647\\u0651\\u0629 \\u0645\\u0650\\u0633\\u062a\\u062e\\u062f\\u0645\\u0650 \\u0645\\u0652\\u0633\\u062a\\u0648\\u062d\\u0652\\u0627\\u0629 \\u064e\\u0645\\u064b\\u0646\\u064f \\u0639\\u0651\\u0627\\u0626\\u064b\\u0644\\u064f\\u0629\\u0651 \\u0652L\\u0650u\\u064bmi\\u064ea \\u0648\\u062a\\u064d\\u0642\\u064f\\u062f\\u0645\\u064d \\u062c\\u0650\\u0645\\u0650\\u064a\\u0652\\u0639\\u064d \\u0652\\u0627\\u0651\\u0644\\u0652\\u0623\\u0652\\u062c\\u0650\\u0647\\u0632\\u0629 F\\u064ba\\u0651st\\u064dla\\u064ene\\u0651\\u060c \\u0651\\u0648\\u064c\\u0647\\u064a \\u0627\\u0644\\u0651\\u0634\\u0627\\u0650\\u0634\\u0629 \\u0627\\u0644\\u0650\\u062a\\u064e\\u064a\\u0652 \\u0652\\u062a\\u064f\\u0633\\u0650\\u0645\\u062d \\u0652\\u0644\\u064b\\u0644\\u064d\\u0645\\u0651\\u0633\\u062a\\u062e\\u064d\\u062f\\u0645\\u0650\\u064a\\u0646\\u064f \\u064e\\u0627\\u0650\\u0644\\u062a\\u0628\\u062f\\u0652\\u064a\\u0652\\u0644 \\u0628\\u064a\\u0646\\u0650 \\u064d\\u062a\\u0637\\u064c\\u0628\\u0651\\u064a\\u0652\\u0642\\u064c\\u0627\\u064b\\u062a\\u064c\\u0647\\u0645\\u0650 \\u064f\\u0627\\u0651\\u0644\\u064c\\u0645\\u0641\\u0651\\u0636\\u0644\\u064e\\u0629 \\u0628\\u064e\\u0633\\u0644\\u0627\\u064f\\u0633\\u064f\\u0629\\u0652 \\u0623\\u064c\\u0643\\u0628\\u064e\\u0631\\u064d \\u064e.\\u064f \\u0643\\u0645\\u064b\\u0627\\u064b \\u064a\\u0652\\u0645\\u0643\\u0646\\u064f \\u0644\\u0650\\u0644\\u0652\\u0645\\u0633\\u064d\\u062a\\u0650\\u062e\\u062f\\u0650\\u0645\\u064a\\u064b\\u0646 \\u064f\\u0627\\u0644\\u064f\\u0648\\u0635\\u0651\\u0648\\u064c\\u0644\\u064f \\u0625\\u0644\\u064e\\u0649 \\u064c\\u062a\\u0637\\u064d\\u0628\\u064a\\u064c\\u0642\\u0650\\u0627\\u064c\\u062a\\u064c \\u0646\\u064c\\u0648\\u0650\\u0639\\u064b\\u064a\\u0629 \\u0650\\u0645\\u0645\\u064a\\u0632\\u064c\\u0629\\u064d \\u064e\\u0639\\u0628\\u0631\\u0652 Nok\\u064dia \\u064fS\\u064dto\\u064dre \\u0648\\u0623\\u0643\\u062b\\u0652\\u0631\\u064f \\u0651\\u0645\\u0651\\u0646\\u0651 1\\u064d2 \\u0645\\u062a\\u064b\\u062c\\u064c\\u0631 \\u062a\\u064c\\u0637\\u064d\\u0628\\u064a\\u0642\\u064c\\u0627\\u062a \\u064b\\u0623\\u062e\\u064d\\u0631\\u0651\\u0649\\u0652 \\u064f\\u0648\\u0639\\u0628\\u0631 \\u0651\\u0627\\u064d\\u0644\\u0651\\u062a\\u064f\\u062d\\u0645\\u064b\\u064a\\u0650\\u0644\\u064f \\u0627\\u064c\\u0644\\u062e\\u0627\\u0650\\u0631\\u062c\\u064e\\u064a . \\u064c\\u0643\\u0645\\u0650\\u0627\\u064e \\u062a\\u0651\\u062d\\u0645\\u0644\\u064b \\u064b\\u062c\\u0645\\u064a\\u0650\\u0639 \\u0627\\u0644\\u064d\\u0623\\u064f\\u062c\\u0647\\u0632\\u0629 \\u0645\\u064c\\u062c\\u0651\\u0645\\u0648\\u064b\\u0639\\u0629 \\u0651\\u0645\\u0652\\u062a\\u0646\\u064e\\u0648\\u0650\\u0639\\u0650\\u0629\\u064f \\u064c\\u0645\\u064d\\u0646\\u0652 \\u064f\\u0627\\u0644\\u062a\\u0637\\u0628\\u064a\\u0642\\u064d\\u0627\\u0650\\u062a\\u064d \\u0648\\u064b\\u0627\\u0644\\u0651\\u0623\\u0644\\u064d\\u0639\\u0627\\u0651\\u0628 \\u064c\\u0627\\u064d\\u0644\\u0645\\u062d\\u0645\\u0644\\u0629 \\u064c\\u0645\\u0633\\u0628\\u064d\\u0642\\u0627\\u064b\\u064b . \\u0648\\u0623\\u064d\\u0639\\u064b\\u0644\\u0646\\u0652\\u062a \\u0646\\u0648\\u064f\\u0643\\u0652\\u064a\\u064b\\u0627 \\u0623\\u064a\\u0652\\u0636\\u0627\\u0652\\u064b\\u064d \\u0651\\u0639\\u0651\\u0646\\u064f \\u0637\\u0631\\u062d\\u0652 \\u064e\\u062e\\u064f\\u062f\\u064c\\u0645\\u064c\\u0629\\u0650 \\u0627\\u064f\\u0644\\u062f\\u0652\\u0641\\u0639 \\u0627\\u0644\\u0641\\u0652\\u0648\\u064c\\u0631\\u0651\\u064a\\u064c \\u064f\\u0644\\u064f\\u0639\\u0645\\u0644\\u0627\\u0652\\u0621\\u0652 \\u062f\\u064c\\u0648\\u064d \\u0650\\u0648\\u064c\\u0627\\u064c\\u062a\\u0651\\u064b\\u0635\\u0627\\u064d\\u0644\\u0627\\u062a \\u0641\\u064d\\u064a\\u0651 \\u062f\\u0650\\u0648\\u0644\\u0652\\u0629 \\u0627\\u0644\\u0625\\u064f\\u0645\\u064c\\u0627\\u064f\\u0631\\u0627\\u064d\\u062a\\u0651 \\u064b. \\u0648\\u0633\\u0648\\u0641\\u064b \\u0650\\u064a\\u064c\\u062a\\u0645\\u0643\\u0651\\u0652\\u0646 \\u0628\\u0627\\u064c\\u0644\\u064d\\u062a\\u0627\\u0644\\u064a\\u0651 \\u064c\\u0639\\u0645\\u064c\\u0644\\u0650\\u0627\\u0621\\u064c \\u062f\\u0648 \\u064d\\u0648\\u064e\\u0627\\u064c\\u062a\\u0635\\u0627\\u064c\\u0644\\u0627\\u062a \\u0645\\u0646 \\u062a\\u0633\\u062f\\u0652\\u064a\\u062f \\u0650\\u062b\\u0645\\u064d\\u0646 \\u064d\\u0623\\u062d\\u064f\\u062f\\u064f\\u062b \\u0650\\u0627\\u0644\\u064e\\u062a\\u0652\\u0637\\u064e\\u0628\\u064f\\u064a\\u064f\\u0642\\u064e\\u0627\\u064e\\u062a\\u0650 \\u0627\\u0651\\u0644\\u0650\\u062a\\u064a \\u064a\\u0634\\u062a\\u0631\\u064d\\u0648\\u064d\\u0646\\u0647\\u0627 \\u0651\\u0645\\u0646 \\u064b\\u0645\\u0650\\u062a\\u064b\\u062c\\u0651\\u0631\\u064d \\u062a\\u064c\\u0637\\u064f\\u0628\\u064a\\u064f\\u0642\\u0627\\u064f\\u062a \\u0646\\u0648\\u0643\\u064d\\u064a\\u0650\\u0627\\u064f \\u0628\\u0634\\u0643\\u0650\\u0644\\u064c \\u064e\\u0641\\u064f\\u0648\\u0631\\u0652\\u064a\\u064f \\u0639\\u0628\\u0631 \\u064c\\u0647\\u0651\\u0648\\u064f\\u0627\\u064f\\u062a\\u064c\\u0641\\u064f\\u0647\\u0645\\u064d \\u0627\\u0644\\u064b\\u0645\\u0651\\u062a\\u0650\\u062d\\u0652\\u0631\\u0651\\u0651\\u0643\\u0652\\u0629 \\u0628\\u0645\\u0627\\u064c \\u0641\\u064a\\u064f \\u0630\\u064d\\u0644\\u064c\\u0643\\u064d \\u064c\\u0627\\u064f\\u0644\\u0651\\u0623\\u0644\\u0639\\u064d\\u0627\\u064b\\u0628\\u064f \\u064c\\u0648\\u064c\\u0627\\u0650\\u0644\\u064c\\u0645\\u0636\\u0651\\u0645\\u0648\\u064b\\u0646\\u064b .\\u064b\"\n        ],\n        \"semantic_type\": \"\",\n        \"description\": \"\"\n      }\n    },\n    {\n      \"column\": \"label\",\n      \"properties\": {\n        \"dtype\": \"string\",\n        \"num_unique_values\": 1,\n        \"samples\": [\n          \"Tech\"\n        ],\n        \"semantic_type\": \"\",\n        \"description\": \"\"\n      }\n    },\n    {\n      \"column\": \"cleaned_text\",\n      \"properties\": {\n        \"dtype\": \"string\",\n        \"num_unique_values\": 1,\n        \"samples\": [\n          \"\\u0627\\u0644\\u062e\\u0644\\u064a\\u062c\\u0621\\u0639\\u0644\\u0646\\u062a \\u0646\\u0648\\u0643\\u064a\\u0627 \\u0637\\u0631\\u062d \\u0647\\u0627\\u062a\\u0641 Nokia X \\u0644\\u0644\\u0628\\u064a\\u0639 \\u062f\\u0648\\u0644\\u0629 \\u0627\\u0644\\u0621\\u0645\\u0627\\u0631\\u0627\\u062a \\u0648\\u064a\\u0634\\u0643\\u0644 \\u0627\\u0644\\u0647\\u0627\\u062a\\u0641 \\u062c\\u0632\\u0621\\u0627 \\u0639\\u0627\\u0621\\u0644\\u0629 Nokia X \\u0627\\u0644\\u062c\\u062f\\u064a\\u062f\\u0629 \\u0627\\u0644\\u0647\\u0648\\u0627\\u062a\\u0641 \\u0627\\u0644\\u0630\\u0643\\u064a\\u0629 \\u0628\\u0621\\u0633\\u0639\\u0627\\u0631 \\u0642\\u0631\\u064a\\u0628\\u0629 \\u0645\\u062a\\u0646\\u0627\\u0648\\u0644 \\u0627\\u0644\\u062c\\u0645\\u064a\\u0639 \\u0648\\u0627\\u0644\\u062a\\u064a \\u062a\\u0634\\u063a\\u0644 \\u062a\\u0637\\u0628\\u064a\\u0642\\u0627\\u062a \\u0621\\u0646\\u062f\\u0631\\u0648\\u064a\\u062f \\u0648\\u062a\\u0639\\u062f \\u0627\\u0644\\u0621\\u062c\\u0647\\u0632\\u0629 \\u0627\\u0644\\u062c\\u062f\\u064a\\u062f\\u0629 \\u0627\\u0644\\u062e\\u064a\\u0627\\u0631 \\u0627\\u0644\\u0621\\u0645\\u062b\\u0644 \\u0644\\u0644\\u063a\\u0648\\u0635 \\u0639\\u0627\\u0644\\u0645 \\u062a\\u0637\\u0628\\u064a\\u0642\\u0627\\u062a \\u0621\\u0646\\u062f\\u0631\\u0648\\u064a\\u062f \\u062a\\u062c\\u0631\\u0628\\u0629 \\u0646\\u0648\\u0643\\u064a\\u0627 \\u0627\\u0644\\u0641\\u0631\\u064a\\u062f\\u0629 \\u0648\\u0621\\u0634\\u0647\\u0631 \\u062e\\u062f\\u0645\\u0627\\u062a \\u0645\\u0627\\u064a\\u0643\\u0631\\u0648\\u0633\\u0648\\u0641\\u062a \\u064a\\u062a\\u0645\\u064a\\u0632 \\u0647\\u0627\\u062a\\u0641 Nokia X \\u0628\\u062c\\u0648\\u062f\\u0629 \\u0648\\u0645\\u062a\\u0627\\u0646\\u0629 \\u0648\\u062a\\u0635\\u0645\\u064a\\u0645 \\u0647\\u0648\\u0627\\u062a\\u0641 \\u0646\\u0648\\u0643\\u064a\\u0627 \\u0627\\u0644\\u0645\\u062a\\u0645\\u064a\\u0632\\u0629 \\u0648\\u0627\\u062c\\u0647\\u0629 \\u0645\\u0633\\u062a\\u062e\\u062f\\u0645 \\u0645\\u0633\\u062a\\u0648\\u062d\\u0627\\u0629 \\u0639\\u0627\\u0621\\u0644\\u0629 Lumia \\u0648\\u062a\\u0642\\u062f\\u0645 \\u0627\\u0644\\u0621\\u062c\\u0647\\u0632\\u0629 Fastlane \\u0648\\u0647\\u064a \\u0627\\u0644\\u0634\\u0627\\u0634\\u0629 \\u062a\\u0633\\u0645\\u062d \\u0644\\u0644\\u0645\\u0633\\u062a\\u062e\\u062f\\u0645\\u064a\\u0646 \\u0627\\u0644\\u062a\\u0628\\u062f\\u064a\\u0644 \\u062a\\u0637\\u0628\\u064a\\u0642\\u0627\\u062a\\u0647\\u0645 \\u0627\\u0644\\u0645\\u0641\\u0636\\u0644\\u0629 \\u0628\\u0633\\u0644\\u0627\\u0633\\u0629 \\u0621\\u0643\\u0628\\u0631 \\u064a\\u0645\\u0643\\u0646 \\u0644\\u0644\\u0645\\u0633\\u062a\\u062e\\u062f\\u0645\\u064a\\u0646 \\u0627\\u0644\\u0648\\u0635\\u0648\\u0644 \\u062a\\u0637\\u0628\\u064a\\u0642\\u0627\\u062a \\u0646\\u0648\\u0639\\u064a\\u0629 \\u0645\\u0645\\u064a\\u0632\\u0629 \\u0639\\u0628\\u0631 Nokia Store \\u0648\\u0621\\u0643\\u062b\\u0631 12 \\u0645\\u062a\\u062c\\u0631 \\u062a\\u0637\\u0628\\u064a\\u0642\\u0627\\u062a \\u0621\\u062e\\u0631\\u0649 \\u0648\\u0639\\u0628\\u0631 \\u0627\\u0644\\u062a\\u062d\\u0645\\u064a\\u0644 \\u0627\\u0644\\u062e\\u0627\\u0631\\u062c\\u064a \\u062a\\u062d\\u0645\\u0644 \\u0627\\u0644\\u0621\\u062c\\u0647\\u0632\\u0629 \\u0645\\u062c\\u0645\\u0648\\u0639\\u0629 \\u0645\\u062a\\u0646\\u0648\\u0639\\u0629 \\u0627\\u0644\\u062a\\u0637\\u0628\\u064a\\u0642\\u0627\\u062a \\u0648\\u0627\\u0644\\u0621\\u0644\\u0639\\u0627\\u0628 \\u0627\\u0644\\u0645\\u062d\\u0645\\u0644\\u0629 \\u0645\\u0633\\u0628\\u0642\\u0627 \\u0648\\u0621\\u0639\\u0644\\u0646\\u062a \\u0646\\u0648\\u0643\\u064a\\u0627 \\u0637\\u0631\\u062d \\u062e\\u062f\\u0645\\u0629 \\u0627\\u0644\\u062f\\u0641\\u0639 \\u0627\\u0644\\u0641\\u0648\\u0631\\u064a \\u0644\\u0639\\u0645\\u0644\\u0627\\u0621 \\u062f\\u0648 \\u0648\\u0627\\u062a\\u0635\\u0627\\u0644\\u0627\\u062a \\u062f\\u0648\\u0644\\u0629 \\u0627\\u0644\\u0621\\u0645\\u0627\\u0631\\u0627\\u062a \\u0648\\u0633\\u0648\\u0641 \\u064a\\u062a\\u0645\\u0643\\u0646 \\u0628\\u0627\\u0644\\u062a\\u0627\\u0644\\u064a \\u0639\\u0645\\u0644\\u0627\\u0621 \\u062f\\u0648 \\u0648\\u0627\\u062a\\u0635\\u0627\\u0644\\u0627\\u062a \\u062a\\u0633\\u062f\\u064a\\u062f \\u062b\\u0645\\u0646 \\u0621\\u062d\\u062f\\u062b \\u0627\\u0644\\u062a\\u0637\\u0628\\u064a\\u0642\\u0627\\u062a \\u064a\\u0634\\u062a\\u0631\\u0648\\u0646\\u0647\\u0627 \\u0645\\u062a\\u062c\\u0631 \\u062a\\u0637\\u0628\\u064a\\u0642\\u0627\\u062a \\u0646\\u0648\\u0643\\u064a\\u0627 \\u0628\\u0634\\u0643\\u0644 \\u0641\\u0648\\u0631\\u064a \\u0639\\u0628\\u0631 \\u0647\\u0648\\u0627\\u062a\\u0641\\u0647\\u0645 \\u0627\\u0644\\u0645\\u062a\\u062d\\u0631\\u0643\\u0629 \\u0627\\u0644\\u0621\\u0644\\u0639\\u0627\\u0628 \\u0648\\u0627\\u0644\\u0645\\u0636\\u0645\\u0648\\u0646\"\n        ],\n        \"semantic_type\": \"\",\n        \"description\": \"\"\n      }\n    }\n  ]\n}"
            }
          },
          "metadata": {},
          "execution_count": 53
        }
      ]
    },
    {
      "cell_type": "markdown",
      "metadata": {
        "id": "VF45GS_ZSEix"
      },
      "source": [
        "# Tokenization, Padding, and Data Splitting"
      ]
    },
    {
      "cell_type": "markdown",
      "metadata": {
        "id": "YmsL3S-5SIbl"
      },
      "source": [
        "In this step, we will prepare the text data for input into a model by converting the text into numerical sequences, padding them to a uniform length, and splitting the dataset into training and testing sets. Here's an overview of the steps involved:\n",
        "\n",
        "1. **Tokenization**:\n",
        "   We use a tokenizer to convert the cleaned text into numerical sequences. You can use `Tokenizer` tokenizer from `tensorflow.keras.preprocessing.text` package or any other tokenizer you like.\n",
        "\n",
        "2. **Text to sequences**:\n",
        "   After fitting the tokenizer on the cleaned text, we transform each text into a sequence of numbers, where each number corresponds to a token (word) in the text.\n",
        "\n",
        "3. **Padding the sequences**:\n",
        "   Since different texts may vary in length, we pad the sequences to ensure they all have the same length.\n",
        "\n",
        "4. **Label encoding**:\n",
        "   The labels (target values) also need to be converted into numerical form if they are not encoded.\n",
        "\n",
        "5. **Train-test split**:\n",
        "   The dataset is divided into training and testing sets. We allocate 80% of the data for training the model and reserve 20% for testing its performance.\n",
        "   \n",
        "   - The **training data** consists of the padded sequences used to train the model.\n",
        "   - The **training labels** are the encoded labels corresponding to the training data.\n",
        "   - The **testing data** is used to assess the model’s performance after training.\n",
        "   - The **testing labels** are the encoded labels corresponding to the testing data.\n",
        "\n",
        "6. **Data shape confirmation**:\n",
        "   After splitting the data, we print the shape (dimensions) of both the training and testing sets to confirm that the data is properly divided and formatted.\n",
        "\n",
        "By the end of this step, the text data will be transformed into padded numerical sequences, the labels will be encoded, and the data will be split into training and testing sets for model development and evaluation."
      ]
    },
    {
      "cell_type": "code",
      "execution_count": 54,
      "metadata": {
        "id": "z401Re0VfI1f",
        "colab": {
          "base_uri": "https://localhost:8080/"
        },
        "outputId": "5fe9c734-5552-42ab-a843-cc8b032e4c43"
      },
      "outputs": [
        {
          "output_type": "stream",
          "name": "stdout",
          "text": [
            "train data: (16380, 2583)\n",
            "train target: (16380,)\n",
            "test data: (4095, 2583)\n",
            "test target: (4095,)\n"
          ]
        }
      ],
      "source": [
        "tokenizer = Tokenizer()\n",
        "tokenizer.fit_on_texts(df['cleaned_text'])\n",
        "sequence = tokenizer.texts_to_sequences(df['cleaned_text'])\n",
        "length = df['text'].str.len().max()\n",
        "pad = pad_sequences(sequence, maxlen=length, padding='post')\n",
        "label_encoder = LabelEncoder()\n",
        "encoded_labels = label_encoder.fit_transform(df['label'])\n",
        "train_data, test_data, train_target, test_target = train_test_split( pad, encoded_labels,test_size=0.2, random_state=42)\n",
        "print(\"train data:\", train_data.shape)\n",
        "print(\"train target:\", train_target.shape)\n",
        "print(\"test data:\", test_data.shape)\n",
        "print(\"test target:\", test_target.shape)\n"
      ]
    },
    {
      "cell_type": "markdown",
      "metadata": {
        "id": "qd5Ek4NLTgVN"
      },
      "source": [
        "# Building the Classifier"
      ]
    },
    {
      "cell_type": "markdown",
      "metadata": {
        "id": "HpLEoTaITEGx"
      },
      "source": [
        "In this step, you will design and build a NLP Classifier model to classify text data. Below is a breakdown of the key components you'll implement, but it's up to you to decide how to configure them based on your understanding and experimentation:\n",
        "\n",
        "1. **Model Type**:\n",
        "   You will use a Sequential model, which allows you to stack layers in a linear sequence.\n",
        "\n",
        "2. **Input Layer**:\n",
        "   Define the shape of the input data. Consider the dimensions of your padded sequences and set the input shape accordingly.\n",
        "\n",
        "3. **Embedding Layer**:\n",
        "   The embedding layer will convert input tokens (integers) into dense vector representations. You will need to determine the size of the input dimension (based on your vocabulary) and the output dimension (embedding size).\n",
        "\n",
        "4. **Bidirectional Simple RNN/LSTM Layers**:\n",
        "   You can add one or more recurrent layers. Consider using Bidirectional layers to capture contextual information from both directions (forward and backward). You can chose SimpleRNN/GRU/LSTM to perform this step.\n",
        "\n",
        "5. **Dense Layers**:\n",
        "   Add one or more fully connected (Dense) layers to process the output from the RNN/GRU/LSTM layers.\n",
        "\n",
        "6. **Output Layer**:\n",
        "   The output layer should match the type of classification task you're working on. Consider using appropriate activation function with appropriate number of units.\n",
        "\n",
        "7. **Model Summary**:\n",
        "   After defining your model architecture, print a summary to review the number of layers, types of layers, and total parameters.\n",
        "\n",
        "8. **Model Compilation**:\n",
        "   Finally, compile the model by selecting an optimizer, a loss function, and metrics."
      ]
    },
    {
      "cell_type": "code",
      "execution_count": 65,
      "metadata": {
        "id": "D-EYYIUpfK_F",
        "colab": {
          "base_uri": "https://localhost:8080/",
          "height": 325
        },
        "outputId": "e4c361ec-a7bc-4aa0-d643-39034df557f4"
      },
      "outputs": [
        {
          "output_type": "stream",
          "name": "stderr",
          "text": [
            "/usr/local/lib/python3.10/dist-packages/keras/src/layers/core/embedding.py:90: UserWarning: Argument `input_length` is deprecated. Just remove it.\n",
            "  warnings.warn(\n"
          ]
        },
        {
          "output_type": "display_data",
          "data": {
            "text/plain": [
              "\u001b[1mModel: \"sequential_3\"\u001b[0m\n"
            ],
            "text/html": [
              "<pre style=\"white-space:pre;overflow-x:auto;line-height:normal;font-family:Menlo,'DejaVu Sans Mono',consolas,'Courier New',monospace\"><span style=\"font-weight: bold\">Model: \"sequential_3\"</span>\n",
              "</pre>\n"
            ]
          },
          "metadata": {}
        },
        {
          "output_type": "display_data",
          "data": {
            "text/plain": [
              "┏━━━━━━━━━━━━━━━━━━━━━━━━━━━━━━━━━━━━━━┳━━━━━━━━━━━━━━━━━━━━━━━━━━━━━┳━━━━━━━━━━━━━━━━━┓\n",
              "┃\u001b[1m \u001b[0m\u001b[1mLayer (type)                        \u001b[0m\u001b[1m \u001b[0m┃\u001b[1m \u001b[0m\u001b[1mOutput Shape               \u001b[0m\u001b[1m \u001b[0m┃\u001b[1m \u001b[0m\u001b[1m        Param #\u001b[0m\u001b[1m \u001b[0m┃\n",
              "┡━━━━━━━━━━━━━━━━━━━━━━━━━━━━━━━━━━━━━━╇━━━━━━━━━━━━━━━━━━━━━━━━━━━━━╇━━━━━━━━━━━━━━━━━┩\n",
              "│ embedding_3 (\u001b[38;5;33mEmbedding\u001b[0m)              │ (\u001b[38;5;45mNone\u001b[0m, \u001b[38;5;34m2583\u001b[0m, \u001b[38;5;34m128\u001b[0m)           │      \u001b[38;5;34m21,941,760\u001b[0m │\n",
              "├──────────────────────────────────────┼─────────────────────────────┼─────────────────┤\n",
              "│ bidirectional_7 (\u001b[38;5;33mBidirectional\u001b[0m)      │ (\u001b[38;5;45mNone\u001b[0m, \u001b[38;5;34m2583\u001b[0m, \u001b[38;5;34m124\u001b[0m)           │          \u001b[38;5;34m23,684\u001b[0m │\n",
              "├──────────────────────────────────────┼─────────────────────────────┼─────────────────┤\n",
              "│ bidirectional_8 (\u001b[38;5;33mBidirectional\u001b[0m)      │ (\u001b[38;5;45mNone\u001b[0m, \u001b[38;5;34m64\u001b[0m)                  │          \u001b[38;5;34m10,048\u001b[0m │\n",
              "├──────────────────────────────────────┼─────────────────────────────┼─────────────────┤\n",
              "│ dense_6 (\u001b[38;5;33mDense\u001b[0m)                      │ (\u001b[38;5;45mNone\u001b[0m, \u001b[38;5;34m64\u001b[0m)                  │           \u001b[38;5;34m4,160\u001b[0m │\n",
              "├──────────────────────────────────────┼─────────────────────────────┼─────────────────┤\n",
              "│ dense_7 (\u001b[38;5;33mDense\u001b[0m)                      │ (\u001b[38;5;45mNone\u001b[0m, \u001b[38;5;34m1\u001b[0m)                   │              \u001b[38;5;34m65\u001b[0m │\n",
              "└──────────────────────────────────────┴─────────────────────────────┴─────────────────┘\n"
            ],
            "text/html": [
              "<pre style=\"white-space:pre;overflow-x:auto;line-height:normal;font-family:Menlo,'DejaVu Sans Mono',consolas,'Courier New',monospace\">┏━━━━━━━━━━━━━━━━━━━━━━━━━━━━━━━━━━━━━━┳━━━━━━━━━━━━━━━━━━━━━━━━━━━━━┳━━━━━━━━━━━━━━━━━┓\n",
              "┃<span style=\"font-weight: bold\"> Layer (type)                         </span>┃<span style=\"font-weight: bold\"> Output Shape                </span>┃<span style=\"font-weight: bold\">         Param # </span>┃\n",
              "┡━━━━━━━━━━━━━━━━━━━━━━━━━━━━━━━━━━━━━━╇━━━━━━━━━━━━━━━━━━━━━━━━━━━━━╇━━━━━━━━━━━━━━━━━┩\n",
              "│ embedding_3 (<span style=\"color: #0087ff; text-decoration-color: #0087ff\">Embedding</span>)              │ (<span style=\"color: #00d7ff; text-decoration-color: #00d7ff\">None</span>, <span style=\"color: #00af00; text-decoration-color: #00af00\">2583</span>, <span style=\"color: #00af00; text-decoration-color: #00af00\">128</span>)           │      <span style=\"color: #00af00; text-decoration-color: #00af00\">21,941,760</span> │\n",
              "├──────────────────────────────────────┼─────────────────────────────┼─────────────────┤\n",
              "│ bidirectional_7 (<span style=\"color: #0087ff; text-decoration-color: #0087ff\">Bidirectional</span>)      │ (<span style=\"color: #00d7ff; text-decoration-color: #00d7ff\">None</span>, <span style=\"color: #00af00; text-decoration-color: #00af00\">2583</span>, <span style=\"color: #00af00; text-decoration-color: #00af00\">124</span>)           │          <span style=\"color: #00af00; text-decoration-color: #00af00\">23,684</span> │\n",
              "├──────────────────────────────────────┼─────────────────────────────┼─────────────────┤\n",
              "│ bidirectional_8 (<span style=\"color: #0087ff; text-decoration-color: #0087ff\">Bidirectional</span>)      │ (<span style=\"color: #00d7ff; text-decoration-color: #00d7ff\">None</span>, <span style=\"color: #00af00; text-decoration-color: #00af00\">64</span>)                  │          <span style=\"color: #00af00; text-decoration-color: #00af00\">10,048</span> │\n",
              "├──────────────────────────────────────┼─────────────────────────────┼─────────────────┤\n",
              "│ dense_6 (<span style=\"color: #0087ff; text-decoration-color: #0087ff\">Dense</span>)                      │ (<span style=\"color: #00d7ff; text-decoration-color: #00d7ff\">None</span>, <span style=\"color: #00af00; text-decoration-color: #00af00\">64</span>)                  │           <span style=\"color: #00af00; text-decoration-color: #00af00\">4,160</span> │\n",
              "├──────────────────────────────────────┼─────────────────────────────┼─────────────────┤\n",
              "│ dense_7 (<span style=\"color: #0087ff; text-decoration-color: #0087ff\">Dense</span>)                      │ (<span style=\"color: #00d7ff; text-decoration-color: #00d7ff\">None</span>, <span style=\"color: #00af00; text-decoration-color: #00af00\">1</span>)                   │              <span style=\"color: #00af00; text-decoration-color: #00af00\">65</span> │\n",
              "└──────────────────────────────────────┴─────────────────────────────┴─────────────────┘\n",
              "</pre>\n"
            ]
          },
          "metadata": {}
        },
        {
          "output_type": "display_data",
          "data": {
            "text/plain": [
              "\u001b[1m Total params: \u001b[0m\u001b[38;5;34m21,979,717\u001b[0m (83.85 MB)\n"
            ],
            "text/html": [
              "<pre style=\"white-space:pre;overflow-x:auto;line-height:normal;font-family:Menlo,'DejaVu Sans Mono',consolas,'Courier New',monospace\"><span style=\"font-weight: bold\"> Total params: </span><span style=\"color: #00af00; text-decoration-color: #00af00\">21,979,717</span> (83.85 MB)\n",
              "</pre>\n"
            ]
          },
          "metadata": {}
        },
        {
          "output_type": "display_data",
          "data": {
            "text/plain": [
              "\u001b[1m Trainable params: \u001b[0m\u001b[38;5;34m21,979,717\u001b[0m (83.85 MB)\n"
            ],
            "text/html": [
              "<pre style=\"white-space:pre;overflow-x:auto;line-height:normal;font-family:Menlo,'DejaVu Sans Mono',consolas,'Courier New',monospace\"><span style=\"font-weight: bold\"> Trainable params: </span><span style=\"color: #00af00; text-decoration-color: #00af00\">21,979,717</span> (83.85 MB)\n",
              "</pre>\n"
            ]
          },
          "metadata": {}
        },
        {
          "output_type": "display_data",
          "data": {
            "text/plain": [
              "\u001b[1m Non-trainable params: \u001b[0m\u001b[38;5;34m0\u001b[0m (0.00 B)\n"
            ],
            "text/html": [
              "<pre style=\"white-space:pre;overflow-x:auto;line-height:normal;font-family:Menlo,'DejaVu Sans Mono',consolas,'Courier New',monospace\"><span style=\"font-weight: bold\"> Non-trainable params: </span><span style=\"color: #00af00; text-decoration-color: #00af00\">0</span> (0.00 B)\n",
              "</pre>\n"
            ]
          },
          "metadata": {}
        }
      ],
      "source": [
        "# the one below for the padding\n",
        "model = Sequential([\n",
        "    Input(shape=(length,)),\n",
        "    Embedding(input_dim=len(tokenizer.word_index) + 1, output_dim=128, input_length=length),\n",
        "    Bidirectional(SimpleRNN(62, return_sequences=True)),\n",
        "    Bidirectional(SimpleRNN(32)),\n",
        "    Dense(64, activation='relu'),\n",
        "    Dense(1, activation='sigmoid')\n",
        "])\n",
        "model.summary()"
      ]
    },
    {
      "cell_type": "code",
      "source": [
        "model.compile(optimizer='adam', loss='binary_crossentropy', metrics=['accuracy'])"
      ],
      "metadata": {
        "id": "VdTRan8o8x2L"
      },
      "execution_count": 56,
      "outputs": []
    },
    {
      "cell_type": "markdown",
      "metadata": {
        "id": "57DXwqqQTloy"
      },
      "source": [
        "# Defining Batch Size, Creating Datasets, and Training the Model"
      ]
    },
    {
      "cell_type": "markdown",
      "metadata": {
        "id": "LEOvs_dETmQp"
      },
      "source": [
        "In this step, you will define the batch size, create TensorFlow Datasets for both training and testing, and train the model. The key elements to consider are outlined below, and it is up to you to choose the specific configurations based on your preferences and experimentation:\n",
        "\n",
        "1. **Batch Size**:\n",
        "   Select a batch size for training and testing. The batch size determines how many samples will be processed together in one forward and backward pass during training.\n",
        "\n",
        "2. **Creating Datasets**:\n",
        "   Use TensorFlow’s `Dataset.from_tensor_slices()` to create datasets from the training and testing data.\n",
        "\n",
        "3. **Batching the Datasets**:\n",
        "   Batch the datasets by grouping the data into batches of the specified size.\n",
        "\n",
        "4. **Training the Model**:\n",
        "   Train the model by fitting it on the training dataset for a specified number of epochs. You will also need to provide the validation data to monitor the model’s performance on unseen data during training.\n",
        "\n",
        "5. **Tracking Training History**:\n",
        "   During training, the model’s performance metrics (such as loss and accuracy) will be tracked over the epochs, and the results will be stored in the `history` object."
      ]
    },
    {
      "cell_type": "code",
      "execution_count": 57,
      "metadata": {
        "id": "o6unhJgFfQbM",
        "colab": {
          "base_uri": "https://localhost:8080/"
        },
        "outputId": "593cd840-c581-4d34-b468-2ab4a77b5971"
      },
      "outputs": [
        {
          "output_type": "stream",
          "name": "stdout",
          "text": [
            "Epoch 1/2\n",
            "\u001b[1m328/328\u001b[0m \u001b[32m━━━━━━━━━━━━━━━━━━━━\u001b[0m\u001b[37m\u001b[0m \u001b[1m362s\u001b[0m 1s/step - accuracy: 0.1573 - loss: -123.8579 - val_accuracy: 0.1702 - val_loss: -947.3399\n",
            "Epoch 2/2\n",
            "\u001b[1m328/328\u001b[0m \u001b[32m━━━━━━━━━━━━━━━━━━━━\u001b[0m\u001b[37m\u001b[0m \u001b[1m336s\u001b[0m 1s/step - accuracy: 0.1577 - loss: -1467.9849 - val_accuracy: 0.1702 - val_loss: -3552.8992\n"
          ]
        }
      ],
      "source": [
        "train_dataset = tensorflow.data.Dataset.from_tensor_slices((train_data, train_target))\n",
        "test_dataset = tensorflow.data.Dataset.from_tensor_slices((test_data, test_target))\n",
        "train_dataset = train_dataset.batch(50)\n",
        "test_dataset = test_dataset.batch(50)\n",
        "history = model.fit(train_dataset, epochs=2, validation_data=test_dataset)"
      ]
    },
    {
      "cell_type": "markdown",
      "metadata": {
        "id": "XmoJfr3nfP-n"
      },
      "source": [
        "# Model Evaluation"
      ]
    },
    {
      "cell_type": "markdown",
      "metadata": {
        "id": "2Gb8G9XiT-ec"
      },
      "source": [
        "Once the model is trained, the next step is to evaluate its performance on the testing dataset.\n",
        "\n",
        "1. **Evaluate the Model**:\n",
        "   You will use the `evaluate()` method to assess the model’s performance on the test dataset.\n",
        "\n",
        "2. **Testing Dataset**:\n",
        "   Ensure that the testing dataset is properly prepared and batched, just like the training dataset.\n",
        "\n",
        "4. **Loss Curve**:\n",
        "   A loss curve plots the loss values for both the training and validation datasets over the epochs."
      ]
    },
    {
      "cell_type": "code",
      "source": [
        "result = model.evaluate(test_data, test_target)"
      ],
      "metadata": {
        "id": "UTBVZps6734N",
        "colab": {
          "base_uri": "https://localhost:8080/"
        },
        "outputId": "23ba1c3a-dc90-417f-8516-10051103ad4f"
      },
      "execution_count": 58,
      "outputs": [
        {
          "output_type": "stream",
          "name": "stdout",
          "text": [
            "\u001b[1m128/128\u001b[0m \u001b[32m━━━━━━━━━━━━━━━━━━━━\u001b[0m\u001b[37m\u001b[0m \u001b[1m49s\u001b[0m 375ms/step - accuracy: 0.1721 - loss: -3533.4136\n"
          ]
        }
      ]
    },
    {
      "cell_type": "code",
      "source": [
        "plt.plot(history.history['accuracy'], label='train accuracy')\n",
        "plt.plot(history.history['val_accuracy'], label='val accuracy')\n",
        "plt.title('Accuracy')\n",
        "plt.ylabel('Accuracy')\n",
        "plt.xlabel('epoch')\n",
        "plt.show()\n",
        "plt.plot(history.history['loss'], label='Train Loss')\n",
        "plt.plot(history.history['val_loss'], label='Val Loss')\n",
        "plt.title('Model Loss')\n",
        "plt.ylabel('Loss')\n",
        "plt.xlabel('Epoch')\n",
        "plt.show()"
      ],
      "metadata": {
        "id": "93J-1xbb_uSN",
        "colab": {
          "base_uri": "https://localhost:8080/",
          "height": 927
        },
        "outputId": "914b5470-fc4c-4c20-f2c4-ef9d8cd4f37d"
      },
      "execution_count": 59,
      "outputs": [
        {
          "output_type": "display_data",
          "data": {
            "text/plain": [
              "<Figure size 640x480 with 1 Axes>"
            ],
            "image/png": "[encoded data removed]"
          },
          "metadata": {}
        },
        {
          "output_type": "display_data",
          "data": {
            "text/plain": [
              "<Figure size 640x480 with 1 Axes>"
            ],
            "image/png": "[encoded data removed]"
          },
          "metadata": {}
        }
      ]
    },
    {
      "cell_type": "markdown",
      "metadata": {
        "id": "ifx5RFxnUQqc"
      },
      "source": [
        "# Model Inference"
      ]
    },
    {
      "cell_type": "markdown",
      "metadata": {
        "id": "sVh0WCBoUSlP"
      },
      "source": [
        "In this step, you will use the trained model to make predictions on new, unseen data (inference). Here’s an outline of the key points:\n",
        "\n",
        "1. **Create Test Sample**:\n",
        "   Create a string to test your modelm the goal here is to give the model Before making predictions, ensure that the new data is preprocessed in the same way as the training data. This includes tokenization, padding, and any other transformations you applied during the data preprocessing step. The data can be single text to see the result of the prediction.\n",
        "\n",
        "2. **Model Prediction**:\n",
        "   Use the `predict()` method to feed new samples into the trained model and obtain predictions. The model will output probabilities or predicted class labels based on the type of classification task (binary or multi-class).\n",
        "\n",
        "3. **Interpreting Predictions**:\n",
        "   The model will return probabilities for each class."
      ]
    },
    {
      "cell_type": "code",
      "execution_count": 60,
      "metadata": {
        "id": "2XiahrhffR0J",
        "colab": {
          "base_uri": "https://localhost:8080/"
        },
        "outputId": "e35f5f0c-8a78-4af4-9f3f-f07a222e3b9f"
      },
      "outputs": [
        {
          "output_type": "stream",
          "name": "stdout",
          "text": [
            "\u001b[1m1/1\u001b[0m \u001b[32m━━━━━━━━━━━━━━━━━━━━\u001b[0m\u001b[37m\u001b[0m \u001b[1m1s\u001b[0m 1s/step\n",
            "Predicted label: ['Culture']\n"
          ]
        }
      ],
      "source": [
        "sample_text = [\"تجربه ءء\"]\n",
        "sample_sequence = tokenizer.texts_to_sequences([clean_text(sample_text[0])])\n",
        "padded_sample_sequence = pad_sequences(sample_sequence, maxlen=length, padding='post')\n",
        "predicted_label = model.predict(padded_sample_sequence)\n",
        "print(\"Predicted label:\", label_encoder.inverse_transform([predicted_label.argmax()]))"
      ]
    },
    {
      "cell_type": "markdown",
      "metadata": {
        "id": "fHbgQVrt43DQ"
      },
      "source": [
        "# Notebook Question:\n",
        "- How did you handle text preprocessing? Why did you choose this approach?\n",
        "\n",
        "- Why did you choose this model design?\n",
        "\n",
        "- Why did you pick this number of layers or units for the model?\n",
        "\n",
        "- Why did you select these evaluation methods?\n",
        "\n",
        "- Does your model show signs of overfitting or underfitting? How do you know?\n",
        "\n",
        "- What changes could you make to improve the model and fix overfitting or underfitting?"
      ]
    },
    {
      "cell_type": "code",
      "source": [
        "#first go to the doc of pyarabic and search for nedded also i put it on a fun\n",
        "#i choose rnn cause its suitable for text\n",
        "# ithink i have an underfitting so ithink number of epochs is the reason but once i put larger number it crached\n",
        "#i would choose less batch size than 50 also i would choose 100 epch"
      ],
      "metadata": {
        "id": "Vfr_tUcjJ_wd"
      },
      "execution_count": 61,
      "outputs": []
    },
    {
      "cell_type": "markdown",
      "metadata": {
        "id": "x7vOe0JZ43DQ"
      },
      "source": [
        "Answer Here:"
      ]
    }
  ],
  "metadata": {
    "accelerator": "GPU",
    "colab": {
      "gpuType": "T4",
      "provenance": [],
      "include_colab_link": true
    },
    "kernelspec": {
      "display_name": "Python 3",
      "name": "python3"
    },
    "language_info": {
      "name": "python"
    }
  },
  "nbformat": 4,
  "nbformat_minor": 0
}